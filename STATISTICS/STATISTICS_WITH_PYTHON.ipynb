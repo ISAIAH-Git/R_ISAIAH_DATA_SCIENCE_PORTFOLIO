{
 "cells": [
  {
   "cell_type": "markdown",
   "metadata": {},
   "source": [
    "# IMPORTING STATISTICS :"
   ]
  },
  {
   "cell_type": "code",
   "execution_count": 1,
   "metadata": {},
   "outputs": [],
   "source": [
    "from scipy import stats"
   ]
  },
  {
   "cell_type": "markdown",
   "metadata": {},
   "source": [
    "# BIONOMIAL DISTRIBUTION :"
   ]
  },
  {
   "cell_type": "markdown",
   "metadata": {},
   "source": [
    "In probability theory and statistics, \n",
    "\n",
    "the binomial distribution is the discrete probability distribution which gives only two possible results in an experiment, \n",
    "\n",
    "either Success or Failure. For example, if we toss a coin, there could be only two possible outcomes: heads or tails, and \n",
    "\n",
    "if any test is taken, then there could be only two results: pass or fail.\n",
    "\n",
    "This distribution is also called a binomial probability distribution"
   ]
  },
  {
   "cell_type": "markdown",
   "metadata": {},
   "source": [
    "# Binomial Distribution Formula :\n",
    "\n",
    "The binomial distribution formula is for any random variable X, given by;\n",
    "\n",
    "P(x:n,p) = nCx px (1-p)n-x\n",
    "Or\n",
    "\n",
    "P(x:n,p) = nCx px (q)n-x"
   ]
  },
  {
   "cell_type": "markdown",
   "metadata": {},
   "source": [
    "Where,\n",
    "\n",
    "n = the number of experiments\n",
    "\n",
    "x = 0, 1, 2, 3, 4, …\n",
    "\n",
    "p = Probability of Success in a single experiment\n",
    "\n",
    "q = Probability of Failure in a single experiment = 1 – p\n",
    "\n",
    "The binomial distribution formula can also be written in the form of n-Bernoulli trials, where nCx = n!/x!(n-x)!. Hence,\n",
    "\n",
    "P(x:n,p) = n!/[x!(n-x)!].px.(q)n-x"
   ]
  },
  {
   "cell_type": "markdown",
   "metadata": {},
   "source": [
    "# Properties of Binomial Distribution:\n",
    "\n",
    "The properties of the binomial distribution are:\n",
    "\n",
    "There are two possible outcomes: true or false, success or failure, yes or no.\n",
    "\n",
    "There is ‘n’ number of independent trials or a fixed number of n times repeated trials.\n",
    "\n",
    "The probability of success or failure varies for each trial.\n",
    "\n",
    "Only the number of success is calculated out of n independent trials.\n",
    "\n",
    "Every trial is an independent trial, which means the outcome of one trial does not affect the outcome of another trial."
   ]
  },
  {
   "cell_type": "markdown",
   "metadata": {},
   "source": [
    "# EXAMPLE :"
   ]
  },
  {
   "cell_type": "markdown",
   "metadata": {},
   "source": [
    "# 1.   LETS  US  SUPPOSE  A  COIN  IS  TOSSED  20  TIMES  WITH  SUCCESS PROBABILITY  OF  10  PERCENT  OF  GETTING   AN  HEAD  FIND  THE  PROBABLITY  OF  GETTING  5 HEADS  EXACTLY ?"
   ]
  },
  {
   "cell_type": "code",
   "execution_count": 3,
   "metadata": {},
   "outputs": [
    {
     "data": {
      "text/plain": [
       "0.03192136111995428"
      ]
     },
     "execution_count": 3,
     "metadata": {},
     "output_type": "execute_result"
    }
   ],
   "source": [
    "p=0.1 #(SUCCESS PROBABILITY)\n",
    "q=1-p #(FAILURE PROBABILITY)\n",
    "n=20\n",
    "stats.binom.pmf(5,20,0.1) #PMF--PROBABLITY MASS FUNCTION"
   ]
  },
  {
   "cell_type": "markdown",
   "metadata": {},
   "source": [
    "# PROBABILITY OF GETTING MAXIMIMUM 5 HEADS"
   ]
  },
  {
   "cell_type": "code",
   "execution_count": 4,
   "metadata": {},
   "outputs": [
    {
     "data": {
      "text/plain": [
       "0.988746865835491"
      ]
     },
     "execution_count": 4,
     "metadata": {},
     "output_type": "execute_result"
    }
   ],
   "source": [
    "stats.binom.cdf(5,20,0.1)"
   ]
  },
  {
   "cell_type": "markdown",
   "metadata": {},
   "source": [
    "# PROBABILITY OF GETTING MORE THAN 5 HEADS"
   ]
  },
  {
   "cell_type": "code",
   "execution_count": 5,
   "metadata": {},
   "outputs": [
    {
     "data": {
      "text/plain": [
       "array([1.21576655e-01, 2.70170344e-01, 2.85179807e-01, 1.90119871e-01,\n",
       "       8.97788281e-02, 3.19213611e-02, 8.86704476e-03, 1.97045439e-03,\n",
       "       3.55776487e-04, 5.27076277e-05, 6.44204339e-06, 6.50711453e-07,\n",
       "       5.42259544e-08, 3.70775757e-09, 2.05986532e-10, 9.15495696e-12,\n",
       "       3.17880450e-13, 8.31060000e-15, 1.53900000e-16, 1.80000000e-18,\n",
       "       1.00000000e-20])"
      ]
     },
     "execution_count": 5,
     "metadata": {},
     "output_type": "execute_result"
    }
   ],
   "source": [
    "stats.binom.pmf(range(0,21),20,0.1)"
   ]
  },
  {
   "cell_type": "markdown",
   "metadata": {},
   "source": [
    "# PROBABILITY DISTRIBUTION ACROSS 20 TRAILS..."
   ]
  },
  {
   "cell_type": "code",
   "execution_count": 7,
   "metadata": {},
   "outputs": [],
   "source": [
    "import pandas as pd\n",
    "pmf_df=pd.DataFrame({'success':range(0,21),'pmf':list(stats.binom.pmf(range(0,21),20,0.1))})"
   ]
  },
  {
   "cell_type": "code",
   "execution_count": 9,
   "metadata": {},
   "outputs": [
    {
     "data": {
      "text/plain": [
       "Text(0, 0.5, 'pmf')"
      ]
     },
     "execution_count": 9,
     "metadata": {},
     "output_type": "execute_result"
    },
    {
     "data": {
      "image/png": "[encoded data removed]",
      "text/plain": [
       "<Figure size 432x288 with 1 Axes>"
      ]
     },
     "metadata": {
      "needs_background": "light"
     },
     "output_type": "display_data"
    }
   ],
   "source": [
    "import matplotlib.pyplot as plt\n",
    "import seaborn as sns\n",
    "sns.barplot(x=pmf_df['success'],y=pmf_df['pmf'])\n",
    "plt.xlabel('No of Times experiment performed')\n",
    "plt.ylabel('pmf')"
   ]
  },
  {
   "cell_type": "markdown",
   "metadata": {},
   "source": [
    "# FINDING AVERAGE (OR) MEAN AND VARIANCE OF THE DISTRIBUTION"
   ]
  },
  {
   "cell_type": "code",
   "execution_count": 10,
   "metadata": {},
   "outputs": [],
   "source": [
    "mean,var=stats.binom.stats(20,0.1)"
   ]
  },
  {
   "cell_type": "code",
   "execution_count": 11,
   "metadata": {},
   "outputs": [
    {
     "data": {
      "text/plain": [
       "array(2.)"
      ]
     },
     "execution_count": 11,
     "metadata": {},
     "output_type": "execute_result"
    }
   ],
   "source": [
    "mean"
   ]
  },
  {
   "cell_type": "code",
   "execution_count": 12,
   "metadata": {},
   "outputs": [
    {
     "data": {
      "text/plain": [
       "array(1.8)"
      ]
     },
     "execution_count": 12,
     "metadata": {},
     "output_type": "execute_result"
    }
   ],
   "source": [
    "var"
   ]
  },
  {
   "cell_type": "markdown",
   "metadata": {},
   "source": [
    "# Poisson Distribution Definition :\n",
    "\n",
    "A Poisson distribution is a probability distribution which results from the Poisson experiment. \n",
    "\n",
    "A Poisson experiment is a statistical experiment that classifies the experiment into two categories, \n",
    "\n",
    "such as success or failure. Poisson distribution is a limiting process of the binomial distribution. \n",
    "\n",
    "A Poisson random variable “x” defines the number of successes in the experiment. \n",
    "\n",
    "This distribution occurs when there are events that do not occur as the outcomes of a definite number of outcomes.\n",
    "\n",
    "Poisson distribution is used under certain conditions. They are:\n",
    "\n",
    "Number of trials “n” tends to infinity\n",
    "\n",
    "Probability of success “p” tends to zero\n",
    "\n",
    "np = 1 is finite"
   ]
  },
  {
   "cell_type": "markdown",
   "metadata": {},
   "source": [
    "# Poisson Distribution Formula :\n",
    "\n",
    "The formula for the Poisson distribution function is given by:\n",
    "\n",
    "f(x) =(e– λ λx)/x!\n",
    "\n",
    "Where,\n",
    "\n",
    "e is the base of the logarithm\n",
    "\n",
    "x is a Poisson random variable\n",
    "\n",
    "λ is an average rate of value"
   ]
  },
  {
   "cell_type": "markdown",
   "metadata": {},
   "source": [
    "# Poisson Distribution Mean and Variance :\n",
    "\n",
    "Assume that, we conduct a Poisson experiment, in which the average number of successes within a given range is taken as λ. \n",
    "\n",
    "In Poisson distribution, the mean of the distribution is represented by λ and e is constant,\n",
    "\n",
    "which is approximately equal to 2.71828. \n",
    "\n",
    "Then, the Poisson probability is:\n",
    "\n",
    "P(x, λ ) =(e– λ λx)/x!\n",
    "\n",
    "In Poisson distribution, the mean is represented as E(X) = λ.\n",
    "\n",
    "For a Poisson Distribution, the mean and the variance are equal. It means that E(X) = V(X)\n",
    "\n",
    "Where,\n",
    "\n",
    "V(X) is the variance."
   ]
  },
  {
   "cell_type": "markdown",
   "metadata": {},
   "source": [
    "# EXAMPLE :"
   ]
  },
  {
   "cell_type": "markdown",
   "metadata": {},
   "source": [
    "# 2. A  TELECALLER  GETS  10  CALLS  PER  HOUR  ON  AVERAGE  FIND  THE  PROBABILITY  OF  GETTING  MAXIMUM  5  CALLS ?"
   ]
  },
  {
   "cell_type": "code",
   "execution_count": 14,
   "metadata": {},
   "outputs": [
    {
     "data": {
      "text/plain": [
       "0.06708596287903189"
      ]
     },
     "execution_count": 14,
     "metadata": {},
     "output_type": "execute_result"
    }
   ],
   "source": [
    "stats.poisson.cdf(5,10)"
   ]
  },
  {
   "cell_type": "markdown",
   "metadata": {},
   "source": [
    "# FIND  THE  PROBABILITY  OF  GETTING  MORE  THAN  30  CALLS  IN  3  HOURS?"
   ]
  },
  {
   "cell_type": "code",
   "execution_count": 16,
   "metadata": {},
   "outputs": [
    {
     "data": {
      "text/plain": [
       "0.45164848742208863"
      ]
     },
     "execution_count": 16,
     "metadata": {},
     "output_type": "execute_result"
    }
   ],
   "source": [
    "1-stats.poisson.cdf(30,30)"
   ]
  },
  {
   "cell_type": "markdown",
   "metadata": {},
   "source": [
    "# Exponential Distribution :\n",
    "\n",
    "The exponential distribution is a probability distribution which represents the time between events in a Poisson process. \n",
    "\n",
    "It is also called negative exponential distribution. It is a continuous probability distribution used to represent the \n",
    "\n",
    "time we need to wait before a given event happens. It is the constant counterpart of the geometric distribution, which is \n",
    "\n",
    "rather discrete. It also has the crucial property of being memoryless."
   ]
  },
  {
   "cell_type": "markdown",
   "metadata": {},
   "source": [
    "It is very much related to Poisson distribution. For example,\n",
    "\n",
    "if the number of deaths is modelled by Poisson distribution, \n",
    "\n",
    "then the time between each death is represented by an exponential distribution."
   ]
  },
  {
   "cell_type": "markdown",
   "metadata": {},
   "source": [
    "# Exponential Distribution Graph :\n",
    "\n",
    "The exponential distribution graph is a graph of the probability density function which shows the distribution of distance \n",
    "\n",
    "or time taken between events. The two terms used in the exponential distribution graph is lambda (λ)and x. Here, lambda \n",
    "\n",
    "represents the events per unit time and x represents the time. The following graph shows the values for λ=1 and λ=2"
   ]
  },
  {
   "cell_type": "code",
   "execution_count": 20,
   "metadata": {},
   "outputs": [
    {
     "data": {
      "image/png": "[encoded data removed]",
      "text/plain": [
       "<PIL.PngImagePlugin.PngImageFile image mode=P size=750x527 at 0x1F8417FADF0>"
      ]
     },
     "execution_count": 20,
     "metadata": {},
     "output_type": "execute_result"
    }
   ],
   "source": [
    "from PIL import Image\n",
    "img=Image.open('Exponential-Distribution.png')\n",
    "img"
   ]
  },
  {
   "cell_type": "markdown",
   "metadata": {},
   "source": [
    "# Exponential Distribution Formula :\n",
    "\n",
    "There are a number of formulas defined for this distribution based on its characteristics. Let us learn them one by one."
   ]
  },
  {
   "cell_type": "markdown",
   "metadata": {},
   "source": [
    "# Probability Density Function of an Exponential Distribution :\n",
    "\n",
    "The probability density function (pdf) of an exponential distribution is given by;\n",
    "\n",
    "F(x;λ) = λe– λx when x ≥ 0,\n",
    "\n",
    "F(x;λ) = 0 when x < 0.\n",
    "\n",
    "Where ;\n",
    "\n",
    "e is the natural number.\n",
    "\n",
    "λ is the mean time between events and called a rate parameter. λ > 0\n",
    "\n",
    "And x is any random variable called exponential random variable.\n",
    "\n",
    "The exponential distribution shows infinite divisibility which is the probability distribution of the sum of an arbitrary \n",
    "\n",
    "number of independent and identically distributed random variables.\n",
    "\n"
   ]
  },
  {
   "cell_type": "markdown",
   "metadata": {},
   "source": [
    "# Cumulative Distribution Function of an Exponential Distribution :\n",
    "\n",
    "Similarly, the cumulative distribution function of an exponential distribution is given by;\n",
    "\n",
    "F(x;λ) = 1-e– λx : x ≥ 0,\n",
    "\n",
    "F(x;λ) = 0 : x < 0.\n"
   ]
  },
  {
   "cell_type": "markdown",
   "metadata": {},
   "source": [
    "# Exponential Distribution Mean or Expected Value :\n",
    "\n",
    "The expected value of an exponential random variable X with rate parameter λ is given by;\n",
    "\n",
    "E[X] = 1/ λ\n"
   ]
  },
  {
   "cell_type": "markdown",
   "metadata": {},
   "source": [
    "# Exponential Distribution Variance :\n",
    "    \n",
    "The variance of exponential random variable X is given by;\n",
    "\n",
    "Var[X] = 1/λ2\n",
    "\n",
    "Therefore, the standard deviation is equal to the mean.\n"
   ]
  },
  {
   "cell_type": "markdown",
   "metadata": {},
   "source": [
    "# Exponential Distribution Moment Generating Function :\n",
    "    \n",
    "The ‘moment generating function’ of an exponential random variable X for any time interval t<λ, is defined by;\n",
    "\n",
    "MX(t) = λ/λ-t\n",
    "\n"
   ]
  },
  {
   "cell_type": "markdown",
   "metadata": {},
   "source": [
    "# Memorylessness Property :\n",
    "    \n",
    "This distribution has a memorylessness, which indicates it “forgets” what has occurred before it.\n",
    "\n",
    "We can say if we continue to wait, the length of time we wait for, neither increases nor decreases the likelihood of an \n",
    "\n",
    "event occurring. \n",
    "\n",
    "Any time may be considered as time zero. It is defined as;\n",
    "\n",
    "P(X ≤ x+y|X>x) = P(X≤y)\n",
    "\n",
    "X is the time we need to wait before a specific event happens. The above expression defines the possibility that the event \n",
    "\n",
    "occurred during a time interval of length ‘t’ is independent of how much time has already passed (x) without the event \n",
    "\n",
    "happening.\n",
    "\n"
   ]
  },
  {
   "cell_type": "markdown",
   "metadata": {},
   "source": [
    "# Sum of Exponential Random Variable :\n",
    "    \n",
    "The sum of an exponential random variable or also called Gamma random variable of an exponential distribution having a \n",
    "\n",
    "rate parameter ‘λ’ is defined as sum of exponential distribution\n",
    "\n",
    "Where Z is the gamma random variable which has parameters 2n and n/λ and Xi = X1, X2, …, Xn are n mutually independent variables.\n"
   ]
  },
  {
   "cell_type": "markdown",
   "metadata": {},
   "source": [
    "# Exponential Distribution Applications :\n",
    "\n",
    "One of the widely used continuous distribution is exponential distribution. \n",
    "\n",
    "It helps to determine the time elapsed between the events.\n",
    "\n",
    "It is used in the range of applications such as reliability theory, queuing theory, physics and so on. \n",
    "\n",
    "Some of the fields that are modelled by the exponential distribution are as follows:\n",
    "\n",
    "\n",
    "Exponential distribution helps to find the distance between mutations on a DNA strand\n",
    "\n",
    "Calculating the time until the radioactive particle decays.\n",
    "\n",
    "Helps on finding the height of different molecules in a gas at the stable temperature and pressure in a uniform \n",
    "\n",
    "gravitational field\n",
    "\n",
    "Helps to compute the monthly and annual highest values of regular rainfall and river outflow volumes"
   ]
  },
  {
   "cell_type": "markdown",
   "metadata": {},
   "source": [
    "# EXAMPLE :"
   ]
  },
  {
   "cell_type": "markdown",
   "metadata": {},
   "source": [
    "# A SYSTEM FAILURE OCCURS ON AVERAGE in 1000 hours  what is the probability that the failure will occur in less than before 1000 hours ?"
   ]
  },
  {
   "cell_type": "code",
   "execution_count": 21,
   "metadata": {},
   "outputs": [
    {
     "data": {
      "text/plain": [
       "0.6321201909489326"
      ]
     },
     "execution_count": 21,
     "metadata": {},
     "output_type": "execute_result"
    }
   ],
   "source": [
    "stats.expon.cdf(1000,loc=1/1000,scale=1000)"
   ]
  },
  {
   "cell_type": "markdown",
   "metadata": {},
   "source": [
    "# FIND THE PROBABILITY THAT THE MACHINE WILL NOT FAIL UP TO 2000 HOURS ?\n"
   ]
  },
  {
   "cell_type": "code",
   "execution_count": 22,
   "metadata": {},
   "outputs": [
    {
     "data": {
      "text/plain": [
       "0.13533541857196352"
      ]
     },
     "execution_count": 22,
     "metadata": {},
     "output_type": "execute_result"
    }
   ],
   "source": [
    "1-stats.expon.cdf(2000,loc=1/1000,scale=1000)"
   ]
  },
  {
   "cell_type": "markdown",
   "metadata": {},
   "source": [
    "# TIME BY WHICH 10 % OF THE MACHINE ALGORITHUM WONT BE FUNCTIONING NORMALLY ?"
   ]
  },
  {
   "cell_type": "code",
   "execution_count": 24,
   "metadata": {},
   "outputs": [
    {
     "data": {
      "text/plain": [
       "105.36151565782632"
      ]
     },
     "execution_count": 24,
     "metadata": {},
     "output_type": "execute_result"
    }
   ],
   "source": [
    "stats.expon.ppf(0.1,loc=1/1000,scale=1000)"
   ]
  }
 ],
 "metadata": {
  "kernelspec": {
   "display_name": "Python 3",
   "language": "python",
   "name": "python3"
  },
  "language_info": {
   "codemirror_mode": {
    "name": "ipython",
    "version": 3
   },
   "file_extension": ".py",
   "mimetype": "text/x-python",
   "name": "python",
   "nbconvert_exporter": "python",
   "pygments_lexer": "ipython3",
   "version": "3.8.3"
  }
 },
 "nbformat": 4,
 "nbformat_minor": 4
}
