{
  "nbformat": 4,
  "nbformat_minor": 0,
  "metadata": {
    "colab": {
      "name": "FASHION_MINST _CNN_GOOGLE_COLLAB",
      "provenance": []
    },
    "kernelspec": {
      "name": "python3",
      "display_name": "Python 3"
    },
    "accelerator": "GPU"
  },
  "cells": [
    {
      "cell_type": "markdown",
      "metadata": {
        "id": "0Tatbtblrxeg"
      },
      "source": [
        "# **FASHION_MINST_PREDICTION_USING_CNN **"
      ]
    },
    {
      "cell_type": "code",
      "metadata": {
        "id": "YS8oq6RwV7Cc",
        "outputId": "5fc9f076-6d8d-427a-e631-63320fa2b763",
        "colab": {
          "base_uri": "https://localhost:8080/",
          "height": 35
        }
      },
      "source": [
        "#TESTING WHETHER WE HAVE GPU\n",
        "import tensorflow as tf\n",
        "tf.test.gpu_device_name()"
      ],
      "execution_count": 131,
      "outputs": [
        {
          "output_type": "execute_result",
          "data": {
            "application/vnd.google.colaboratory.intrinsic+json": {
              "type": "string"
            },
            "text/plain": [
              "'/device:GPU:0'"
            ]
          },
          "metadata": {
            "tags": []
          },
          "execution_count": 131
        }
      ]
    },
    {
      "cell_type": "code",
      "metadata": {
        "id": "wVRxJhjhX0cE",
        "outputId": "bfb6ad86-645a-4c26-fe29-56bf64973809",
        "colab": {
          "base_uri": "https://localhost:8080/",
          "height": 492
        }
      },
      "source": [
        "#WHICH GPU WE ARE USING\n",
        "from tensorflow.python.client import device_lib\n",
        "device_lib.list_local_devices()"
      ],
      "execution_count": 132,
      "outputs": [
        {
          "output_type": "execute_result",
          "data": {
            "text/plain": [
              "[name: \"/device:CPU:0\"\n",
              " device_type: \"CPU\"\n",
              " memory_limit: 268435456\n",
              " locality {\n",
              " }\n",
              " incarnation: 10904508166308953113, name: \"/device:XLA_CPU:0\"\n",
              " device_type: \"XLA_CPU\"\n",
              " memory_limit: 17179869184\n",
              " locality {\n",
              " }\n",
              " incarnation: 8515598937089739197\n",
              " physical_device_desc: \"device: XLA_CPU device\", name: \"/device:XLA_GPU:0\"\n",
              " device_type: \"XLA_GPU\"\n",
              " memory_limit: 17179869184\n",
              " locality {\n",
              " }\n",
              " incarnation: 6188305285727085844\n",
              " physical_device_desc: \"device: XLA_GPU device\", name: \"/device:GPU:0\"\n",
              " device_type: \"GPU\"\n",
              " memory_limit: 14640891840\n",
              " locality {\n",
              "   bus_id: 1\n",
              "   links {\n",
              "   }\n",
              " }\n",
              " incarnation: 13301401850097868015\n",
              " physical_device_desc: \"device: 0, name: Tesla T4, pci bus id: 0000:00:04.0, compute capability: 7.5\"]"
            ]
          },
          "metadata": {
            "tags": []
          },
          "execution_count": 132
        }
      ]
    },
    {
      "cell_type": "code",
      "metadata": {
        "id": "MJP6jBHrYflr",
        "outputId": "a252375e-40c5-46a3-d16f-fa81dbb14940",
        "colab": {
          "base_uri": "https://localhost:8080/",
          "height": 844
        }
      },
      "source": [
        "#RAM INFORMATION\n",
        "!cat /proc/meminfo"
      ],
      "execution_count": 133,
      "outputs": [
        {
          "output_type": "stream",
          "text": [
            "MemTotal:       13333552 kB\n",
            "MemFree:         5782220 kB\n",
            "MemAvailable:   10731880 kB\n",
            "Buffers:           86584 kB\n",
            "Cached:          3544588 kB\n",
            "SwapCached:            0 kB\n",
            "Active:          2410420 kB\n",
            "Inactive:        4716320 kB\n",
            "Active(anon):    1995604 kB\n",
            "Inactive(anon):    14692 kB\n",
            "Active(file):     414816 kB\n",
            "Inactive(file):  4701628 kB\n",
            "Unevictable:           0 kB\n",
            "Mlocked:               0 kB\n",
            "SwapTotal:             0 kB\n",
            "SwapFree:              0 kB\n",
            "Dirty:               692 kB\n",
            "Writeback:             0 kB\n",
            "AnonPages:       3495532 kB\n",
            "Mapped:           809768 kB\n",
            "Shmem:             15312 kB\n",
            "Slab:             197524 kB\n",
            "SReclaimable:     148032 kB\n",
            "SUnreclaim:        49492 kB\n",
            "KernelStack:        4832 kB\n",
            "PageTables:        15156 kB\n",
            "NFS_Unstable:          0 kB\n",
            "Bounce:                0 kB\n",
            "WritebackTmp:          0 kB\n",
            "CommitLimit:     6666776 kB\n",
            "Committed_AS:    6207556 kB\n",
            "VmallocTotal:   34359738367 kB\n",
            "VmallocUsed:           0 kB\n",
            "VmallocChunk:          0 kB\n",
            "Percpu:              952 kB\n",
            "AnonHugePages:    729088 kB\n",
            "ShmemHugePages:        0 kB\n",
            "ShmemPmdMapped:        0 kB\n",
            "HugePages_Total:       0\n",
            "HugePages_Free:        0\n",
            "HugePages_Rsvd:        0\n",
            "HugePages_Surp:        0\n",
            "Hugepagesize:       2048 kB\n",
            "Hugetlb:               0 kB\n",
            "DirectMap4k:      173244 kB\n",
            "DirectMap2M:     6117376 kB\n",
            "DirectMap1G:     9437184 kB\n"
          ],
          "name": "stdout"
        }
      ]
    },
    {
      "cell_type": "code",
      "metadata": {
        "id": "Ih1Xly6pY-xS",
        "outputId": "22cb4454-e469-41df-b036-9df3103c72d7",
        "colab": {
          "base_uri": "https://localhost:8080/",
          "height": 987
        }
      },
      "source": [
        "#CPU INFORMATION\n",
        "!cat /proc/cpuinfo"
      ],
      "execution_count": 134,
      "outputs": [
        {
          "output_type": "stream",
          "text": [
            "processor\t: 0\n",
            "vendor_id\t: GenuineIntel\n",
            "cpu family\t: 6\n",
            "model\t\t: 79\n",
            "model name\t: Intel(R) Xeon(R) CPU @ 2.20GHz\n",
            "stepping\t: 0\n",
            "microcode\t: 0x1\n",
            "cpu MHz\t\t: 2200.000\n",
            "cache size\t: 56320 KB\n",
            "physical id\t: 0\n",
            "siblings\t: 2\n",
            "core id\t\t: 0\n",
            "cpu cores\t: 1\n",
            "apicid\t\t: 0\n",
            "initial apicid\t: 0\n",
            "fpu\t\t: yes\n",
            "fpu_exception\t: yes\n",
            "cpuid level\t: 13\n",
            "wp\t\t: yes\n",
            "flags\t\t: fpu vme de pse tsc msr pae mce cx8 apic sep mtrr pge mca cmov pat pse36 clflush mmx fxsr sse sse2 ss ht syscall nx pdpe1gb rdtscp lm constant_tsc rep_good nopl xtopology nonstop_tsc cpuid tsc_known_freq pni pclmulqdq ssse3 fma cx16 pcid sse4_1 sse4_2 x2apic movbe popcnt aes xsave avx f16c rdrand hypervisor lahf_lm abm 3dnowprefetch invpcid_single ssbd ibrs ibpb stibp fsgsbase tsc_adjust bmi1 hle avx2 smep bmi2 erms invpcid rtm rdseed adx smap xsaveopt arat md_clear arch_capabilities\n",
            "bugs\t\t: cpu_meltdown spectre_v1 spectre_v2 spec_store_bypass l1tf mds swapgs taa\n",
            "bogomips\t: 4400.00\n",
            "clflush size\t: 64\n",
            "cache_alignment\t: 64\n",
            "address sizes\t: 46 bits physical, 48 bits virtual\n",
            "power management:\n",
            "\n",
            "processor\t: 1\n",
            "vendor_id\t: GenuineIntel\n",
            "cpu family\t: 6\n",
            "model\t\t: 79\n",
            "model name\t: Intel(R) Xeon(R) CPU @ 2.20GHz\n",
            "stepping\t: 0\n",
            "microcode\t: 0x1\n",
            "cpu MHz\t\t: 2200.000\n",
            "cache size\t: 56320 KB\n",
            "physical id\t: 0\n",
            "siblings\t: 2\n",
            "core id\t\t: 0\n",
            "cpu cores\t: 1\n",
            "apicid\t\t: 1\n",
            "initial apicid\t: 1\n",
            "fpu\t\t: yes\n",
            "fpu_exception\t: yes\n",
            "cpuid level\t: 13\n",
            "wp\t\t: yes\n",
            "flags\t\t: fpu vme de pse tsc msr pae mce cx8 apic sep mtrr pge mca cmov pat pse36 clflush mmx fxsr sse sse2 ss ht syscall nx pdpe1gb rdtscp lm constant_tsc rep_good nopl xtopology nonstop_tsc cpuid tsc_known_freq pni pclmulqdq ssse3 fma cx16 pcid sse4_1 sse4_2 x2apic movbe popcnt aes xsave avx f16c rdrand hypervisor lahf_lm abm 3dnowprefetch invpcid_single ssbd ibrs ibpb stibp fsgsbase tsc_adjust bmi1 hle avx2 smep bmi2 erms invpcid rtm rdseed adx smap xsaveopt arat md_clear arch_capabilities\n",
            "bugs\t\t: cpu_meltdown spectre_v1 spectre_v2 spec_store_bypass l1tf mds swapgs taa\n",
            "bogomips\t: 4400.00\n",
            "clflush size\t: 64\n",
            "cache_alignment\t: 64\n",
            "address sizes\t: 46 bits physical, 48 bits virtual\n",
            "power management:\n",
            "\n"
          ],
          "name": "stdout"
        }
      ]
    },
    {
      "cell_type": "code",
      "metadata": {
        "id": "HVVEUQ-4ag2V"
      },
      "source": [
        "#INSTALLING KERAS AND TENSORFLOW\n",
        "!pip install -q keras\n",
        "!pip install -q tensorflow\n",
        "!pip install -q keras-tuner"
      ],
      "execution_count": 135,
      "outputs": []
    },
    {
      "cell_type": "code",
      "metadata": {
        "id": "ZOCbEqG2mFU9",
        "outputId": "5cfb1231-2b96-48b5-cbd2-425e549e9df0",
        "colab": {
          "base_uri": "https://localhost:8080/",
          "height": 34
        }
      },
      "source": [
        "import tensorflow as tf\n",
        "from tensorflow import keras\n",
        "print(tf.__version__)"
      ],
      "execution_count": 136,
      "outputs": [
        {
          "output_type": "stream",
          "text": [
            "2.3.0\n"
          ],
          "name": "stdout"
        }
      ]
    },
    {
      "cell_type": "code",
      "metadata": {
        "id": "xPUczamemFiK"
      },
      "source": [
        "#LETS LOAD FASHION MINST DATASET which exists as default dataset in keras\n",
        "fashion_mnist=keras.datasets.fashion_mnist\n",
        "(train_images,train_labels),(test_images,test_labels)=(fashion_mnist.load_data())\n"
      ],
      "execution_count": 171,
      "outputs": []
    },
    {
      "cell_type": "code",
      "metadata": {
        "id": "RB-S4NksgkED",
        "outputId": "8102bcf3-b9c1-4859-db10-65f23b6dfaf3",
        "colab": {
          "base_uri": "https://localhost:8080/",
          "height": 122
        }
      },
      "source": [
        "import numpy as np\n",
        "import matplotlib.pyplot as plt\n",
        "print(train_labels) #INDEXES FOR THE IMAGES OF TRAINING DATA\n",
        "print(train_images.shape) #WE HAVE 60000 IMAGES FOR TARINING THE MODEL\n",
        "print(test_images.shape) # WE HAVE 10000 IMAGES FOR TESTING THE MODEL\n",
        "print(test_labels) #INDEXES FOR THE TEST DATA\n",
        "print(np.unique(train_labels))\n",
        "print(np.unique(test_labels))"
      ],
      "execution_count": 161,
      "outputs": [
        {
          "output_type": "stream",
          "text": [
            "[9 0 0 ... 3 0 5]\n",
            "(60000, 28, 28)\n",
            "(10000, 28, 28)\n",
            "[9 2 1 ... 8 1 5]\n",
            "[0 1 2 3 4 5 6 7 8 9]\n",
            "[0 1 2 3 4 5 6 7 8 9]\n"
          ],
          "name": "stdout"
        }
      ]
    },
    {
      "cell_type": "code",
      "metadata": {
        "id": "w8FJy5uHimEe"
      },
      "source": [
        "class_names=['T-shirt/top','Trouser','Pullover','Dress','Coat','Sandal','Shirt','Sneaker','Bag','Ankle boot']"
      ],
      "execution_count": 139,
      "outputs": []
    },
    {
      "cell_type": "code",
      "metadata": {
        "id": "vYlfWUF9tFAm",
        "outputId": "977d1580-f542-4dea-ce36-013be4c99103",
        "colab": {
          "base_uri": "https://localhost:8080/",
          "height": 644
        }
      },
      "source": [
        "#TO SEE ALL IMAGES.\n",
        "plt.figure(figsize=(10,10))\n",
        "for i in range(25):\n",
        "  plt.subplot(5,5,i+1)\n",
        "  plt.subplot(5,5,i+1)\n",
        "  plt.xticks([])\n",
        "  plt.yticks([])\n",
        "  plt.grid(False)\n",
        "  plt.imshow(train_images[i],cmap=plt.cm.binary)\n",
        "  plt.xlabel(class_names[train_labels[i]])\n",
        "plt.show()"
      ],
      "execution_count": 140,
      "outputs": [
        {
          "output_type": "stream",
          "text": [
            "/usr/local/lib/python3.6/dist-packages/ipykernel_launcher.py:5: MatplotlibDeprecationWarning: Adding an axes using the same arguments as a previous axes currently reuses the earlier instance.  In a future version, a new instance will always be created and returned.  Meanwhile, this warning can be suppressed, and the future behavior ensured, by passing a unique label to each axes instance.\n",
            "  \"\"\"\n"
          ],
          "name": "stderr"
        },
        {
          "output_type": "display_data",
          "data": {
            "image/png": "[encoded data removed]",
            "text/plain": [
              "<Figure size 720x720 with 25 Axes>"
            ]
          },
          "metadata": {
            "tags": []
          }
        }
      ]
    },
    {
      "cell_type": "code",
      "metadata": {
        "id": "q7r6_pNtuhLr"
      },
      "source": [
        "#SETTING UP THE LAYERS:\n",
        "#INPUT LAYER - FLATTEN THE 2DIMENSIONAL ARRY(28 X 28) INTO 1D ARRAY ()\n",
        "#HIDDEN LAYER -DENSE FULLY CONNECTED LAYER OF 28 NODES (RELU)\n",
        "#OUTPUT LAYER -DENSE FULLY CONNECTED LAYER OF 10 NODES (SOFTMAX)"
      ],
      "execution_count": 141,
      "outputs": []
    },
    {
      "cell_type": "code",
      "metadata": {
        "id": "XYKwq93XvXY1"
      },
      "source": [
        "#COMPILE AND OPTIMIZE THE NODE\n",
        "#1.LOSS FUNCTION -MEASURES MEASURES HOW ACCURATE THE OUTPUT IS\n",
        "#2.OPTIMIZER - MEASURES HOW THE MODEL IS UPDATED\n",
        "#3.METRICS-MONITORS THE TRAINING TO DETERMINE WHEN TO STOP"
      ],
      "execution_count": 142,
      "outputs": []
    },
    {
      "cell_type": "code",
      "metadata": {
        "id": "KQhk5b0Vw18T"
      },
      "source": [
        "# TRAINING THE MODEL:\n",
        "# LETS SAY\n",
        "# WE ARE GOING TO TRAIN THE MODEL IN 10 EPOCHS (THAT IS A COMPLETE PRESENTATION OF THE TRAINING DATASET)\n",
        "# THIS MEANS THAT WE WOULD FEED THE 60,000 IMAGES AND LABELS INTO THE NETWORK 10 DIFFERENT TIMES\n",
        "# FOR EACH EPOCH WE WOULD SEE BOTH THE LOSS AND THE ACCURACY OF THE MODEL  "
      ],
      "execution_count": 143,
      "outputs": []
    },
    {
      "cell_type": "code",
      "metadata": {
        "id": "HBpVO2DQmFkr",
        "outputId": "dcfbaa48-42f0-4a25-e3ff-bb0e9a759a30",
        "colab": {
          "base_uri": "https://localhost:8080/",
          "height": 52
        }
      },
      "source": [
        "#LETS SCALE DOWN OUR RGB VARAINT IMAGES TO GREY SCALE i.e so training is easy\n",
        "train_images=train_images/255.0\n",
        "test_images=test_images/255.0\n",
        "print(train_images.shape)\n",
        "print(test_images.shape)"
      ],
      "execution_count": 144,
      "outputs": [
        {
          "output_type": "stream",
          "text": [
            "(60000, 28, 28)\n",
            "(10000, 28, 28)\n"
          ],
          "name": "stdout"
        }
      ]
    },
    {
      "cell_type": "code",
      "metadata": {
        "id": "fAVtoQp_mFn3"
      },
      "source": [
        "train_images=train_images.reshape(len(train_images),28,28,1)\n",
        "test_images=test_images.reshape(len(test_images),28,28,1)"
      ],
      "execution_count": 177,
      "outputs": []
    },
    {
      "cell_type": "code",
      "metadata": {
        "id": "xpJ0HZD4mFra"
      },
      "source": [
        "def build_model(hp):  \n",
        "  model = keras.Sequential([\n",
        "    keras.layers.Conv2D(\n",
        "        filters=hp.Int('conv_1_filter', min_value=32, max_value=128, step=16),\n",
        "        kernel_size=hp.Choice('conv_1_kernel', values = [3,5]),\n",
        "        activation='relu',\n",
        "        input_shape=(28,28,1)\n",
        "    ),\n",
        "    keras.layers.Conv2D(\n",
        "        filters=hp.Int('conv_2_filter', min_value=32, max_value=64, step=16),\n",
        "        kernel_size=hp.Choice('conv_2_kernel', values = [3,5]),\n",
        "        activation='relu'\n",
        "    ),\n",
        "    keras.layers.Flatten(),\n",
        "    keras.layers.Dense(\n",
        "        units=hp.Int('dense_1_units', min_value=32, max_value=128, step=16),\n",
        "        activation='relu'\n",
        "    ),\n",
        "    keras.layers.Dense(10, activation='softmax')\n",
        "  ])\n",
        "  \n",
        "  model.compile(optimizer=keras.optimizers.Adam(hp.Choice('learning_rate', values=[1e-2, 1e-3])),\n",
        "              loss='sparse_categorical_crossentropy',\n",
        "              metrics=['accuracy'])\n",
        "  \n",
        "  return model"
      ],
      "execution_count": 146,
      "outputs": []
    },
    {
      "cell_type": "code",
      "metadata": {
        "id": "WlFhJOxasCAj"
      },
      "source": [
        "from kerastuner import RandomSearch\n",
        "from kerastuner.engine.hyperparameters import HyperParameters"
      ],
      "execution_count": 147,
      "outputs": []
    },
    {
      "cell_type": "code",
      "metadata": {
        "id": "waACbnvAsSQT",
        "outputId": "8b85a252-83df-4971-a72f-cdc4e2205d25",
        "colab": {
          "base_uri": "https://localhost:8080/",
          "height": 52
        }
      },
      "source": [
        "tuner_search=RandomSearch(build_model,\n",
        "                          objective='val_accuracy',\n",
        "                          max_trials=5,directory='output',project_name=\"Mnist Fashion\")"
      ],
      "execution_count": 148,
      "outputs": [
        {
          "output_type": "stream",
          "text": [
            "INFO:tensorflow:Reloading Oracle from existing project output/Mnist Fashion/oracle.json\n",
            "INFO:tensorflow:Reloading Tuner from output/Mnist Fashion/tuner0.json\n"
          ],
          "name": "stdout"
        }
      ]
    },
    {
      "cell_type": "code",
      "metadata": {
        "id": "3W1xCgyasVyY",
        "outputId": "f7356e3d-0f7e-44ee-b294-1f9e5035fcc9",
        "colab": {
          "base_uri": "https://localhost:8080/",
          "height": 34
        }
      },
      "source": [
        "tuner_search.search(train_images,train_labels,epochs=3,validation_split=0.1)"
      ],
      "execution_count": 149,
      "outputs": [
        {
          "output_type": "stream",
          "text": [
            "INFO:tensorflow:Oracle triggered exit\n"
          ],
          "name": "stdout"
        }
      ]
    },
    {
      "cell_type": "code",
      "metadata": {
        "id": "V1Va0KtwsYch"
      },
      "source": [
        "model=tuner_search.get_best_models(num_models=1)[0]"
      ],
      "execution_count": 150,
      "outputs": []
    },
    {
      "cell_type": "code",
      "metadata": {
        "id": "seXf0Z_TOAke",
        "outputId": "ccba74fc-c125-4472-9265-4e9ae3d00239",
        "colab": {
          "base_uri": "https://localhost:8080/",
          "height": 334
        }
      },
      "source": [
        "model.summary()"
      ],
      "execution_count": 151,
      "outputs": [
        {
          "output_type": "stream",
          "text": [
            "Model: \"sequential\"\n",
            "_________________________________________________________________\n",
            "Layer (type)                 Output Shape              Param #   \n",
            "=================================================================\n",
            "conv2d (Conv2D)              (None, 26, 26, 112)       1120      \n",
            "_________________________________________________________________\n",
            "conv2d_1 (Conv2D)            (None, 22, 22, 64)        179264    \n",
            "_________________________________________________________________\n",
            "flatten (Flatten)            (None, 30976)             0         \n",
            "_________________________________________________________________\n",
            "dense (Dense)                (None, 64)                1982528   \n",
            "_________________________________________________________________\n",
            "dense_1 (Dense)              (None, 10)                650       \n",
            "=================================================================\n",
            "Total params: 2,163,562\n",
            "Trainable params: 2,163,562\n",
            "Non-trainable params: 0\n",
            "_________________________________________________________________\n"
          ],
          "name": "stdout"
        }
      ]
    },
    {
      "cell_type": "code",
      "metadata": {
        "id": "1zYYOembMEAS",
        "outputId": "ae5fd26a-dd6b-42d2-db2a-7956b8c51433",
        "colab": {
          "base_uri": "https://localhost:8080/",
          "height": 281
        }
      },
      "source": [
        "model.fit(train_images, train_labels, epochs=10, validation_split=0.1, initial_epoch=3)"
      ],
      "execution_count": 152,
      "outputs": [
        {
          "output_type": "stream",
          "text": [
            "Epoch 4/10\n",
            "1688/1688 [==============================] - 9s 6ms/step - loss: 0.1870 - accuracy: 0.9301 - val_loss: 0.2773 - val_accuracy: 0.9060\n",
            "Epoch 5/10\n",
            "1688/1688 [==============================] - 9s 6ms/step - loss: 0.1408 - accuracy: 0.9476 - val_loss: 0.2752 - val_accuracy: 0.9130\n",
            "Epoch 6/10\n",
            "1688/1688 [==============================] - 9s 6ms/step - loss: 0.1038 - accuracy: 0.9620 - val_loss: 0.3044 - val_accuracy: 0.9158\n",
            "Epoch 7/10\n",
            "1688/1688 [==============================] - 9s 6ms/step - loss: 0.0749 - accuracy: 0.9716 - val_loss: 0.3283 - val_accuracy: 0.9112\n",
            "Epoch 8/10\n",
            "1688/1688 [==============================] - 9s 6ms/step - loss: 0.0573 - accuracy: 0.9784 - val_loss: 0.3635 - val_accuracy: 0.9090\n",
            "Epoch 9/10\n",
            "1688/1688 [==============================] - 9s 6ms/step - loss: 0.0433 - accuracy: 0.9845 - val_loss: 0.3884 - val_accuracy: 0.9070\n",
            "Epoch 10/10\n",
            "1688/1688 [==============================] - 10s 6ms/step - loss: 0.0364 - accuracy: 0.9873 - val_loss: 0.4625 - val_accuracy: 0.9120\n"
          ],
          "name": "stdout"
        },
        {
          "output_type": "execute_result",
          "data": {
            "text/plain": [
              "<tensorflow.python.keras.callbacks.History at 0x7f000614a9e8>"
            ]
          },
          "metadata": {
            "tags": []
          },
          "execution_count": 152
        }
      ]
    },
    {
      "cell_type": "code",
      "metadata": {
        "id": "-rHS5KLadhb8",
        "outputId": "03cd709b-2ebc-4e99-b4f6-7c3834ed97c2",
        "colab": {
          "base_uri": "https://localhost:8080/",
          "height": 34
        }
      },
      "source": [
        "#PREDICTIONS\n",
        "# HERE WE HAVE 10K PREDICTIONS TO MAKE\n",
        "print(test_images.shape)\n"
      ],
      "execution_count": 153,
      "outputs": [
        {
          "output_type": "stream",
          "text": [
            "(10000, 28, 28, 1)\n"
          ],
          "name": "stdout"
        }
      ]
    },
    {
      "cell_type": "code",
      "metadata": {
        "id": "oWQFogv-dz7j",
        "outputId": "445c411c-8b1d-4c97-f8be-75faa72a4e21",
        "colab": {
          "base_uri": "https://localhost:8080/",
          "height": 34
        }
      },
      "source": [
        "test_loss,test_accuracy=model.evaluate(test_images,test_labels)"
      ],
      "execution_count": 154,
      "outputs": [
        {
          "output_type": "stream",
          "text": [
            "313/313 [==============================] - 1s 3ms/step - loss: 0.4689 - accuracy: 0.9141\n"
          ],
          "name": "stdout"
        }
      ]
    },
    {
      "cell_type": "code",
      "metadata": {
        "id": "7ot31oKze0jU"
      },
      "source": [
        "predictions=model.predict(test_images)"
      ],
      "execution_count": 155,
      "outputs": []
    },
    {
      "cell_type": "code",
      "metadata": {
        "id": "2kufK7OxfIX9",
        "outputId": "c07ede0f-efd5-45ea-ff9c-1d7c72c9792c",
        "colab": {
          "base_uri": "https://localhost:8080/",
          "height": 34
        }
      },
      "source": [
        "test_images.shape"
      ],
      "execution_count": 156,
      "outputs": [
        {
          "output_type": "execute_result",
          "data": {
            "text/plain": [
              "(10000, 28, 28, 1)"
            ]
          },
          "metadata": {
            "tags": []
          },
          "execution_count": 156
        }
      ]
    },
    {
      "cell_type": "code",
      "metadata": {
        "id": "jyZhOTUyfPaY",
        "outputId": "67ac627a-9d18-4bcb-c711-e368cd5acf7d",
        "colab": {
          "base_uri": "https://localhost:8080/",
          "height": 34
        }
      },
      "source": [
        "predictions.shape"
      ],
      "execution_count": 157,
      "outputs": [
        {
          "output_type": "execute_result",
          "data": {
            "text/plain": [
              "(10000, 10)"
            ]
          },
          "metadata": {
            "tags": []
          },
          "execution_count": 157
        }
      ]
    },
    {
      "cell_type": "code",
      "metadata": {
        "id": "NbMkuaCVfWZ9",
        "outputId": "000822ac-a4cf-44ce-83bb-7f797fad6b17",
        "colab": {
          "base_uri": "https://localhost:8080/",
          "height": 70
        }
      },
      "source": [
        "# A PREDICTION IS AN ARRAY OF 10 NUMBERS\n",
        "# EACH ELEMENT REPRESENTS THE CONFIDENCE THAT THE IMAGE CORESPONDS THAT THE TO THE EACH OF THE 10 DIFFERENT CLASSES\n",
        "predictions[0]"
      ],
      "execution_count": 158,
      "outputs": [
        {
          "output_type": "execute_result",
          "data": {
            "text/plain": [
              "array([1.3125877e-20, 6.5228443e-27, 6.3320125e-32, 2.9858965e-20,\n",
              "       3.3072454e-26, 2.9132536e-16, 6.0680330e-25, 9.5094565e-19,\n",
              "       1.4162752e-22, 1.0000000e+00], dtype=float32)"
            ]
          },
          "metadata": {
            "tags": []
          },
          "execution_count": 158
        }
      ]
    },
    {
      "cell_type": "code",
      "metadata": {
        "id": "Zq2OyM6Y0wJ3",
        "outputId": "afd76fcf-b07c-4748-e938-a939ac445689",
        "colab": {
          "base_uri": "https://localhost:8080/",
          "height": 265
        }
      },
      "source": [
        "plt.figure()\n",
        "plt.imshow(test_images[0])\n",
        "plt.colorbar()\n",
        "plt.show()"
      ],
      "execution_count": 162,
      "outputs": [
        {
          "output_type": "display_data",
          "data": {
            "image/png": "[encoded data removed]",
            "text/plain": [
              "<Figure size 432x288 with 2 Axes>"
            ]
          },
          "metadata": {
            "tags": [],
            "needs_background": "light"
          }
        }
      ]
    },
    {
      "cell_type": "code",
      "metadata": {
        "id": "vNbw6r7c1DRf"
      },
      "source": [
        "#EVALUATE THE MODEL\n",
        "# FUNCTION TO PLOT AN IMAGE\n",
        "def plot_image(i,predictions_array,true_label,img):\n",
        "    predictions_array,true_label,img=predictions_array,true_label[i],img[i]\n",
        "    plt.grid(False)\n",
        "    plt.xticks([])\n",
        "    plt.yticks([])\n",
        "    plt.imshow(img,cmap=plt.cm.binary)\n",
        "    predicted_label=np.argmax(predictions_array)\n",
        "    if (predicted_label==true_label):\n",
        "       color='green'\n",
        "    else:\n",
        "      color='red'\n",
        "      plt.xlabel(\"{} {:2.0f}% ({})\".format(class_names[predicted_label],100*np.max(predictions_array),class_names[true_label]),color=color)\n",
        "#FUNCTION TO CREATE BARPLOT OF THE PREDICTIONS\n",
        "def plot_value_array(i,predictions_array,true_label):\n",
        "    predictions_array,true_label=predictions_array,true_label[i]\n",
        "    plt.grid(False)\n",
        "    plt.xticks(range(10))\n",
        "    plt.yticks([])\n",
        "    thisplot=plt.bar(range(10),predictions_array,color=\"#777777\")\n",
        "    plt.ylim([0,1])\n",
        "    predicted_label=np.argmax(predictions_array)\n",
        "    thisplot[predicted_label].set_color('red')\n",
        "    thisplot[true_label].set_color('blue')      "
      ],
      "execution_count": 163,
      "outputs": []
    },
    {
      "cell_type": "markdown",
      "metadata": {
        "id": "ufxdvYbkq0Ou"
      },
      "source": [
        "**LETS CHECK FOR TWO PREDICTIONS**"
      ]
    },
    {
      "cell_type": "code",
      "metadata": {
        "id": "kaIhzTpD500N",
        "outputId": "0144fdb5-5f3b-43b6-b946-e9fb5a345fa3",
        "colab": {
          "base_uri": "https://localhost:8080/",
          "height": 211
        }
      },
      "source": [
        "i=0\n",
        "plt.figure(figsize=(6,3))\n",
        "plt.subplot(1,2,1)\n",
        "plot_image(i,predictions[i],test_labels,test_images)\n",
        "plt.subplot(1,2,2)\n",
        "plot_value_array(i,predictions[i],test_labels)\n",
        "plt.show()"
      ],
      "execution_count": 164,
      "outputs": [
        {
          "output_type": "display_data",
          "data": {
            "image/png": "[encoded data removed]",
            "text/plain": [
              "<Figure size 432x216 with 2 Axes>"
            ]
          },
          "metadata": {
            "tags": [],
            "needs_background": "light"
          }
        }
      ]
    },
    {
      "cell_type": "code",
      "metadata": {
        "id": "kefnli979Pno",
        "outputId": "af022819-2e3c-4c0c-f485-a38ac87ce670",
        "colab": {
          "base_uri": "https://localhost:8080/",
          "height": 211
        }
      },
      "source": [
        "i=12\n",
        "plt.figure(figsize=(6,3))\n",
        "plt.subplot(1,2,1)\n",
        "plot_image(i,predictions[i],test_labels,test_images)\n",
        "plt.subplot(1,2,2)\n",
        "plot_value_array(i,predictions[i],test_labels)\n",
        "plt.show()"
      ],
      "execution_count": 165,
      "outputs": [
        {
          "output_type": "display_data",
          "data": {
            "image/png": "[encoded data removed]",
            "text/plain": [
              "<Figure size 432x216 with 2 Axes>"
            ]
          },
          "metadata": {
            "tags": [],
            "needs_background": "light"
          }
        }
      ]
    },
    {
      "cell_type": "markdown",
      "metadata": {
        "id": "QU_sDJvYrBGt"
      },
      "source": [
        "**LETS CHECK FOR ALL THE IMAGES IN THE TEST DATA**"
      ]
    },
    {
      "cell_type": "code",
      "metadata": {
        "id": "wv3Y11JG9rgC",
        "outputId": "cb1f7a0d-28ac-4c8d-81d3-67742dabd618",
        "colab": {
          "base_uri": "https://localhost:8080/",
          "height": 729
        }
      },
      "source": [
        "rows=5\n",
        "cols=3\n",
        "num_images=rows*cols\n",
        "plt.figure(figsize=(2*2*cols,2*rows))\n",
        "for i in range(num_images):\n",
        "  plt.subplot(rows,2*cols,2*i+1)\n",
        "  plot_image(i,predictions[i],test_labels,test_images)\n",
        "  plt.subplot(rows,2*cols,2*i+2)\n",
        "  plot_value_array(i,predictions[i],test_labels)\n",
        "plt.tight_layout()\n",
        "plt.show()"
      ],
      "execution_count": 166,
      "outputs": [
        {
          "output_type": "display_data",
          "data": {
            "image/png": "[encoded data removed]",
            "text/plain": [
              "<Figure size 864x720 with 30 Axes>"
            ]
          },
          "metadata": {
            "tags": [],
            "needs_background": "light"
          }
        }
      ]
    },
    {
      "cell_type": "markdown",
      "metadata": {
        "id": "OVEfxIOWrQ8W"
      },
      "source": [
        "### **TESTING FOR ONE INDIVIDUAL IMAGE**"
      ]
    },
    {
      "cell_type": "code",
      "metadata": {
        "id": "_XjtqfAfThTd",
        "outputId": "90be7614-7cbe-4f14-c42d-48686d2807e6",
        "colab": {
          "base_uri": "https://localhost:8080/",
          "height": 34
        }
      },
      "source": [
        "\n",
        "img=test_images[8]\n",
        "img.shape"
      ],
      "execution_count": 178,
      "outputs": [
        {
          "output_type": "execute_result",
          "data": {
            "text/plain": [
              "(28, 28, 1)"
            ]
          },
          "metadata": {
            "tags": []
          },
          "execution_count": 178
        }
      ]
    },
    {
      "cell_type": "code",
      "metadata": {
        "id": "I6MObRF5or56",
        "outputId": "9ad83890-9f5f-49e3-f323-0ec7ec377401",
        "colab": {
          "base_uri": "https://localhost:8080/",
          "height": 34
        }
      },
      "source": [
        "import numpy as np\n",
        "img=np.expand_dims(img,0)\n",
        "img.shape"
      ],
      "execution_count": 179,
      "outputs": [
        {
          "output_type": "execute_result",
          "data": {
            "text/plain": [
              "(1, 28, 28, 1)"
            ]
          },
          "metadata": {
            "tags": []
          },
          "execution_count": 179
        }
      ]
    },
    {
      "cell_type": "code",
      "metadata": {
        "id": "hZhppVXrpAa5",
        "outputId": "af494781-d72b-4179-d550-445c620e496a",
        "colab": {
          "base_uri": "https://localhost:8080/",
          "height": 34
        }
      },
      "source": [
        "my_prediction=model.predict(img)\n",
        "my_prediction"
      ],
      "execution_count": 180,
      "outputs": [
        {
          "output_type": "execute_result",
          "data": {
            "text/plain": [
              "array([[0., 0., 0., 0., 0., 1., 0., 0., 0., 0.]], dtype=float32)"
            ]
          },
          "metadata": {
            "tags": []
          },
          "execution_count": 180
        }
      ]
    },
    {
      "cell_type": "code",
      "metadata": {
        "id": "j_8S7ptLpKDC",
        "outputId": "60c5f4c2-1dfa-4ea4-e3ed-9a048d092865",
        "colab": {
          "base_uri": "https://localhost:8080/",
          "height": 300
        }
      },
      "source": [
        "plot_value_array(1,my_prediction[0],test_labels)\n",
        "_=plt.xticks(range(10),class_names,rotation=45)"
      ],
      "execution_count": 184,
      "outputs": [
        {
          "output_type": "display_data",
          "data": {
            "image/png": "[encoded data removed]",
            "text/plain": [
              "<Figure size 432x288 with 1 Axes>"
            ]
          },
          "metadata": {
            "tags": [],
            "needs_background": "light"
          }
        }
      ]
    }
  ]
}