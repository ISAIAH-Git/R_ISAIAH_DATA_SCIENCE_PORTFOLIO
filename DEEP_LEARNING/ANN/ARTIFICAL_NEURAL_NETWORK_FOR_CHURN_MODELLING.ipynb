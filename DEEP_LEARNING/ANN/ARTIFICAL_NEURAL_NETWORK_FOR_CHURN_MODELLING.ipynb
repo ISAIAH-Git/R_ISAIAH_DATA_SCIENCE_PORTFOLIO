{
 "cells": [
  {
   "cell_type": "code",
   "execution_count": 8,
   "metadata": {},
   "outputs": [
    {
     "data": {
      "text/html": [
       "<div>\n",
       "<style scoped>\n",
       "    .dataframe tbody tr th:only-of-type {\n",
       "        vertical-align: middle;\n",
       "    }\n",
       "\n",
       "    .dataframe tbody tr th {\n",
       "        vertical-align: top;\n",
       "    }\n",
       "\n",
       "    .dataframe thead th {\n",
       "        text-align: right;\n",
       "    }\n",
       "</style>\n",
       "<table border=\"1\" class=\"dataframe\">\n",
       "  <thead>\n",
       "    <tr style=\"text-align: right;\">\n",
       "      <th></th>\n",
       "      <th>RowNumber</th>\n",
       "      <th>CustomerId</th>\n",
       "      <th>Surname</th>\n",
       "      <th>CreditScore</th>\n",
       "      <th>Geography</th>\n",
       "      <th>Gender</th>\n",
       "      <th>Age</th>\n",
       "      <th>Tenure</th>\n",
       "      <th>Balance</th>\n",
       "      <th>NumOfProducts</th>\n",
       "      <th>HasCrCard</th>\n",
       "      <th>IsActiveMember</th>\n",
       "      <th>EstimatedSalary</th>\n",
       "      <th>Exited</th>\n",
       "    </tr>\n",
       "  </thead>\n",
       "  <tbody>\n",
       "    <tr>\n",
       "      <th>0</th>\n",
       "      <td>1</td>\n",
       "      <td>15634602</td>\n",
       "      <td>Hargrave</td>\n",
       "      <td>619</td>\n",
       "      <td>France</td>\n",
       "      <td>Female</td>\n",
       "      <td>42</td>\n",
       "      <td>2</td>\n",
       "      <td>0.00</td>\n",
       "      <td>1</td>\n",
       "      <td>1</td>\n",
       "      <td>1</td>\n",
       "      <td>101348.88</td>\n",
       "      <td>1</td>\n",
       "    </tr>\n",
       "    <tr>\n",
       "      <th>1</th>\n",
       "      <td>2</td>\n",
       "      <td>15647311</td>\n",
       "      <td>Hill</td>\n",
       "      <td>608</td>\n",
       "      <td>Spain</td>\n",
       "      <td>Female</td>\n",
       "      <td>41</td>\n",
       "      <td>1</td>\n",
       "      <td>83807.86</td>\n",
       "      <td>1</td>\n",
       "      <td>0</td>\n",
       "      <td>1</td>\n",
       "      <td>112542.58</td>\n",
       "      <td>0</td>\n",
       "    </tr>\n",
       "    <tr>\n",
       "      <th>2</th>\n",
       "      <td>3</td>\n",
       "      <td>15619304</td>\n",
       "      <td>Onio</td>\n",
       "      <td>502</td>\n",
       "      <td>France</td>\n",
       "      <td>Female</td>\n",
       "      <td>42</td>\n",
       "      <td>8</td>\n",
       "      <td>159660.80</td>\n",
       "      <td>3</td>\n",
       "      <td>1</td>\n",
       "      <td>0</td>\n",
       "      <td>113931.57</td>\n",
       "      <td>1</td>\n",
       "    </tr>\n",
       "    <tr>\n",
       "      <th>3</th>\n",
       "      <td>4</td>\n",
       "      <td>15701354</td>\n",
       "      <td>Boni</td>\n",
       "      <td>699</td>\n",
       "      <td>France</td>\n",
       "      <td>Female</td>\n",
       "      <td>39</td>\n",
       "      <td>1</td>\n",
       "      <td>0.00</td>\n",
       "      <td>2</td>\n",
       "      <td>0</td>\n",
       "      <td>0</td>\n",
       "      <td>93826.63</td>\n",
       "      <td>0</td>\n",
       "    </tr>\n",
       "    <tr>\n",
       "      <th>4</th>\n",
       "      <td>5</td>\n",
       "      <td>15737888</td>\n",
       "      <td>Mitchell</td>\n",
       "      <td>850</td>\n",
       "      <td>Spain</td>\n",
       "      <td>Female</td>\n",
       "      <td>43</td>\n",
       "      <td>2</td>\n",
       "      <td>125510.82</td>\n",
       "      <td>1</td>\n",
       "      <td>1</td>\n",
       "      <td>1</td>\n",
       "      <td>79084.10</td>\n",
       "      <td>0</td>\n",
       "    </tr>\n",
       "  </tbody>\n",
       "</table>\n",
       "</div>"
      ],
      "text/plain": [
       "   RowNumber  CustomerId   Surname  CreditScore Geography  Gender  Age  \\\n",
       "0          1    15634602  Hargrave          619    France  Female   42   \n",
       "1          2    15647311      Hill          608     Spain  Female   41   \n",
       "2          3    15619304      Onio          502    France  Female   42   \n",
       "3          4    15701354      Boni          699    France  Female   39   \n",
       "4          5    15737888  Mitchell          850     Spain  Female   43   \n",
       "\n",
       "   Tenure    Balance  NumOfProducts  HasCrCard  IsActiveMember  \\\n",
       "0       2       0.00              1          1               1   \n",
       "1       1   83807.86              1          0               1   \n",
       "2       8  159660.80              3          1               0   \n",
       "3       1       0.00              2          0               0   \n",
       "4       2  125510.82              1          1               1   \n",
       "\n",
       "   EstimatedSalary  Exited  \n",
       "0        101348.88       1  \n",
       "1        112542.58       0  \n",
       "2        113931.57       1  \n",
       "3         93826.63       0  \n",
       "4         79084.10       0  "
      ]
     },
     "execution_count": 8,
     "metadata": {},
     "output_type": "execute_result"
    }
   ],
   "source": [
    "import pandas as pd\n",
    "dataset=pd.read_csv('Churn_Modelling.csv')\n",
    "dataset.head()"
   ]
  },
  {
   "cell_type": "code",
   "execution_count": 9,
   "metadata": {},
   "outputs": [],
   "source": [
    "#X---FEATURES WE WANT TO WORK ON\n",
    "#Y---TARGET VARIABLE\n",
    "X=dataset.iloc[:,3:13]\n",
    "Y=dataset.iloc[:,13]"
   ]
  },
  {
   "cell_type": "code",
   "execution_count": 10,
   "metadata": {},
   "outputs": [],
   "source": [
    "#ENCODING THE CATEGORICAL VARIABLES USING PANDAS GET DUMMIES\n",
    "geography=pd.get_dummies(X['Geography'],drop_first=True)\n",
    "gender=pd.get_dummies(X['Gender'],drop_first=True)"
   ]
  },
  {
   "cell_type": "code",
   "execution_count": 11,
   "metadata": {},
   "outputs": [],
   "source": [
    "X=pd.concat([X,geography,gender],axis=1)\n",
    "X=X.drop(['Geography','Gender'],axis=1)"
   ]
  },
  {
   "cell_type": "code",
   "execution_count": 12,
   "metadata": {},
   "outputs": [],
   "source": [
    "#TRAIN TEST SPLIT TO TRAIN THE DATA AND TEST THE DATA\n",
    "from sklearn.model_selection import train_test_split\n",
    "x_train,x_test,y_train,y_test=train_test_split(X,Y,test_size=0.2,random_state=0)\n",
    "\n",
    "#FEAUTURE SCALING :\n",
    "# IT IS VERY IMP AS IN DEEP LEARNING AS WE MULTIPLY WEIGHTS IN FRONT AND BACK PROPOGATION AND WE SHOULD TRY \n",
    "# TO REACH GLOBAL MINIMA POINT FASTER IN GRADIENT DESCENT CURVE\n",
    "\n",
    "from sklearn.preprocessing import StandardScaler\n",
    "sc=StandardScaler()\n",
    "x_train=sc.fit_transform(x_train)\n",
    "x_test=sc.transform(x_test)"
   ]
  },
  {
   "cell_type": "code",
   "execution_count": 13,
   "metadata": {},
   "outputs": [],
   "source": [
    "#LETS MAKE ANN"
   ]
  },
  {
   "cell_type": "code",
   "execution_count": 47,
   "metadata": {},
   "outputs": [],
   "source": [
    "from tensorflow import keras #IMPORTING KERAS"
   ]
  },
  {
   "cell_type": "code",
   "execution_count": 48,
   "metadata": {},
   "outputs": [],
   "source": [
    "from tensorflow.keras.models import Sequential #IT IS AN EMPTY NEURAL NETWORK"
   ]
  },
  {
   "cell_type": "code",
   "execution_count": 49,
   "metadata": {},
   "outputs": [],
   "source": [
    "from tensorflow.keras.layers import Dense #FOR HIDDEN LAYERS"
   ]
  },
  {
   "cell_type": "code",
   "execution_count": 50,
   "metadata": {},
   "outputs": [],
   "source": [
    "from tensorflow.keras.layers import LeakyReLU,PReLU,ELU #IMPORTING ACTIVATION FUNCTIONS"
   ]
  },
  {
   "cell_type": "code",
   "execution_count": 51,
   "metadata": {},
   "outputs": [],
   "source": [
    "from tensorflow.keras.layers import Dropout #We introduce this so we dont overfit the data.\n",
    "#(i.e Regularization parameter)"
   ]
  },
  {
   "cell_type": "code",
   "execution_count": 85,
   "metadata": {},
   "outputs": [],
   "source": [
    "#INITIALIZE ANN\n",
    "classifier=Sequential() #EMPTY NEURAL NETWORK\n",
    "#ADDING THE INPUT LAYER AND FIRST LAYER OF NEURONS\n",
    "classifier.add(Dense(units=10,kernel_initializer='he_uniform',activation='relu',input_dim=11))\n",
    "#IN OUR FIRST HIDDEN LAYER WE HAVE 6 HIDDEN NEURONS AND WE ARE USING RELU AS ACTIVATION FUNCTION ALONG RELU \n",
    "# HE UNIFORM AND HE NORMAL WORKS WELL FOR WEIGHT INTIALIZATION\n",
    "# THE FEATURES ARE 11 INDEPENDENT DIMENSIONS INPUT_DIM =11 IN OUR CASE\n",
    "# HERE WE USE CAN RELU AND LEAKY RELU INSTEAD OF SIGMOID AS RELU AND LEAKY RELU PREVENTS VANISHING GRADIENT PROBLEM \n",
    "# i.e OLD WEIGHTS WONT BE EQUAL TO NEW WEIGHTS.."
   ]
  },
  {
   "cell_type": "code",
   "execution_count": 86,
   "metadata": {},
   "outputs": [],
   "source": [
    "#ADDING SECONG HIDDEN LAYER\n",
    "classifier.add(Dense(units=10,kernel_initializer='he_uniform',activation='relu'))\n",
    "classifier.add(Dropout(0.2))"
   ]
  },
  {
   "cell_type": "code",
   "execution_count": 87,
   "metadata": {},
   "outputs": [],
   "source": [
    "classifier.add(Dense(units=10,kernel_initializer='he_uniform',activation='relu'))"
   ]
  },
  {
   "cell_type": "code",
   "execution_count": 88,
   "metadata": {},
   "outputs": [],
   "source": [
    "classifier.add(Dense(units=10,kernel_initializer='he_uniform',activation='relu'))"
   ]
  },
  {
   "cell_type": "code",
   "execution_count": 89,
   "metadata": {},
   "outputs": [],
   "source": [
    "classifier.add(Dense(units=10,kernel_initializer='he_uniform',activation='relu'))\n",
    "classifier.add(Dropout(0.2))"
   ]
  },
  {
   "cell_type": "code",
   "execution_count": 90,
   "metadata": {},
   "outputs": [],
   "source": [
    "classifier.add(Dense(units=5,kernel_initializer='he_uniform',activation='relu'))"
   ]
  },
  {
   "cell_type": "code",
   "execution_count": 91,
   "metadata": {},
   "outputs": [],
   "source": [
    "classifier.add(Dense(units=4,kernel_initializer='he_uniform',activation='relu'))"
   ]
  },
  {
   "cell_type": "code",
   "execution_count": 92,
   "metadata": {},
   "outputs": [],
   "source": [
    "classifier.add(Dense(units=3,kernel_initializer='he_normal',activation='relu'))"
   ]
  },
  {
   "cell_type": "code",
   "execution_count": 93,
   "metadata": {},
   "outputs": [],
   "source": [
    "classifier.add(Dense(units=2,kernel_initializer='he_normal',activation='relu'))"
   ]
  },
  {
   "cell_type": "code",
   "execution_count": 94,
   "metadata": {},
   "outputs": [],
   "source": [
    "#ADDING OUTPUT LAYER\n",
    "classifier.add(Dense(units=1,kernel_initializer='glorot_uniform',activation='sigmoid'))\n",
    "# WITH SIGMOID WE  USE XAVIER/GORAT WEIGHTS INTIALIZATION\n",
    "# HERE WE ARE USING SIGMOID ACTIVATION FUNCTION AS WE ARE APPLYING BINARY CLASSIFICATION"
   ]
  },
  {
   "cell_type": "code",
   "execution_count": 95,
   "metadata": {},
   "outputs": [
    {
     "name": "stdout",
     "output_type": "stream",
     "text": [
      "Model: \"sequential_6\"\n",
      "_________________________________________________________________\n",
      "Layer (type)                 Output Shape              Param #   \n",
      "=================================================================\n",
      "dense_12 (Dense)             (None, 10)                120       \n",
      "_________________________________________________________________\n",
      "dense_13 (Dense)             (None, 10)                110       \n",
      "_________________________________________________________________\n",
      "dropout_4 (Dropout)          (None, 10)                0         \n",
      "_________________________________________________________________\n",
      "dense_14 (Dense)             (None, 10)                110       \n",
      "_________________________________________________________________\n",
      "dense_15 (Dense)             (None, 10)                110       \n",
      "_________________________________________________________________\n",
      "dense_16 (Dense)             (None, 10)                110       \n",
      "_________________________________________________________________\n",
      "dropout_5 (Dropout)          (None, 10)                0         \n",
      "_________________________________________________________________\n",
      "dense_17 (Dense)             (None, 5)                 55        \n",
      "_________________________________________________________________\n",
      "dense_18 (Dense)             (None, 4)                 24        \n",
      "_________________________________________________________________\n",
      "dense_19 (Dense)             (None, 3)                 15        \n",
      "_________________________________________________________________\n",
      "dense_20 (Dense)             (None, 2)                 8         \n",
      "_________________________________________________________________\n",
      "dense_21 (Dense)             (None, 1)                 3         \n",
      "=================================================================\n",
      "Total params: 665\n",
      "Trainable params: 665\n",
      "Non-trainable params: 0\n",
      "_________________________________________________________________\n"
     ]
    }
   ],
   "source": [
    "#LETS SUMMARIZE OUR MODEL\n",
    "classifier.summary()"
   ]
  },
  {
   "cell_type": "code",
   "execution_count": 96,
   "metadata": {},
   "outputs": [],
   "source": [
    "#COMPILING ANN\n",
    "classifier.compile(optimizer='adam',loss='binary_crossentropy',metrics=['accuracy'])\n",
    "# HERE WE ARE USING ADMAX OPTIMIZER HELPS IN REDUCING THE LOSS FUNCTION\n",
    "#  WE ARE USING BINARY_CROSS ENTROPY FOR CALCULATION LOSS FUNCTION AS WE HAVE BINARY CLASSIFICATION IF WE HAVE \n",
    "# MULTIPLE CATEGORIES USE CATEGRIAL CROSS ENTROPY\n",
    "# EVALUATION METRICS IS ACCURACY"
   ]
  },
  {
   "cell_type": "code",
   "execution_count": 108,
   "metadata": {},
   "outputs": [],
   "source": [
    "# MOSTLY USE RELU ACTIVATION FUNCTION AND HE_UNIFORM AND HE_NORMAL FOR INTIALIZATION OF WEIGHTS  AND ONE NEURON IN THE END"
   ]
  },
  {
   "cell_type": "code",
   "execution_count": 97,
   "metadata": {},
   "outputs": [
    {
     "name": "stdout",
     "output_type": "stream",
     "text": [
      "Epoch 1/100\n",
      "536/536 [==============================] - 1s 2ms/step - loss: 0.5504 - accuracy: 0.7959 - val_loss: 0.4853 - val_accuracy: 0.7955\n",
      "Epoch 2/100\n",
      "536/536 [==============================] - 1s 1ms/step - loss: 0.4931 - accuracy: 0.7962 - val_loss: 0.4711 - val_accuracy: 0.7955\n",
      "Epoch 3/100\n",
      "536/536 [==============================] - 1s 1ms/step - loss: 0.4815 - accuracy: 0.7962 - val_loss: 0.4689 - val_accuracy: 0.7955\n",
      "Epoch 4/100\n",
      "536/536 [==============================] - 1s 1ms/step - loss: 0.4734 - accuracy: 0.7962 - val_loss: 0.4634 - val_accuracy: 0.7955\n",
      "Epoch 5/100\n",
      "536/536 [==============================] - 1s 1ms/step - loss: 0.4623 - accuracy: 0.7962 - val_loss: 0.4544 - val_accuracy: 0.7955\n",
      "Epoch 6/100\n",
      "536/536 [==============================] - 1s 1ms/step - loss: 0.4576 - accuracy: 0.7962 - val_loss: 0.4504 - val_accuracy: 0.7955\n",
      "Epoch 7/100\n",
      "536/536 [==============================] - 1s 1ms/step - loss: 0.4506 - accuracy: 0.7962 - val_loss: 0.4467 - val_accuracy: 0.7955\n",
      "Epoch 8/100\n",
      "536/536 [==============================] - 1s 1ms/step - loss: 0.4472 - accuracy: 0.7962 - val_loss: 0.4427 - val_accuracy: 0.7955\n",
      "Epoch 9/100\n",
      "536/536 [==============================] - 1s 1ms/step - loss: 0.4391 - accuracy: 0.7962 - val_loss: 0.4438 - val_accuracy: 0.7955\n",
      "Epoch 10/100\n",
      "536/536 [==============================] - 1s 1ms/step - loss: 0.4384 - accuracy: 0.7962 - val_loss: 0.4489 - val_accuracy: 0.7955\n",
      "Epoch 11/100\n",
      "536/536 [==============================] - 1s 1ms/step - loss: 0.4371 - accuracy: 0.7962 - val_loss: 0.4439 - val_accuracy: 0.7955\n",
      "Epoch 12/100\n",
      "536/536 [==============================] - 1s 1ms/step - loss: 0.4338 - accuracy: 0.7962 - val_loss: 0.4425 - val_accuracy: 0.7955\n",
      "Epoch 13/100\n",
      "536/536 [==============================] - 1s 1ms/step - loss: 0.4350 - accuracy: 0.7962 - val_loss: 0.4387 - val_accuracy: 0.7955\n",
      "Epoch 14/100\n",
      "536/536 [==============================] - 1s 1ms/step - loss: 0.4287 - accuracy: 0.7962 - val_loss: 0.4379 - val_accuracy: 0.7955\n",
      "Epoch 15/100\n",
      "536/536 [==============================] - 1s 1ms/step - loss: 0.4279 - accuracy: 0.7962 - val_loss: 0.4422 - val_accuracy: 0.7955\n",
      "Epoch 16/100\n",
      "536/536 [==============================] - 1s 1ms/step - loss: 0.4298 - accuracy: 0.7962 - val_loss: 0.4372 - val_accuracy: 0.7955\n",
      "Epoch 17/100\n",
      "536/536 [==============================] - 1s 1ms/step - loss: 0.4259 - accuracy: 0.7962 - val_loss: 0.4380 - val_accuracy: 0.7955\n",
      "Epoch 18/100\n",
      "536/536 [==============================] - 1s 1ms/step - loss: 0.4274 - accuracy: 0.7962 - val_loss: 0.4391 - val_accuracy: 0.7955\n",
      "Epoch 19/100\n",
      "536/536 [==============================] - 1s 1ms/step - loss: 0.4211 - accuracy: 0.7962 - val_loss: 0.4342 - val_accuracy: 0.7955\n",
      "Epoch 20/100\n",
      "536/536 [==============================] - 1s 1ms/step - loss: 0.4239 - accuracy: 0.7962 - val_loss: 0.4345 - val_accuracy: 0.7955\n",
      "Epoch 21/100\n",
      "536/536 [==============================] - 1s 1ms/step - loss: 0.4232 - accuracy: 0.7962 - val_loss: 0.4303 - val_accuracy: 0.7955\n",
      "Epoch 22/100\n",
      "536/536 [==============================] - 1s 1ms/step - loss: 0.4207 - accuracy: 0.7962 - val_loss: 0.4351 - val_accuracy: 0.7955\n",
      "Epoch 23/100\n",
      "536/536 [==============================] - 1s 1ms/step - loss: 0.4178 - accuracy: 0.7962 - val_loss: 0.4286 - val_accuracy: 0.7955\n",
      "Epoch 24/100\n",
      "536/536 [==============================] - 1s 1ms/step - loss: 0.4163 - accuracy: 0.7962 - val_loss: 0.4293 - val_accuracy: 0.7955\n",
      "Epoch 25/100\n",
      "536/536 [==============================] - 1s 1ms/step - loss: 0.4172 - accuracy: 0.7962 - val_loss: 0.4301 - val_accuracy: 0.7955\n",
      "Epoch 26/100\n",
      "536/536 [==============================] - 1s 1ms/step - loss: 0.4158 - accuracy: 0.7962 - val_loss: 0.4298 - val_accuracy: 0.7955\n",
      "Epoch 27/100\n",
      "536/536 [==============================] - 1s 1ms/step - loss: 0.4158 - accuracy: 0.7962 - val_loss: 0.4304 - val_accuracy: 0.7955\n",
      "Epoch 28/100\n",
      "536/536 [==============================] - 1s 1ms/step - loss: 0.4154 - accuracy: 0.7962 - val_loss: 0.4269 - val_accuracy: 0.7955\n",
      "Epoch 29/100\n",
      "536/536 [==============================] - 1s 1ms/step - loss: 0.4087 - accuracy: 0.7962 - val_loss: 0.4208 - val_accuracy: 0.7955\n",
      "Epoch 30/100\n",
      "536/536 [==============================] - 1s 1ms/step - loss: 0.4130 - accuracy: 0.7962 - val_loss: 0.4245 - val_accuracy: 0.7955\n",
      "Epoch 31/100\n",
      "536/536 [==============================] - 1s 1ms/step - loss: 0.4084 - accuracy: 0.7962 - val_loss: 0.4203 - val_accuracy: 0.7955\n",
      "Epoch 32/100\n",
      "536/536 [==============================] - 1s 1ms/step - loss: 0.4062 - accuracy: 0.7962 - val_loss: 0.4174 - val_accuracy: 0.7955\n",
      "Epoch 33/100\n",
      "536/536 [==============================] - 1s 1ms/step - loss: 0.4073 - accuracy: 0.7962 - val_loss: 0.4194 - val_accuracy: 0.7955\n",
      "Epoch 34/100\n",
      "536/536 [==============================] - 1s 1ms/step - loss: 0.4049 - accuracy: 0.7962 - val_loss: 0.4111 - val_accuracy: 0.7955\n",
      "Epoch 35/100\n",
      "536/536 [==============================] - 1s 1ms/step - loss: 0.4020 - accuracy: 0.8074 - val_loss: 0.4092 - val_accuracy: 0.8167\n",
      "Epoch 36/100\n",
      "536/536 [==============================] - 1s 1ms/step - loss: 0.3968 - accuracy: 0.8184 - val_loss: 0.4074 - val_accuracy: 0.8186\n",
      "Epoch 37/100\n",
      "536/536 [==============================] - 1s 1ms/step - loss: 0.3991 - accuracy: 0.8192 - val_loss: 0.4023 - val_accuracy: 0.8236\n",
      "Epoch 38/100\n",
      "536/536 [==============================] - 1s 1ms/step - loss: 0.3966 - accuracy: 0.8194 - val_loss: 0.4029 - val_accuracy: 0.8224\n",
      "Epoch 39/100\n",
      "536/536 [==============================] - 1s 1ms/step - loss: 0.3913 - accuracy: 0.8143 - val_loss: 0.4026 - val_accuracy: 0.8171\n",
      "Epoch 40/100\n",
      "536/536 [==============================] - 1s 1ms/step - loss: 0.3926 - accuracy: 0.8216 - val_loss: 0.4024 - val_accuracy: 0.8228\n",
      "Epoch 41/100\n",
      "536/536 [==============================] - 1s 1ms/step - loss: 0.3906 - accuracy: 0.8233 - val_loss: 0.4008 - val_accuracy: 0.8266\n",
      "Epoch 42/100\n",
      "536/536 [==============================] - 1s 1ms/step - loss: 0.3869 - accuracy: 0.8266 - val_loss: 0.3953 - val_accuracy: 0.8330\n",
      "Epoch 43/100\n",
      "536/536 [==============================] - 1s 1ms/step - loss: 0.3879 - accuracy: 0.8253 - val_loss: 0.3963 - val_accuracy: 0.8273\n",
      "Epoch 44/100\n",
      "536/536 [==============================] - 1s 1ms/step - loss: 0.3823 - accuracy: 0.8298 - val_loss: 0.3972 - val_accuracy: 0.8285\n",
      "Epoch 45/100\n",
      "536/536 [==============================] - 1s 1ms/step - loss: 0.3797 - accuracy: 0.8364 - val_loss: 0.3930 - val_accuracy: 0.8277\n",
      "Epoch 46/100\n",
      "536/536 [==============================] - 1s 1ms/step - loss: 0.3824 - accuracy: 0.8294 - val_loss: 0.3948 - val_accuracy: 0.8281\n",
      "Epoch 47/100\n",
      "536/536 [==============================] - ETA: 0s - loss: 0.3789 - accuracy: 0.83 - 1s 1ms/step - loss: 0.3781 - accuracy: 0.8408 - val_loss: 0.3939 - val_accuracy: 0.8338\n",
      "Epoch 48/100\n",
      "536/536 [==============================] - 1s 1ms/step - loss: 0.3780 - accuracy: 0.8412 - val_loss: 0.3906 - val_accuracy: 0.8372\n",
      "Epoch 49/100\n",
      "536/536 [==============================] - 1s 1ms/step - loss: 0.3755 - accuracy: 0.8416 - val_loss: 0.3910 - val_accuracy: 0.8342\n",
      "Epoch 50/100\n",
      "536/536 [==============================] - 1s 1ms/step - loss: 0.3747 - accuracy: 0.8393 - val_loss: 0.3911 - val_accuracy: 0.8360\n",
      "Epoch 51/100\n",
      "536/536 [==============================] - 1s 1ms/step - loss: 0.3708 - accuracy: 0.8509 - val_loss: 0.3879 - val_accuracy: 0.8402\n",
      "Epoch 52/100\n",
      "536/536 [==============================] - 1s 1ms/step - loss: 0.3680 - accuracy: 0.8412 - val_loss: 0.3853 - val_accuracy: 0.8387\n",
      "Epoch 53/100\n",
      "536/536 [==============================] - 1s 1ms/step - loss: 0.3672 - accuracy: 0.8475 - val_loss: 0.3917 - val_accuracy: 0.8402\n",
      "Epoch 54/100\n",
      "536/536 [==============================] - 1s 1ms/step - loss: 0.3685 - accuracy: 0.8447 - val_loss: 0.3846 - val_accuracy: 0.8402\n",
      "Epoch 55/100\n",
      "536/536 [==============================] - 1s 1ms/step - loss: 0.3623 - accuracy: 0.8503 - val_loss: 0.3819 - val_accuracy: 0.8406\n",
      "Epoch 56/100\n",
      "536/536 [==============================] - 1s 1ms/step - loss: 0.3649 - accuracy: 0.8492 - val_loss: 0.3833 - val_accuracy: 0.8402\n",
      "Epoch 57/100\n"
     ]
    },
    {
     "name": "stdout",
     "output_type": "stream",
     "text": [
      "536/536 [==============================] - 1s 1ms/step - loss: 0.3636 - accuracy: 0.8485 - val_loss: 0.3899 - val_accuracy: 0.8360\n",
      "Epoch 58/100\n",
      "536/536 [==============================] - 1s 1ms/step - loss: 0.3591 - accuracy: 0.8502 - val_loss: 0.3870 - val_accuracy: 0.8398\n",
      "Epoch 59/100\n",
      "536/536 [==============================] - 1s 1ms/step - loss: 0.3630 - accuracy: 0.8461 - val_loss: 0.3777 - val_accuracy: 0.8436\n",
      "Epoch 60/100\n",
      "536/536 [==============================] - 1s 1ms/step - loss: 0.3563 - accuracy: 0.8498 - val_loss: 0.3788 - val_accuracy: 0.8451\n",
      "Epoch 61/100\n",
      "536/536 [==============================] - 1s 1ms/step - loss: 0.3582 - accuracy: 0.8563 - val_loss: 0.3787 - val_accuracy: 0.8440\n",
      "Epoch 62/100\n",
      "536/536 [==============================] - 1s 1ms/step - loss: 0.3538 - accuracy: 0.8548 - val_loss: 0.3818 - val_accuracy: 0.8440\n",
      "Epoch 63/100\n",
      "536/536 [==============================] - 1s 1ms/step - loss: 0.3532 - accuracy: 0.8569 - val_loss: 0.3807 - val_accuracy: 0.8417\n",
      "Epoch 64/100\n",
      "536/536 [==============================] - 1s 1ms/step - loss: 0.3547 - accuracy: 0.8565 - val_loss: 0.3788 - val_accuracy: 0.8448\n",
      "Epoch 65/100\n",
      "536/536 [==============================] - 1s 1ms/step - loss: 0.3508 - accuracy: 0.8561 - val_loss: 0.3781 - val_accuracy: 0.8459\n",
      "Epoch 66/100\n",
      "536/536 [==============================] - 1s 1ms/step - loss: 0.3559 - accuracy: 0.8545 - val_loss: 0.3786 - val_accuracy: 0.8459\n",
      "Epoch 67/100\n",
      "536/536 [==============================] - 1s 1ms/step - loss: 0.3545 - accuracy: 0.8561 - val_loss: 0.3764 - val_accuracy: 0.8470\n",
      "Epoch 68/100\n",
      "536/536 [==============================] - 1s 1ms/step - loss: 0.3506 - accuracy: 0.8546 - val_loss: 0.3812 - val_accuracy: 0.8406\n",
      "Epoch 69/100\n",
      "536/536 [==============================] - 1s 1ms/step - loss: 0.3530 - accuracy: 0.8552 - val_loss: 0.3795 - val_accuracy: 0.8444\n",
      "Epoch 70/100\n",
      "536/536 [==============================] - 1s 1ms/step - loss: 0.3497 - accuracy: 0.8546 - val_loss: 0.3776 - val_accuracy: 0.8425\n",
      "Epoch 71/100\n",
      "536/536 [==============================] - 1s 1ms/step - loss: 0.3528 - accuracy: 0.8582 - val_loss: 0.3715 - val_accuracy: 0.8432\n",
      "Epoch 72/100\n",
      "536/536 [==============================] - 1s 1ms/step - loss: 0.3465 - accuracy: 0.8584 - val_loss: 0.3718 - val_accuracy: 0.8474\n",
      "Epoch 73/100\n",
      "536/536 [==============================] - 1s 1ms/step - loss: 0.3505 - accuracy: 0.8548 - val_loss: 0.3705 - val_accuracy: 0.8455\n",
      "Epoch 74/100\n",
      "536/536 [==============================] - 1s 1ms/step - loss: 0.3470 - accuracy: 0.8604 - val_loss: 0.3732 - val_accuracy: 0.8432\n",
      "Epoch 75/100\n",
      "536/536 [==============================] - 1s 1ms/step - loss: 0.3459 - accuracy: 0.8619 - val_loss: 0.3722 - val_accuracy: 0.8417\n",
      "Epoch 76/100\n",
      "536/536 [==============================] - 1s 1ms/step - loss: 0.3480 - accuracy: 0.8580 - val_loss: 0.3695 - val_accuracy: 0.8451\n",
      "Epoch 77/100\n",
      "536/536 [==============================] - 1s 1ms/step - loss: 0.3523 - accuracy: 0.8584 - val_loss: 0.3702 - val_accuracy: 0.8455\n",
      "Epoch 78/100\n",
      "536/536 [==============================] - 1s 1ms/step - loss: 0.3483 - accuracy: 0.8556 - val_loss: 0.3689 - val_accuracy: 0.8478\n",
      "Epoch 79/100\n",
      "536/536 [==============================] - 1s 1ms/step - loss: 0.3424 - accuracy: 0.8599 - val_loss: 0.3695 - val_accuracy: 0.8463\n",
      "Epoch 80/100\n",
      "536/536 [==============================] - 1s 1ms/step - loss: 0.3470 - accuracy: 0.8569 - val_loss: 0.3690 - val_accuracy: 0.8478\n",
      "Epoch 81/100\n",
      "536/536 [==============================] - 1s 1ms/step - loss: 0.3464 - accuracy: 0.8593 - val_loss: 0.3689 - val_accuracy: 0.8429\n",
      "Epoch 82/100\n",
      "536/536 [==============================] - 1s 1ms/step - loss: 0.3469 - accuracy: 0.8634 - val_loss: 0.3700 - val_accuracy: 0.8436\n",
      "Epoch 83/100\n",
      "536/536 [==============================] - 1s 1ms/step - loss: 0.3436 - accuracy: 0.8599 - val_loss: 0.3815 - val_accuracy: 0.8474\n",
      "Epoch 84/100\n",
      "536/536 [==============================] - 1s 1ms/step - loss: 0.3438 - accuracy: 0.8600 - val_loss: 0.3721 - val_accuracy: 0.8478\n",
      "Epoch 85/100\n",
      "536/536 [==============================] - 1s 1ms/step - loss: 0.3417 - accuracy: 0.8619 - val_loss: 0.3699 - val_accuracy: 0.8455\n",
      "Epoch 86/100\n",
      "536/536 [==============================] - 1s 1ms/step - loss: 0.3436 - accuracy: 0.8533 - val_loss: 0.3666 - val_accuracy: 0.8470\n",
      "Epoch 87/100\n",
      "536/536 [==============================] - 1s 1ms/step - loss: 0.3428 - accuracy: 0.8614 - val_loss: 0.3677 - val_accuracy: 0.8474\n",
      "Epoch 88/100\n",
      "536/536 [==============================] - 1s 1ms/step - loss: 0.3447 - accuracy: 0.8586 - val_loss: 0.3658 - val_accuracy: 0.8489\n",
      "Epoch 89/100\n",
      "536/536 [==============================] - 1s 2ms/step - loss: 0.3443 - accuracy: 0.8606 - val_loss: 0.3661 - val_accuracy: 0.8444\n",
      "Epoch 90/100\n",
      "536/536 [==============================] - 1s 2ms/step - loss: 0.3448 - accuracy: 0.8602 - val_loss: 0.3655 - val_accuracy: 0.8474\n",
      "Epoch 91/100\n",
      "536/536 [==============================] - 1s 1ms/step - loss: 0.3436 - accuracy: 0.8565 - val_loss: 0.3639 - val_accuracy: 0.8478\n",
      "Epoch 92/100\n",
      "536/536 [==============================] - 1s 1ms/step - loss: 0.3383 - accuracy: 0.8619 - val_loss: 0.3651 - val_accuracy: 0.8489\n",
      "Epoch 93/100\n",
      "536/536 [==============================] - 1s 1ms/step - loss: 0.3415 - accuracy: 0.8565 - val_loss: 0.3640 - val_accuracy: 0.8501\n",
      "Epoch 94/100\n",
      "536/536 [==============================] - 1s 1ms/step - loss: 0.3422 - accuracy: 0.8582 - val_loss: 0.3625 - val_accuracy: 0.8478\n",
      "Epoch 95/100\n",
      "536/536 [==============================] - 1s 1ms/step - loss: 0.3358 - accuracy: 0.8617 - val_loss: 0.3669 - val_accuracy: 0.8455\n",
      "Epoch 96/100\n",
      "536/536 [==============================] - 1s 1ms/step - loss: 0.3404 - accuracy: 0.8586 - val_loss: 0.3659 - val_accuracy: 0.8478\n",
      "Epoch 97/100\n",
      "536/536 [==============================] - 1s 1ms/step - loss: 0.3403 - accuracy: 0.8614 - val_loss: 0.3661 - val_accuracy: 0.8478\n",
      "Epoch 98/100\n",
      "536/536 [==============================] - 1s 1ms/step - loss: 0.3410 - accuracy: 0.8563 - val_loss: 0.3665 - val_accuracy: 0.8493\n",
      "Epoch 99/100\n",
      "536/536 [==============================] - 1s 1ms/step - loss: 0.3377 - accuracy: 0.8604 - val_loss: 0.3665 - val_accuracy: 0.8485\n",
      "Epoch 100/100\n",
      "536/536 [==============================] - 1s 1ms/step - loss: 0.3372 - accuracy: 0.8612 - val_loss: 0.3661 - val_accuracy: 0.8493\n"
     ]
    }
   ],
   "source": [
    "# LETS FIT THE ANN TO THE TRAINING SET\n",
    "model_history=classifier.fit(x_train,y_train,validation_split=0.33,batch_size=10,epochs=100)\n",
    "#HERE WE ARE USING 100 EPOCHS AND BATCH_SIZE=10 AS IT COMSUMES LESS RAM "
   ]
  },
  {
   "cell_type": "code",
   "execution_count": 98,
   "metadata": {},
   "outputs": [],
   "source": [
    "#MAKING PREDICTIONS & EVALUATING THE MODEL\n",
    "#Predicting The results\n",
    "y_pred=classifier.predict(x_test)\n",
    "y_pred=(y_pred>0.5)"
   ]
  },
  {
   "cell_type": "code",
   "execution_count": 99,
   "metadata": {},
   "outputs": [],
   "source": [
    "from sklearn.metrics import confusion_matrix,roc_auc_score,roc_curve"
   ]
  },
  {
   "cell_type": "code",
   "execution_count": 100,
   "metadata": {},
   "outputs": [
    {
     "name": "stdout",
     "output_type": "stream",
     "text": [
      "[[1535   60]\n",
      " [ 213  192]]\n"
     ]
    },
    {
     "data": {
      "text/plain": [
       "<matplotlib.axes._subplots.AxesSubplot at 0x2ecddb318e0>"
      ]
     },
     "execution_count": 100,
     "metadata": {},
     "output_type": "execute_result"
    },
    {
     "data": {
      "image/png": "[encoded data removed]",
      "text/plain": [
       "<Figure size 432x288 with 2 Axes>"
      ]
     },
     "metadata": {
      "needs_background": "light"
     },
     "output_type": "display_data"
    }
   ],
   "source": [
    "#Making Confusion matrix\n",
    "import seaborn as sns\n",
    "from sklearn.metrics import confusion_matrix\n",
    "cm=confusion_matrix(y_test,y_pred)\n",
    "print(cm)\n",
    "sns.heatmap(cm,center=True,annot=True)"
   ]
  },
  {
   "cell_type": "code",
   "execution_count": 101,
   "metadata": {},
   "outputs": [
    {
     "name": "stdout",
     "output_type": "stream",
     "text": [
      "True Positive Rate [0.         0.03761755 1.        ]\n",
      "False Positive Rate [0.         0.47407407 1.        ]\n",
      "threshold [2 1 0]\n"
     ]
    },
    {
     "data": {
      "image/png": "[encoded data removed]",
      "text/plain": [
       "<Figure size 648x360 with 1 Axes>"
      ]
     },
     "metadata": {
      "needs_background": "light"
     },
     "output_type": "display_data"
    }
   ],
   "source": [
    "import matplotlib.pyplot as plt\n",
    "from sklearn.metrics import roc_curve,auc\n",
    "tpr,fpr,threshold=roc_curve(y_test,y_pred)\n",
    "print('True Positive Rate',tpr)\n",
    "print('False Positive Rate',fpr)\n",
    "print('threshold',threshold)\n",
    "\n",
    "ANN_auc=auc(tpr,fpr)\n",
    "\n",
    "#Draw ROC Curve && AUC [Area Under The Curve]\n",
    "plt.figure(figsize=(9, 5))\n",
    "plt.plot(tpr, fpr, linestyle='--', label='ANN (auc = %0.3f)' %ANN_auc)\n",
    "\n",
    "plt.xlabel('False Positive Rate -->')\n",
    "plt.ylabel('True Positive Rate -->')\n",
    "\n",
    "plt.legend()\n",
    "\n",
    "plt.show()"
   ]
  },
  {
   "cell_type": "code",
   "execution_count": 102,
   "metadata": {},
   "outputs": [
    {
     "name": "stdout",
     "output_type": "stream",
     "text": [
      "              precision    recall  f1-score   support\n",
      "\n",
      "           0       0.88      0.96      0.92      1595\n",
      "           1       0.76      0.47      0.58       405\n",
      "\n",
      "    accuracy                           0.86      2000\n",
      "   macro avg       0.82      0.72      0.75      2000\n",
      "weighted avg       0.85      0.86      0.85      2000\n",
      "\n"
     ]
    }
   ],
   "source": [
    "from sklearn.metrics import classification_report\n",
    "cr=classification_report(y_test,y_pred)\n",
    "print(cr)"
   ]
  },
  {
   "cell_type": "code",
   "execution_count": 103,
   "metadata": {},
   "outputs": [
    {
     "name": "stdout",
     "output_type": "stream",
     "text": [
      "86.35000000000001\n"
     ]
    }
   ],
   "source": [
    "#Calculating Accuracy\n",
    "from sklearn.metrics import accuracy_score\n",
    "score=accuracy_score(y_pred,y_test)\n",
    "print(score*100)"
   ]
  },
  {
   "cell_type": "code",
   "execution_count": 104,
   "metadata": {},
   "outputs": [
    {
     "name": "stdout",
     "output_type": "stream",
     "text": [
      "dict_keys(['loss', 'accuracy', 'val_loss', 'val_accuracy'])\n"
     ]
    }
   ],
   "source": [
    "#list all data in evaluation metrics\n",
    "print(model_history.history.keys())"
   ]
  },
  {
   "cell_type": "code",
   "execution_count": 106,
   "metadata": {},
   "outputs": [
    {
     "data": {
      "image/png": "[encoded data removed]",
      "text/plain": [
       "<Figure size 432x288 with 1 Axes>"
      ]
     },
     "metadata": {
      "needs_background": "light"
     },
     "output_type": "display_data"
    }
   ],
   "source": [
    "#SUMMARIZE history for accuracy\n",
    "import matplotlib.pyplot as plt\n",
    "plt.plot(model_history.history['accuracy'])\n",
    "plt.plot(model_history.history['val_accuracy'])\n",
    "plt.title('model_accuracy')\n",
    "plt.ylabel('accuracy')\n",
    "plt.xlabel('epochs')\n",
    "plt.legend(['train','test'],loc='upper left')\n",
    "plt.show()"
   ]
  },
  {
   "cell_type": "code",
   "execution_count": 109,
   "metadata": {},
   "outputs": [],
   "source": [
    "# ACCURACY INCREASED AS THE NUMBER OF EPOCHS REACHED NEAR 80 - 100"
   ]
  },
  {
   "cell_type": "code",
   "execution_count": 110,
   "metadata": {},
   "outputs": [
    {
     "data": {
      "image/png": "[encoded data removed]",
      "text/plain": [
       "<Figure size 432x288 with 1 Axes>"
      ]
     },
     "metadata": {
      "needs_background": "light"
     },
     "output_type": "display_data"
    }
   ],
   "source": [
    "# SUMMARIZE THE LOSS\n",
    "import matplotlib.pyplot as plt\n",
    "plt.plot(model_history.history['loss'])\n",
    "plt.plot(model_history.history['val_loss'])\n",
    "plt.title('model_loss')\n",
    "plt.ylabel('loss')\n",
    "plt.xlabel('epochs')\n",
    "plt.legend(['train','test'],loc='upper left')\n",
    "plt.show()"
   ]
  },
  {
   "cell_type": "code",
   "execution_count": 111,
   "metadata": {},
   "outputs": [],
   "source": [
    "#  LOSS DECREASED AS THE NUMBER OF EPOCHS REACHED 80 TO 100"
   ]
  }
 ],
 "metadata": {
  "kernelspec": {
   "display_name": "Python 3",
   "language": "python",
   "name": "python3"
  }
 },
 "nbformat": 4,
 "nbformat_minor": 4
}
