{
  "nbformat": 4,
  "nbformat_minor": 0,
  "metadata": {
    "colab": {
      "name": "Installing & Runing pyspark in Collab and Local.ipynb",
      "provenance": []
    },
    "kernelspec": {
      "name": "python3",
      "display_name": "Python 3"
    },
    "accelerator": "GPU"
  },
  "cells": [
    {
      "cell_type": "code",
      "metadata": {
        "id": "IFePAv04uAuV"
      },
      "source": [
        "!apt-get install openjdk-8-jdk-headless -qq > /dev/null\r\n",
        "!wget -q https://www-us.apache.org/dist/spark/spark-3.0.1/spark-3.0.1-bin-hadoop2.7.tgz\r\n",
        "!tar xf spark-3.0.1-bin-hadoop2.7.tgz\r\n",
        "!pip install -q findspark"
      ],
      "execution_count": 1,
      "outputs": []
    },
    {
      "cell_type": "code",
      "metadata": {
        "colab": {
          "base_uri": "https://localhost:8080/"
        },
        "id": "Qb7x81Wku1BY",
        "outputId": "b9cb37f6-ce43-45a7-9449-0d8bd1886597"
      },
      "source": [
        "!ls /usr/lib/jvm"
      ],
      "execution_count": 2,
      "outputs": [
        {
          "output_type": "stream",
          "text": [
            "default-java\t\t   java-11-openjdk-amd64     java-8-openjdk-amd64\n",
            "java-1.11.0-openjdk-amd64  java-1.8.0-openjdk-amd64\n"
          ],
          "name": "stdout"
        }
      ]
    },
    {
      "cell_type": "code",
      "metadata": {
        "colab": {
          "base_uri": "https://localhost:8080/"
        },
        "id": "oDof3m7Vu5Mo",
        "outputId": "4b05fbd4-73a0-4e2b-821e-b9a36d59ec18"
      },
      "source": [
        "!pip install -U pyarrow # when we want to bring data frame spark dataframe to pandas data frame overcomes serialization"
      ],
      "execution_count": 3,
      "outputs": [
        {
          "output_type": "stream",
          "text": [
            "Collecting pyarrow\n",
            "\u001b[?25l  Downloading https://files.pythonhosted.org/packages/d7/e1/27958a70848f8f7089bff8d6ebe42519daf01f976d28b481e1bfd52c8097/pyarrow-2.0.0-cp36-cp36m-manylinux2014_x86_64.whl (17.7MB)\n",
            "\u001b[K     |████████████████████████████████| 17.7MB 212kB/s \n",
            "\u001b[?25hRequirement already satisfied, skipping upgrade: numpy>=1.14 in /usr/local/lib/python3.6/dist-packages (from pyarrow) (1.19.5)\n",
            "Installing collected packages: pyarrow\n",
            "  Found existing installation: pyarrow 0.14.1\n",
            "    Uninstalling pyarrow-0.14.1:\n",
            "      Successfully uninstalled pyarrow-0.14.1\n",
            "Successfully installed pyarrow-2.0.0\n"
          ],
          "name": "stdout"
        }
      ]
    },
    {
      "cell_type": "code",
      "metadata": {
        "id": "ALeq7erRu-vC"
      },
      "source": [
        "import os\r\n",
        "os.environ[\"JAVA_HOME\"] = \"/usr/lib/jvm/java-8-openjdk-amd64\"\r\n",
        "os.environ[\"SPARK_HOME\"] = \"/content/spark-3.0.1-bin-hadoop2.7\""
      ],
      "execution_count": 4,
      "outputs": []
    },
    {
      "cell_type": "code",
      "metadata": {
        "id": "HVqPvYrKvVVk"
      },
      "source": [
        "import findspark\r\n",
        "findspark.init()\r\n",
        "findspark.find()\r\n",
        "from pyspark.sql import SparkSession\r\n",
        "\r\n",
        "spark = SparkSession.builder\\\r\n",
        "        .master(\"local\")\\\r\n",
        "        .appName(\"Colab\")\\\r\n",
        "        .config('spark.ui.port', '4050')\\\r\n",
        "        .getOrCreate()\r\n"
      ],
      "execution_count": 5,
      "outputs": []
    },
    {
      "cell_type": "code",
      "metadata": {
        "id": "p2w_6B_5zmAc"
      },
      "source": [
        "import sys,tempfile,urllib\r\n",
        "import os\r\n",
        "import urllib.request\r\n",
        "from pyspark.sql.functions import *"
      ],
      "execution_count": 16,
      "outputs": []
    },
    {
      "cell_type": "code",
      "metadata": {
        "id": "_GALVvPKVSi2"
      },
      "source": [
        "BASE_DIR='/tmp'\r\n",
        "OUTPUT_FILE=os.path.join(BASE_DIR,\"credit_data.csv\")"
      ],
      "execution_count": 17,
      "outputs": []
    },
    {
      "cell_type": "code",
      "metadata": {
        "id": "oargjpZcX3C-"
      },
      "source": [
        "credit_data=urllib.request.urlretrieve(\"https://archive.ics.uci.edu/ml/machine-learning-databases/credit-screening/crx.data\",OUTPUT_FILE)"
      ],
      "execution_count": 19,
      "outputs": []
    },
    {
      "cell_type": "code",
      "metadata": {
        "colab": {
          "base_uri": "https://localhost:8080/"
        },
        "id": "hcoD6TrAYUNh",
        "outputId": "b8f49a8c-9339-4952-e834-dd52338eb642"
      },
      "source": [
        "!ls /tmp"
      ],
      "execution_count": 24,
      "outputs": [
        {
          "output_type": "stream",
          "text": [
            "blockmgr-30051be2-5c54-4c71-84ba-a60c0c1587c0\n",
            "credit_data.csv\n",
            "dap_multiplexer.e499bcd5700c.root.log.INFO.20210117-030623.50\n",
            "dap_multiplexer.INFO\n",
            "debugger_179b6ea5iz\n",
            "hsperfdata_root\n",
            "initgoogle_syslog_dir.0\n",
            "liblz4-java-8851006725030158386.so\n",
            "liblz4-java-8851006725030158386.so.lck\n",
            "spark-4a075995-02ca-448d-87da-dac7f881df05\n",
            "spark-8e4b0067-7ced-4070-9714-de2abe21fa6f\n"
          ],
          "name": "stdout"
        }
      ]
    },
    {
      "cell_type": "code",
      "metadata": {
        "id": "SY28N8F3ZVdO"
      },
      "source": [
        "credit_df=spark.read.option(\"inferSchema\",\"true\").csv(\"/tmp/credit_data.csv\",header=False)"
      ],
      "execution_count": 21,
      "outputs": []
    },
    {
      "cell_type": "code",
      "metadata": {
        "colab": {
          "base_uri": "https://localhost:8080/"
        },
        "id": "Rqm-Ki7OZoT1",
        "outputId": "1eca2eaa-6c15-4667-aa39-4f2f0ae3b69e"
      },
      "source": [
        "credit_df.show()"
      ],
      "execution_count": 22,
      "outputs": [
        {
          "output_type": "stream",
          "text": [
            "+---+-----+------+---+---+---+---+-----+---+---+----+----+----+-----+-----+----+\n",
            "|_c0|  _c1|   _c2|_c3|_c4|_c5|_c6|  _c7|_c8|_c9|_c10|_c11|_c12| _c13| _c14|_c15|\n",
            "+---+-----+------+---+---+---+---+-----+---+---+----+----+----+-----+-----+----+\n",
            "|  b|30.83|   0.0|  u|  g|  w|  v| 1.25|  t|  t|   1|   f|   g|00202|    0|   +|\n",
            "|  a|58.67|  4.46|  u|  g|  q|  h| 3.04|  t|  t|   6|   f|   g|00043|  560|   +|\n",
            "|  a|24.50|   0.5|  u|  g|  q|  h|  1.5|  t|  f|   0|   f|   g|00280|  824|   +|\n",
            "|  b|27.83|  1.54|  u|  g|  w|  v| 3.75|  t|  t|   5|   t|   g|00100|    3|   +|\n",
            "|  b|20.17| 5.625|  u|  g|  w|  v| 1.71|  t|  f|   0|   f|   s|00120|    0|   +|\n",
            "|  b|32.08|   4.0|  u|  g|  m|  v|  2.5|  t|  f|   0|   t|   g|00360|    0|   +|\n",
            "|  b|33.17|  1.04|  u|  g|  r|  h|  6.5|  t|  f|   0|   t|   g|00164|31285|   +|\n",
            "|  a|22.92|11.585|  u|  g| cc|  v| 0.04|  t|  f|   0|   f|   g|00080| 1349|   +|\n",
            "|  b|54.42|   0.5|  y|  p|  k|  h| 3.96|  t|  f|   0|   f|   g|00180|  314|   +|\n",
            "|  b|42.50| 4.915|  y|  p|  w|  v|3.165|  t|  f|   0|   t|   g|00052| 1442|   +|\n",
            "|  b|22.08|  0.83|  u|  g|  c|  h|2.165|  f|  f|   0|   t|   g|00128|    0|   +|\n",
            "|  b|29.92| 1.835|  u|  g|  c|  h|4.335|  t|  f|   0|   f|   g|00260|  200|   +|\n",
            "|  a|38.25|   6.0|  u|  g|  k|  v|  1.0|  t|  f|   0|   t|   g|00000|    0|   +|\n",
            "|  b|48.08|  6.04|  u|  g|  k|  v| 0.04|  f|  f|   0|   f|   g|00000| 2690|   +|\n",
            "|  a|45.83|  10.5|  u|  g|  q|  v|  5.0|  t|  t|   7|   t|   g|00000|    0|   +|\n",
            "|  b|36.67| 4.415|  y|  p|  k|  v| 0.25|  t|  t|  10|   t|   g|00320|    0|   +|\n",
            "|  b|28.25| 0.875|  u|  g|  m|  v| 0.96|  t|  t|   3|   t|   g|00396|    0|   +|\n",
            "|  a|23.25| 5.875|  u|  g|  q|  v| 3.17|  t|  t|  10|   f|   g|00120|  245|   +|\n",
            "|  b|21.83|  0.25|  u|  g|  d|  h|0.665|  t|  f|   0|   t|   g|00000|    0|   +|\n",
            "|  a|19.17| 8.585|  u|  g| cc|  h| 0.75|  t|  t|   7|   f|   g|00096|    0|   +|\n",
            "+---+-----+------+---+---+---+---+-----+---+---+----+----+----+-----+-----+----+\n",
            "only showing top 20 rows\n",
            "\n"
          ],
          "name": "stdout"
        }
      ]
    },
    {
      "cell_type": "code",
      "metadata": {
        "colab": {
          "base_uri": "https://localhost:8080/"
        },
        "id": "j8g0RE2WZrDa",
        "outputId": "24a1a51d-2714-4cea-fc3a-0b3423d018de"
      },
      "source": [
        "credit_df.count()"
      ],
      "execution_count": 23,
      "outputs": [
        {
          "output_type": "execute_result",
          "data": {
            "text/plain": [
              "690"
            ]
          },
          "metadata": {
            "tags": []
          },
          "execution_count": 23
        }
      ]
    }
  ]
}