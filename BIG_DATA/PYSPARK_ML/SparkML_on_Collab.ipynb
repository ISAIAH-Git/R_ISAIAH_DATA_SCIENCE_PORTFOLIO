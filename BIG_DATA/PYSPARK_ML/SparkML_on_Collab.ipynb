{
  "nbformat": 4,
  "nbformat_minor": 0,
  "metadata": {
    "colab": {
      "name": "SparkML on Collab",
      "provenance": []
    },
    "kernelspec": {
      "name": "python3",
      "display_name": "Python 3"
    },
    "accelerator": "GPU"
  },
  "cells": [
    {
      "cell_type": "code",
      "metadata": {
        "colab": {
          "base_uri": "https://localhost:8080/"
        },
        "id": "i_pCxJLIor-g",
        "outputId": "29a05b78-35eb-4707-e6d2-ceefc24b483f"
      },
      "source": [
        "!nvidia-smi"
      ],
      "execution_count": 79,
      "outputs": [
        {
          "output_type": "stream",
          "text": [
            "Tue Jan 19 13:29:31 2021       \n",
            "+-----------------------------------------------------------------------------+\n",
            "| NVIDIA-SMI 460.27.04    Driver Version: 418.67       CUDA Version: 10.1     |\n",
            "|-------------------------------+----------------------+----------------------+\n",
            "| GPU  Name        Persistence-M| Bus-Id        Disp.A | Volatile Uncorr. ECC |\n",
            "| Fan  Temp  Perf  Pwr:Usage/Cap|         Memory-Usage | GPU-Util  Compute M. |\n",
            "|                               |                      |               MIG M. |\n",
            "|===============================+======================+======================|\n",
            "|   0  Tesla T4            Off  | 00000000:00:04.0 Off |                    0 |\n",
            "| N/A   46C    P0    28W /  70W |   1035MiB / 15079MiB |      0%      Default |\n",
            "|                               |                      |                 ERR! |\n",
            "+-------------------------------+----------------------+----------------------+\n",
            "                                                                               \n",
            "+-----------------------------------------------------------------------------+\n",
            "| Processes:                                                                  |\n",
            "|  GPU   GI   CI        PID   Type   Process name                  GPU Memory |\n",
            "|        ID   ID                                                   Usage      |\n",
            "|=============================================================================|\n",
            "|  No running processes found                                                 |\n",
            "+-----------------------------------------------------------------------------+\n"
          ],
          "name": "stdout"
        }
      ]
    },
    {
      "cell_type": "code",
      "metadata": {
        "id": "IFePAv04uAuV"
      },
      "source": [
        "!apt-get install openjdk-8-jdk-headless -qq > /dev/null\r\n",
        "!wget -q https://downloads.apache.org/spark/spark-2.4.7/spark-2.4.7-bin-hadoop2.7.tgz\r\n",
        "!tar xf spark-2.4.7-bin-hadoop2.7.tgz\r\n",
        "!pip install -q findspark"
      ],
      "execution_count": 80,
      "outputs": []
    },
    {
      "cell_type": "code",
      "metadata": {
        "id": "7EJ4VUOupXtE"
      },
      "source": [
        "#LOADING CUDA RAPIDS FOR ACCELERATING THE DISTRIBUTED ML PROCESS TO DECREASE LATENCY"
      ],
      "execution_count": 81,
      "outputs": []
    },
    {
      "cell_type": "code",
      "metadata": {
        "colab": {
          "base_uri": "https://localhost:8080/"
        },
        "id": "CYKEQCQdo8AY",
        "outputId": "097f9e29-7d1c-433d-83ce-9aa06d4a22fb"
      },
      "source": [
        "!wget https://repo1.maven.org/maven2/ai/rapids/cudf/0.9.2/cudf-0.9.2-cuda10-1.jar\r\n",
        "!wget https://repo1.maven.org/maven2/ai/rapids/xgboost4j_2.x/1.0.0-Beta5/xgboost4j_2.x-1.0.0-Beta5.jar\r\n",
        "!wget https://repo1.maven.org/maven2/ai/rapids/xgboost4j-spark_2.x/1.0.0-Beta5/xgboost4j-spark_2.x-1.0.0-Beta5.jar\r\n"
      ],
      "execution_count": 82,
      "outputs": [
        {
          "output_type": "stream",
          "text": [
            "--2021-01-19 13:29:47--  https://repo1.maven.org/maven2/ai/rapids/cudf/0.9.2/cudf-0.9.2-cuda10-1.jar\n",
            "Resolving repo1.maven.org (repo1.maven.org)... 199.232.192.209, 199.232.196.209\n",
            "Connecting to repo1.maven.org (repo1.maven.org)|199.232.192.209|:443... connected.\n",
            "HTTP request sent, awaiting response... 200 OK\n",
            "Length: 64759406 (62M) [application/java-archive]\n",
            "Saving to: ‘cudf-0.9.2-cuda10-1.jar.1’\n",
            "\n",
            "cudf-0.9.2-cuda10-1 100%[===================>]  61.76M   212MB/s    in 0.3s    \n",
            "\n",
            "2021-01-19 13:29:47 (212 MB/s) - ‘cudf-0.9.2-cuda10-1.jar.1’ saved [64759406/64759406]\n",
            "\n",
            "--2021-01-19 13:29:48--  https://repo1.maven.org/maven2/ai/rapids/xgboost4j_2.x/1.0.0-Beta5/xgboost4j_2.x-1.0.0-Beta5.jar\n",
            "Resolving repo1.maven.org (repo1.maven.org)... 199.232.192.209, 199.232.196.209\n",
            "Connecting to repo1.maven.org (repo1.maven.org)|199.232.192.209|:443... connected.\n",
            "HTTP request sent, awaiting response... 200 OK\n",
            "Length: 349225621 (333M) [application/java-archive]\n",
            "Saving to: ‘xgboost4j_2.x-1.0.0-Beta5.jar.2’\n",
            "\n",
            "xgboost4j_2.x-1.0.0 100%[===================>] 333.05M   271MB/s    in 1.2s    \n",
            "\n",
            "2021-01-19 13:29:49 (271 MB/s) - ‘xgboost4j_2.x-1.0.0-Beta5.jar.2’ saved [349225621/349225621]\n",
            "\n",
            "--2021-01-19 13:29:49--  https://repo1.maven.org/maven2/ai/rapids/xgboost4j-spark_2.x/1.0.0-Beta5/xgboost4j-spark_2.x-1.0.0-Beta5.jar\n",
            "Resolving repo1.maven.org (repo1.maven.org)... 199.232.192.209, 199.232.196.209\n",
            "Connecting to repo1.maven.org (repo1.maven.org)|199.232.192.209|:443... connected.\n",
            "HTTP request sent, awaiting response... 200 OK\n",
            "Length: 4829218 (4.6M) [application/java-archive]\n",
            "Saving to: ‘xgboost4j-spark_2.x-1.0.0-Beta5.jar.2’\n",
            "\n",
            "xgboost4j-spark_2.x 100%[===================>]   4.61M  --.-KB/s    in 0.06s   \n",
            "\n",
            "2021-01-19 13:29:49 (72.9 MB/s) - ‘xgboost4j-spark_2.x-1.0.0-Beta5.jar.2’ saved [4829218/4829218]\n",
            "\n"
          ],
          "name": "stdout"
        }
      ]
    },
    {
      "cell_type": "code",
      "metadata": {
        "colab": {
          "base_uri": "https://localhost:8080/"
        },
        "id": "e7dHgENPpq-s",
        "outputId": "09c7ca69-3324-4e82-9869-85ad47a97d81"
      },
      "source": [
        "!ls\r\n",
        "!pwd"
      ],
      "execution_count": 83,
      "outputs": [
        {
          "output_type": "stream",
          "text": [
            "covtype_test.parquet\t\t spark-3.0.1-bin-hadoop2.7\n",
            "covtype_train.parquet\t\t spark-3.0.1-bin-hadoop2.7.tgz\n",
            "cudf-0.9.2-cuda10-1.jar\t\t xgboost4j_2.x-1.0.0-Beta5.jar\n",
            "cudf-0.9.2-cuda10-1.jar.1\t xgboost4j_2.x-1.0.0-Beta5.jar.1\n",
            "sample_data\t\t\t xgboost4j_2.x-1.0.0-Beta5.jar.2\n",
            "spark-2.4.7-bin-hadoop2.7\t xgboost4j-spark_2.x-1.0.0-Beta5.jar\n",
            "spark-2.4.7-bin-hadoop2.7.tgz\t xgboost4j-spark_2.x-1.0.0-Beta5.jar.1\n",
            "spark-2.4.7-bin-hadoop2.7.tgz.1  xgboost4j-spark_2.x-1.0.0-Beta5.jar.2\n",
            "spark-2.4.7-bin-hadoop2.7.tgz.2\n",
            "/content\n"
          ],
          "name": "stdout"
        }
      ]
    },
    {
      "cell_type": "code",
      "metadata": {
        "colab": {
          "base_uri": "https://localhost:8080/"
        },
        "id": "Qb7x81Wku1BY",
        "outputId": "99386f50-f241-4a85-e0c5-bff8e9afd846"
      },
      "source": [
        "!ls /usr/lib/jvm"
      ],
      "execution_count": 84,
      "outputs": [
        {
          "output_type": "stream",
          "text": [
            "default-java\t\t   java-11-openjdk-amd64     java-8-openjdk-amd64\n",
            "java-1.11.0-openjdk-amd64  java-1.8.0-openjdk-amd64\n"
          ],
          "name": "stdout"
        }
      ]
    },
    {
      "cell_type": "code",
      "metadata": {
        "colab": {
          "base_uri": "https://localhost:8080/"
        },
        "id": "oDof3m7Vu5Mo",
        "outputId": "5b3da402-b0d4-4ca9-ec2f-c0ba9aeee6d1"
      },
      "source": [
        "!pip install -U pyarrow # when we want to bring data frame spark dataframe to pandas data frame overcomes serialization"
      ],
      "execution_count": 85,
      "outputs": [
        {
          "output_type": "stream",
          "text": [
            "Requirement already up-to-date: pyarrow in /usr/local/lib/python3.6/dist-packages (2.0.0)\n",
            "Requirement already satisfied, skipping upgrade: numpy>=1.14 in /usr/local/lib/python3.6/dist-packages (from pyarrow) (1.19.5)\n"
          ],
          "name": "stdout"
        }
      ]
    },
    {
      "cell_type": "code",
      "metadata": {
        "id": "ALeq7erRu-vC"
      },
      "source": [
        "import os\r\n",
        "os.environ[\"JAVA_HOME\"] = \"/usr/lib/jvm/java-8-openjdk-amd64\"\r\n",
        "os.environ[\"SPARK_HOME\"] = \"/content/spark-2.4.7-bin-hadoop2.7\""
      ],
      "execution_count": 86,
      "outputs": []
    },
    {
      "cell_type": "code",
      "metadata": {
        "id": "XxmSV0CKqCHf"
      },
      "source": [
        "os.environ['PYSPARK_SUBMIT_ARGS'] = '--jars /content/cudf-0.9.2-cuda10-1.jar,/content/xgboost4j_2.x-1.0.0-Beta5.jar,/content/xgboost4j-spark_2.x-1.0.0-Beta5.jar pyspark-shell'"
      ],
      "execution_count": 87,
      "outputs": []
    },
    {
      "cell_type": "code",
      "metadata": {
        "id": "HVqPvYrKvVVk"
      },
      "source": [
        "import findspark\r\n",
        "findspark.init()\r\n",
        "findspark.find()\r\n",
        "from pyspark.sql import SparkSession\r\n",
        "\r\n",
        "spark = SparkSession.builder\\\r\n",
        "        .master(\"local\")\\\r\n",
        "        .appName(\"Colab\")\\\r\n",
        "        .config('spark.ui.port', '4050')\\\r\n",
        "        .getOrCreate()\r\n",
        "#spark=SparkSession.builder.master(\"local[*]\").getOrCreate()\r\n",
        "#spark.conf.set(\"spark.executor.memory\",\"2g\")\r\n",
        "#spark.conf.set(\"spark.driver.memory\",\"2g\")\r\n",
        "spark.sparkContext.addPyFile('/content/xgboost4j-spark_2.x-1.0.0-Beta5.jar')"
      ],
      "execution_count": 88,
      "outputs": []
    },
    {
      "cell_type": "code",
      "metadata": {
        "id": "p2w_6B_5zmAc"
      },
      "source": [
        "import sys,tempfile,urllib\r\n",
        "import os\r\n",
        "import urllib.request\r\n",
        "from pyspark.sql.functions import *\r\n",
        "from ml.dmlc.xgboost4j.scala.spark import XGBoostClassificationModel, XGBoostClassifier\r\n",
        "from ml.dmlc.xgboost4j.scala.spark.rapids import GpuDataReader\r\n",
        "from pyspark.ml.evaluation import MulticlassClassificationEvaluator\r\n",
        "import numpy as np\r\n",
        "import pandas as pd"
      ],
      "execution_count": 89,
      "outputs": []
    },
    {
      "cell_type": "code",
      "metadata": {
        "id": "sMgY9t91r-1F"
      },
      "source": [
        "from sklearn.datasets import fetch_covtype\r\n",
        "from sklearn.datasets import fetch_openml\r\n",
        "covtyp = fetch_openml('covertype',version=4)"
      ],
      "execution_count": 90,
      "outputs": []
    },
    {
      "cell_type": "code",
      "metadata": {
        "colab": {
          "base_uri": "https://localhost:8080/"
        },
        "id": "9n5k7oozsY9W",
        "outputId": "ddf19f8f-2cc2-4af2-cf2b-e126bcefeb9f"
      },
      "source": [
        "covtyp.data.shape #54 COLUMNS AND A MILLION RECORDS."
      ],
      "execution_count": 91,
      "outputs": [
        {
          "output_type": "execute_result",
          "data": {
            "text/plain": [
              "(581012, 54)"
            ]
          },
          "metadata": {
            "tags": []
          },
          "execution_count": 91
        }
      ]
    },
    {
      "cell_type": "code",
      "metadata": {
        "colab": {
          "base_uri": "https://localhost:8080/"
        },
        "id": "LxVdoayQwAWL",
        "outputId": "cd8be8dc-77d8-4935-e1f6-8012d6382bb4"
      },
      "source": [
        "np.unique(covtyp.target) #7 classes"
      ],
      "execution_count": 92,
      "outputs": [
        {
          "output_type": "execute_result",
          "data": {
            "text/plain": [
              "array(['1', '2', '3', '4', '5', '6', '7'], dtype=object)"
            ]
          },
          "metadata": {
            "tags": []
          },
          "execution_count": 92
        }
      ]
    },
    {
      "cell_type": "code",
      "metadata": {
        "id": "sYCuX9ajwKAs"
      },
      "source": [
        "cov_df=pd.DataFrame(data=np.c_[covtyp['data'],covtyp['target']],columns=covtyp['feature_names']+['target'])"
      ],
      "execution_count": 93,
      "outputs": []
    },
    {
      "cell_type": "code",
      "metadata": {
        "colab": {
          "base_uri": "https://localhost:8080/"
        },
        "id": "eIyKsGp9xRKW",
        "outputId": "3c81096d-69dc-4c14-b4a8-717b2564612b"
      },
      "source": [
        "cov_df.memory_usage(index=True).sum()"
      ],
      "execution_count": 94,
      "outputs": [
        {
          "output_type": "execute_result",
          "data": {
            "text/plain": [
              "255645408"
            ]
          },
          "metadata": {
            "tags": []
          },
          "execution_count": 94
        }
      ]
    },
    {
      "cell_type": "code",
      "metadata": {
        "colab": {
          "base_uri": "https://localhost:8080/",
          "height": 215
        },
        "id": "knVvrEMgxWhY",
        "outputId": "86bf61e0-a4e8-4de6-e3c0-76ce8a6a9981"
      },
      "source": [
        "cov_df.head()"
      ],
      "execution_count": 95,
      "outputs": [
        {
          "output_type": "execute_result",
          "data": {
            "text/html": [
              "<div>\n",
              "<style scoped>\n",
              "    .dataframe tbody tr th:only-of-type {\n",
              "        vertical-align: middle;\n",
              "    }\n",
              "\n",
              "    .dataframe tbody tr th {\n",
              "        vertical-align: top;\n",
              "    }\n",
              "\n",
              "    .dataframe thead th {\n",
              "        text-align: right;\n",
              "    }\n",
              "</style>\n",
              "<table border=\"1\" class=\"dataframe\">\n",
              "  <thead>\n",
              "    <tr style=\"text-align: right;\">\n",
              "      <th></th>\n",
              "      <th>Elevation</th>\n",
              "      <th>Aspect</th>\n",
              "      <th>Slope</th>\n",
              "      <th>Horizontal_Distance_To_Hydrology</th>\n",
              "      <th>Vertical_Distance_To_Hydrology</th>\n",
              "      <th>Horizontal_Distance_To_Roadways</th>\n",
              "      <th>Hillshade_9am</th>\n",
              "      <th>Hillshade_Noon</th>\n",
              "      <th>Hillshade_3pm</th>\n",
              "      <th>Horizontal_Distance_To_Fire_Points</th>\n",
              "      <th>Wilderness_Area1</th>\n",
              "      <th>Wilderness_Area2</th>\n",
              "      <th>Wilderness_Area3</th>\n",
              "      <th>Wilderness_Area4</th>\n",
              "      <th>Soil_Type1</th>\n",
              "      <th>Soil_Type2</th>\n",
              "      <th>Soil_Type3</th>\n",
              "      <th>Soil_Type4</th>\n",
              "      <th>Soil_Type5</th>\n",
              "      <th>Soil_Type6</th>\n",
              "      <th>Soil_Type7</th>\n",
              "      <th>Soil_Type8</th>\n",
              "      <th>Soil_Type9</th>\n",
              "      <th>Soil_Type10</th>\n",
              "      <th>Soil_Type11</th>\n",
              "      <th>Soil_Type12</th>\n",
              "      <th>Soil_Type13</th>\n",
              "      <th>Soil_Type14</th>\n",
              "      <th>Soil_Type15</th>\n",
              "      <th>Soil_Type16</th>\n",
              "      <th>Soil_Type17</th>\n",
              "      <th>Soil_Type18</th>\n",
              "      <th>Soil_Type19</th>\n",
              "      <th>Soil_Type20</th>\n",
              "      <th>Soil_Type21</th>\n",
              "      <th>Soil_Type22</th>\n",
              "      <th>Soil_Type23</th>\n",
              "      <th>Soil_Type24</th>\n",
              "      <th>Soil_Type25</th>\n",
              "      <th>Soil_Type26</th>\n",
              "      <th>Soil_Type27</th>\n",
              "      <th>Soil_Type28</th>\n",
              "      <th>Soil_Type29</th>\n",
              "      <th>Soil_Type30</th>\n",
              "      <th>Soil_Type31</th>\n",
              "      <th>Soil_Type32</th>\n",
              "      <th>Soil_Type33</th>\n",
              "      <th>Soil_Type34</th>\n",
              "      <th>Soil_Type35</th>\n",
              "      <th>Soil_Type36</th>\n",
              "      <th>Soil_Type37</th>\n",
              "      <th>Soil_Type38</th>\n",
              "      <th>Soil_Type39</th>\n",
              "      <th>Soil_Type40</th>\n",
              "      <th>target</th>\n",
              "    </tr>\n",
              "  </thead>\n",
              "  <tbody>\n",
              "    <tr>\n",
              "      <th>0</th>\n",
              "      <td>2596</td>\n",
              "      <td>51</td>\n",
              "      <td>3</td>\n",
              "      <td>258</td>\n",
              "      <td>0</td>\n",
              "      <td>510</td>\n",
              "      <td>221</td>\n",
              "      <td>232</td>\n",
              "      <td>148</td>\n",
              "      <td>6279</td>\n",
              "      <td>1</td>\n",
              "      <td>0</td>\n",
              "      <td>0</td>\n",
              "      <td>0</td>\n",
              "      <td>0</td>\n",
              "      <td>0</td>\n",
              "      <td>0</td>\n",
              "      <td>0</td>\n",
              "      <td>0</td>\n",
              "      <td>0</td>\n",
              "      <td>0</td>\n",
              "      <td>0</td>\n",
              "      <td>0</td>\n",
              "      <td>0</td>\n",
              "      <td>0</td>\n",
              "      <td>0</td>\n",
              "      <td>0</td>\n",
              "      <td>0</td>\n",
              "      <td>0</td>\n",
              "      <td>0</td>\n",
              "      <td>0</td>\n",
              "      <td>0</td>\n",
              "      <td>0</td>\n",
              "      <td>0</td>\n",
              "      <td>0</td>\n",
              "      <td>0</td>\n",
              "      <td>0</td>\n",
              "      <td>0</td>\n",
              "      <td>0</td>\n",
              "      <td>0</td>\n",
              "      <td>0</td>\n",
              "      <td>0</td>\n",
              "      <td>1</td>\n",
              "      <td>0</td>\n",
              "      <td>0</td>\n",
              "      <td>0</td>\n",
              "      <td>0</td>\n",
              "      <td>0</td>\n",
              "      <td>0</td>\n",
              "      <td>0</td>\n",
              "      <td>0</td>\n",
              "      <td>0</td>\n",
              "      <td>0</td>\n",
              "      <td>0</td>\n",
              "      <td>5</td>\n",
              "    </tr>\n",
              "    <tr>\n",
              "      <th>1</th>\n",
              "      <td>2590</td>\n",
              "      <td>56</td>\n",
              "      <td>2</td>\n",
              "      <td>212</td>\n",
              "      <td>-6</td>\n",
              "      <td>390</td>\n",
              "      <td>220</td>\n",
              "      <td>235</td>\n",
              "      <td>151</td>\n",
              "      <td>6225</td>\n",
              "      <td>1</td>\n",
              "      <td>0</td>\n",
              "      <td>0</td>\n",
              "      <td>0</td>\n",
              "      <td>0</td>\n",
              "      <td>0</td>\n",
              "      <td>0</td>\n",
              "      <td>0</td>\n",
              "      <td>0</td>\n",
              "      <td>0</td>\n",
              "      <td>0</td>\n",
              "      <td>0</td>\n",
              "      <td>0</td>\n",
              "      <td>0</td>\n",
              "      <td>0</td>\n",
              "      <td>0</td>\n",
              "      <td>0</td>\n",
              "      <td>0</td>\n",
              "      <td>0</td>\n",
              "      <td>0</td>\n",
              "      <td>0</td>\n",
              "      <td>0</td>\n",
              "      <td>0</td>\n",
              "      <td>0</td>\n",
              "      <td>0</td>\n",
              "      <td>0</td>\n",
              "      <td>0</td>\n",
              "      <td>0</td>\n",
              "      <td>0</td>\n",
              "      <td>0</td>\n",
              "      <td>0</td>\n",
              "      <td>0</td>\n",
              "      <td>1</td>\n",
              "      <td>0</td>\n",
              "      <td>0</td>\n",
              "      <td>0</td>\n",
              "      <td>0</td>\n",
              "      <td>0</td>\n",
              "      <td>0</td>\n",
              "      <td>0</td>\n",
              "      <td>0</td>\n",
              "      <td>0</td>\n",
              "      <td>0</td>\n",
              "      <td>0</td>\n",
              "      <td>5</td>\n",
              "    </tr>\n",
              "    <tr>\n",
              "      <th>2</th>\n",
              "      <td>2804</td>\n",
              "      <td>139</td>\n",
              "      <td>9</td>\n",
              "      <td>268</td>\n",
              "      <td>65</td>\n",
              "      <td>3180</td>\n",
              "      <td>234</td>\n",
              "      <td>238</td>\n",
              "      <td>135</td>\n",
              "      <td>6121</td>\n",
              "      <td>1</td>\n",
              "      <td>0</td>\n",
              "      <td>0</td>\n",
              "      <td>0</td>\n",
              "      <td>0</td>\n",
              "      <td>0</td>\n",
              "      <td>0</td>\n",
              "      <td>0</td>\n",
              "      <td>0</td>\n",
              "      <td>0</td>\n",
              "      <td>0</td>\n",
              "      <td>0</td>\n",
              "      <td>0</td>\n",
              "      <td>0</td>\n",
              "      <td>0</td>\n",
              "      <td>1</td>\n",
              "      <td>0</td>\n",
              "      <td>0</td>\n",
              "      <td>0</td>\n",
              "      <td>0</td>\n",
              "      <td>0</td>\n",
              "      <td>0</td>\n",
              "      <td>0</td>\n",
              "      <td>0</td>\n",
              "      <td>0</td>\n",
              "      <td>0</td>\n",
              "      <td>0</td>\n",
              "      <td>0</td>\n",
              "      <td>0</td>\n",
              "      <td>0</td>\n",
              "      <td>0</td>\n",
              "      <td>0</td>\n",
              "      <td>0</td>\n",
              "      <td>0</td>\n",
              "      <td>0</td>\n",
              "      <td>0</td>\n",
              "      <td>0</td>\n",
              "      <td>0</td>\n",
              "      <td>0</td>\n",
              "      <td>0</td>\n",
              "      <td>0</td>\n",
              "      <td>0</td>\n",
              "      <td>0</td>\n",
              "      <td>0</td>\n",
              "      <td>2</td>\n",
              "    </tr>\n",
              "    <tr>\n",
              "      <th>3</th>\n",
              "      <td>2785</td>\n",
              "      <td>155</td>\n",
              "      <td>18</td>\n",
              "      <td>242</td>\n",
              "      <td>118</td>\n",
              "      <td>3090</td>\n",
              "      <td>238</td>\n",
              "      <td>238</td>\n",
              "      <td>122</td>\n",
              "      <td>6211</td>\n",
              "      <td>1</td>\n",
              "      <td>0</td>\n",
              "      <td>0</td>\n",
              "      <td>0</td>\n",
              "      <td>0</td>\n",
              "      <td>0</td>\n",
              "      <td>0</td>\n",
              "      <td>0</td>\n",
              "      <td>0</td>\n",
              "      <td>0</td>\n",
              "      <td>0</td>\n",
              "      <td>0</td>\n",
              "      <td>0</td>\n",
              "      <td>0</td>\n",
              "      <td>0</td>\n",
              "      <td>0</td>\n",
              "      <td>0</td>\n",
              "      <td>0</td>\n",
              "      <td>0</td>\n",
              "      <td>0</td>\n",
              "      <td>0</td>\n",
              "      <td>0</td>\n",
              "      <td>0</td>\n",
              "      <td>0</td>\n",
              "      <td>0</td>\n",
              "      <td>0</td>\n",
              "      <td>0</td>\n",
              "      <td>0</td>\n",
              "      <td>0</td>\n",
              "      <td>0</td>\n",
              "      <td>0</td>\n",
              "      <td>0</td>\n",
              "      <td>0</td>\n",
              "      <td>1</td>\n",
              "      <td>0</td>\n",
              "      <td>0</td>\n",
              "      <td>0</td>\n",
              "      <td>0</td>\n",
              "      <td>0</td>\n",
              "      <td>0</td>\n",
              "      <td>0</td>\n",
              "      <td>0</td>\n",
              "      <td>0</td>\n",
              "      <td>0</td>\n",
              "      <td>2</td>\n",
              "    </tr>\n",
              "    <tr>\n",
              "      <th>4</th>\n",
              "      <td>2595</td>\n",
              "      <td>45</td>\n",
              "      <td>2</td>\n",
              "      <td>153</td>\n",
              "      <td>-1</td>\n",
              "      <td>391</td>\n",
              "      <td>220</td>\n",
              "      <td>234</td>\n",
              "      <td>150</td>\n",
              "      <td>6172</td>\n",
              "      <td>1</td>\n",
              "      <td>0</td>\n",
              "      <td>0</td>\n",
              "      <td>0</td>\n",
              "      <td>0</td>\n",
              "      <td>0</td>\n",
              "      <td>0</td>\n",
              "      <td>0</td>\n",
              "      <td>0</td>\n",
              "      <td>0</td>\n",
              "      <td>0</td>\n",
              "      <td>0</td>\n",
              "      <td>0</td>\n",
              "      <td>0</td>\n",
              "      <td>0</td>\n",
              "      <td>0</td>\n",
              "      <td>0</td>\n",
              "      <td>0</td>\n",
              "      <td>0</td>\n",
              "      <td>0</td>\n",
              "      <td>0</td>\n",
              "      <td>0</td>\n",
              "      <td>0</td>\n",
              "      <td>0</td>\n",
              "      <td>0</td>\n",
              "      <td>0</td>\n",
              "      <td>0</td>\n",
              "      <td>0</td>\n",
              "      <td>0</td>\n",
              "      <td>0</td>\n",
              "      <td>0</td>\n",
              "      <td>0</td>\n",
              "      <td>1</td>\n",
              "      <td>0</td>\n",
              "      <td>0</td>\n",
              "      <td>0</td>\n",
              "      <td>0</td>\n",
              "      <td>0</td>\n",
              "      <td>0</td>\n",
              "      <td>0</td>\n",
              "      <td>0</td>\n",
              "      <td>0</td>\n",
              "      <td>0</td>\n",
              "      <td>0</td>\n",
              "      <td>5</td>\n",
              "    </tr>\n",
              "  </tbody>\n",
              "</table>\n",
              "</div>"
            ],
            "text/plain": [
              "  Elevation Aspect Slope  ... Soil_Type39 Soil_Type40 target\n",
              "0      2596     51     3  ...           0           0      5\n",
              "1      2590     56     2  ...           0           0      5\n",
              "2      2804    139     9  ...           0           0      2\n",
              "3      2785    155    18  ...           0           0      2\n",
              "4      2595     45     2  ...           0           0      5\n",
              "\n",
              "[5 rows x 55 columns]"
            ]
          },
          "metadata": {
            "tags": []
          },
          "execution_count": 95
        }
      ]
    },
    {
      "cell_type": "code",
      "metadata": {
        "colab": {
          "base_uri": "https://localhost:8080/"
        },
        "id": "2oRf9_5ZxYhs",
        "outputId": "4316d606-447a-43fb-952a-b91f2f29e494"
      },
      "source": [
        "print(\"Rows:\",cov_df.shape[0])\r\n",
        "print(\"Columns:\",cov_df.shape[1])"
      ],
      "execution_count": 96,
      "outputs": [
        {
          "output_type": "stream",
          "text": [
            "Rows: 581012\n",
            "Columns: 55\n"
          ],
          "name": "stdout"
        }
      ]
    },
    {
      "cell_type": "code",
      "metadata": {
        "colab": {
          "base_uri": "https://localhost:8080/"
        },
        "id": "klOj8rO2xkiO",
        "outputId": "3d9a6a27-7eaa-4d1a-a625-137df945b816"
      },
      "source": [
        "cov_df.target.value_counts()"
      ],
      "execution_count": 97,
      "outputs": [
        {
          "output_type": "execute_result",
          "data": {
            "text/plain": [
              "2    283301\n",
              "1    211840\n",
              "3     35754\n",
              "7     20510\n",
              "6     17367\n",
              "5      9493\n",
              "4      2747\n",
              "Name: target, dtype: int64"
            ]
          },
          "metadata": {
            "tags": []
          },
          "execution_count": 97
        }
      ]
    },
    {
      "cell_type": "code",
      "metadata": {
        "colab": {
          "base_uri": "https://localhost:8080/"
        },
        "id": "r6fqnB7Txn6o",
        "outputId": "7946470d-e674-4e8a-8bfd-0477e57bcfba"
      },
      "source": [
        "cov_df.dtypes"
      ],
      "execution_count": 98,
      "outputs": [
        {
          "output_type": "execute_result",
          "data": {
            "text/plain": [
              "Elevation                             object\n",
              "Aspect                                object\n",
              "Slope                                 object\n",
              "Horizontal_Distance_To_Hydrology      object\n",
              "Vertical_Distance_To_Hydrology        object\n",
              "Horizontal_Distance_To_Roadways       object\n",
              "Hillshade_9am                         object\n",
              "Hillshade_Noon                        object\n",
              "Hillshade_3pm                         object\n",
              "Horizontal_Distance_To_Fire_Points    object\n",
              "Wilderness_Area1                      object\n",
              "Wilderness_Area2                      object\n",
              "Wilderness_Area3                      object\n",
              "Wilderness_Area4                      object\n",
              "Soil_Type1                            object\n",
              "Soil_Type2                            object\n",
              "Soil_Type3                            object\n",
              "Soil_Type4                            object\n",
              "Soil_Type5                            object\n",
              "Soil_Type6                            object\n",
              "Soil_Type7                            object\n",
              "Soil_Type8                            object\n",
              "Soil_Type9                            object\n",
              "Soil_Type10                           object\n",
              "Soil_Type11                           object\n",
              "Soil_Type12                           object\n",
              "Soil_Type13                           object\n",
              "Soil_Type14                           object\n",
              "Soil_Type15                           object\n",
              "Soil_Type16                           object\n",
              "Soil_Type17                           object\n",
              "Soil_Type18                           object\n",
              "Soil_Type19                           object\n",
              "Soil_Type20                           object\n",
              "Soil_Type21                           object\n",
              "Soil_Type22                           object\n",
              "Soil_Type23                           object\n",
              "Soil_Type24                           object\n",
              "Soil_Type25                           object\n",
              "Soil_Type26                           object\n",
              "Soil_Type27                           object\n",
              "Soil_Type28                           object\n",
              "Soil_Type29                           object\n",
              "Soil_Type30                           object\n",
              "Soil_Type31                           object\n",
              "Soil_Type32                           object\n",
              "Soil_Type33                           object\n",
              "Soil_Type34                           object\n",
              "Soil_Type35                           object\n",
              "Soil_Type36                           object\n",
              "Soil_Type37                           object\n",
              "Soil_Type38                           object\n",
              "Soil_Type39                           object\n",
              "Soil_Type40                           object\n",
              "target                                object\n",
              "dtype: object"
            ]
          },
          "metadata": {
            "tags": []
          },
          "execution_count": 98
        }
      ]
    },
    {
      "cell_type": "code",
      "metadata": {
        "id": "9Ady8hkNxpjb"
      },
      "source": [
        "for cols in cov_df.columns:\r\n",
        "    cov_df[cols]=pd.to_numeric(cov_df[cols])"
      ],
      "execution_count": 99,
      "outputs": []
    },
    {
      "cell_type": "code",
      "metadata": {
        "id": "VjJOs7xo0dCl"
      },
      "source": [
        "cov_df['target']=cov_df['target']-1 # As machine learning frame work accepts from 0  changing\r\n",
        "# 1---7 to 0---6"
      ],
      "execution_count": 100,
      "outputs": []
    },
    {
      "cell_type": "code",
      "metadata": {
        "id": "bd2SjC_y0h4J"
      },
      "source": [
        "train_df=cov_df.sample(frac=0.8,random_state=10)\r\n",
        "test_df=cov_df.drop(train_df.index)"
      ],
      "execution_count": 101,
      "outputs": []
    },
    {
      "cell_type": "code",
      "metadata": {
        "colab": {
          "base_uri": "https://localhost:8080/"
        },
        "id": "pP8b2dDU0raz",
        "outputId": "935aad39-88d6-4038-883d-0662d4b6d5e7"
      },
      "source": [
        "train_df.to_parquet(fname='covtype_train.parquet',compression='snappy',index=False)\r\n",
        "test_df.to_parquet(fname='covtype_test.parquet',compression='snappy',index=False)"
      ],
      "execution_count": 102,
      "outputs": [
        {
          "output_type": "stream",
          "text": [
            "/usr/local/lib/python3.6/dist-packages/ipykernel_launcher.py:1: FutureWarning: the 'fname'' keyword is deprecated, use 'path' instead\n",
            "  \"\"\"Entry point for launching an IPython kernel.\n",
            "/usr/local/lib/python3.6/dist-packages/ipykernel_launcher.py:2: FutureWarning: the 'fname'' keyword is deprecated, use 'path' instead\n",
            "  \n"
          ],
          "name": "stderr"
        }
      ]
    },
    {
      "cell_type": "code",
      "metadata": {
        "colab": {
          "base_uri": "https://localhost:8080/"
        },
        "id": "u8e8uf881Eis",
        "outputId": "99e165c2-03c7-46dc-a752-922b5474d7eb"
      },
      "source": [
        "!ls"
      ],
      "execution_count": 103,
      "outputs": [
        {
          "output_type": "stream",
          "text": [
            "covtype_test.parquet\t\t spark-3.0.1-bin-hadoop2.7\n",
            "covtype_train.parquet\t\t spark-3.0.1-bin-hadoop2.7.tgz\n",
            "cudf-0.9.2-cuda10-1.jar\t\t xgboost4j_2.x-1.0.0-Beta5.jar\n",
            "cudf-0.9.2-cuda10-1.jar.1\t xgboost4j_2.x-1.0.0-Beta5.jar.1\n",
            "sample_data\t\t\t xgboost4j_2.x-1.0.0-Beta5.jar.2\n",
            "spark-2.4.7-bin-hadoop2.7\t xgboost4j-spark_2.x-1.0.0-Beta5.jar\n",
            "spark-2.4.7-bin-hadoop2.7.tgz\t xgboost4j-spark_2.x-1.0.0-Beta5.jar.1\n",
            "spark-2.4.7-bin-hadoop2.7.tgz.1  xgboost4j-spark_2.x-1.0.0-Beta5.jar.2\n",
            "spark-2.4.7-bin-hadoop2.7.tgz.2\n"
          ],
          "name": "stdout"
        }
      ]
    },
    {
      "cell_type": "code",
      "metadata": {
        "id": "QKs6SYNa2rEn"
      },
      "source": [
        "import pyarrow.parquet as pq #parquet is a columnar format and lean in size"
      ],
      "execution_count": 104,
      "outputs": []
    },
    {
      "cell_type": "code",
      "metadata": {
        "id": "w640_6eE29y0"
      },
      "source": [
        "#To see what is in parquet format we can use pyarrow package"
      ],
      "execution_count": 105,
      "outputs": []
    },
    {
      "cell_type": "code",
      "metadata": {
        "colab": {
          "base_uri": "https://localhost:8080/"
        },
        "id": "IGWGve4_3SKq",
        "outputId": "29d7d2dd-ae4d-430d-f92c-67df545da047"
      },
      "source": [
        "pq.read_table('covtype_train.parquet')"
      ],
      "execution_count": 106,
      "outputs": [
        {
          "output_type": "execute_result",
          "data": {
            "text/plain": [
              "pyarrow.Table\n",
              "Elevation: double\n",
              "Aspect: double\n",
              "Slope: double\n",
              "Horizontal_Distance_To_Hydrology: double\n",
              "Vertical_Distance_To_Hydrology: double\n",
              "Horizontal_Distance_To_Roadways: double\n",
              "Hillshade_9am: double\n",
              "Hillshade_Noon: double\n",
              "Hillshade_3pm: double\n",
              "Horizontal_Distance_To_Fire_Points: double\n",
              "Wilderness_Area1: double\n",
              "Wilderness_Area2: double\n",
              "Wilderness_Area3: double\n",
              "Wilderness_Area4: double\n",
              "Soil_Type1: double\n",
              "Soil_Type2: double\n",
              "Soil_Type3: double\n",
              "Soil_Type4: double\n",
              "Soil_Type5: double\n",
              "Soil_Type6: double\n",
              "Soil_Type7: double\n",
              "Soil_Type8: double\n",
              "Soil_Type9: double\n",
              "Soil_Type10: double\n",
              "Soil_Type11: double\n",
              "Soil_Type12: double\n",
              "Soil_Type13: double\n",
              "Soil_Type14: double\n",
              "Soil_Type15: double\n",
              "Soil_Type16: double\n",
              "Soil_Type17: double\n",
              "Soil_Type18: double\n",
              "Soil_Type19: double\n",
              "Soil_Type20: double\n",
              "Soil_Type21: double\n",
              "Soil_Type22: double\n",
              "Soil_Type23: double\n",
              "Soil_Type24: double\n",
              "Soil_Type25: double\n",
              "Soil_Type26: double\n",
              "Soil_Type27: double\n",
              "Soil_Type28: double\n",
              "Soil_Type29: double\n",
              "Soil_Type30: double\n",
              "Soil_Type31: double\n",
              "Soil_Type32: double\n",
              "Soil_Type33: double\n",
              "Soil_Type34: double\n",
              "Soil_Type35: double\n",
              "Soil_Type36: double\n",
              "Soil_Type37: double\n",
              "Soil_Type38: double\n",
              "Soil_Type39: double\n",
              "Soil_Type40: double\n",
              "target: int64"
            ]
          },
          "metadata": {
            "tags": []
          },
          "execution_count": 106
        }
      ]
    },
    {
      "cell_type": "code",
      "metadata": {
        "id": "b-u-tvlj3Ydd"
      },
      "source": [
        "#Moving Physical memory into GPU memory\r\n",
        "train_data=GpuDataReader(spark).format('parquet').load('covtype_train.parquet')\r\n",
        "test_data=GpuDataReader(spark).format('parquet').load('covtype_test.parquet')"
      ],
      "execution_count": 107,
      "outputs": []
    },
    {
      "cell_type": "code",
      "metadata": {
        "colab": {
          "base_uri": "https://localhost:8080/"
        },
        "id": "EOwoaqcv3yMY",
        "outputId": "70912c21-ba4d-4e66-d882-2ac142c57160"
      },
      "source": [
        "train_data.schema"
      ],
      "execution_count": 108,
      "outputs": [
        {
          "output_type": "execute_result",
          "data": {
            "text/plain": [
              "<bound method GpuDataset.schema of <ml.dmlc.xgboost4j.scala.spark.rapids.GpuDataset object at 0x7f9d10cfae48>>"
            ]
          },
          "metadata": {
            "tags": []
          },
          "execution_count": 108
        }
      ]
    },
    {
      "cell_type": "code",
      "metadata": {
        "id": "U55IzFPU3z4B"
      },
      "source": [
        "pq_file=pq.read_table('covtype_train.parquet')"
      ],
      "execution_count": 109,
      "outputs": []
    },
    {
      "cell_type": "code",
      "metadata": {
        "colab": {
          "base_uri": "https://localhost:8080/"
        },
        "id": "MhtDHeEr5BXt",
        "outputId": "c332409c-a3a2-41b8-eec8-d363ad1124ee"
      },
      "source": [
        "pq_file.column_names"
      ],
      "execution_count": 110,
      "outputs": [
        {
          "output_type": "execute_result",
          "data": {
            "text/plain": [
              "['Elevation',\n",
              " 'Aspect',\n",
              " 'Slope',\n",
              " 'Horizontal_Distance_To_Hydrology',\n",
              " 'Vertical_Distance_To_Hydrology',\n",
              " 'Horizontal_Distance_To_Roadways',\n",
              " 'Hillshade_9am',\n",
              " 'Hillshade_Noon',\n",
              " 'Hillshade_3pm',\n",
              " 'Horizontal_Distance_To_Fire_Points',\n",
              " 'Wilderness_Area1',\n",
              " 'Wilderness_Area2',\n",
              " 'Wilderness_Area3',\n",
              " 'Wilderness_Area4',\n",
              " 'Soil_Type1',\n",
              " 'Soil_Type2',\n",
              " 'Soil_Type3',\n",
              " 'Soil_Type4',\n",
              " 'Soil_Type5',\n",
              " 'Soil_Type6',\n",
              " 'Soil_Type7',\n",
              " 'Soil_Type8',\n",
              " 'Soil_Type9',\n",
              " 'Soil_Type10',\n",
              " 'Soil_Type11',\n",
              " 'Soil_Type12',\n",
              " 'Soil_Type13',\n",
              " 'Soil_Type14',\n",
              " 'Soil_Type15',\n",
              " 'Soil_Type16',\n",
              " 'Soil_Type17',\n",
              " 'Soil_Type18',\n",
              " 'Soil_Type19',\n",
              " 'Soil_Type20',\n",
              " 'Soil_Type21',\n",
              " 'Soil_Type22',\n",
              " 'Soil_Type23',\n",
              " 'Soil_Type24',\n",
              " 'Soil_Type25',\n",
              " 'Soil_Type26',\n",
              " 'Soil_Type27',\n",
              " 'Soil_Type28',\n",
              " 'Soil_Type29',\n",
              " 'Soil_Type30',\n",
              " 'Soil_Type31',\n",
              " 'Soil_Type32',\n",
              " 'Soil_Type33',\n",
              " 'Soil_Type34',\n",
              " 'Soil_Type35',\n",
              " 'Soil_Type36',\n",
              " 'Soil_Type37',\n",
              " 'Soil_Type38',\n",
              " 'Soil_Type39',\n",
              " 'Soil_Type40',\n",
              " 'target']"
            ]
          },
          "metadata": {
            "tags": []
          },
          "execution_count": 110
        }
      ]
    },
    {
      "cell_type": "code",
      "metadata": {
        "id": "hiJD35Oo5EwP"
      },
      "source": [
        "label='target'\r\n",
        "features=[x for x in pq_file.column_names if x!=label]"
      ],
      "execution_count": 111,
      "outputs": []
    },
    {
      "cell_type": "code",
      "metadata": {
        "colab": {
          "base_uri": "https://localhost:8080/"
        },
        "id": "WoZ02KFM5Qpy",
        "outputId": "eb204409-d63d-4d2f-bcd6-36a62746c824"
      },
      "source": [
        "features"
      ],
      "execution_count": 112,
      "outputs": [
        {
          "output_type": "execute_result",
          "data": {
            "text/plain": [
              "['Elevation',\n",
              " 'Aspect',\n",
              " 'Slope',\n",
              " 'Horizontal_Distance_To_Hydrology',\n",
              " 'Vertical_Distance_To_Hydrology',\n",
              " 'Horizontal_Distance_To_Roadways',\n",
              " 'Hillshade_9am',\n",
              " 'Hillshade_Noon',\n",
              " 'Hillshade_3pm',\n",
              " 'Horizontal_Distance_To_Fire_Points',\n",
              " 'Wilderness_Area1',\n",
              " 'Wilderness_Area2',\n",
              " 'Wilderness_Area3',\n",
              " 'Wilderness_Area4',\n",
              " 'Soil_Type1',\n",
              " 'Soil_Type2',\n",
              " 'Soil_Type3',\n",
              " 'Soil_Type4',\n",
              " 'Soil_Type5',\n",
              " 'Soil_Type6',\n",
              " 'Soil_Type7',\n",
              " 'Soil_Type8',\n",
              " 'Soil_Type9',\n",
              " 'Soil_Type10',\n",
              " 'Soil_Type11',\n",
              " 'Soil_Type12',\n",
              " 'Soil_Type13',\n",
              " 'Soil_Type14',\n",
              " 'Soil_Type15',\n",
              " 'Soil_Type16',\n",
              " 'Soil_Type17',\n",
              " 'Soil_Type18',\n",
              " 'Soil_Type19',\n",
              " 'Soil_Type20',\n",
              " 'Soil_Type21',\n",
              " 'Soil_Type22',\n",
              " 'Soil_Type23',\n",
              " 'Soil_Type24',\n",
              " 'Soil_Type25',\n",
              " 'Soil_Type26',\n",
              " 'Soil_Type27',\n",
              " 'Soil_Type28',\n",
              " 'Soil_Type29',\n",
              " 'Soil_Type30',\n",
              " 'Soil_Type31',\n",
              " 'Soil_Type32',\n",
              " 'Soil_Type33',\n",
              " 'Soil_Type34',\n",
              " 'Soil_Type35',\n",
              " 'Soil_Type36',\n",
              " 'Soil_Type37',\n",
              " 'Soil_Type38',\n",
              " 'Soil_Type39',\n",
              " 'Soil_Type40']"
            ]
          },
          "metadata": {
            "tags": []
          },
          "execution_count": 112
        }
      ]
    },
    {
      "cell_type": "code",
      "metadata": {
        "id": "pa8RRtyV5XYe"
      },
      "source": [
        "import time\r\n",
        "params = { \r\n",
        "    'eta': 0.1,\r\n",
        "    'gamma': 0.1,\r\n",
        "    'missing': 0.0,\r\n",
        "    'treeMethod': 'gpu_hist',\r\n",
        "    'maxDepth': 8, \r\n",
        "    'growPolicy': 'depthwise',\r\n",
        "    'lambda_': 1.0,\r\n",
        "    'subsample': 1.0,\r\n",
        "    'numRound': 1000,\r\n",
        "    'numWorkers': 1,\r\n",
        "    'verbosity': 1\r\n",
        "}\r\n",
        "classifier = XGBoostClassifier(**params).setLabelCol(label).setFeaturesCols(features)\r\n"
      ],
      "execution_count": 113,
      "outputs": []
    },
    {
      "cell_type": "code",
      "metadata": {
        "id": "_1rDRMvm70ea",
        "colab": {
          "base_uri": "https://localhost:8080/"
        },
        "outputId": "c4a0edb0-b150-40e1-ea41-59f94a3b007c"
      },
      "source": [
        "start_time = time.time()\r\n",
        "\r\n",
        "model=classifier.fit(train_data)\r\n",
        "\r\n",
        "print(\"GPU Training Time: %s seconds\" % (str(time.time() - start_time)))"
      ],
      "execution_count": 114,
      "outputs": [
        {
          "output_type": "stream",
          "text": [
            "GPU Training Time: 20.36086654663086 seconds\n"
          ],
          "name": "stdout"
        }
      ]
    },
    {
      "cell_type": "code",
      "metadata": {
        "colab": {
          "base_uri": "https://localhost:8080/"
        },
        "id": "brUk-Xaey8zx",
        "outputId": "ce2a6e80-7e9a-4051-a32e-4435f6455019"
      },
      "source": [
        "\r\n",
        "!nvidia-smi"
      ],
      "execution_count": 115,
      "outputs": [
        {
          "output_type": "stream",
          "text": [
            "Tue Jan 19 13:30:39 2021       \n",
            "+-----------------------------------------------------------------------------+\n",
            "| NVIDIA-SMI 460.27.04    Driver Version: 418.67       CUDA Version: 10.1     |\n",
            "|-------------------------------+----------------------+----------------------+\n",
            "| GPU  Name        Persistence-M| Bus-Id        Disp.A | Volatile Uncorr. ECC |\n",
            "| Fan  Temp  Perf  Pwr:Usage/Cap|         Memory-Usage | GPU-Util  Compute M. |\n",
            "|                               |                      |               MIG M. |\n",
            "|===============================+======================+======================|\n",
            "|   0  Tesla T4            Off  | 00000000:00:04.0 Off |                    0 |\n",
            "| N/A   49C    P0    36W /  70W |   1033MiB / 15079MiB |      9%      Default |\n",
            "|                               |                      |                 ERR! |\n",
            "+-------------------------------+----------------------+----------------------+\n",
            "                                                                               \n",
            "+-----------------------------------------------------------------------------+\n",
            "| Processes:                                                                  |\n",
            "|  GPU   GI   CI        PID   Type   Process name                  GPU Memory |\n",
            "|        ID   ID                                                   Usage      |\n",
            "|=============================================================================|\n",
            "|  No running processes found                                                 |\n",
            "+-----------------------------------------------------------------------------+\n"
          ],
          "name": "stdout"
        }
      ]
    },
    {
      "cell_type": "code",
      "metadata": {
        "id": "leT5QpUq1ZsF"
      },
      "source": [
        "model.write().overwrite().save('/content/model/')\r\n"
      ],
      "execution_count": 116,
      "outputs": []
    },
    {
      "cell_type": "code",
      "metadata": {
        "colab": {
          "base_uri": "https://localhost:8080/"
        },
        "id": "ooGC5Aq61iZF",
        "outputId": "6df9cc60-960b-4d99-81b6-fd53a255c7da"
      },
      "source": [
        "\r\n",
        "!ls\r\n",
        "#Saved model can be deployed in  production spark to run this model \r\n",
        "# to run in java we can use an option called ml leap\r\n",
        "#to run in other languages  convert to pmml file"
      ],
      "execution_count": 117,
      "outputs": [
        {
          "output_type": "stream",
          "text": [
            "covtype_test.parquet\t\t spark-2.4.7-bin-hadoop2.7.tgz.2\n",
            "covtype_train.parquet\t\t spark-3.0.1-bin-hadoop2.7\n",
            "cudf-0.9.2-cuda10-1.jar\t\t spark-3.0.1-bin-hadoop2.7.tgz\n",
            "cudf-0.9.2-cuda10-1.jar.1\t xgboost4j_2.x-1.0.0-Beta5.jar\n",
            "model\t\t\t\t xgboost4j_2.x-1.0.0-Beta5.jar.1\n",
            "sample_data\t\t\t xgboost4j_2.x-1.0.0-Beta5.jar.2\n",
            "spark-2.4.7-bin-hadoop2.7\t xgboost4j-spark_2.x-1.0.0-Beta5.jar\n",
            "spark-2.4.7-bin-hadoop2.7.tgz\t xgboost4j-spark_2.x-1.0.0-Beta5.jar.1\n",
            "spark-2.4.7-bin-hadoop2.7.tgz.1  xgboost4j-spark_2.x-1.0.0-Beta5.jar.2\n"
          ],
          "name": "stdout"
        }
      ]
    },
    {
      "cell_type": "code",
      "metadata": {
        "id": "bnwVgaIh1j7I"
      },
      "source": [
        "loaded_model = XGBoostClassificationModel().load('/content/model/')\r\n"
      ],
      "execution_count": 118,
      "outputs": []
    },
    {
      "cell_type": "code",
      "metadata": {
        "id": "MYW9J13H1nOw"
      },
      "source": [
        "result=loaded_model.transform(test_data)"
      ],
      "execution_count": 119,
      "outputs": []
    },
    {
      "cell_type": "code",
      "metadata": {
        "colab": {
          "base_uri": "https://localhost:8080/"
        },
        "id": "Fd-agRrM1pv-",
        "outputId": "494f8348-3297-42f3-d3c6-adf500883a74"
      },
      "source": [
        "result.show()"
      ],
      "execution_count": 120,
      "outputs": [
        {
          "output_type": "stream",
          "text": [
            "+---------+------+-----+--------------------------------+------------------------------+-------------------------------+-------------+--------------+-------------+----------------------------------+----------------+----------------+----------------+----------------+----------+----------+----------+----------+----------+----------+----------+----------+----------+-----------+-----------+-----------+-----------+-----------+-----------+-----------+-----------+-----------+-----------+-----------+-----------+-----------+-----------+-----------+-----------+-----------+-----------+-----------+-----------+-----------+-----------+-----------+-----------+-----------+-----------+-----------+-----------+-----------+-----------+-----------+------+--------------------+--------------------+----------+\n",
            "|Elevation|Aspect|Slope|Horizontal_Distance_To_Hydrology|Vertical_Distance_To_Hydrology|Horizontal_Distance_To_Roadways|Hillshade_9am|Hillshade_Noon|Hillshade_3pm|Horizontal_Distance_To_Fire_Points|Wilderness_Area1|Wilderness_Area2|Wilderness_Area3|Wilderness_Area4|Soil_Type1|Soil_Type2|Soil_Type3|Soil_Type4|Soil_Type5|Soil_Type6|Soil_Type7|Soil_Type8|Soil_Type9|Soil_Type10|Soil_Type11|Soil_Type12|Soil_Type13|Soil_Type14|Soil_Type15|Soil_Type16|Soil_Type17|Soil_Type18|Soil_Type19|Soil_Type20|Soil_Type21|Soil_Type22|Soil_Type23|Soil_Type24|Soil_Type25|Soil_Type26|Soil_Type27|Soil_Type28|Soil_Type29|Soil_Type30|Soil_Type31|Soil_Type32|Soil_Type33|Soil_Type34|Soil_Type35|Soil_Type36|Soil_Type37|Soil_Type38|Soil_Type39|Soil_Type40|target|       rawPrediction|         probability|prediction|\n",
            "+---------+------+-----+--------------------------------+------------------------------+-------------------------------+-------------+--------------+-------------+----------------------------------+----------------+----------------+----------------+----------------+----------+----------+----------+----------+----------+----------+----------+----------+----------+-----------+-----------+-----------+-----------+-----------+-----------+-----------+-----------+-----------+-----------+-----------+-----------+-----------+-----------+-----------+-----------+-----------+-----------+-----------+-----------+-----------+-----------+-----------+-----------+-----------+-----------+-----------+-----------+-----------+-----------+-----------+------+--------------------+--------------------+----------+\n",
            "|   2804.0| 139.0|  9.0|                           268.0|                          65.0|                         3180.0|        234.0|         238.0|        135.0|                            6121.0|             1.0|             0.0|             0.0|             0.0|       0.0|       0.0|       0.0|       0.0|       0.0|       0.0|       0.0|       0.0|       0.0|        0.0|        0.0|        1.0|        0.0|        0.0|        0.0|        0.0|        0.0|        0.0|        0.0|        0.0|        0.0|        0.0|        0.0|        0.0|        0.0|        0.0|        0.0|        0.0|        0.0|        0.0|        0.0|        0.0|        0.0|        0.0|        0.0|        0.0|        0.0|        0.0|        0.0|        0.0|   1.0|[-0.7483979463577...|[0.25160205364227...|       1.0|\n",
            "|   2595.0|  45.0|  2.0|                           153.0|                          -1.0|                          391.0|        220.0|         234.0|        150.0|                            6172.0|             1.0|             0.0|             0.0|             0.0|       0.0|       0.0|       0.0|       0.0|       0.0|       0.0|       0.0|       0.0|       0.0|        0.0|        0.0|        0.0|        0.0|        0.0|        0.0|        0.0|        0.0|        0.0|        0.0|        0.0|        0.0|        0.0|        0.0|        0.0|        0.0|        0.0|        0.0|        0.0|        1.0|        0.0|        0.0|        0.0|        0.0|        0.0|        0.0|        0.0|        0.0|        0.0|        0.0|        0.0|   4.0|[-3.6109395027160...|[-2.6109395027160...|       1.0|\n",
            "|   2606.0|  45.0|  7.0|                           270.0|                           5.0|                          633.0|        222.0|         225.0|        138.0|                            6256.0|             1.0|             0.0|             0.0|             0.0|       0.0|       0.0|       0.0|       0.0|       0.0|       0.0|       0.0|       0.0|       0.0|        0.0|        0.0|        0.0|        0.0|        0.0|        0.0|        0.0|        0.0|        0.0|        0.0|        0.0|        0.0|        0.0|        0.0|        0.0|        0.0|        0.0|        0.0|        0.0|        1.0|        0.0|        0.0|        0.0|        0.0|        0.0|        0.0|        0.0|        0.0|        0.0|        0.0|        0.0|   4.0|[-3.9071249961853...|[-2.9071249961853...|       1.0|\n",
            "|   2612.0| 201.0|  4.0|                           180.0|                          51.0|                          735.0|        218.0|         243.0|        161.0|                            6222.0|             1.0|             0.0|             0.0|             0.0|       0.0|       0.0|       0.0|       0.0|       0.0|       0.0|       0.0|       0.0|       0.0|        0.0|        0.0|        0.0|        0.0|        0.0|        0.0|        0.0|        0.0|        1.0|        0.0|        0.0|        0.0|        0.0|        0.0|        0.0|        0.0|        0.0|        0.0|        0.0|        0.0|        0.0|        0.0|        0.0|        0.0|        0.0|        0.0|        0.0|        0.0|        0.0|        0.0|        0.0|   4.0|[-2.7856690883636...|[-1.7856690883636...|       1.0|\n",
            "|   2609.0| 214.0|  7.0|                           150.0|                          46.0|                          771.0|        213.0|         247.0|        170.0|                            6211.0|             1.0|             0.0|             0.0|             0.0|       0.0|       0.0|       0.0|       0.0|       0.0|       0.0|       0.0|       0.0|       0.0|        0.0|        0.0|        0.0|        0.0|        0.0|        0.0|        0.0|        0.0|        1.0|        0.0|        0.0|        0.0|        0.0|        0.0|        0.0|        0.0|        0.0|        0.0|        0.0|        0.0|        0.0|        0.0|        0.0|        0.0|        0.0|        0.0|        0.0|        0.0|        0.0|        0.0|        0.0|   4.0|[-3.4598042964935...|[-2.4598042964935...|       1.0|\n",
            "|   2495.0|  51.0|  7.0|                            42.0|                           2.0|                          752.0|        224.0|         225.0|        137.0|                            5576.0|             1.0|             0.0|             0.0|             0.0|       0.0|       0.0|       0.0|       0.0|       0.0|       0.0|       0.0|       0.0|       0.0|        0.0|        0.0|        0.0|        0.0|        0.0|        0.0|        1.0|        0.0|        0.0|        0.0|        0.0|        0.0|        0.0|        0.0|        0.0|        0.0|        0.0|        0.0|        0.0|        0.0|        0.0|        0.0|        0.0|        0.0|        0.0|        0.0|        0.0|        0.0|        0.0|        0.0|        0.0|   4.0|[-2.3526177406311...|[-1.3526177406311...|       1.0|\n",
            "|   2610.0| 259.0|  1.0|                           120.0|                          -1.0|                          607.0|        216.0|         239.0|        161.0|                            6096.0|             1.0|             0.0|             0.0|             0.0|       0.0|       0.0|       0.0|       0.0|       0.0|       0.0|       0.0|       0.0|       0.0|        0.0|        0.0|        0.0|        0.0|        0.0|        0.0|        0.0|        0.0|        0.0|        0.0|        0.0|        0.0|        0.0|        0.0|        0.0|        0.0|        0.0|        0.0|        0.0|        1.0|        0.0|        0.0|        0.0|        0.0|        0.0|        0.0|        0.0|        0.0|        0.0|        0.0|        0.0|   4.0|[-1.3075118064880...|[-0.3075118064880...|       1.0|\n",
            "|   2503.0|  38.0|  5.0|                            85.0|                          10.0|                          741.0|        220.0|         228.0|        144.0|                            5555.0|             1.0|             0.0|             0.0|             0.0|       0.0|       0.0|       0.0|       0.0|       0.0|       0.0|       0.0|       0.0|       0.0|        0.0|        0.0|        0.0|        0.0|        0.0|        0.0|        0.0|        0.0|        1.0|        0.0|        0.0|        0.0|        0.0|        0.0|        0.0|        0.0|        0.0|        0.0|        0.0|        0.0|        0.0|        0.0|        0.0|        0.0|        0.0|        0.0|        0.0|        0.0|        0.0|        0.0|        0.0|   4.0|[-2.7987403869628...|[-1.7987403869628...|       1.0|\n",
            "|   2880.0| 209.0| 17.0|                           216.0|                          30.0|                         4986.0|        206.0|         253.0|        179.0|                            4323.0|             1.0|             0.0|             0.0|             0.0|       0.0|       0.0|       0.0|       0.0|       0.0|       0.0|       0.0|       0.0|       0.0|        0.0|        0.0|        0.0|        0.0|        0.0|        0.0|        0.0|        0.0|        0.0|        0.0|        0.0|        0.0|        0.0|        0.0|        0.0|        0.0|        0.0|        0.0|        0.0|        0.0|        1.0|        0.0|        0.0|        0.0|        0.0|        0.0|        0.0|        0.0|        0.0|        0.0|        0.0|   1.0|[-1.0144829750061...|[-0.0144829750061...|       1.0|\n",
            "|   2768.0| 114.0| 23.0|                           192.0|                          82.0|                         3339.0|        252.0|         209.0|         71.0|                            5972.0|             1.0|             0.0|             0.0|             0.0|       0.0|       0.0|       0.0|       0.0|       0.0|       0.0|       0.0|       0.0|       0.0|        0.0|        0.0|        0.0|        0.0|        0.0|        0.0|        0.0|        0.0|        0.0|        0.0|        0.0|        0.0|        0.0|        0.0|        0.0|        0.0|        0.0|        0.0|        0.0|        0.0|        1.0|        0.0|        0.0|        0.0|        0.0|        0.0|        0.0|        0.0|        0.0|        0.0|        0.0|   4.0|[-2.5946385860443...|[-1.5946385860443...|       1.0|\n",
            "|   2507.0|  22.0|  9.0|                           120.0|                          14.0|                          732.0|        215.0|         221.0|        143.0|                            5534.0|             1.0|             0.0|             0.0|             0.0|       0.0|       0.0|       0.0|       0.0|       0.0|       0.0|       0.0|       0.0|       0.0|        0.0|        0.0|        0.0|        0.0|        0.0|        0.0|        0.0|        0.0|        1.0|        0.0|        0.0|        0.0|        0.0|        0.0|        0.0|        0.0|        0.0|        0.0|        0.0|        0.0|        0.0|        0.0|        0.0|        0.0|        0.0|        0.0|        0.0|        0.0|        0.0|        0.0|        0.0|   4.0|[-3.2143170833587...|[-2.2143170833587...|       1.0|\n",
            "|   2492.0| 135.0|  6.0|                             0.0|                           0.0|                          860.0|        229.0|         237.0|        142.0|                            5494.0|             1.0|             0.0|             0.0|             0.0|       0.0|       0.0|       0.0|       0.0|       0.0|       0.0|       0.0|       0.0|       0.0|        0.0|        0.0|        0.0|        0.0|        0.0|        0.0|        0.0|        0.0|        1.0|        0.0|        0.0|        0.0|        0.0|        0.0|        0.0|        0.0|        0.0|        0.0|        0.0|        0.0|        0.0|        0.0|        0.0|        0.0|        0.0|        0.0|        0.0|        0.0|        0.0|        0.0|        0.0|   4.0|[-2.6894814968109...|[-1.6894814968109...|       1.0|\n",
            "|   2678.0| 128.0|  5.0|                            95.0|                          23.0|                         1660.0|        229.0|         236.0|        141.0|                            6546.0|             1.0|             0.0|             0.0|             0.0|       0.0|       0.0|       0.0|       0.0|       0.0|       0.0|       0.0|       0.0|       0.0|        0.0|        0.0|        1.0|        0.0|        0.0|        0.0|        0.0|        0.0|        0.0|        0.0|        0.0|        0.0|        0.0|        0.0|        0.0|        0.0|        0.0|        0.0|        0.0|        0.0|        0.0|        0.0|        0.0|        0.0|        0.0|        0.0|        0.0|        0.0|        0.0|        0.0|        0.0|   1.0|[-0.8281584978103...|[0.17184150218963...|       1.0|\n",
            "|   2489.0| 100.0|  7.0|                            85.0|                          13.0|                          810.0|        232.0|         231.0|        131.0|                            5334.0|             1.0|             0.0|             0.0|             0.0|       0.0|       0.0|       0.0|       0.0|       0.0|       0.0|       0.0|       0.0|       0.0|        0.0|        0.0|        0.0|        0.0|        0.0|        0.0|        0.0|        0.0|        1.0|        0.0|        0.0|        0.0|        0.0|        0.0|        0.0|        0.0|        0.0|        0.0|        0.0|        0.0|        0.0|        0.0|        0.0|        0.0|        0.0|        0.0|        0.0|        0.0|        0.0|        0.0|        0.0|   4.0|[-2.7047960758209...|[-1.7047960758209...|       1.0|\n",
            "|   2722.0| 315.0| 24.0|                            30.0|                          19.0|                         3216.0|        148.0|         212.0|        200.0|                            6132.0|             1.0|             0.0|             0.0|             0.0|       0.0|       0.0|       0.0|       0.0|       0.0|       0.0|       0.0|       0.0|       0.0|        0.0|        0.0|        0.0|        0.0|        0.0|        0.0|        1.0|        0.0|        0.0|        0.0|        0.0|        0.0|        0.0|        0.0|        0.0|        0.0|        0.0|        0.0|        0.0|        0.0|        0.0|        0.0|        0.0|        0.0|        0.0|        0.0|        0.0|        0.0|        0.0|        0.0|        0.0|   0.0|[-0.3309877514839...|[0.66901224851608...|       0.0|\n",
            "|   2705.0|  90.0|  8.0|                           134.0|                          22.0|                         2023.0|        232.0|         228.0|        129.0|                            6615.0|             1.0|             0.0|             0.0|             0.0|       0.0|       0.0|       0.0|       0.0|       0.0|       0.0|       0.0|       0.0|       0.0|        0.0|        0.0|        1.0|        0.0|        0.0|        0.0|        0.0|        0.0|        0.0|        0.0|        0.0|        0.0|        0.0|        0.0|        0.0|        0.0|        0.0|        0.0|        0.0|        0.0|        0.0|        0.0|        0.0|        0.0|        0.0|        0.0|        0.0|        0.0|        0.0|        0.0|        0.0|   1.0|[-0.6333320140838...|[0.36666798591613...|       1.0|\n",
            "|   2509.0|  59.0|  7.0|                           134.0|                          10.0|                          900.0|        226.0|         226.0|        134.0|                            5184.0|             1.0|             0.0|             0.0|             0.0|       0.0|       0.0|       0.0|       0.0|       0.0|       0.0|       0.0|       0.0|       0.0|        0.0|        0.0|        0.0|        0.0|        0.0|        0.0|        0.0|        0.0|        1.0|        0.0|        0.0|        0.0|        0.0|        0.0|        0.0|        0.0|        0.0|        0.0|        0.0|        0.0|        0.0|        0.0|        0.0|        0.0|        0.0|        0.0|        0.0|        0.0|        0.0|        0.0|        0.0|   4.0|[-1.9129660129547...|[-0.9129660129547...|       1.0|\n",
            "|   2791.0|  63.0| 10.0|                           418.0|                          48.0|                         2942.0|        229.0|         221.0|        124.0|                            6606.0|             1.0|             0.0|             0.0|             0.0|       0.0|       0.0|       0.0|       0.0|       0.0|       0.0|       0.0|       0.0|       0.0|        0.0|        0.0|        1.0|        0.0|        0.0|        0.0|        0.0|        0.0|        0.0|        0.0|        0.0|        0.0|        0.0|        0.0|        0.0|        0.0|        0.0|        0.0|        0.0|        0.0|        0.0|        0.0|        0.0|        0.0|        0.0|        0.0|        0.0|        0.0|        0.0|        0.0|        0.0|   1.0|[-0.8340890407562...|[0.16591095924377...|       1.0|\n",
            "|   2998.0|  45.0|  8.0|                           351.0|                          16.0|                         5842.0|        223.0|         222.0|        134.0|                            3721.0|             1.0|             0.0|             0.0|             0.0|       0.0|       0.0|       0.0|       0.0|       0.0|       0.0|       0.0|       0.0|       0.0|        0.0|        0.0|        0.0|        0.0|        0.0|        0.0|        0.0|        0.0|        0.0|        0.0|        0.0|        0.0|        0.0|        0.0|        0.0|        0.0|        0.0|        0.0|        0.0|        1.0|        0.0|        0.0|        0.0|        0.0|        0.0|        0.0|        0.0|        0.0|        0.0|        0.0|        0.0|   1.0|[-0.7601913213729...|[0.23980867862701...|       1.0|\n",
            "|   3067.0|  32.0|  4.0|                            30.0|                          -2.0|                         6679.0|        219.0|         230.0|        147.0|                            2947.0|             1.0|             0.0|             0.0|             0.0|       0.0|       0.0|       0.0|       0.0|       0.0|       0.0|       0.0|       0.0|       0.0|        0.0|        0.0|        0.0|        0.0|        0.0|        0.0|        0.0|        0.0|        0.0|        0.0|        1.0|        0.0|        0.0|        0.0|        0.0|        0.0|        0.0|        0.0|        0.0|        0.0|        0.0|        0.0|        0.0|        0.0|        0.0|        0.0|        0.0|        0.0|        0.0|        0.0|        0.0|   1.0|[-1.0316703319549...|[-0.0316703319549...|       1.0|\n",
            "+---------+------+-----+--------------------------------+------------------------------+-------------------------------+-------------+--------------+-------------+----------------------------------+----------------+----------------+----------------+----------------+----------+----------+----------+----------+----------+----------+----------+----------+----------+-----------+-----------+-----------+-----------+-----------+-----------+-----------+-----------+-----------+-----------+-----------+-----------+-----------+-----------+-----------+-----------+-----------+-----------+-----------+-----------+-----------+-----------+-----------+-----------+-----------+-----------+-----------+-----------+-----------+-----------+-----------+------+--------------------+--------------------+----------+\n",
            "only showing top 20 rows\n",
            "\n"
          ],
          "name": "stdout"
        }
      ]
    },
    {
      "cell_type": "code",
      "metadata": {
        "colab": {
          "base_uri": "https://localhost:8080/"
        },
        "id": "HpXeJoaP1sZl",
        "outputId": "c1420480-7db5-40d0-8c31-c47d036a54e3"
      },
      "source": [
        "MulticlassClassificationEvaluator().setLabelCol(label).evaluate(result)"
      ],
      "execution_count": 121,
      "outputs": [
        {
          "output_type": "execute_result",
          "data": {
            "text/plain": [
              "0.7143879104341959"
            ]
          },
          "metadata": {
            "tags": []
          },
          "execution_count": 121
        }
      ]
    },
    {
      "cell_type": "code",
      "metadata": {
        "id": "khCqjq_B1u-h"
      },
      "source": [
        ""
      ],
      "execution_count": null,
      "outputs": []
    }
  ]
}