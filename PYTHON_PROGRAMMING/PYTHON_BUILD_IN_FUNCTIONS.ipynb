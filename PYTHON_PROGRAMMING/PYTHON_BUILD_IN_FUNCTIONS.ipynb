{
 "cells": [
  {
   "cell_type": "markdown",
   "metadata": {},
   "source": [
    "# 1. abs()\n",
    "\n",
    "The abs() is one of the most popular Python built-in functions, which returns the absolute value of a number. A negative value’s absolute is that value is positive."
   ]
  },
  {
   "cell_type": "code",
   "execution_count": 1,
   "metadata": {},
   "outputs": [
    {
     "name": "stdout",
     "output_type": "stream",
     "text": [
      "7\n",
      "7\n",
      "0\n"
     ]
    }
   ],
   "source": [
    "print(abs(-7))\n",
    "print(abs(7))\n",
    "print(abs(0))"
   ]
  },
  {
   "cell_type": "markdown",
   "metadata": {},
   "source": [
    "# 2. all()\n",
    "\n",
    "The all() function takes a container as an argument. This Built in Functions returns True if all values in a python iterable have a Boolean value of True. An empty value has a Boolean value of False."
   ]
  },
  {
   "cell_type": "code",
   "execution_count": 3,
   "metadata": {},
   "outputs": [
    {
     "name": "stdout",
     "output_type": "stream",
     "text": [
      "False\n",
      "True\n"
     ]
    }
   ],
   "source": [
    "print(all({'*','',''}))\n",
    "print(all([' ',' ',' ']))"
   ]
  },
  {
   "cell_type": "markdown",
   "metadata": {},
   "source": [
    "# 3. any()\n",
    "\n",
    "Like all(), it takes one argument and returns True if, even one value in the iterable has a Boolean value of True."
   ]
  },
  {
   "cell_type": "code",
   "execution_count": 4,
   "metadata": {},
   "outputs": [
    {
     "name": "stdout",
     "output_type": "stream",
     "text": [
      "True\n"
     ]
    }
   ],
   "source": [
    "print(any((1,0,0)))"
   ]
  },
  {
   "cell_type": "markdown",
   "metadata": {},
   "source": [
    "# 4.  ascii()\n",
    "\n",
    "It is important Python built-in functions, returns a printable representation of a python object (like a string or a Python list). Let’s take a Romanian character."
   ]
  },
  {
   "cell_type": "code",
   "execution_count": 7,
   "metadata": {},
   "outputs": [
    {
     "name": "stdout",
     "output_type": "stream",
     "text": [
      "'\\u0219'\n",
      "'u\\u0219or'\n",
      "['s', '\\u0219']\n"
     ]
    }
   ],
   "source": [
    "print(ascii('ș'))\n",
    "#Since this was a non-ASCII character in python, the interpreter added a backslash (\\) and escaped it using another\n",
    "#backslash.\n",
    "print(ascii('ușor'))\n",
    "#Let’s apply it to a list.\n",
    "print(ascii(['s','ș']))"
   ]
  },
  {
   "cell_type": "markdown",
   "metadata": {},
   "source": [
    "# 5. bin()\n",
    "\n",
    "bin() converts an integer to a binary string. We have seen this and other functions in our article on Python Numbers."
   ]
  },
  {
   "cell_type": "code",
   "execution_count": 14,
   "metadata": {},
   "outputs": [
    {
     "name": "stdout",
     "output_type": "stream",
     "text": [
      "0b111\n"
     ]
    }
   ],
   "source": [
    "print(bin(7))\n",
    "#NOT APPLICABLE ON FLOAT TYPE DATA."
   ]
  },
  {
   "cell_type": "markdown",
   "metadata": {},
   "source": [
    "# 6. bool()\n",
    "\n",
    "bool() converts a value to Boolean."
   ]
  },
  {
   "cell_type": "code",
   "execution_count": 16,
   "metadata": {},
   "outputs": [
    {
     "name": "stdout",
     "output_type": "stream",
     "text": [
      "True\n",
      "False\n",
      "True\n"
     ]
    }
   ],
   "source": [
    "print(bool(0.5))\n",
    "print(bool(''))\n",
    "print(bool(True))"
   ]
  },
  {
   "cell_type": "markdown",
   "metadata": {},
   "source": [
    "# 7. bytearray()\n",
    "\n",
    "bytearray() returns a python array of a given byte size."
   ]
  },
  {
   "cell_type": "code",
   "execution_count": 18,
   "metadata": {},
   "outputs": [
    {
     "name": "stdout",
     "output_type": "stream",
     "text": [
      "bytearray(b'\\x00\\x00\\x00\\x00')\n",
      "bytearray(b'\\x00\\x00\\x00\\x00\\x01')\n",
      "bytearray(b'\\x01\\x02\\x03\\x04')\n"
     ]
    }
   ],
   "source": [
    "a=bytearray(4)\n",
    "print(a)\n",
    "a.append(1)\n",
    "print(a)\n",
    "print(bytearray([1,2,3,4]))"
   ]
  },
  {
   "cell_type": "markdown",
   "metadata": {},
   "source": [
    "# 8. bytes()\n",
    "\n",
    "bytes() returns an immutable bytes object"
   ]
  },
  {
   "cell_type": "code",
   "execution_count": 26,
   "metadata": {},
   "outputs": [
    {
     "name": "stdout",
     "output_type": "stream",
     "text": [
      "b'\\x00\\x00\\x00\\x00\\x00'\n",
      "b'\\x01\\x02\\x03\\x04\\x05'\n",
      "b'hello'\n",
      "b'\\x01\\x02\\x03\\x04\\x05'\n"
     ]
    }
   ],
   "source": [
    "print(bytes(5))\n",
    "print(bytes([1,2,3,4,5]))\n",
    "print(bytes('hello','utf-8'))\n",
    "#Here, utf-8 is the encoding.\n",
    "#Both bytes() and bytearray() deal with raw data, but bytearray() is mutable, while bytes() is immutable.\n",
    "a=bytes([1,2,3,4,5])\n",
    "print(a)\n",
    "#a[4]=3-----not possible"
   ]
  },
  {
   "cell_type": "markdown",
   "metadata": {},
   "source": [
    "# 9. callable()\n",
    "\n",
    "callable() tells us if an object can be called."
   ]
  },
  {
   "cell_type": "code",
   "execution_count": 30,
   "metadata": {},
   "outputs": [
    {
     "name": "stdout",
     "output_type": "stream",
     "text": [
      "False\n",
      "True\n",
      "False\n",
      "True\n"
     ]
    }
   ],
   "source": [
    "print(callable([1,2,3]))\n",
    "print(callable(callable))\n",
    "print(callable(False))\n",
    "print(callable(list))"
   ]
  },
  {
   "cell_type": "markdown",
   "metadata": {},
   "source": [
    "# 10. chr()\n",
    "\n",
    "chr() Built In function returns the character in python for an ASCII value."
   ]
  },
  {
   "cell_type": "code",
   "execution_count": 31,
   "metadata": {},
   "outputs": [
    {
     "name": "stdout",
     "output_type": "stream",
     "text": [
      "A\n",
      "a\n",
      "\t\n",
      "0\n"
     ]
    }
   ],
   "source": [
    "print(chr(65))\n",
    "print(chr(97))\n",
    "print(chr(9))\n",
    "print(chr(48))"
   ]
  },
  {
   "cell_type": "markdown",
   "metadata": {},
   "source": [
    "# 11. classmethod()\n",
    "\n",
    "classmethod() returns a class method for a given method."
   ]
  },
  {
   "cell_type": "code",
   "execution_count": 32,
   "metadata": {},
   "outputs": [
    {
     "name": "stdout",
     "output_type": "stream",
     "text": [
      "Hi, I'm a fruit\n"
     ]
    }
   ],
   "source": [
    ">>> class fruit:\n",
    "                def sayhi(self):\n",
    "                                print(\"Hi, I'm a fruit\") \n",
    "       \n",
    ">>> fruit.sayhi=classmethod(fruit.sayhi)\n",
    ">>> fruit.sayhi()\n",
    "#When we pass the method sayhi() as an argument to classmethod(), it converts it into a python class method one that\n",
    "#belongs to the class. Then, we call it like we would call any static method in python without an object."
   ]
  },
  {
   "cell_type": "markdown",
   "metadata": {},
   "source": [
    "# 12. compile()\n",
    "\n",
    "compile() returns a Python code object. We use Python in built function to convert a string code into object code"
   ]
  },
  {
   "cell_type": "code",
   "execution_count": 34,
   "metadata": {},
   "outputs": [
    {
     "name": "stdout",
     "output_type": "stream",
     "text": [
      "12\n"
     ]
    }
   ],
   "source": [
    "exec(compile('a=5\\nb=7\\nprint(a+b)','','exec'))\n",
    "#Here, ‘exec’ is the mode. The parameter before that is the filename for the file form which the code is read.\n",
    "#Finally, we execute it using exec()."
   ]
  },
  {
   "cell_type": "markdown",
   "metadata": {},
   "source": [
    "# 13. complex()\n",
    "\n",
    "complex() function creates a complex number. We have seen this is our article on Python Numbers"
   ]
  },
  {
   "cell_type": "code",
   "execution_count": 35,
   "metadata": {},
   "outputs": [
    {
     "data": {
      "text/plain": [
       "(3.5+0j)"
      ]
     },
     "execution_count": 35,
     "metadata": {},
     "output_type": "execute_result"
    }
   ],
   "source": [
    "complex(3.5)"
   ]
  },
  {
   "cell_type": "markdown",
   "metadata": {},
   "source": [
    "# 14. delattr()\n",
    "\n",
    "delattr() takes two arguments- a class, and an attribute in it. It deletes the attribute."
   ]
  },
  {
   "cell_type": "code",
   "execution_count": 38,
   "metadata": {},
   "outputs": [
    {
     "ename": "AttributeError",
     "evalue": "'fruit' object has no attribute 'size'",
     "output_type": "error",
     "traceback": [
      "\u001b[1;31m---------------------------------------------------------------------------\u001b[0m",
      "\u001b[1;31mAttributeError\u001b[0m                            Traceback (most recent call last)",
      "\u001b[1;32m<ipython-input-38-2728602ddfe5>\u001b[0m in \u001b[0;36m<module>\u001b[1;34m\u001b[0m\n\u001b[0;32m      5\u001b[0m \u001b[0morange\u001b[0m\u001b[1;33m.\u001b[0m\u001b[0msize\u001b[0m\u001b[1;33m\u001b[0m\u001b[1;33m\u001b[0m\u001b[0m\n\u001b[0;32m      6\u001b[0m \u001b[0mdelattr\u001b[0m\u001b[1;33m(\u001b[0m\u001b[0mfruit\u001b[0m\u001b[1;33m,\u001b[0m\u001b[1;34m'size'\u001b[0m\u001b[1;33m)\u001b[0m\u001b[1;33m\u001b[0m\u001b[1;33m\u001b[0m\u001b[0m\n\u001b[1;32m----> 7\u001b[1;33m \u001b[0morange\u001b[0m\u001b[1;33m.\u001b[0m\u001b[0msize\u001b[0m\u001b[1;33m\u001b[0m\u001b[1;33m\u001b[0m\u001b[0m\n\u001b[0m",
      "\u001b[1;31mAttributeError\u001b[0m: 'fruit' object has no attribute 'size'"
     ]
    }
   ],
   "source": [
    ">>> class fruit:\n",
    "                size=7  \n",
    "         \n",
    ">>> orange=fruit()\n",
    ">>> orange.size\n",
    ">>> delattr(fruit,'size')\n",
    ">>> orange.size"
   ]
  },
  {
   "cell_type": "markdown",
   "metadata": {},
   "source": [
    "# 15. dict()\n",
    "\n",
    "dict(), as we have seen it, creates a python dictionary."
   ]
  },
  {
   "cell_type": "code",
   "execution_count": 40,
   "metadata": {},
   "outputs": [
    {
     "name": "stdout",
     "output_type": "stream",
     "text": [
      "{}\n",
      "{1: 2, 3: 4}\n"
     ]
    }
   ],
   "source": [
    "print(dict())\n",
    "print(dict([(1,2),(3,4)]))"
   ]
  },
  {
   "cell_type": "markdown",
   "metadata": {},
   "source": [
    "# 16. dir()\n",
    "\n",
    "dir() returns an object’s attributes"
   ]
  },
  {
   "cell_type": "code",
   "execution_count": 41,
   "metadata": {},
   "outputs": [
    {
     "data": {
      "text/plain": [
       "['__class__',\n",
       " '__delattr__',\n",
       " '__dict__',\n",
       " '__dir__',\n",
       " '__doc__',\n",
       " '__eq__',\n",
       " '__format__',\n",
       " '__ge__',\n",
       " '__getattribute__',\n",
       " '__gt__',\n",
       " '__hash__',\n",
       " '__init__',\n",
       " '__init_subclass__',\n",
       " '__le__',\n",
       " '__lt__',\n",
       " '__module__',\n",
       " '__ne__',\n",
       " '__new__',\n",
       " '__reduce__',\n",
       " '__reduce_ex__',\n",
       " '__repr__',\n",
       " '__setattr__',\n",
       " '__sizeof__',\n",
       " '__str__',\n",
       " '__subclasshook__',\n",
       " '__weakref__',\n",
       " 'shape',\n",
       " 'size']"
      ]
     },
     "execution_count": 41,
     "metadata": {},
     "output_type": "execute_result"
    }
   ],
   "source": [
    ">>> class fruit:\n",
    "                size=7\n",
    "                shape='round'\n",
    ">>> orange=fruit()\n",
    ">>> dir(orange)"
   ]
  },
  {
   "cell_type": "markdown",
   "metadata": {},
   "source": [
    "# 17. divmod()\n",
    "\n",
    "divmod() in Python built-in functions, takes two parameters, and returns a tuple of their quotient and remainder. In other words, it returns the floor division and the modulus of the two numbers."
   ]
  },
  {
   "cell_type": "code",
   "execution_count": 42,
   "metadata": {},
   "outputs": [
    {
     "name": "stdout",
     "output_type": "stream",
     "text": [
      "(0, 3)\n"
     ]
    }
   ],
   "source": [
    "print(divmod(3,7))"
   ]
  },
  {
   "cell_type": "code",
   "execution_count": 43,
   "metadata": {},
   "outputs": [
    {
     "name": "stdout",
     "output_type": "stream",
     "text": [
      "(2, 1)\n"
     ]
    }
   ],
   "source": [
    "print(divmod(7,3))"
   ]
  },
  {
   "cell_type": "markdown",
   "metadata": {},
   "source": [
    "# 18. enumerate()\n",
    "\n",
    "This Python Built In function returns an enumerate object. In other words, it adds a counter to the iterable."
   ]
  },
  {
   "cell_type": "code",
   "execution_count": 44,
   "metadata": {},
   "outputs": [
    {
     "name": "stdout",
     "output_type": "stream",
     "text": [
      "(0, 'a')\n",
      "(1, 'b')\n",
      "(2, 'c')\n"
     ]
    }
   ],
   "source": [
    "for i in enumerate(['a','b','c']):\n",
    "                print(i)"
   ]
  },
  {
   "cell_type": "markdown",
   "metadata": {},
   "source": [
    "# 19. eval()\n",
    "\n",
    "This Function takes a string as an argument, which is parsed as an expression."
   ]
  },
  {
   "cell_type": "code",
   "execution_count": 46,
   "metadata": {},
   "outputs": [
    {
     "name": "stdout",
     "output_type": "stream",
     "text": [
      "14\n",
      "8\n"
     ]
    }
   ],
   "source": [
    "x=7\n",
    "print(eval('x+7'))\n",
    "print(eval('x+(x%2)'))"
   ]
  },
  {
   "cell_type": "markdown",
   "metadata": {},
   "source": [
    "# 20. exec()\n",
    "\n",
    "exec() runs Python code dynamically."
   ]
  },
  {
   "cell_type": "code",
   "execution_count": 54,
   "metadata": {},
   "outputs": [
    {
     "name": "stdout",
     "output_type": "stream",
     "text": [
      "5\n",
      "None\n"
     ]
    }
   ],
   "source": [
    "print(exec('a=2;b=3;print(a+b)'))\n"
   ]
  },
  {
   "cell_type": "markdown",
   "metadata": {},
   "source": [
    "# 21. filter()\n",
    "\n",
    "Like we’ve seen in python Lambda Expressios, filter() filters out the items for which the condition is True."
   ]
  },
  {
   "cell_type": "code",
   "execution_count": 57,
   "metadata": {},
   "outputs": [
    {
     "name": "stdout",
     "output_type": "stream",
     "text": [
      "3.0\n",
      "2.0\n",
      "0.0\n",
      "4.7\n",
      "1.0\n"
     ]
    }
   ],
   "source": [
    "print(float('3'))\n",
    "print(float(2))\n",
    "print(float(False))\n",
    "print(float(4.7))\n",
    "print(float(True))"
   ]
  },
  {
   "cell_type": "markdown",
   "metadata": {},
   "source": [
    "# 23. format()\n",
    "\n",
    "We have seen this Python built-in function, one in our lesson on Python Strings"
   ]
  },
  {
   "cell_type": "code",
   "execution_count": 60,
   "metadata": {},
   "outputs": [
    {
     "name": "stdout",
     "output_type": "stream",
     "text": [
      "a=2 and b=3\n",
      "a=3 and b=4\n"
     ]
    }
   ],
   "source": [
    "a,b=2,3\n",
    "print(\"a={0} and b={1}\".format(a,b))\n",
    "print(\"a={a} and b={b}\".format(a=3,b=4))"
   ]
  },
  {
   "cell_type": "markdown",
   "metadata": {},
   "source": [
    "# 24. frozenset()\n",
    "\n",
    "frozenset() returns an immutable frozenset object."
   ]
  },
  {
   "cell_type": "code",
   "execution_count": 61,
   "metadata": {},
   "outputs": [
    {
     "name": "stdout",
     "output_type": "stream",
     "text": [
      "frozenset({2, 3, 4})\n"
     ]
    }
   ],
   "source": [
    "print(frozenset((3,2,4)))"
   ]
  },
  {
   "cell_type": "markdown",
   "metadata": {},
   "source": [
    "# 25. getattr()\n",
    "\n",
    "getattr() returns the value of an object’s attribute"
   ]
  },
  {
   "cell_type": "code",
   "execution_count": 62,
   "metadata": {},
   "outputs": [
    {
     "data": {
      "text/plain": [
       "7"
      ]
     },
     "execution_count": 62,
     "metadata": {},
     "output_type": "execute_result"
    }
   ],
   "source": [
    "getattr(orange,'size')"
   ]
  },
  {
   "cell_type": "markdown",
   "metadata": {},
   "source": [
    "# 26. globals()\n",
    "\n",
    "This Python built-in functions, returns a dictionary of the current global symbol table."
   ]
  },
  {
   "cell_type": "code",
   "execution_count": 63,
   "metadata": {},
   "outputs": [
    {
     "data": {
      "text/plain": [
       "{'__name__': '__main__',\n",
       " '__doc__': 'Automatically created module for IPython interactive environment',\n",
       " '__package__': None,\n",
       " '__loader__': None,\n",
       " '__spec__': None,\n",
       " '__builtin__': <module 'builtins' (built-in)>,\n",
       " '__builtins__': <module 'builtins' (built-in)>,\n",
       " '_ih': ['',\n",
       "  'print(abs(-7))\\nprint(abs(7))\\nprint(abs(0))',\n",
       "  \"print(all({'*','',''}))\",\n",
       "  \"print(all({'*','',''}))\\nprint(all([' ',' ',' ']))\",\n",
       "  'print(any((1,0,0)))',\n",
       "  \"print(ascii('ș'))\",\n",
       "  \"print(ascii('ș'))\\n#Since this was a non-ASCII character in python, the interpreter added a backslash (\\\\) and escaped it using another\\n#backslash.\\nprint(ascii('ușor'))\",\n",
       "  \"print(ascii('ș'))\\n#Since this was a non-ASCII character in python, the interpreter added a backslash (\\\\) and escaped it using another\\n#backslash.\\nprint(ascii('ușor'))\\n#Let’s apply it to a list.\\nprint(ascii(['s','ș']))\",\n",
       "  'print(bin(7))',\n",
       "  'print(type(bin(7))',\n",
       "  'print(type(bin(7)))',\n",
       "  'print((bin(7))',\n",
       "  'print(bin(7))',\n",
       "  'print(bin(7.0))',\n",
       "  'print(bin(7))\\n#NOT APPLICABLE ON FLOAT TYPE DATA.',\n",
       "  'print(bool(0.5))',\n",
       "  \"print(bool(0.5))\\nprint(bool(''))\\nprint(bool(True))\",\n",
       "  'a=bytearray(4)\\nprint(a)\\nprint(a.append(1))\\nprint(a)',\n",
       "  'a=bytearray(4)\\nprint(a)\\na.append(1)\\nprint(a)\\nprint(bytearray([1,2,3,4]))',\n",
       "  'print(bytes(5))\\nprint(bytes([1,2,3,4,5])',\n",
       "  'print(bytes(5))\\nprint(bytes([1,2,3,4,5]))',\n",
       "  \"print(bytes(5))\\nprint(bytes([1,2,3,4,5]))\\nprint(bytes('hello','utf-8'))\",\n",
       "  \"print(bytes(5))\\nprint(bytes([1,2,3,4,5]))\\nprint(bytes('hello','utf-8'))\\n#Here, utf-8 is the encoding.\\n#Both bytes() and bytearray() deal with raw data, but bytearray() is mutable, while bytes() is immutable.\",\n",
       "  \"print(bytes(5))\\nprint(bytes([1,2,3,4,5]))\\nprint(bytes('hello','utf-8'))\\n#Here, utf-8 is the encoding.\\n#Both bytes() and bytearray() deal with raw data, but bytearray() is mutable, while bytes() is immutable.\\na=bytes([1,2,3,4,5])\\nprint(a)\",\n",
       "  \"print(bytes(5))\\nprint(bytes([1,2,3,4,5]))\\nprint(bytes('hello','utf-8'))\\n#Here, utf-8 is the encoding.\\n#Both bytes() and bytearray() deal with raw data, but bytearray() is mutable, while bytes() is immutable.\\na=bytes([1,2,3,4,5])\\nprint(a)\\na[4]=3\",\n",
       "  \"print(bytes(5))\\nprint(bytes([1,2,3,4,5]))\\nprint(bytes('hello','utf-8'))\\n#Here, utf-8 is the encoding.\\n#Both bytes() and bytearray() deal with raw data, but bytearray() is mutable, while bytes() is immutable.\\na=bytes([1,2,3,4,5])\\nprint(a)\\n#a[4]=3-----not possible\",\n",
       "  \"print(bytes(5))\\nprint(bytes([1,2,3,4,5]))\\nprint(bytes('hello','utf-8'))\\n#Here, utf-8 is the encoding.\\n#Both bytes() and bytearray() deal with raw data, but bytearray() is mutable, while bytes() is immutable.\\na=bytes([1,2,3,4,5])\\nprint(a)\\n#a[4]=3-----not possible\",\n",
       "  'print(callable([1,2,3]))',\n",
       "  'print(callable([1,2,3]))\\nprint(callable(callable))',\n",
       "  'print(callable([1,2,3]))\\nprint(callable(callable))\\nprint(callable(False))',\n",
       "  'print(callable([1,2,3]))\\nprint(callable(callable))\\nprint(callable(False))\\nprint(callable(list))',\n",
       "  'print(chr(65))\\nprint(chr(97))\\nprint(chr(9))\\nprint(chr(48))',\n",
       "  'class fruit:\\n                def sayhi(self):\\n                                print(\"Hi, I\\'m a fruit\") \\n       \\nfruit.sayhi=classmethod(fruit.sayhi)\\nfruit.sayhi()',\n",
       "  \"exec(compile('a=5\\\\nb=7\\\\nprint(a+b)','','exec'))\",\n",
       "  \"exec(compile('a=5\\\\nb=7\\\\nprint(a+b)','','exec'))\\n#Here, ‘exec’ is the mode. The parameter before that is the filename for the file form which the code is read.\\n#Finally, we execute it using exec().\",\n",
       "  'complex(3.5)',\n",
       "  'class fruit:\\n                size=7  \\n         \\norange=fruit()\\norange.size',\n",
       "  \"class fruit:\\n                size=7  \\n         \\norange=fruit()\\norange.size\\ndelattr(fruit,'size')\\norange.size\",\n",
       "  \"class fruit:\\n                size=7  \\n         \\norange=fruit()\\norange.size\\ndelattr(fruit,'size')\\norange.size\",\n",
       "  'print(dict())',\n",
       "  'print(dict())\\nprint(dict([(1,2),(3,4)]))',\n",
       "  \"class fruit:\\n                size=7\\n                shape='round'\\norange=fruit()\\ndir(orange)\",\n",
       "  'print(divmod(3,7))',\n",
       "  'print(divmod(7,3))',\n",
       "  \"for i in enumerate(['a','b','c']):\\n                print(i)\",\n",
       "  \"x=7\\nprint(eval('x+7'))\",\n",
       "  \"x=7\\nprint(eval('x+7'))\\nprint(eval('x+(x%2)'))\",\n",
       "  \"exec('a=2;b=3;print(a+b)')\",\n",
       "  'print(exec(\\'a=2;b=3;print(a+b)\\'))\\nprint(exec(input(\"Enter your program\")))',\n",
       "  'print(exec(\\'a=2;b=3;print(a+b)\\'))\\nprint(exec(input(\"Enter your program\")))',\n",
       "  'print(exec(\\'a=2;b=3;print(a+b)\\'))\\nprint(exec(input(\"Enter your program\")))',\n",
       "  'print(exec(\\'a=2;b=3;print(a+b)\\'))\\nprint(exec(input(\"Enter your program\")))',\n",
       "  'print(exec(\\'a=2;b=3;print(a+b)\\'))\\nprint(exec(input(\"Enter your program\")))',\n",
       "  'print(exec(\\'a=2;b=3;print(a+b)\\'))\\nprint(exec(input(\"Enter your program\")))',\n",
       "  \"print(exec('a=2;b=3;print(a+b)'))\",\n",
       "  \"print(float('3'))\\nprint(float(2))\",\n",
       "  \"print(float('3'))\\nprint(float(2))\\nprint(float(False))\\nprint(float(4.7))\",\n",
       "  \"print(float('3'))\\nprint(float(2))\\nprint(float(False))\\nprint(float(4.7))\\nprint(float(True))\",\n",
       "  'a,b=2,3\\nprint(\"a={0} and b={1}\".format(a,b))',\n",
       "  'a,b=2,3\\nprint(\"a={0} and b={1}\".format(a,b))\\n print(\"a={a} and b={b}\".format(a=3,b=4))',\n",
       "  'a,b=2,3\\nprint(\"a={0} and b={1}\".format(a,b))\\nprint(\"a={a} and b={b}\".format(a=3,b=4))',\n",
       "  'print(frozenset((3,2,4)))',\n",
       "  \"getattr(orange,'size')\",\n",
       "  'globals()'],\n",
       " '_oh': {35: (3.5+0j),\n",
       "  36: 7,\n",
       "  41: ['__class__',\n",
       "   '__delattr__',\n",
       "   '__dict__',\n",
       "   '__dir__',\n",
       "   '__doc__',\n",
       "   '__eq__',\n",
       "   '__format__',\n",
       "   '__ge__',\n",
       "   '__getattribute__',\n",
       "   '__gt__',\n",
       "   '__hash__',\n",
       "   '__init__',\n",
       "   '__init_subclass__',\n",
       "   '__le__',\n",
       "   '__lt__',\n",
       "   '__module__',\n",
       "   '__ne__',\n",
       "   '__new__',\n",
       "   '__reduce__',\n",
       "   '__reduce_ex__',\n",
       "   '__repr__',\n",
       "   '__setattr__',\n",
       "   '__sizeof__',\n",
       "   '__str__',\n",
       "   '__subclasshook__',\n",
       "   '__weakref__',\n",
       "   'shape',\n",
       "   'size'],\n",
       "  62: 7},\n",
       " '_dh': ['C:\\\\python programming'],\n",
       " 'In': ['',\n",
       "  'print(abs(-7))\\nprint(abs(7))\\nprint(abs(0))',\n",
       "  \"print(all({'*','',''}))\",\n",
       "  \"print(all({'*','',''}))\\nprint(all([' ',' ',' ']))\",\n",
       "  'print(any((1,0,0)))',\n",
       "  \"print(ascii('ș'))\",\n",
       "  \"print(ascii('ș'))\\n#Since this was a non-ASCII character in python, the interpreter added a backslash (\\\\) and escaped it using another\\n#backslash.\\nprint(ascii('ușor'))\",\n",
       "  \"print(ascii('ș'))\\n#Since this was a non-ASCII character in python, the interpreter added a backslash (\\\\) and escaped it using another\\n#backslash.\\nprint(ascii('ușor'))\\n#Let’s apply it to a list.\\nprint(ascii(['s','ș']))\",\n",
       "  'print(bin(7))',\n",
       "  'print(type(bin(7))',\n",
       "  'print(type(bin(7)))',\n",
       "  'print((bin(7))',\n",
       "  'print(bin(7))',\n",
       "  'print(bin(7.0))',\n",
       "  'print(bin(7))\\n#NOT APPLICABLE ON FLOAT TYPE DATA.',\n",
       "  'print(bool(0.5))',\n",
       "  \"print(bool(0.5))\\nprint(bool(''))\\nprint(bool(True))\",\n",
       "  'a=bytearray(4)\\nprint(a)\\nprint(a.append(1))\\nprint(a)',\n",
       "  'a=bytearray(4)\\nprint(a)\\na.append(1)\\nprint(a)\\nprint(bytearray([1,2,3,4]))',\n",
       "  'print(bytes(5))\\nprint(bytes([1,2,3,4,5])',\n",
       "  'print(bytes(5))\\nprint(bytes([1,2,3,4,5]))',\n",
       "  \"print(bytes(5))\\nprint(bytes([1,2,3,4,5]))\\nprint(bytes('hello','utf-8'))\",\n",
       "  \"print(bytes(5))\\nprint(bytes([1,2,3,4,5]))\\nprint(bytes('hello','utf-8'))\\n#Here, utf-8 is the encoding.\\n#Both bytes() and bytearray() deal with raw data, but bytearray() is mutable, while bytes() is immutable.\",\n",
       "  \"print(bytes(5))\\nprint(bytes([1,2,3,4,5]))\\nprint(bytes('hello','utf-8'))\\n#Here, utf-8 is the encoding.\\n#Both bytes() and bytearray() deal with raw data, but bytearray() is mutable, while bytes() is immutable.\\na=bytes([1,2,3,4,5])\\nprint(a)\",\n",
       "  \"print(bytes(5))\\nprint(bytes([1,2,3,4,5]))\\nprint(bytes('hello','utf-8'))\\n#Here, utf-8 is the encoding.\\n#Both bytes() and bytearray() deal with raw data, but bytearray() is mutable, while bytes() is immutable.\\na=bytes([1,2,3,4,5])\\nprint(a)\\na[4]=3\",\n",
       "  \"print(bytes(5))\\nprint(bytes([1,2,3,4,5]))\\nprint(bytes('hello','utf-8'))\\n#Here, utf-8 is the encoding.\\n#Both bytes() and bytearray() deal with raw data, but bytearray() is mutable, while bytes() is immutable.\\na=bytes([1,2,3,4,5])\\nprint(a)\\n#a[4]=3-----not possible\",\n",
       "  \"print(bytes(5))\\nprint(bytes([1,2,3,4,5]))\\nprint(bytes('hello','utf-8'))\\n#Here, utf-8 is the encoding.\\n#Both bytes() and bytearray() deal with raw data, but bytearray() is mutable, while bytes() is immutable.\\na=bytes([1,2,3,4,5])\\nprint(a)\\n#a[4]=3-----not possible\",\n",
       "  'print(callable([1,2,3]))',\n",
       "  'print(callable([1,2,3]))\\nprint(callable(callable))',\n",
       "  'print(callable([1,2,3]))\\nprint(callable(callable))\\nprint(callable(False))',\n",
       "  'print(callable([1,2,3]))\\nprint(callable(callable))\\nprint(callable(False))\\nprint(callable(list))',\n",
       "  'print(chr(65))\\nprint(chr(97))\\nprint(chr(9))\\nprint(chr(48))',\n",
       "  'class fruit:\\n                def sayhi(self):\\n                                print(\"Hi, I\\'m a fruit\") \\n       \\nfruit.sayhi=classmethod(fruit.sayhi)\\nfruit.sayhi()',\n",
       "  \"exec(compile('a=5\\\\nb=7\\\\nprint(a+b)','','exec'))\",\n",
       "  \"exec(compile('a=5\\\\nb=7\\\\nprint(a+b)','','exec'))\\n#Here, ‘exec’ is the mode. The parameter before that is the filename for the file form which the code is read.\\n#Finally, we execute it using exec().\",\n",
       "  'complex(3.5)',\n",
       "  'class fruit:\\n                size=7  \\n         \\norange=fruit()\\norange.size',\n",
       "  \"class fruit:\\n                size=7  \\n         \\norange=fruit()\\norange.size\\ndelattr(fruit,'size')\\norange.size\",\n",
       "  \"class fruit:\\n                size=7  \\n         \\norange=fruit()\\norange.size\\ndelattr(fruit,'size')\\norange.size\",\n",
       "  'print(dict())',\n",
       "  'print(dict())\\nprint(dict([(1,2),(3,4)]))',\n",
       "  \"class fruit:\\n                size=7\\n                shape='round'\\norange=fruit()\\ndir(orange)\",\n",
       "  'print(divmod(3,7))',\n",
       "  'print(divmod(7,3))',\n",
       "  \"for i in enumerate(['a','b','c']):\\n                print(i)\",\n",
       "  \"x=7\\nprint(eval('x+7'))\",\n",
       "  \"x=7\\nprint(eval('x+7'))\\nprint(eval('x+(x%2)'))\",\n",
       "  \"exec('a=2;b=3;print(a+b)')\",\n",
       "  'print(exec(\\'a=2;b=3;print(a+b)\\'))\\nprint(exec(input(\"Enter your program\")))',\n",
       "  'print(exec(\\'a=2;b=3;print(a+b)\\'))\\nprint(exec(input(\"Enter your program\")))',\n",
       "  'print(exec(\\'a=2;b=3;print(a+b)\\'))\\nprint(exec(input(\"Enter your program\")))',\n",
       "  'print(exec(\\'a=2;b=3;print(a+b)\\'))\\nprint(exec(input(\"Enter your program\")))',\n",
       "  'print(exec(\\'a=2;b=3;print(a+b)\\'))\\nprint(exec(input(\"Enter your program\")))',\n",
       "  'print(exec(\\'a=2;b=3;print(a+b)\\'))\\nprint(exec(input(\"Enter your program\")))',\n",
       "  \"print(exec('a=2;b=3;print(a+b)'))\",\n",
       "  \"print(float('3'))\\nprint(float(2))\",\n",
       "  \"print(float('3'))\\nprint(float(2))\\nprint(float(False))\\nprint(float(4.7))\",\n",
       "  \"print(float('3'))\\nprint(float(2))\\nprint(float(False))\\nprint(float(4.7))\\nprint(float(True))\",\n",
       "  'a,b=2,3\\nprint(\"a={0} and b={1}\".format(a,b))',\n",
       "  'a,b=2,3\\nprint(\"a={0} and b={1}\".format(a,b))\\n print(\"a={a} and b={b}\".format(a=3,b=4))',\n",
       "  'a,b=2,3\\nprint(\"a={0} and b={1}\".format(a,b))\\nprint(\"a={a} and b={b}\".format(a=3,b=4))',\n",
       "  'print(frozenset((3,2,4)))',\n",
       "  \"getattr(orange,'size')\",\n",
       "  'globals()'],\n",
       " 'Out': {35: (3.5+0j),\n",
       "  36: 7,\n",
       "  41: ['__class__',\n",
       "   '__delattr__',\n",
       "   '__dict__',\n",
       "   '__dir__',\n",
       "   '__doc__',\n",
       "   '__eq__',\n",
       "   '__format__',\n",
       "   '__ge__',\n",
       "   '__getattribute__',\n",
       "   '__gt__',\n",
       "   '__hash__',\n",
       "   '__init__',\n",
       "   '__init_subclass__',\n",
       "   '__le__',\n",
       "   '__lt__',\n",
       "   '__module__',\n",
       "   '__ne__',\n",
       "   '__new__',\n",
       "   '__reduce__',\n",
       "   '__reduce_ex__',\n",
       "   '__repr__',\n",
       "   '__setattr__',\n",
       "   '__sizeof__',\n",
       "   '__str__',\n",
       "   '__subclasshook__',\n",
       "   '__weakref__',\n",
       "   'shape',\n",
       "   'size'],\n",
       "  62: 7},\n",
       " 'get_ipython': <bound method InteractiveShell.get_ipython of <ipykernel.zmqshell.ZMQInteractiveShell object at 0x000001AC6FFC5CA0>>,\n",
       " 'exit': <IPython.core.autocall.ZMQExitAutocall at 0x1ac7006deb0>,\n",
       " 'quit': <IPython.core.autocall.ZMQExitAutocall at 0x1ac7006deb0>,\n",
       " '_': 7,\n",
       " '__': ['__class__',\n",
       "  '__delattr__',\n",
       "  '__dict__',\n",
       "  '__dir__',\n",
       "  '__doc__',\n",
       "  '__eq__',\n",
       "  '__format__',\n",
       "  '__ge__',\n",
       "  '__getattribute__',\n",
       "  '__gt__',\n",
       "  '__hash__',\n",
       "  '__init__',\n",
       "  '__init_subclass__',\n",
       "  '__le__',\n",
       "  '__lt__',\n",
       "  '__module__',\n",
       "  '__ne__',\n",
       "  '__new__',\n",
       "  '__reduce__',\n",
       "  '__reduce_ex__',\n",
       "  '__repr__',\n",
       "  '__setattr__',\n",
       "  '__sizeof__',\n",
       "  '__str__',\n",
       "  '__subclasshook__',\n",
       "  '__weakref__',\n",
       "  'shape',\n",
       "  'size'],\n",
       " '___': 7,\n",
       " '_i': \"getattr(orange,'size')\",\n",
       " '_ii': 'print(frozenset((3,2,4)))',\n",
       " '_iii': 'a,b=2,3\\nprint(\"a={0} and b={1}\".format(a,b))\\nprint(\"a={a} and b={b}\".format(a=3,b=4))',\n",
       " '_i1': 'print(abs(-7))\\nprint(abs(7))\\nprint(abs(0))',\n",
       " '_i2': \"print(all({'*','',''}))\",\n",
       " '_i3': \"print(all({'*','',''}))\\nprint(all([' ',' ',' ']))\",\n",
       " '_i4': 'print(any((1,0,0)))',\n",
       " '_i5': \"print(ascii('ș'))\",\n",
       " '_i6': \"print(ascii('ș'))\\n#Since this was a non-ASCII character in python, the interpreter added a backslash (\\\\) and escaped it using another\\n#backslash.\\nprint(ascii('ușor'))\",\n",
       " '_i7': \"print(ascii('ș'))\\n#Since this was a non-ASCII character in python, the interpreter added a backslash (\\\\) and escaped it using another\\n#backslash.\\nprint(ascii('ușor'))\\n#Let’s apply it to a list.\\nprint(ascii(['s','ș']))\",\n",
       " '_i8': 'print(bin(7))',\n",
       " '_i9': 'print(type(bin(7))',\n",
       " '_i10': 'print(type(bin(7)))',\n",
       " '_i11': 'print((bin(7))',\n",
       " '_i12': 'print(bin(7))',\n",
       " '_i13': 'print(bin(7.0))',\n",
       " '_i14': 'print(bin(7))\\n#NOT APPLICABLE ON FLOAT TYPE DATA.',\n",
       " '_i15': 'print(bool(0.5))',\n",
       " '_i16': \"print(bool(0.5))\\nprint(bool(''))\\nprint(bool(True))\",\n",
       " '_i17': 'a=bytearray(4)\\nprint(a)\\nprint(a.append(1))\\nprint(a)',\n",
       " 'a': 2,\n",
       " '_i18': 'a=bytearray(4)\\nprint(a)\\na.append(1)\\nprint(a)\\nprint(bytearray([1,2,3,4]))',\n",
       " '_i19': 'print(bytes(5))\\nprint(bytes([1,2,3,4,5])',\n",
       " '_i20': 'print(bytes(5))\\nprint(bytes([1,2,3,4,5]))',\n",
       " '_i21': \"print(bytes(5))\\nprint(bytes([1,2,3,4,5]))\\nprint(bytes('hello','utf-8'))\",\n",
       " '_i22': \"print(bytes(5))\\nprint(bytes([1,2,3,4,5]))\\nprint(bytes('hello','utf-8'))\\n#Here, utf-8 is the encoding.\\n#Both bytes() and bytearray() deal with raw data, but bytearray() is mutable, while bytes() is immutable.\",\n",
       " '_i23': \"print(bytes(5))\\nprint(bytes([1,2,3,4,5]))\\nprint(bytes('hello','utf-8'))\\n#Here, utf-8 is the encoding.\\n#Both bytes() and bytearray() deal with raw data, but bytearray() is mutable, while bytes() is immutable.\\na=bytes([1,2,3,4,5])\\nprint(a)\",\n",
       " '_i24': \"print(bytes(5))\\nprint(bytes([1,2,3,4,5]))\\nprint(bytes('hello','utf-8'))\\n#Here, utf-8 is the encoding.\\n#Both bytes() and bytearray() deal with raw data, but bytearray() is mutable, while bytes() is immutable.\\na=bytes([1,2,3,4,5])\\nprint(a)\\na[4]=3\",\n",
       " '_i25': \"print(bytes(5))\\nprint(bytes([1,2,3,4,5]))\\nprint(bytes('hello','utf-8'))\\n#Here, utf-8 is the encoding.\\n#Both bytes() and bytearray() deal with raw data, but bytearray() is mutable, while bytes() is immutable.\\na=bytes([1,2,3,4,5])\\nprint(a)\\n#a[4]=3-----not possible\",\n",
       " '_i26': \"print(bytes(5))\\nprint(bytes([1,2,3,4,5]))\\nprint(bytes('hello','utf-8'))\\n#Here, utf-8 is the encoding.\\n#Both bytes() and bytearray() deal with raw data, but bytearray() is mutable, while bytes() is immutable.\\na=bytes([1,2,3,4,5])\\nprint(a)\\n#a[4]=3-----not possible\",\n",
       " '_i27': 'print(callable([1,2,3]))',\n",
       " '_i28': 'print(callable([1,2,3]))\\nprint(callable(callable))',\n",
       " '_i29': 'print(callable([1,2,3]))\\nprint(callable(callable))\\nprint(callable(False))',\n",
       " '_i30': 'print(callable([1,2,3]))\\nprint(callable(callable))\\nprint(callable(False))\\nprint(callable(list))',\n",
       " '_i31': 'print(chr(65))\\nprint(chr(97))\\nprint(chr(9))\\nprint(chr(48))',\n",
       " '_i32': '>>> class fruit:\\n                def sayhi(self):\\n                                print(\"Hi, I\\'m a fruit\") \\n       \\n>>> fruit.sayhi=classmethod(fruit.sayhi)\\n>>> fruit.sayhi()',\n",
       " 'fruit': __main__.fruit,\n",
       " '_i33': \"exec(compile('a=5\\\\nb=7\\\\nprint(a+b)','','exec'))\",\n",
       " 'b': 3,\n",
       " '_i34': \"exec(compile('a=5\\\\nb=7\\\\nprint(a+b)','','exec'))\\n#Here, ‘exec’ is the mode. The parameter before that is the filename for the file form which the code is read.\\n#Finally, we execute it using exec().\",\n",
       " '_i35': 'complex(3.5)',\n",
       " '_35': (3.5+0j),\n",
       " '_i36': '>>> class fruit:\\n                size=7  \\n         \\n>>> orange=fruit()\\n>>> orange.size',\n",
       " 'orange': <__main__.fruit at 0x1ac700becd0>,\n",
       " '_36': 7,\n",
       " '_i37': \">>> class fruit:\\n                size=7  \\n         \\n>>> orange=fruit()\\n>>> orange.size\\n>>> delattr(fruit,'size')\\n>>> orange.size\",\n",
       " '_i38': \">>> class fruit:\\n                size=7  \\n         \\n>>> orange=fruit()\\n>>> orange.size\\n>>> delattr(fruit,'size')\\n>>> orange.size\",\n",
       " '_i39': 'print(dict())',\n",
       " '_i40': 'print(dict())\\nprint(dict([(1,2),(3,4)]))',\n",
       " '_i41': \">>> class fruit:\\n                size=7\\n                shape='round'\\n>>> orange=fruit()\\n>>> dir(orange)\",\n",
       " '_41': ['__class__',\n",
       "  '__delattr__',\n",
       "  '__dict__',\n",
       "  '__dir__',\n",
       "  '__doc__',\n",
       "  '__eq__',\n",
       "  '__format__',\n",
       "  '__ge__',\n",
       "  '__getattribute__',\n",
       "  '__gt__',\n",
       "  '__hash__',\n",
       "  '__init__',\n",
       "  '__init_subclass__',\n",
       "  '__le__',\n",
       "  '__lt__',\n",
       "  '__module__',\n",
       "  '__ne__',\n",
       "  '__new__',\n",
       "  '__reduce__',\n",
       "  '__reduce_ex__',\n",
       "  '__repr__',\n",
       "  '__setattr__',\n",
       "  '__sizeof__',\n",
       "  '__str__',\n",
       "  '__subclasshook__',\n",
       "  '__weakref__',\n",
       "  'shape',\n",
       "  'size'],\n",
       " '_i42': 'print(divmod(3,7))',\n",
       " '_i43': 'print(divmod(7,3))',\n",
       " '_i44': \"for i in enumerate(['a','b','c']):\\n                print(i)\",\n",
       " 'i': (2, 'c'),\n",
       " '_i45': \"x=7\\nprint(eval('x+7'))\",\n",
       " 'x': 7,\n",
       " '_i46': \"x=7\\nprint(eval('x+7'))\\nprint(eval('x+(x%2)'))\",\n",
       " '_i47': \"exec('a=2;b=3;print(a+b)')\",\n",
       " '_i48': 'print(exec(\\'a=2;b=3;print(a+b)\\'))\\nprint(exec(input(\"Enter your program\")))',\n",
       " '_i49': 'print(exec(\\'a=2;b=3;print(a+b)\\'))\\nprint(exec(input(\"Enter your program\")))',\n",
       " '_i50': 'print(exec(\\'a=2;b=3;print(a+b)\\'))\\nprint(exec(input(\"Enter your program\")))',\n",
       " '_i51': 'print(exec(\\'a=2;b=3;print(a+b)\\'))\\nprint(exec(input(\"Enter your program\")))',\n",
       " '_i52': 'print(exec(\\'a=2;b=3;print(a+b)\\'))\\nprint(exec(input(\"Enter your program\")))',\n",
       " '_i53': 'print(exec(\\'a=2;b=3;print(a+b)\\'))\\nprint(exec(input(\"Enter your program\")))',\n",
       " '_i54': \"print(exec('a=2;b=3;print(a+b)'))\",\n",
       " '_i55': \"print(float('3'))\\nprint(float(2))\",\n",
       " '_i56': \"print(float('3'))\\nprint(float(2))\\nprint(float(False))\\nprint(float(4.7))\",\n",
       " '_i57': \"print(float('3'))\\nprint(float(2))\\nprint(float(False))\\nprint(float(4.7))\\nprint(float(True))\",\n",
       " '_i58': 'a,b=2,3\\nprint(\"a={0} and b={1}\".format(a,b))',\n",
       " '_i59': 'a,b=2,3\\nprint(\"a={0} and b={1}\".format(a,b))\\n print(\"a={a} and b={b}\".format(a=3,b=4))',\n",
       " '_i60': 'a,b=2,3\\nprint(\"a={0} and b={1}\".format(a,b))\\nprint(\"a={a} and b={b}\".format(a=3,b=4))',\n",
       " '_i61': 'print(frozenset((3,2,4)))',\n",
       " '_i62': \"getattr(orange,'size')\",\n",
       " '_62': 7,\n",
       " '_i63': 'globals()'}"
      ]
     },
     "execution_count": 63,
     "metadata": {},
     "output_type": "execute_result"
    }
   ],
   "source": [
    "globals()"
   ]
  },
  {
   "cell_type": "markdown",
   "metadata": {},
   "source": [
    "# 27. hasattr()\n",
    "\n",
    "Like delattr() and getattr(), hasattr() Python built-in functions, returns True if the object has that attribute."
   ]
  },
  {
   "cell_type": "code",
   "execution_count": 65,
   "metadata": {},
   "outputs": [
    {
     "name": "stdout",
     "output_type": "stream",
     "text": [
      "True\n",
      "False\n"
     ]
    }
   ],
   "source": [
    "print(hasattr(orange,'size'))\n",
    "print(hasattr(orange,'color'))"
   ]
  },
  {
   "cell_type": "markdown",
   "metadata": {},
   "source": [
    "# 28. hash()\n",
    "\n",
    "hash() function returns the hash value of an object. And in Python, everything is an object."
   ]
  },
  {
   "cell_type": "code",
   "execution_count": 68,
   "metadata": {},
   "outputs": [
    {
     "name": "stdout",
     "output_type": "stream",
     "text": [
      "115007864525\n",
      "1\n"
     ]
    }
   ],
   "source": [
    "print(hash(orange))\n",
    "print(hash(True))"
   ]
  },
  {
   "cell_type": "markdown",
   "metadata": {},
   "source": [
    "# 29. help()\n",
    "\n",
    "To get details about any module, keyword, symbol, or topic, we use the help() function."
   ]
  },
  {
   "cell_type": "code",
   "execution_count": 72,
   "metadata": {},
   "outputs": [
    {
     "name": "stdout",
     "output_type": "stream",
     "text": [
      "Help on class str in module builtins:\n",
      "\n",
      "class str(object)\n",
      " |  str(object='') -> str\n",
      " |  str(bytes_or_buffer[, encoding[, errors]]) -> str\n",
      " |  \n",
      " |  Create a new string object from the given object. If encoding or\n",
      " |  errors is specified, then the object must expose a data buffer\n",
      " |  that will be decoded using the given encoding and error handler.\n",
      " |  Otherwise, returns the result of object.__str__() (if defined)\n",
      " |  or repr(object).\n",
      " |  encoding defaults to sys.getdefaultencoding().\n",
      " |  errors defaults to 'strict'.\n",
      " |  \n",
      " |  Methods defined here:\n",
      " |  \n",
      " |  __add__(self, value, /)\n",
      " |      Return self+value.\n",
      " |  \n",
      " |  __contains__(self, key, /)\n",
      " |      Return key in self.\n",
      " |  \n",
      " |  __eq__(self, value, /)\n",
      " |      Return self==value.\n",
      " |  \n",
      " |  __format__(self, format_spec, /)\n",
      " |      Return a formatted version of the string as described by format_spec.\n",
      " |  \n",
      " |  __ge__(self, value, /)\n",
      " |      Return self>=value.\n",
      " |  \n",
      " |  __getattribute__(self, name, /)\n",
      " |      Return getattr(self, name).\n",
      " |  \n",
      " |  __getitem__(self, key, /)\n",
      " |      Return self[key].\n",
      " |  \n",
      " |  __getnewargs__(...)\n",
      " |  \n",
      " |  __gt__(self, value, /)\n",
      " |      Return self>value.\n",
      " |  \n",
      " |  __hash__(self, /)\n",
      " |      Return hash(self).\n",
      " |  \n",
      " |  __iter__(self, /)\n",
      " |      Implement iter(self).\n",
      " |  \n",
      " |  __le__(self, value, /)\n",
      " |      Return self<=value.\n",
      " |  \n",
      " |  __len__(self, /)\n",
      " |      Return len(self).\n",
      " |  \n",
      " |  __lt__(self, value, /)\n",
      " |      Return self<value.\n",
      " |  \n",
      " |  __mod__(self, value, /)\n",
      " |      Return self%value.\n",
      " |  \n",
      " |  __mul__(self, value, /)\n",
      " |      Return self*value.\n",
      " |  \n",
      " |  __ne__(self, value, /)\n",
      " |      Return self!=value.\n",
      " |  \n",
      " |  __repr__(self, /)\n",
      " |      Return repr(self).\n",
      " |  \n",
      " |  __rmod__(self, value, /)\n",
      " |      Return value%self.\n",
      " |  \n",
      " |  __rmul__(self, value, /)\n",
      " |      Return value*self.\n",
      " |  \n",
      " |  __sizeof__(self, /)\n",
      " |      Return the size of the string in memory, in bytes.\n",
      " |  \n",
      " |  __str__(self, /)\n",
      " |      Return str(self).\n",
      " |  \n",
      " |  capitalize(self, /)\n",
      " |      Return a capitalized version of the string.\n",
      " |      \n",
      " |      More specifically, make the first character have upper case and the rest lower\n",
      " |      case.\n",
      " |  \n",
      " |  casefold(self, /)\n",
      " |      Return a version of the string suitable for caseless comparisons.\n",
      " |  \n",
      " |  center(self, width, fillchar=' ', /)\n",
      " |      Return a centered string of length width.\n",
      " |      \n",
      " |      Padding is done using the specified fill character (default is a space).\n",
      " |  \n",
      " |  count(...)\n",
      " |      S.count(sub[, start[, end]]) -> int\n",
      " |      \n",
      " |      Return the number of non-overlapping occurrences of substring sub in\n",
      " |      string S[start:end].  Optional arguments start and end are\n",
      " |      interpreted as in slice notation.\n",
      " |  \n",
      " |  encode(self, /, encoding='utf-8', errors='strict')\n",
      " |      Encode the string using the codec registered for encoding.\n",
      " |      \n",
      " |      encoding\n",
      " |        The encoding in which to encode the string.\n",
      " |      errors\n",
      " |        The error handling scheme to use for encoding errors.\n",
      " |        The default is 'strict' meaning that encoding errors raise a\n",
      " |        UnicodeEncodeError.  Other possible values are 'ignore', 'replace' and\n",
      " |        'xmlcharrefreplace' as well as any other name registered with\n",
      " |        codecs.register_error that can handle UnicodeEncodeErrors.\n",
      " |  \n",
      " |  endswith(...)\n",
      " |      S.endswith(suffix[, start[, end]]) -> bool\n",
      " |      \n",
      " |      Return True if S ends with the specified suffix, False otherwise.\n",
      " |      With optional start, test S beginning at that position.\n",
      " |      With optional end, stop comparing S at that position.\n",
      " |      suffix can also be a tuple of strings to try.\n",
      " |  \n",
      " |  expandtabs(self, /, tabsize=8)\n",
      " |      Return a copy where all tab characters are expanded using spaces.\n",
      " |      \n",
      " |      If tabsize is not given, a tab size of 8 characters is assumed.\n",
      " |  \n",
      " |  find(...)\n",
      " |      S.find(sub[, start[, end]]) -> int\n",
      " |      \n",
      " |      Return the lowest index in S where substring sub is found,\n",
      " |      such that sub is contained within S[start:end].  Optional\n",
      " |      arguments start and end are interpreted as in slice notation.\n",
      " |      \n",
      " |      Return -1 on failure.\n",
      " |  \n",
      " |  format(...)\n",
      " |      S.format(*args, **kwargs) -> str\n",
      " |      \n",
      " |      Return a formatted version of S, using substitutions from args and kwargs.\n",
      " |      The substitutions are identified by braces ('{' and '}').\n",
      " |  \n",
      " |  format_map(...)\n",
      " |      S.format_map(mapping) -> str\n",
      " |      \n",
      " |      Return a formatted version of S, using substitutions from mapping.\n",
      " |      The substitutions are identified by braces ('{' and '}').\n",
      " |  \n",
      " |  index(...)\n",
      " |      S.index(sub[, start[, end]]) -> int\n",
      " |      \n",
      " |      Return the lowest index in S where substring sub is found,\n",
      " |      such that sub is contained within S[start:end].  Optional\n",
      " |      arguments start and end are interpreted as in slice notation.\n",
      " |      \n",
      " |      Raises ValueError when the substring is not found.\n",
      " |  \n",
      " |  isalnum(self, /)\n",
      " |      Return True if the string is an alpha-numeric string, False otherwise.\n",
      " |      \n",
      " |      A string is alpha-numeric if all characters in the string are alpha-numeric and\n",
      " |      there is at least one character in the string.\n",
      " |  \n",
      " |  isalpha(self, /)\n",
      " |      Return True if the string is an alphabetic string, False otherwise.\n",
      " |      \n",
      " |      A string is alphabetic if all characters in the string are alphabetic and there\n",
      " |      is at least one character in the string.\n",
      " |  \n",
      " |  isascii(self, /)\n",
      " |      Return True if all characters in the string are ASCII, False otherwise.\n",
      " |      \n",
      " |      ASCII characters have code points in the range U+0000-U+007F.\n",
      " |      Empty string is ASCII too.\n",
      " |  \n",
      " |  isdecimal(self, /)\n",
      " |      Return True if the string is a decimal string, False otherwise.\n",
      " |      \n",
      " |      A string is a decimal string if all characters in the string are decimal and\n",
      " |      there is at least one character in the string.\n",
      " |  \n",
      " |  isdigit(self, /)\n",
      " |      Return True if the string is a digit string, False otherwise.\n",
      " |      \n",
      " |      A string is a digit string if all characters in the string are digits and there\n",
      " |      is at least one character in the string.\n",
      " |  \n",
      " |  isidentifier(self, /)\n",
      " |      Return True if the string is a valid Python identifier, False otherwise.\n",
      " |      \n",
      " |      Call keyword.iskeyword(s) to test whether string s is a reserved identifier,\n",
      " |      such as \"def\" or \"class\".\n",
      " |  \n",
      " |  islower(self, /)\n",
      " |      Return True if the string is a lowercase string, False otherwise.\n",
      " |      \n",
      " |      A string is lowercase if all cased characters in the string are lowercase and\n",
      " |      there is at least one cased character in the string.\n",
      " |  \n",
      " |  isnumeric(self, /)\n",
      " |      Return True if the string is a numeric string, False otherwise.\n",
      " |      \n",
      " |      A string is numeric if all characters in the string are numeric and there is at\n",
      " |      least one character in the string.\n",
      " |  \n",
      " |  isprintable(self, /)\n",
      " |      Return True if the string is printable, False otherwise.\n",
      " |      \n",
      " |      A string is printable if all of its characters are considered printable in\n",
      " |      repr() or if it is empty.\n",
      " |  \n",
      " |  isspace(self, /)\n",
      " |      Return True if the string is a whitespace string, False otherwise.\n",
      " |      \n",
      " |      A string is whitespace if all characters in the string are whitespace and there\n",
      " |      is at least one character in the string.\n",
      " |  \n",
      " |  istitle(self, /)\n",
      " |      Return True if the string is a title-cased string, False otherwise.\n",
      " |      \n",
      " |      In a title-cased string, upper- and title-case characters may only\n",
      " |      follow uncased characters and lowercase characters only cased ones.\n",
      " |  \n",
      " |  isupper(self, /)\n",
      " |      Return True if the string is an uppercase string, False otherwise.\n",
      " |      \n",
      " |      A string is uppercase if all cased characters in the string are uppercase and\n",
      " |      there is at least one cased character in the string.\n",
      " |  \n",
      " |  join(self, iterable, /)\n",
      " |      Concatenate any number of strings.\n",
      " |      \n",
      " |      The string whose method is called is inserted in between each given string.\n",
      " |      The result is returned as a new string.\n",
      " |      \n",
      " |      Example: '.'.join(['ab', 'pq', 'rs']) -> 'ab.pq.rs'\n",
      " |  \n",
      " |  ljust(self, width, fillchar=' ', /)\n",
      " |      Return a left-justified string of length width.\n",
      " |      \n",
      " |      Padding is done using the specified fill character (default is a space).\n",
      " |  \n",
      " |  lower(self, /)\n",
      " |      Return a copy of the string converted to lowercase.\n",
      " |  \n",
      " |  lstrip(self, chars=None, /)\n",
      " |      Return a copy of the string with leading whitespace removed.\n",
      " |      \n",
      " |      If chars is given and not None, remove characters in chars instead.\n",
      " |  \n",
      " |  partition(self, sep, /)\n",
      " |      Partition the string into three parts using the given separator.\n",
      " |      \n",
      " |      This will search for the separator in the string.  If the separator is found,\n",
      " |      returns a 3-tuple containing the part before the separator, the separator\n",
      " |      itself, and the part after it.\n",
      " |      \n",
      " |      If the separator is not found, returns a 3-tuple containing the original string\n",
      " |      and two empty strings.\n",
      " |  \n",
      " |  replace(self, old, new, count=-1, /)\n",
      " |      Return a copy with all occurrences of substring old replaced by new.\n",
      " |      \n",
      " |        count\n",
      " |          Maximum number of occurrences to replace.\n",
      " |          -1 (the default value) means replace all occurrences.\n",
      " |      \n",
      " |      If the optional argument count is given, only the first count occurrences are\n",
      " |      replaced.\n",
      " |  \n",
      " |  rfind(...)\n",
      " |      S.rfind(sub[, start[, end]]) -> int\n",
      " |      \n",
      " |      Return the highest index in S where substring sub is found,\n",
      " |      such that sub is contained within S[start:end].  Optional\n",
      " |      arguments start and end are interpreted as in slice notation.\n",
      " |      \n",
      " |      Return -1 on failure.\n",
      " |  \n",
      " |  rindex(...)\n",
      " |      S.rindex(sub[, start[, end]]) -> int\n",
      " |      \n",
      " |      Return the highest index in S where substring sub is found,\n",
      " |      such that sub is contained within S[start:end].  Optional\n",
      " |      arguments start and end are interpreted as in slice notation.\n",
      " |      \n",
      " |      Raises ValueError when the substring is not found.\n",
      " |  \n",
      " |  rjust(self, width, fillchar=' ', /)\n",
      " |      Return a right-justified string of length width.\n",
      " |      \n",
      " |      Padding is done using the specified fill character (default is a space).\n",
      " |  \n",
      " |  rpartition(self, sep, /)\n",
      " |      Partition the string into three parts using the given separator.\n",
      " |      \n",
      " |      This will search for the separator in the string, starting at the end. If\n",
      " |      the separator is found, returns a 3-tuple containing the part before the\n",
      " |      separator, the separator itself, and the part after it.\n",
      " |      \n",
      " |      If the separator is not found, returns a 3-tuple containing two empty strings\n",
      " |      and the original string.\n",
      " |  \n",
      " |  rsplit(self, /, sep=None, maxsplit=-1)\n",
      " |      Return a list of the words in the string, using sep as the delimiter string.\n",
      " |      \n",
      " |        sep\n",
      " |          The delimiter according which to split the string.\n",
      " |          None (the default value) means split according to any whitespace,\n",
      " |          and discard empty strings from the result.\n",
      " |        maxsplit\n",
      " |          Maximum number of splits to do.\n",
      " |          -1 (the default value) means no limit.\n",
      " |      \n",
      " |      Splits are done starting at the end of the string and working to the front.\n",
      " |  \n",
      " |  rstrip(self, chars=None, /)\n",
      " |      Return a copy of the string with trailing whitespace removed.\n",
      " |      \n",
      " |      If chars is given and not None, remove characters in chars instead.\n",
      " |  \n",
      " |  split(self, /, sep=None, maxsplit=-1)\n",
      " |      Return a list of the words in the string, using sep as the delimiter string.\n",
      " |      \n",
      " |      sep\n",
      " |        The delimiter according which to split the string.\n",
      " |        None (the default value) means split according to any whitespace,\n",
      " |        and discard empty strings from the result.\n",
      " |      maxsplit\n",
      " |        Maximum number of splits to do.\n",
      " |        -1 (the default value) means no limit.\n",
      " |  \n",
      " |  splitlines(self, /, keepends=False)\n",
      " |      Return a list of the lines in the string, breaking at line boundaries.\n",
      " |      \n",
      " |      Line breaks are not included in the resulting list unless keepends is given and\n",
      " |      true.\n",
      " |  \n",
      " |  startswith(...)\n",
      " |      S.startswith(prefix[, start[, end]]) -> bool\n",
      " |      \n",
      " |      Return True if S starts with the specified prefix, False otherwise.\n",
      " |      With optional start, test S beginning at that position.\n",
      " |      With optional end, stop comparing S at that position.\n",
      " |      prefix can also be a tuple of strings to try.\n",
      " |  \n",
      " |  strip(self, chars=None, /)\n",
      " |      Return a copy of the string with leading and trailing whitespace removed.\n",
      " |      \n",
      " |      If chars is given and not None, remove characters in chars instead.\n",
      " |  \n",
      " |  swapcase(self, /)\n",
      " |      Convert uppercase characters to lowercase and lowercase characters to uppercase.\n",
      " |  \n",
      " |  title(self, /)\n",
      " |      Return a version of the string where each word is titlecased.\n",
      " |      \n",
      " |      More specifically, words start with uppercased characters and all remaining\n",
      " |      cased characters have lower case.\n",
      " |  \n",
      " |  translate(self, table, /)\n",
      " |      Replace each character in the string using the given translation table.\n",
      " |      \n",
      " |        table\n",
      " |          Translation table, which must be a mapping of Unicode ordinals to\n",
      " |          Unicode ordinals, strings, or None.\n",
      " |      \n",
      " |      The table must implement lookup/indexing via __getitem__, for instance a\n",
      " |      dictionary or list.  If this operation raises LookupError, the character is\n",
      " |      left untouched.  Characters mapped to None are deleted.\n",
      " |  \n",
      " |  upper(self, /)\n",
      " |      Return a copy of the string converted to uppercase.\n",
      " |  \n",
      " |  zfill(self, width, /)\n",
      " |      Pad a numeric string with zeros on the left, to fill a field of the given width.\n",
      " |      \n",
      " |      The string is never truncated.\n",
      " |  \n",
      " |  ----------------------------------------------------------------------\n",
      " |  Static methods defined here:\n",
      " |  \n",
      " |  __new__(*args, **kwargs) from builtins.type\n",
      " |      Create and return a new object.  See help(type) for accurate signature.\n",
      " |  \n",
      " |  maketrans(...)\n",
      " |      Return a translation table usable for str.translate().\n",
      " |      \n",
      " |      If there is only one argument, it must be a dictionary mapping Unicode\n",
      " |      ordinals (integers) or characters to Unicode ordinals, strings or None.\n",
      " |      Character keys will be then converted to ordinals.\n",
      " |      If there are two arguments, they must be strings of equal length, and\n",
      " |      in the resulting dictionary, each character in x will be mapped to the\n",
      " |      character at the same position in y. If there is a third argument, it\n",
      " |      must be a string, whose characters will be mapped to None in the result.\n",
      "\n"
     ]
    }
   ],
   "source": [
    "help(str)"
   ]
  },
  {
   "cell_type": "code",
   "execution_count": 73,
   "metadata": {},
   "outputs": [],
   "source": [
    "s='saturday'\n",
    "?s.upper"
   ]
  },
  {
   "cell_type": "markdown",
   "metadata": {},
   "source": [
    "# 30. hex()\n",
    "\n",
    "Hex() Python built-in functions, converts an integer to hexadecimal."
   ]
  },
  {
   "cell_type": "code",
   "execution_count": 75,
   "metadata": {},
   "outputs": [
    {
     "data": {
      "text/plain": [
       "'0x10'"
      ]
     },
     "execution_count": 75,
     "metadata": {},
     "output_type": "execute_result"
    }
   ],
   "source": [
    "hex(16)"
   ]
  },
  {
   "cell_type": "markdown",
   "metadata": {},
   "source": [
    "# 31. id() Function\n",
    "\n",
    "id() returns an object’s identity."
   ]
  },
  {
   "cell_type": "code",
   "execution_count": 76,
   "metadata": {},
   "outputs": [
    {
     "data": {
      "text/plain": [
       "1840125832400"
      ]
     },
     "execution_count": 76,
     "metadata": {},
     "output_type": "execute_result"
    }
   ],
   "source": [
    "id(orange)"
   ]
  },
  {
   "cell_type": "markdown",
   "metadata": {},
   "source": [
    "# 32.  input()\n",
    "\n",
    "Input() Python built-in functions, reads and returns a line of string."
   ]
  },
  {
   "cell_type": "code",
   "execution_count": 80,
   "metadata": {},
   "outputs": [
    {
     "name": "stdout",
     "output_type": "stream",
     "text": [
      "Enter a number23\n",
      "23\n",
      "Enter a number23\n",
      "23\n"
     ]
    }
   ],
   "source": [
    "print(input(\"Enter a number\"))\n",
    "print(int(input(\"Enter a number\")))"
   ]
  },
  {
   "cell_type": "markdown",
   "metadata": {},
   "source": [
    "# 33. int()\n",
    "\n",
    "int() converts a value to an integer."
   ]
  },
  {
   "cell_type": "code",
   "execution_count": 81,
   "metadata": {},
   "outputs": [
    {
     "data": {
      "text/plain": [
       "7"
      ]
     },
     "execution_count": 81,
     "metadata": {},
     "output_type": "execute_result"
    }
   ],
   "source": [
    "int('7')"
   ]
  },
  {
   "cell_type": "markdown",
   "metadata": {},
   "source": [
    "# 34. isinstance()\n",
    "\n",
    "isinstance() takes a variable and a class as arguments. Then, it returns True if the variable belongs to the class. Otherwise, it returns False."
   ]
  },
  {
   "cell_type": "code",
   "execution_count": 83,
   "metadata": {},
   "outputs": [
    {
     "data": {
      "text/plain": [
       "False"
      ]
     },
     "execution_count": 83,
     "metadata": {},
     "output_type": "execute_result"
    }
   ],
   "source": [
    "isinstance(0,str)"
   ]
  },
  {
   "cell_type": "code",
   "execution_count": 84,
   "metadata": {},
   "outputs": [
    {
     "data": {
      "text/plain": [
       "True"
      ]
     },
     "execution_count": 84,
     "metadata": {},
     "output_type": "execute_result"
    }
   ],
   "source": [
    "isinstance(orange,fruit)"
   ]
  },
  {
   "cell_type": "markdown",
   "metadata": {},
   "source": [
    "# 35. issubclass()\n",
    "\n",
    "This Python Built In function takes two arguments- two python classes. If the first class is a subclass of the second, it returns True. Otherwise, it returns False."
   ]
  },
  {
   "cell_type": "code",
   "execution_count": 86,
   "metadata": {},
   "outputs": [
    {
     "data": {
      "text/plain": [
       "False"
      ]
     },
     "execution_count": 86,
     "metadata": {},
     "output_type": "execute_result"
    }
   ],
   "source": [
    ">>> class fruit:\n",
    "           pass\n",
    ">>> class citrus(fruit):\n",
    "           pass\n",
    "issubclass(fruit,citrus)"
   ]
  },
  {
   "cell_type": "code",
   "execution_count": 87,
   "metadata": {},
   "outputs": [
    {
     "data": {
      "text/plain": [
       "True"
      ]
     },
     "execution_count": 87,
     "metadata": {},
     "output_type": "execute_result"
    }
   ],
   "source": [
    "issubclass(fruit,fruit)"
   ]
  },
  {
   "cell_type": "markdown",
   "metadata": {},
   "source": [
    "# 36. iter()\n",
    "\n",
    "Iter() Python built-in functions, returns a python iterator for an object."
   ]
  },
  {
   "cell_type": "code",
   "execution_count": 88,
   "metadata": {},
   "outputs": [
    {
     "name": "stdout",
     "output_type": "stream",
     "text": [
      "1\n",
      "2\n",
      "3\n"
     ]
    }
   ],
   "source": [
    ">>> for i in iter([1,2,3]):\n",
    "            print(i)"
   ]
  },
  {
   "cell_type": "markdown",
   "metadata": {},
   "source": [
    "# 37. len()\n",
    "\n",
    "We’ve seen len() so many times by now. It returns the length of an object."
   ]
  },
  {
   "cell_type": "code",
   "execution_count": 90,
   "metadata": {},
   "outputs": [
    {
     "data": {
      "text/plain": [
       "3"
      ]
     },
     "execution_count": 90,
     "metadata": {},
     "output_type": "execute_result"
    }
   ],
   "source": [
    "len({1,2,2,3})\n",
    "#Here, we get 3 instead of 4, because the set takes the value ‘2’ only once."
   ]
  },
  {
   "cell_type": "markdown",
   "metadata": {},
   "source": [
    "# 38. list()\n",
    "\n",
    "list() creates a list from a sequence of values."
   ]
  },
  {
   "cell_type": "code",
   "execution_count": 91,
   "metadata": {},
   "outputs": [
    {
     "data": {
      "text/plain": [
       "[1, 2, 3]"
      ]
     },
     "execution_count": 91,
     "metadata": {},
     "output_type": "execute_result"
    }
   ],
   "source": [
    "list({1,3,2,2})"
   ]
  },
  {
   "cell_type": "markdown",
   "metadata": {},
   "source": [
    "# 39. locals()\n",
    "\n",
    "This function returns a dictionary of the current local symbol table"
   ]
  },
  {
   "cell_type": "code",
   "execution_count": 92,
   "metadata": {},
   "outputs": [
    {
     "data": {
      "text/plain": [
       "{'__name__': '__main__',\n",
       " '__doc__': 'Automatically created module for IPython interactive environment',\n",
       " '__package__': None,\n",
       " '__loader__': None,\n",
       " '__spec__': None,\n",
       " '__builtin__': <module 'builtins' (built-in)>,\n",
       " '__builtins__': <module 'builtins' (built-in)>,\n",
       " '_ih': ['',\n",
       "  'print(abs(-7))\\nprint(abs(7))\\nprint(abs(0))',\n",
       "  \"print(all({'*','',''}))\",\n",
       "  \"print(all({'*','',''}))\\nprint(all([' ',' ',' ']))\",\n",
       "  'print(any((1,0,0)))',\n",
       "  \"print(ascii('ș'))\",\n",
       "  \"print(ascii('ș'))\\n#Since this was a non-ASCII character in python, the interpreter added a backslash (\\\\) and escaped it using another\\n#backslash.\\nprint(ascii('ușor'))\",\n",
       "  \"print(ascii('ș'))\\n#Since this was a non-ASCII character in python, the interpreter added a backslash (\\\\) and escaped it using another\\n#backslash.\\nprint(ascii('ușor'))\\n#Let’s apply it to a list.\\nprint(ascii(['s','ș']))\",\n",
       "  'print(bin(7))',\n",
       "  'print(type(bin(7))',\n",
       "  'print(type(bin(7)))',\n",
       "  'print((bin(7))',\n",
       "  'print(bin(7))',\n",
       "  'print(bin(7.0))',\n",
       "  'print(bin(7))\\n#NOT APPLICABLE ON FLOAT TYPE DATA.',\n",
       "  'print(bool(0.5))',\n",
       "  \"print(bool(0.5))\\nprint(bool(''))\\nprint(bool(True))\",\n",
       "  'a=bytearray(4)\\nprint(a)\\nprint(a.append(1))\\nprint(a)',\n",
       "  'a=bytearray(4)\\nprint(a)\\na.append(1)\\nprint(a)\\nprint(bytearray([1,2,3,4]))',\n",
       "  'print(bytes(5))\\nprint(bytes([1,2,3,4,5])',\n",
       "  'print(bytes(5))\\nprint(bytes([1,2,3,4,5]))',\n",
       "  \"print(bytes(5))\\nprint(bytes([1,2,3,4,5]))\\nprint(bytes('hello','utf-8'))\",\n",
       "  \"print(bytes(5))\\nprint(bytes([1,2,3,4,5]))\\nprint(bytes('hello','utf-8'))\\n#Here, utf-8 is the encoding.\\n#Both bytes() and bytearray() deal with raw data, but bytearray() is mutable, while bytes() is immutable.\",\n",
       "  \"print(bytes(5))\\nprint(bytes([1,2,3,4,5]))\\nprint(bytes('hello','utf-8'))\\n#Here, utf-8 is the encoding.\\n#Both bytes() and bytearray() deal with raw data, but bytearray() is mutable, while bytes() is immutable.\\na=bytes([1,2,3,4,5])\\nprint(a)\",\n",
       "  \"print(bytes(5))\\nprint(bytes([1,2,3,4,5]))\\nprint(bytes('hello','utf-8'))\\n#Here, utf-8 is the encoding.\\n#Both bytes() and bytearray() deal with raw data, but bytearray() is mutable, while bytes() is immutable.\\na=bytes([1,2,3,4,5])\\nprint(a)\\na[4]=3\",\n",
       "  \"print(bytes(5))\\nprint(bytes([1,2,3,4,5]))\\nprint(bytes('hello','utf-8'))\\n#Here, utf-8 is the encoding.\\n#Both bytes() and bytearray() deal with raw data, but bytearray() is mutable, while bytes() is immutable.\\na=bytes([1,2,3,4,5])\\nprint(a)\\n#a[4]=3-----not possible\",\n",
       "  \"print(bytes(5))\\nprint(bytes([1,2,3,4,5]))\\nprint(bytes('hello','utf-8'))\\n#Here, utf-8 is the encoding.\\n#Both bytes() and bytearray() deal with raw data, but bytearray() is mutable, while bytes() is immutable.\\na=bytes([1,2,3,4,5])\\nprint(a)\\n#a[4]=3-----not possible\",\n",
       "  'print(callable([1,2,3]))',\n",
       "  'print(callable([1,2,3]))\\nprint(callable(callable))',\n",
       "  'print(callable([1,2,3]))\\nprint(callable(callable))\\nprint(callable(False))',\n",
       "  'print(callable([1,2,3]))\\nprint(callable(callable))\\nprint(callable(False))\\nprint(callable(list))',\n",
       "  'print(chr(65))\\nprint(chr(97))\\nprint(chr(9))\\nprint(chr(48))',\n",
       "  'class fruit:\\n                def sayhi(self):\\n                                print(\"Hi, I\\'m a fruit\") \\n       \\nfruit.sayhi=classmethod(fruit.sayhi)\\nfruit.sayhi()',\n",
       "  \"exec(compile('a=5\\\\nb=7\\\\nprint(a+b)','','exec'))\",\n",
       "  \"exec(compile('a=5\\\\nb=7\\\\nprint(a+b)','','exec'))\\n#Here, ‘exec’ is the mode. The parameter before that is the filename for the file form which the code is read.\\n#Finally, we execute it using exec().\",\n",
       "  'complex(3.5)',\n",
       "  'class fruit:\\n                size=7  \\n         \\norange=fruit()\\norange.size',\n",
       "  \"class fruit:\\n                size=7  \\n         \\norange=fruit()\\norange.size\\ndelattr(fruit,'size')\\norange.size\",\n",
       "  \"class fruit:\\n                size=7  \\n         \\norange=fruit()\\norange.size\\ndelattr(fruit,'size')\\norange.size\",\n",
       "  'print(dict())',\n",
       "  'print(dict())\\nprint(dict([(1,2),(3,4)]))',\n",
       "  \"class fruit:\\n                size=7\\n                shape='round'\\norange=fruit()\\ndir(orange)\",\n",
       "  'print(divmod(3,7))',\n",
       "  'print(divmod(7,3))',\n",
       "  \"for i in enumerate(['a','b','c']):\\n                print(i)\",\n",
       "  \"x=7\\nprint(eval('x+7'))\",\n",
       "  \"x=7\\nprint(eval('x+7'))\\nprint(eval('x+(x%2)'))\",\n",
       "  \"exec('a=2;b=3;print(a+b)')\",\n",
       "  'print(exec(\\'a=2;b=3;print(a+b)\\'))\\nprint(exec(input(\"Enter your program\")))',\n",
       "  'print(exec(\\'a=2;b=3;print(a+b)\\'))\\nprint(exec(input(\"Enter your program\")))',\n",
       "  'print(exec(\\'a=2;b=3;print(a+b)\\'))\\nprint(exec(input(\"Enter your program\")))',\n",
       "  'print(exec(\\'a=2;b=3;print(a+b)\\'))\\nprint(exec(input(\"Enter your program\")))',\n",
       "  'print(exec(\\'a=2;b=3;print(a+b)\\'))\\nprint(exec(input(\"Enter your program\")))',\n",
       "  'print(exec(\\'a=2;b=3;print(a+b)\\'))\\nprint(exec(input(\"Enter your program\")))',\n",
       "  \"print(exec('a=2;b=3;print(a+b)'))\",\n",
       "  \"print(float('3'))\\nprint(float(2))\",\n",
       "  \"print(float('3'))\\nprint(float(2))\\nprint(float(False))\\nprint(float(4.7))\",\n",
       "  \"print(float('3'))\\nprint(float(2))\\nprint(float(False))\\nprint(float(4.7))\\nprint(float(True))\",\n",
       "  'a,b=2,3\\nprint(\"a={0} and b={1}\".format(a,b))',\n",
       "  'a,b=2,3\\nprint(\"a={0} and b={1}\".format(a,b))\\n print(\"a={a} and b={b}\".format(a=3,b=4))',\n",
       "  'a,b=2,3\\nprint(\"a={0} and b={1}\".format(a,b))\\nprint(\"a={a} and b={b}\".format(a=3,b=4))',\n",
       "  'print(frozenset((3,2,4)))',\n",
       "  \"getattr(orange,'size')\",\n",
       "  'globals()',\n",
       "  \"print(hasattr(orange,'size'))\",\n",
       "  \"print(hasattr(orange,'size'))\\nprint(hasattr(orange,'color'))\",\n",
       "  'hash(orange)',\n",
       "  'hash(orange)\\nhash(True)',\n",
       "  'print(hash(orange))\\nprint(hash(True))',\n",
       "  \"s='saturday'\\nhelp(s.upper())\",\n",
       "  \"s='saturday'\\nhelp(s.upper)\",\n",
       "  \"s='saturday'\\nhelp(s.upper())\",\n",
       "  'help(str)',\n",
       "  \"s='saturday'\\nget_ipython().run_line_magic('pinfo', 's.upper')\",\n",
       "  '30. hex()\\n\\nHex() Python built-in functions, converts an integer to hexadecimal.',\n",
       "  'hex(16)',\n",
       "  'id(orange)',\n",
       "  'input(\"Enter a number\")',\n",
       "  'input(\"Enter a number\")\\nint(input(\"Enter a number\")',\n",
       "  'input(\"Enter a number\")\\nint(input(\"Enter a number\"))',\n",
       "  'print(input(\"Enter a number\"))\\nprint(int(input(\"Enter a number\")))',\n",
       "  \"int('7')\",\n",
       "  'isinstance(0,str)',\n",
       "  'isinstance(0,str)',\n",
       "  'isinstance(orange,fruit)',\n",
       "  'class fruit:\\n           pass\\nclass citrus(fruit):\\n           pass',\n",
       "  'class fruit:\\n           pass\\nclass citrus(fruit):\\n           pass\\nissubclass(fruit,citrus)',\n",
       "  'issubclass(fruit,fruit)',\n",
       "  'for i in iter([1,2,3]):\\n            print(i)',\n",
       "  'len({1,2,2,3})',\n",
       "  'len({1,2,2,3})\\n#Here, we get 3 instead of 4, because the set takes the value ‘2’ only once.',\n",
       "  'list({1,3,2,2})',\n",
       "  'locals()'],\n",
       " '_oh': {35: (3.5+0j),\n",
       "  36: 7,\n",
       "  41: ['__class__',\n",
       "   '__delattr__',\n",
       "   '__dict__',\n",
       "   '__dir__',\n",
       "   '__doc__',\n",
       "   '__eq__',\n",
       "   '__format__',\n",
       "   '__ge__',\n",
       "   '__getattribute__',\n",
       "   '__gt__',\n",
       "   '__hash__',\n",
       "   '__init__',\n",
       "   '__init_subclass__',\n",
       "   '__le__',\n",
       "   '__lt__',\n",
       "   '__module__',\n",
       "   '__ne__',\n",
       "   '__new__',\n",
       "   '__reduce__',\n",
       "   '__reduce_ex__',\n",
       "   '__repr__',\n",
       "   '__setattr__',\n",
       "   '__sizeof__',\n",
       "   '__str__',\n",
       "   '__subclasshook__',\n",
       "   '__weakref__',\n",
       "   'shape',\n",
       "   'size'],\n",
       "  62: 7,\n",
       "  63: {...},\n",
       "  66: 115007864525,\n",
       "  67: 1,\n",
       "  75: '0x10',\n",
       "  76: 1840125832400,\n",
       "  77: '2',\n",
       "  79: 3,\n",
       "  81: 7,\n",
       "  82: False,\n",
       "  83: False,\n",
       "  84: True,\n",
       "  86: False,\n",
       "  87: True,\n",
       "  89: 3,\n",
       "  90: 3,\n",
       "  91: [1, 2, 3]},\n",
       " '_dh': ['C:\\\\python programming'],\n",
       " 'In': ['',\n",
       "  'print(abs(-7))\\nprint(abs(7))\\nprint(abs(0))',\n",
       "  \"print(all({'*','',''}))\",\n",
       "  \"print(all({'*','',''}))\\nprint(all([' ',' ',' ']))\",\n",
       "  'print(any((1,0,0)))',\n",
       "  \"print(ascii('ș'))\",\n",
       "  \"print(ascii('ș'))\\n#Since this was a non-ASCII character in python, the interpreter added a backslash (\\\\) and escaped it using another\\n#backslash.\\nprint(ascii('ușor'))\",\n",
       "  \"print(ascii('ș'))\\n#Since this was a non-ASCII character in python, the interpreter added a backslash (\\\\) and escaped it using another\\n#backslash.\\nprint(ascii('ușor'))\\n#Let’s apply it to a list.\\nprint(ascii(['s','ș']))\",\n",
       "  'print(bin(7))',\n",
       "  'print(type(bin(7))',\n",
       "  'print(type(bin(7)))',\n",
       "  'print((bin(7))',\n",
       "  'print(bin(7))',\n",
       "  'print(bin(7.0))',\n",
       "  'print(bin(7))\\n#NOT APPLICABLE ON FLOAT TYPE DATA.',\n",
       "  'print(bool(0.5))',\n",
       "  \"print(bool(0.5))\\nprint(bool(''))\\nprint(bool(True))\",\n",
       "  'a=bytearray(4)\\nprint(a)\\nprint(a.append(1))\\nprint(a)',\n",
       "  'a=bytearray(4)\\nprint(a)\\na.append(1)\\nprint(a)\\nprint(bytearray([1,2,3,4]))',\n",
       "  'print(bytes(5))\\nprint(bytes([1,2,3,4,5])',\n",
       "  'print(bytes(5))\\nprint(bytes([1,2,3,4,5]))',\n",
       "  \"print(bytes(5))\\nprint(bytes([1,2,3,4,5]))\\nprint(bytes('hello','utf-8'))\",\n",
       "  \"print(bytes(5))\\nprint(bytes([1,2,3,4,5]))\\nprint(bytes('hello','utf-8'))\\n#Here, utf-8 is the encoding.\\n#Both bytes() and bytearray() deal with raw data, but bytearray() is mutable, while bytes() is immutable.\",\n",
       "  \"print(bytes(5))\\nprint(bytes([1,2,3,4,5]))\\nprint(bytes('hello','utf-8'))\\n#Here, utf-8 is the encoding.\\n#Both bytes() and bytearray() deal with raw data, but bytearray() is mutable, while bytes() is immutable.\\na=bytes([1,2,3,4,5])\\nprint(a)\",\n",
       "  \"print(bytes(5))\\nprint(bytes([1,2,3,4,5]))\\nprint(bytes('hello','utf-8'))\\n#Here, utf-8 is the encoding.\\n#Both bytes() and bytearray() deal with raw data, but bytearray() is mutable, while bytes() is immutable.\\na=bytes([1,2,3,4,5])\\nprint(a)\\na[4]=3\",\n",
       "  \"print(bytes(5))\\nprint(bytes([1,2,3,4,5]))\\nprint(bytes('hello','utf-8'))\\n#Here, utf-8 is the encoding.\\n#Both bytes() and bytearray() deal with raw data, but bytearray() is mutable, while bytes() is immutable.\\na=bytes([1,2,3,4,5])\\nprint(a)\\n#a[4]=3-----not possible\",\n",
       "  \"print(bytes(5))\\nprint(bytes([1,2,3,4,5]))\\nprint(bytes('hello','utf-8'))\\n#Here, utf-8 is the encoding.\\n#Both bytes() and bytearray() deal with raw data, but bytearray() is mutable, while bytes() is immutable.\\na=bytes([1,2,3,4,5])\\nprint(a)\\n#a[4]=3-----not possible\",\n",
       "  'print(callable([1,2,3]))',\n",
       "  'print(callable([1,2,3]))\\nprint(callable(callable))',\n",
       "  'print(callable([1,2,3]))\\nprint(callable(callable))\\nprint(callable(False))',\n",
       "  'print(callable([1,2,3]))\\nprint(callable(callable))\\nprint(callable(False))\\nprint(callable(list))',\n",
       "  'print(chr(65))\\nprint(chr(97))\\nprint(chr(9))\\nprint(chr(48))',\n",
       "  'class fruit:\\n                def sayhi(self):\\n                                print(\"Hi, I\\'m a fruit\") \\n       \\nfruit.sayhi=classmethod(fruit.sayhi)\\nfruit.sayhi()',\n",
       "  \"exec(compile('a=5\\\\nb=7\\\\nprint(a+b)','','exec'))\",\n",
       "  \"exec(compile('a=5\\\\nb=7\\\\nprint(a+b)','','exec'))\\n#Here, ‘exec’ is the mode. The parameter before that is the filename for the file form which the code is read.\\n#Finally, we execute it using exec().\",\n",
       "  'complex(3.5)',\n",
       "  'class fruit:\\n                size=7  \\n         \\norange=fruit()\\norange.size',\n",
       "  \"class fruit:\\n                size=7  \\n         \\norange=fruit()\\norange.size\\ndelattr(fruit,'size')\\norange.size\",\n",
       "  \"class fruit:\\n                size=7  \\n         \\norange=fruit()\\norange.size\\ndelattr(fruit,'size')\\norange.size\",\n",
       "  'print(dict())',\n",
       "  'print(dict())\\nprint(dict([(1,2),(3,4)]))',\n",
       "  \"class fruit:\\n                size=7\\n                shape='round'\\norange=fruit()\\ndir(orange)\",\n",
       "  'print(divmod(3,7))',\n",
       "  'print(divmod(7,3))',\n",
       "  \"for i in enumerate(['a','b','c']):\\n                print(i)\",\n",
       "  \"x=7\\nprint(eval('x+7'))\",\n",
       "  \"x=7\\nprint(eval('x+7'))\\nprint(eval('x+(x%2)'))\",\n",
       "  \"exec('a=2;b=3;print(a+b)')\",\n",
       "  'print(exec(\\'a=2;b=3;print(a+b)\\'))\\nprint(exec(input(\"Enter your program\")))',\n",
       "  'print(exec(\\'a=2;b=3;print(a+b)\\'))\\nprint(exec(input(\"Enter your program\")))',\n",
       "  'print(exec(\\'a=2;b=3;print(a+b)\\'))\\nprint(exec(input(\"Enter your program\")))',\n",
       "  'print(exec(\\'a=2;b=3;print(a+b)\\'))\\nprint(exec(input(\"Enter your program\")))',\n",
       "  'print(exec(\\'a=2;b=3;print(a+b)\\'))\\nprint(exec(input(\"Enter your program\")))',\n",
       "  'print(exec(\\'a=2;b=3;print(a+b)\\'))\\nprint(exec(input(\"Enter your program\")))',\n",
       "  \"print(exec('a=2;b=3;print(a+b)'))\",\n",
       "  \"print(float('3'))\\nprint(float(2))\",\n",
       "  \"print(float('3'))\\nprint(float(2))\\nprint(float(False))\\nprint(float(4.7))\",\n",
       "  \"print(float('3'))\\nprint(float(2))\\nprint(float(False))\\nprint(float(4.7))\\nprint(float(True))\",\n",
       "  'a,b=2,3\\nprint(\"a={0} and b={1}\".format(a,b))',\n",
       "  'a,b=2,3\\nprint(\"a={0} and b={1}\".format(a,b))\\n print(\"a={a} and b={b}\".format(a=3,b=4))',\n",
       "  'a,b=2,3\\nprint(\"a={0} and b={1}\".format(a,b))\\nprint(\"a={a} and b={b}\".format(a=3,b=4))',\n",
       "  'print(frozenset((3,2,4)))',\n",
       "  \"getattr(orange,'size')\",\n",
       "  'globals()',\n",
       "  \"print(hasattr(orange,'size'))\",\n",
       "  \"print(hasattr(orange,'size'))\\nprint(hasattr(orange,'color'))\",\n",
       "  'hash(orange)',\n",
       "  'hash(orange)\\nhash(True)',\n",
       "  'print(hash(orange))\\nprint(hash(True))',\n",
       "  \"s='saturday'\\nhelp(s.upper())\",\n",
       "  \"s='saturday'\\nhelp(s.upper)\",\n",
       "  \"s='saturday'\\nhelp(s.upper())\",\n",
       "  'help(str)',\n",
       "  \"s='saturday'\\nget_ipython().run_line_magic('pinfo', 's.upper')\",\n",
       "  '30. hex()\\n\\nHex() Python built-in functions, converts an integer to hexadecimal.',\n",
       "  'hex(16)',\n",
       "  'id(orange)',\n",
       "  'input(\"Enter a number\")',\n",
       "  'input(\"Enter a number\")\\nint(input(\"Enter a number\")',\n",
       "  'input(\"Enter a number\")\\nint(input(\"Enter a number\"))',\n",
       "  'print(input(\"Enter a number\"))\\nprint(int(input(\"Enter a number\")))',\n",
       "  \"int('7')\",\n",
       "  'isinstance(0,str)',\n",
       "  'isinstance(0,str)',\n",
       "  'isinstance(orange,fruit)',\n",
       "  'class fruit:\\n           pass\\nclass citrus(fruit):\\n           pass',\n",
       "  'class fruit:\\n           pass\\nclass citrus(fruit):\\n           pass\\nissubclass(fruit,citrus)',\n",
       "  'issubclass(fruit,fruit)',\n",
       "  'for i in iter([1,2,3]):\\n            print(i)',\n",
       "  'len({1,2,2,3})',\n",
       "  'len({1,2,2,3})\\n#Here, we get 3 instead of 4, because the set takes the value ‘2’ only once.',\n",
       "  'list({1,3,2,2})',\n",
       "  'locals()'],\n",
       " 'Out': {35: (3.5+0j),\n",
       "  36: 7,\n",
       "  41: ['__class__',\n",
       "   '__delattr__',\n",
       "   '__dict__',\n",
       "   '__dir__',\n",
       "   '__doc__',\n",
       "   '__eq__',\n",
       "   '__format__',\n",
       "   '__ge__',\n",
       "   '__getattribute__',\n",
       "   '__gt__',\n",
       "   '__hash__',\n",
       "   '__init__',\n",
       "   '__init_subclass__',\n",
       "   '__le__',\n",
       "   '__lt__',\n",
       "   '__module__',\n",
       "   '__ne__',\n",
       "   '__new__',\n",
       "   '__reduce__',\n",
       "   '__reduce_ex__',\n",
       "   '__repr__',\n",
       "   '__setattr__',\n",
       "   '__sizeof__',\n",
       "   '__str__',\n",
       "   '__subclasshook__',\n",
       "   '__weakref__',\n",
       "   'shape',\n",
       "   'size'],\n",
       "  62: 7,\n",
       "  63: {...},\n",
       "  66: 115007864525,\n",
       "  67: 1,\n",
       "  75: '0x10',\n",
       "  76: 1840125832400,\n",
       "  77: '2',\n",
       "  79: 3,\n",
       "  81: 7,\n",
       "  82: False,\n",
       "  83: False,\n",
       "  84: True,\n",
       "  86: False,\n",
       "  87: True,\n",
       "  89: 3,\n",
       "  90: 3,\n",
       "  91: [1, 2, 3]},\n",
       " 'get_ipython': <bound method InteractiveShell.get_ipython of <ipykernel.zmqshell.ZMQInteractiveShell object at 0x000001AC6FFC5CA0>>,\n",
       " 'exit': <IPython.core.autocall.ZMQExitAutocall at 0x1ac7006deb0>,\n",
       " 'quit': <IPython.core.autocall.ZMQExitAutocall at 0x1ac7006deb0>,\n",
       " '_': [1, 2, 3],\n",
       " '__': 3,\n",
       " '___': 3,\n",
       " '_i': 'list({1,3,2,2})',\n",
       " '_ii': 'len({1,2,2,3})\\n#Here, we get 3 instead of 4, because the set takes the value ‘2’ only once.',\n",
       " '_iii': 'len({1,2,2,3})',\n",
       " '_i1': 'print(abs(-7))\\nprint(abs(7))\\nprint(abs(0))',\n",
       " '_i2': \"print(all({'*','',''}))\",\n",
       " '_i3': \"print(all({'*','',''}))\\nprint(all([' ',' ',' ']))\",\n",
       " '_i4': 'print(any((1,0,0)))',\n",
       " '_i5': \"print(ascii('ș'))\",\n",
       " '_i6': \"print(ascii('ș'))\\n#Since this was a non-ASCII character in python, the interpreter added a backslash (\\\\) and escaped it using another\\n#backslash.\\nprint(ascii('ușor'))\",\n",
       " '_i7': \"print(ascii('ș'))\\n#Since this was a non-ASCII character in python, the interpreter added a backslash (\\\\) and escaped it using another\\n#backslash.\\nprint(ascii('ușor'))\\n#Let’s apply it to a list.\\nprint(ascii(['s','ș']))\",\n",
       " '_i8': 'print(bin(7))',\n",
       " '_i9': 'print(type(bin(7))',\n",
       " '_i10': 'print(type(bin(7)))',\n",
       " '_i11': 'print((bin(7))',\n",
       " '_i12': 'print(bin(7))',\n",
       " '_i13': 'print(bin(7.0))',\n",
       " '_i14': 'print(bin(7))\\n#NOT APPLICABLE ON FLOAT TYPE DATA.',\n",
       " '_i15': 'print(bool(0.5))',\n",
       " '_i16': \"print(bool(0.5))\\nprint(bool(''))\\nprint(bool(True))\",\n",
       " '_i17': 'a=bytearray(4)\\nprint(a)\\nprint(a.append(1))\\nprint(a)',\n",
       " 'a': 2,\n",
       " '_i18': 'a=bytearray(4)\\nprint(a)\\na.append(1)\\nprint(a)\\nprint(bytearray([1,2,3,4]))',\n",
       " '_i19': 'print(bytes(5))\\nprint(bytes([1,2,3,4,5])',\n",
       " '_i20': 'print(bytes(5))\\nprint(bytes([1,2,3,4,5]))',\n",
       " '_i21': \"print(bytes(5))\\nprint(bytes([1,2,3,4,5]))\\nprint(bytes('hello','utf-8'))\",\n",
       " '_i22': \"print(bytes(5))\\nprint(bytes([1,2,3,4,5]))\\nprint(bytes('hello','utf-8'))\\n#Here, utf-8 is the encoding.\\n#Both bytes() and bytearray() deal with raw data, but bytearray() is mutable, while bytes() is immutable.\",\n",
       " '_i23': \"print(bytes(5))\\nprint(bytes([1,2,3,4,5]))\\nprint(bytes('hello','utf-8'))\\n#Here, utf-8 is the encoding.\\n#Both bytes() and bytearray() deal with raw data, but bytearray() is mutable, while bytes() is immutable.\\na=bytes([1,2,3,4,5])\\nprint(a)\",\n",
       " '_i24': \"print(bytes(5))\\nprint(bytes([1,2,3,4,5]))\\nprint(bytes('hello','utf-8'))\\n#Here, utf-8 is the encoding.\\n#Both bytes() and bytearray() deal with raw data, but bytearray() is mutable, while bytes() is immutable.\\na=bytes([1,2,3,4,5])\\nprint(a)\\na[4]=3\",\n",
       " '_i25': \"print(bytes(5))\\nprint(bytes([1,2,3,4,5]))\\nprint(bytes('hello','utf-8'))\\n#Here, utf-8 is the encoding.\\n#Both bytes() and bytearray() deal with raw data, but bytearray() is mutable, while bytes() is immutable.\\na=bytes([1,2,3,4,5])\\nprint(a)\\n#a[4]=3-----not possible\",\n",
       " '_i26': \"print(bytes(5))\\nprint(bytes([1,2,3,4,5]))\\nprint(bytes('hello','utf-8'))\\n#Here, utf-8 is the encoding.\\n#Both bytes() and bytearray() deal with raw data, but bytearray() is mutable, while bytes() is immutable.\\na=bytes([1,2,3,4,5])\\nprint(a)\\n#a[4]=3-----not possible\",\n",
       " '_i27': 'print(callable([1,2,3]))',\n",
       " '_i28': 'print(callable([1,2,3]))\\nprint(callable(callable))',\n",
       " '_i29': 'print(callable([1,2,3]))\\nprint(callable(callable))\\nprint(callable(False))',\n",
       " '_i30': 'print(callable([1,2,3]))\\nprint(callable(callable))\\nprint(callable(False))\\nprint(callable(list))',\n",
       " '_i31': 'print(chr(65))\\nprint(chr(97))\\nprint(chr(9))\\nprint(chr(48))',\n",
       " '_i32': '>>> class fruit:\\n                def sayhi(self):\\n                                print(\"Hi, I\\'m a fruit\") \\n       \\n>>> fruit.sayhi=classmethod(fruit.sayhi)\\n>>> fruit.sayhi()',\n",
       " 'fruit': __main__.fruit,\n",
       " '_i33': \"exec(compile('a=5\\\\nb=7\\\\nprint(a+b)','','exec'))\",\n",
       " 'b': 3,\n",
       " '_i34': \"exec(compile('a=5\\\\nb=7\\\\nprint(a+b)','','exec'))\\n#Here, ‘exec’ is the mode. The parameter before that is the filename for the file form which the code is read.\\n#Finally, we execute it using exec().\",\n",
       " '_i35': 'complex(3.5)',\n",
       " '_35': (3.5+0j),\n",
       " '_i36': '>>> class fruit:\\n                size=7  \\n         \\n>>> orange=fruit()\\n>>> orange.size',\n",
       " 'orange': <__main__.fruit at 0x1ac700becd0>,\n",
       " '_36': 7,\n",
       " '_i37': \">>> class fruit:\\n                size=7  \\n         \\n>>> orange=fruit()\\n>>> orange.size\\n>>> delattr(fruit,'size')\\n>>> orange.size\",\n",
       " '_i38': \">>> class fruit:\\n                size=7  \\n         \\n>>> orange=fruit()\\n>>> orange.size\\n>>> delattr(fruit,'size')\\n>>> orange.size\",\n",
       " '_i39': 'print(dict())',\n",
       " '_i40': 'print(dict())\\nprint(dict([(1,2),(3,4)]))',\n",
       " '_i41': \">>> class fruit:\\n                size=7\\n                shape='round'\\n>>> orange=fruit()\\n>>> dir(orange)\",\n",
       " '_41': ['__class__',\n",
       "  '__delattr__',\n",
       "  '__dict__',\n",
       "  '__dir__',\n",
       "  '__doc__',\n",
       "  '__eq__',\n",
       "  '__format__',\n",
       "  '__ge__',\n",
       "  '__getattribute__',\n",
       "  '__gt__',\n",
       "  '__hash__',\n",
       "  '__init__',\n",
       "  '__init_subclass__',\n",
       "  '__le__',\n",
       "  '__lt__',\n",
       "  '__module__',\n",
       "  '__ne__',\n",
       "  '__new__',\n",
       "  '__reduce__',\n",
       "  '__reduce_ex__',\n",
       "  '__repr__',\n",
       "  '__setattr__',\n",
       "  '__sizeof__',\n",
       "  '__str__',\n",
       "  '__subclasshook__',\n",
       "  '__weakref__',\n",
       "  'shape',\n",
       "  'size'],\n",
       " '_i42': 'print(divmod(3,7))',\n",
       " '_i43': 'print(divmod(7,3))',\n",
       " '_i44': \"for i in enumerate(['a','b','c']):\\n                print(i)\",\n",
       " 'i': 3,\n",
       " '_i45': \"x=7\\nprint(eval('x+7'))\",\n",
       " 'x': 7,\n",
       " '_i46': \"x=7\\nprint(eval('x+7'))\\nprint(eval('x+(x%2)'))\",\n",
       " '_i47': \"exec('a=2;b=3;print(a+b)')\",\n",
       " '_i48': 'print(exec(\\'a=2;b=3;print(a+b)\\'))\\nprint(exec(input(\"Enter your program\")))',\n",
       " '_i49': 'print(exec(\\'a=2;b=3;print(a+b)\\'))\\nprint(exec(input(\"Enter your program\")))',\n",
       " '_i50': 'print(exec(\\'a=2;b=3;print(a+b)\\'))\\nprint(exec(input(\"Enter your program\")))',\n",
       " '_i51': 'print(exec(\\'a=2;b=3;print(a+b)\\'))\\nprint(exec(input(\"Enter your program\")))',\n",
       " '_i52': 'print(exec(\\'a=2;b=3;print(a+b)\\'))\\nprint(exec(input(\"Enter your program\")))',\n",
       " '_i53': 'print(exec(\\'a=2;b=3;print(a+b)\\'))\\nprint(exec(input(\"Enter your program\")))',\n",
       " '_i54': \"print(exec('a=2;b=3;print(a+b)'))\",\n",
       " '_i55': \"print(float('3'))\\nprint(float(2))\",\n",
       " '_i56': \"print(float('3'))\\nprint(float(2))\\nprint(float(False))\\nprint(float(4.7))\",\n",
       " '_i57': \"print(float('3'))\\nprint(float(2))\\nprint(float(False))\\nprint(float(4.7))\\nprint(float(True))\",\n",
       " '_i58': 'a,b=2,3\\nprint(\"a={0} and b={1}\".format(a,b))',\n",
       " '_i59': 'a,b=2,3\\nprint(\"a={0} and b={1}\".format(a,b))\\n print(\"a={a} and b={b}\".format(a=3,b=4))',\n",
       " '_i60': 'a,b=2,3\\nprint(\"a={0} and b={1}\".format(a,b))\\nprint(\"a={a} and b={b}\".format(a=3,b=4))',\n",
       " '_i61': 'print(frozenset((3,2,4)))',\n",
       " '_i62': \"getattr(orange,'size')\",\n",
       " '_62': 7,\n",
       " '_i63': 'globals()',\n",
       " '_63': {...},\n",
       " '_i64': \"print(hasattr(orange,'size'))\",\n",
       " '_i65': \"print(hasattr(orange,'size'))\\nprint(hasattr(orange,'color'))\",\n",
       " '_i66': 'hash(orange)',\n",
       " '_66': 115007864525,\n",
       " '_i67': 'hash(orange)\\nhash(True)',\n",
       " '_67': 1,\n",
       " '_i68': 'print(hash(orange))\\nprint(hash(True))',\n",
       " '_i69': \"s='saturday'\\nhelp(s.upper())\",\n",
       " 's': 'saturday',\n",
       " '_i70': \"s='saturday'\\nhelp(s.upper)\",\n",
       " '_i71': \"s='saturday'\\nhelp(s.upper())\",\n",
       " '_i72': 'help(str)',\n",
       " '_i73': \"s='saturday'\\n?s.upper\",\n",
       " '_i74': '30. hex()\\n\\nHex() Python built-in functions, converts an integer to hexadecimal.',\n",
       " '_i75': 'hex(16)',\n",
       " '_75': '0x10',\n",
       " '_i76': 'id(orange)',\n",
       " '_76': 1840125832400,\n",
       " '_i77': 'input(\"Enter a number\")',\n",
       " '_77': '2',\n",
       " '_i78': 'input(\"Enter a number\")\\nint(input(\"Enter a number\")',\n",
       " '_i79': 'input(\"Enter a number\")\\nint(input(\"Enter a number\"))',\n",
       " '_79': 3,\n",
       " '_i80': 'print(input(\"Enter a number\"))\\nprint(int(input(\"Enter a number\")))',\n",
       " '_i81': \"int('7')\",\n",
       " '_81': 7,\n",
       " '_i82': 'isinstance(0,str)',\n",
       " '_82': False,\n",
       " '_i83': 'isinstance(0,str)',\n",
       " '_83': False,\n",
       " '_i84': 'isinstance(orange,fruit)',\n",
       " '_84': True,\n",
       " '_i85': '>>> class fruit:\\n           pass\\n>>> class citrus(fruit):\\n           pass',\n",
       " 'citrus': __main__.citrus,\n",
       " '_i86': '>>> class fruit:\\n           pass\\n>>> class citrus(fruit):\\n           pass\\nissubclass(fruit,citrus)',\n",
       " '_86': False,\n",
       " '_i87': 'issubclass(fruit,fruit)',\n",
       " '_87': True,\n",
       " '_i88': '>>> for i in iter([1,2,3]):\\n            print(i)',\n",
       " '_i89': 'len({1,2,2,3})',\n",
       " '_89': 3,\n",
       " '_i90': 'len({1,2,2,3})\\n#Here, we get 3 instead of 4, because the set takes the value ‘2’ only once.',\n",
       " '_90': 3,\n",
       " '_i91': 'list({1,3,2,2})',\n",
       " '_91': [1, 2, 3],\n",
       " '_i92': 'locals()'}"
      ]
     },
     "execution_count": 92,
     "metadata": {},
     "output_type": "execute_result"
    }
   ],
   "source": [
    "locals()"
   ]
  },
  {
   "cell_type": "markdown",
   "metadata": {},
   "source": [
    "# 40. map()\n",
    "\n",
    "Like filter(), map() Python built-in functions, takes a function and applies it on an iterable. It maps True or False values on each item in the iterable."
   ]
  },
  {
   "cell_type": "code",
   "execution_count": 93,
   "metadata": {},
   "outputs": [
    {
     "data": {
      "text/plain": [
       "[False, True, False, True, False]"
      ]
     },
     "execution_count": 93,
     "metadata": {},
     "output_type": "execute_result"
    }
   ],
   "source": [
    "list(map(lambda x:x%2==0,[1,2,3,4,5]))"
   ]
  },
  {
   "cell_type": "markdown",
   "metadata": {},
   "source": [
    "# 41. max()\n",
    "\n",
    "A no-brainer, max() returns the item, in a sequence, with the highest value of all."
   ]
  },
  {
   "cell_type": "code",
   "execution_count": 94,
   "metadata": {},
   "outputs": [
    {
     "data": {
      "text/plain": [
       "4"
      ]
     },
     "execution_count": 94,
     "metadata": {},
     "output_type": "execute_result"
    }
   ],
   "source": [
    "max(2,3,4)"
   ]
  },
  {
   "cell_type": "code",
   "execution_count": 95,
   "metadata": {},
   "outputs": [
    {
     "data": {
      "text/plain": [
       "'hello'"
      ]
     },
     "execution_count": 95,
     "metadata": {},
     "output_type": "execute_result"
    }
   ],
   "source": [
    "max('hello','Hello')"
   ]
  },
  {
   "cell_type": "markdown",
   "metadata": {},
   "source": [
    "# 42. memoryview()\n",
    "\n",
    "memoryview() shows us the memory view of an argument."
   ]
  },
  {
   "cell_type": "code",
   "execution_count": 97,
   "metadata": {},
   "outputs": [
    {
     "data": {
      "text/plain": [
       "<memory at 0x000001AC701A6940>"
      ]
     },
     "execution_count": 97,
     "metadata": {},
     "output_type": "execute_result"
    }
   ],
   "source": [
    "a=bytes(4)\n",
    "memoryview(a)"
   ]
  },
  {
   "cell_type": "markdown",
   "metadata": {},
   "source": [
    "# 43. min()\n",
    "\n",
    "min() returns the lowest value in a sequence."
   ]
  },
  {
   "cell_type": "code",
   "execution_count": 99,
   "metadata": {},
   "outputs": [
    {
     "data": {
      "text/plain": [
       "9"
      ]
     },
     "execution_count": 99,
     "metadata": {},
     "output_type": "execute_result"
    }
   ],
   "source": [
    "min(718,72727,9)"
   ]
  },
  {
   "cell_type": "markdown",
   "metadata": {},
   "source": [
    "# 44. next()\n",
    "\n",
    "This Python Built In function returns the next element from the iterator."
   ]
  },
  {
   "cell_type": "code",
   "execution_count": 100,
   "metadata": {},
   "outputs": [
    {
     "data": {
      "text/plain": [
       "1"
      ]
     },
     "execution_count": 100,
     "metadata": {},
     "output_type": "execute_result"
    }
   ],
   "source": [
    "myIterator=iter([1,2,3,4,5])\n",
    "next(myIterator)"
   ]
  },
  {
   "cell_type": "code",
   "execution_count": 101,
   "metadata": {},
   "outputs": [
    {
     "data": {
      "text/plain": [
       "2"
      ]
     },
     "execution_count": 101,
     "metadata": {},
     "output_type": "execute_result"
    }
   ],
   "source": [
    "next(myIterator)"
   ]
  },
  {
   "cell_type": "markdown",
   "metadata": {},
   "source": [
    "# 45. object()\n",
    "\n",
    "Object() Python built-in functions, creates a featureless object"
   ]
  },
  {
   "cell_type": "code",
   "execution_count": 102,
   "metadata": {},
   "outputs": [
    {
     "data": {
      "text/plain": [
       "object"
      ]
     },
     "execution_count": 102,
     "metadata": {},
     "output_type": "execute_result"
    }
   ],
   "source": [
    "o=object()\n",
    "type(o)"
   ]
  },
  {
   "cell_type": "code",
   "execution_count": 103,
   "metadata": {},
   "outputs": [
    {
     "data": {
      "text/plain": [
       "['__class__',\n",
       " '__delattr__',\n",
       " '__dir__',\n",
       " '__doc__',\n",
       " '__eq__',\n",
       " '__format__',\n",
       " '__ge__',\n",
       " '__getattribute__',\n",
       " '__gt__',\n",
       " '__hash__',\n",
       " '__init__',\n",
       " '__init_subclass__',\n",
       " '__le__',\n",
       " '__lt__',\n",
       " '__ne__',\n",
       " '__new__',\n",
       " '__reduce__',\n",
       " '__reduce_ex__',\n",
       " '__repr__',\n",
       " '__setattr__',\n",
       " '__sizeof__',\n",
       " '__str__',\n",
       " '__subclasshook__']"
      ]
     },
     "execution_count": 103,
     "metadata": {},
     "output_type": "execute_result"
    }
   ],
   "source": [
    "dir(o)"
   ]
  },
  {
   "cell_type": "markdown",
   "metadata": {},
   "source": [
    "# 46. oct()\n",
    "\n",
    "oct() converts an integer to its octal representation."
   ]
  },
  {
   "cell_type": "code",
   "execution_count": 104,
   "metadata": {},
   "outputs": [
    {
     "data": {
      "text/plain": [
       "'0o10'"
      ]
     },
     "execution_count": 104,
     "metadata": {},
     "output_type": "execute_result"
    }
   ],
   "source": [
    "oct(8)"
   ]
  },
  {
   "cell_type": "code",
   "execution_count": 105,
   "metadata": {},
   "outputs": [
    {
     "data": {
      "text/plain": [
       "'0o1'"
      ]
     },
     "execution_count": 105,
     "metadata": {},
     "output_type": "execute_result"
    }
   ],
   "source": [
    "oct(True)"
   ]
  },
  {
   "cell_type": "markdown",
   "metadata": {},
   "source": [
    "# 47. ord()\n",
    "\n",
    "The function ord() returns an integer that represents the Unicode point for a given Unicode character"
   ]
  },
  {
   "cell_type": "code",
   "execution_count": 106,
   "metadata": {},
   "outputs": [
    {
     "data": {
      "text/plain": [
       "65"
      ]
     },
     "execution_count": 106,
     "metadata": {},
     "output_type": "execute_result"
    }
   ],
   "source": [
    "ord('A')"
   ]
  },
  {
   "cell_type": "markdown",
   "metadata": {},
   "source": [
    "# 49. pow()\n",
    "\n",
    "pow() takes two arguments- say, x and y. It then returns the value of x to the power of y"
   ]
  },
  {
   "cell_type": "code",
   "execution_count": 107,
   "metadata": {},
   "outputs": [
    {
     "data": {
      "text/plain": [
       "16"
      ]
     },
     "execution_count": 107,
     "metadata": {},
     "output_type": "execute_result"
    }
   ],
   "source": [
    "pow(2,4)"
   ]
  },
  {
   "cell_type": "markdown",
   "metadata": {},
   "source": [
    "# 50. print()\n",
    "\n",
    "We don’t think we need to explain this anymore. We’ve been seeing this function since the beginning of this article."
   ]
  },
  {
   "cell_type": "code",
   "execution_count": 108,
   "metadata": {},
   "outputs": [
    {
     "name": "stdout",
     "output_type": "stream",
     "text": [
      "Okay, next function, please!\n"
     ]
    }
   ],
   "source": [
    "print(\"Okay, next function, please!\")"
   ]
  },
  {
   "cell_type": "markdown",
   "metadata": {},
   "source": [
    "# 51. range()\n",
    "\n",
    "We’ve taken a whole tutorial on this. Read up range() in Python."
   ]
  },
  {
   "cell_type": "code",
   "execution_count": 109,
   "metadata": {},
   "outputs": [
    {
     "name": "stdout",
     "output_type": "stream",
     "text": [
      "7\n",
      "5\n",
      "3\n"
     ]
    }
   ],
   "source": [
    "for i in range(7,2,-2):\n",
    "         print(i)"
   ]
  },
  {
   "cell_type": "markdown",
   "metadata": {},
   "source": [
    "# 52. repr()\n",
    "\n",
    "repr() returns a representable string of an object.\n",
    "\n"
   ]
  },
  {
   "cell_type": "code",
   "execution_count": 110,
   "metadata": {},
   "outputs": [
    {
     "data": {
      "text/plain": [
       "\"'Hello'\""
      ]
     },
     "execution_count": 110,
     "metadata": {},
     "output_type": "execute_result"
    }
   ],
   "source": [
    "repr(\"Hello\")"
   ]
  },
  {
   "cell_type": "markdown",
   "metadata": {},
   "source": [
    "# 53. reversed()\n",
    "\n",
    "This functions reverses the contents of an iterable and returns an iterator object."
   ]
  },
  {
   "cell_type": "code",
   "execution_count": 112,
   "metadata": {},
   "outputs": [
    {
     "name": "stdout",
     "output_type": "stream",
     "text": [
      "<list_reverseiterator object at 0x000001AC701C7190>\n"
     ]
    }
   ],
   "source": [
    "a=reversed([3,2,1])\n",
    "print(a)"
   ]
  },
  {
   "cell_type": "code",
   "execution_count": 114,
   "metadata": {},
   "outputs": [
    {
     "name": "stdout",
     "output_type": "stream",
     "text": [
      "1\n",
      "2\n",
      "3\n"
     ]
    }
   ],
   "source": [
    "for i in a:\n",
    "    print(i)"
   ]
  },
  {
   "cell_type": "markdown",
   "metadata": {},
   "source": [
    "# 54. round()\n",
    "\n",
    "round() rounds off a float to the given number of digits (given by the second argument)."
   ]
  },
  {
   "cell_type": "code",
   "execution_count": 115,
   "metadata": {},
   "outputs": [
    {
     "data": {
      "text/plain": [
       "3.78"
      ]
     },
     "execution_count": 115,
     "metadata": {},
     "output_type": "execute_result"
    }
   ],
   "source": [
    "round(3.777,2)"
   ]
  },
  {
   "cell_type": "markdown",
   "metadata": {},
   "source": [
    "# 55. set()\n",
    "\n",
    "Of course, set() returns a set of the items passed to it."
   ]
  },
  {
   "cell_type": "code",
   "execution_count": 117,
   "metadata": {},
   "outputs": [
    {
     "data": {
      "text/plain": [
       "{1, 2, 3}"
      ]
     },
     "execution_count": 117,
     "metadata": {},
     "output_type": "execute_result"
    }
   ],
   "source": [
    "set([2,2,3,1])"
   ]
  },
  {
   "cell_type": "markdown",
   "metadata": {},
   "source": [
    "# 56. setattr()\n",
    "\n",
    "Like getattr(), setattr() sets an attribute’s value for an object."
   ]
  },
  {
   "cell_type": "code",
   "execution_count": 118,
   "metadata": {},
   "outputs": [
    {
     "data": {
      "text/plain": [
       "8"
      ]
     },
     "execution_count": 118,
     "metadata": {},
     "output_type": "execute_result"
    }
   ],
   "source": [
    "orange.size=8\n",
    "orange.size"
   ]
  },
  {
   "cell_type": "markdown",
   "metadata": {},
   "source": [
    "# 58. slice()\n",
    "\n",
    "slice() returns a slice object that represents the set of indices specified by range(start, stop, step)."
   ]
  },
  {
   "cell_type": "code",
   "execution_count": 121,
   "metadata": {},
   "outputs": [
    {
     "data": {
      "text/plain": [
       "'yh'"
      ]
     },
     "execution_count": 121,
     "metadata": {},
     "output_type": "execute_result"
    }
   ],
   "source": [
    "slice(2,7,2)\n",
    "'Python'[slice(1,5,2)]"
   ]
  },
  {
   "cell_type": "markdown",
   "metadata": {},
   "source": [
    "# 59.  sorted()\n",
    "\n",
    "Like we’ve seen before, sorted() prints out a sorted version of an iterable. It does not, however, alter the iterable"
   ]
  },
  {
   "cell_type": "code",
   "execution_count": 122,
   "metadata": {},
   "outputs": [
    {
     "data": {
      "text/plain": [
       "['P', 'h', 'n', 'o', 't', 'y']"
      ]
     },
     "execution_count": 122,
     "metadata": {},
     "output_type": "execute_result"
    }
   ],
   "source": [
    "sorted('Python')"
   ]
  },
  {
   "cell_type": "markdown",
   "metadata": {},
   "source": [
    "# 60. zip()\n",
    "\n",
    "zip() returns us an iterator of tuples."
   ]
  },
  {
   "cell_type": "code",
   "execution_count": 123,
   "metadata": {},
   "outputs": [
    {
     "data": {
      "text/plain": [
       "{(1, 'a'), (2, 'b'), (3, 'c')}"
      ]
     },
     "execution_count": 123,
     "metadata": {},
     "output_type": "execute_result"
    }
   ],
   "source": [
    "set(zip([1,2,3],['a','b','c']))"
   ]
  },
  {
   "cell_type": "code",
   "execution_count": null,
   "metadata": {},
   "outputs": [],
   "source": []
  }
 ],
 "metadata": {
  "kernelspec": {
   "display_name": "Python 3",
   "language": "python",
   "name": "python3"
  },
  "language_info": {
   "codemirror_mode": {
    "name": "ipython",
    "version": 3
   },
   "file_extension": ".py",
   "mimetype": "text/x-python",
   "name": "python",
   "nbconvert_exporter": "python",
   "pygments_lexer": "ipython3",
   "version": "3.8.3"
  }
 },
 "nbformat": 4,
 "nbformat_minor": 4
}
