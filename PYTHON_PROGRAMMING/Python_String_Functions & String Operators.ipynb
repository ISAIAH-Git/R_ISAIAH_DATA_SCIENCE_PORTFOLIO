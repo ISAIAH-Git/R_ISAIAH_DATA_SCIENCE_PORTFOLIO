{
 "cells": [
  {
   "cell_type": "markdown",
   "metadata": {},
   "source": [
    "# PYTHON_STRING_FUNCTIONS"
   ]
  },
  {
   "cell_type": "code",
   "execution_count": 1,
   "metadata": {},
   "outputs": [
    {
     "name": "stdout",
     "output_type": "stream",
     "text": [
      "Bee sting\n"
     ]
    }
   ],
   "source": [
    "a = \"bee sting\" \n",
    "print(a.capitalize())"
   ]
  },
  {
   "cell_type": "code",
   "execution_count": 2,
   "metadata": {},
   "outputs": [
    {
     "name": "stdout",
     "output_type": "stream",
     "text": [
      "bee\n"
     ]
    }
   ],
   "source": [
    "a = \"BEE\"\n",
    "print(a.casefold())"
   ]
  },
  {
   "cell_type": "code",
   "execution_count": 3,
   "metadata": {},
   "outputs": [
    {
     "name": "stdout",
     "output_type": "stream",
     "text": [
      "----bee-----\n"
     ]
    }
   ],
   "source": [
    "a = \"bee\" \n",
    "b = a.center(12, \"-\")\n",
    "print(b)"
   ]
  },
  {
   "cell_type": "code",
   "execution_count": 4,
   "metadata": {},
   "outputs": [
    {
     "name": "stdout",
     "output_type": "stream",
     "text": [
      "0\n",
      "5\n",
      "2\n",
      "1\n",
      "0\n",
      "2\n",
      "3\n"
     ]
    }
   ],
   "source": [
    "a = \"Mushroooom soup\" \n",
    "print(a.count(\"O\"))\n",
    "print(a.count(\"o\"))\n",
    "print(a.count(\"oo\"))\n",
    "print(a.count(\"ooo\"))\n",
    "print(a.count(\"Homer\"))\n",
    "print(a.count(\"o\", 4, 7))\n",
    "print(a.count(\"o\", 7))"
   ]
  },
  {
   "cell_type": "code",
   "execution_count": 6,
   "metadata": {},
   "outputs": [
    {
     "name": "stdout",
     "output_type": "stream",
     "text": [
      "Banana\n",
      "b'QmFuYW5h'\n"
     ]
    }
   ],
   "source": [
    "from base64 import b64encode\n",
    "\n",
    "a = \"Banana\"\n",
    "print(a)\n",
    "\n",
    "b = b64encode(a.encode())\n",
    "print(b)"
   ]
  },
  {
   "cell_type": "code",
   "execution_count": 7,
   "metadata": {},
   "outputs": [
    {
     "name": "stdout",
     "output_type": "stream",
     "text": [
      "True\n",
      "True\n",
      "False\n",
      "True\n"
     ]
    }
   ],
   "source": [
    "a = \"Banana\"\n",
    "print(a.endswith(\"a\"))\n",
    "print(a.endswith(\"nana\"))\n",
    "print(a.endswith(\"z\"))\n",
    "print(a.endswith(\"an\", 1, 3))"
   ]
  },
  {
   "cell_type": "code",
   "execution_count": 8,
   "metadata": {},
   "outputs": [
    {
     "name": "stdout",
     "output_type": "stream",
     "text": [
      "1\t2\t3\n",
      "1       2       3\n",
      "1           2           3\n",
      "1 2 3\n"
     ]
    }
   ],
   "source": [
    "a = \"1\\t2\\t3\"\n",
    "print(a)\n",
    "print(a.expandtabs())\n",
    "print(a.expandtabs(tabsize=12))\n",
    "print(a.expandtabs(tabsize=2))"
   ]
  },
  {
   "cell_type": "code",
   "execution_count": 9,
   "metadata": {},
   "outputs": [
    {
     "name": "stdout",
     "output_type": "stream",
     "text": [
      "0\n",
      "-1\n",
      "3\n",
      "3\n",
      "4\n",
      "-1\n",
      "-1\n"
     ]
    }
   ],
   "source": [
    "a = \"Fitness\"\n",
    "print(a.find(\"F\"))\n",
    "print(a.find(\"f\"))\n",
    "print(a.find(\"n\"))\n",
    "print(a.find(\"ness\"))\n",
    "print(a.find(\"ess\"))\n",
    "print(a.find(\"z\"))\n",
    "print(a.find(\"Homer\"))"
   ]
  },
  {
   "cell_type": "code",
   "execution_count": 10,
   "metadata": {},
   "outputs": [
    {
     "name": "stdout",
     "output_type": "stream",
     "text": [
      "Tea and Coffee\n",
      "Coffee and Tea\n",
      "Peas and Beans\n",
      "1, 2, 3\n",
      "Lunch: Pizza, Wine\n"
     ]
    }
   ],
   "source": [
    "# Example 1\n",
    "print(\"{} and {}\".format(\"Tea\", \"Coffee\"))\n",
    "\n",
    "# Example 2\n",
    "print(\"{1} and {0}\".format(\"Tea\", \"Coffee\"))\n",
    "\n",
    "# Example 3\n",
    "print(\"{lunch} and {dinner}\".format(lunch=\"Peas\", dinner=\"Beans\"))\n",
    "\n",
    "# Example 4\n",
    "print(\"{0}, {1}, {2}\".format(*\"123\"))\n",
    "\n",
    "# Example 5\n",
    "lunch = {\"food\": \"Pizza\", \"drink\": \"Wine\"}\n",
    "print(\"Lunch: {food}, {drink}\".format(**lunch))"
   ]
  },
  {
   "cell_type": "code",
   "execution_count": 11,
   "metadata": {},
   "outputs": [
    {
     "name": "stdout",
     "output_type": "stream",
     "text": [
      "Lunch: Pizza, Wine\n",
      "Lunch: Pizza, Drink\n",
      "Lunch: Food, Wine\n"
     ]
    }
   ],
   "source": [
    "# Example 1\n",
    "lunch = {\"Food\": \"Pizza\", \"Drink\": \"Wine\"}\n",
    "print(\"Lunch: {Food}, {Drink}\".format_map(lunch))\n",
    "\n",
    "# Example 2\n",
    "class Default(dict):\n",
    "    def __missing__(self, key):\n",
    "      return key\n",
    "\n",
    "lunch = {\"Food\": \"Pizza\"}\n",
    "print(\"Lunch: {Food}, {Drink}\".format_map(Default(lunch)))\n",
    "\n",
    "lunch = {\"Drink\": \"Wine\"}\n",
    "print(\"Lunch: {Food}, {Drink}\".format_map(Default(lunch)))"
   ]
  },
  {
   "cell_type": "code",
   "execution_count": 13,
   "metadata": {},
   "outputs": [
    {
     "name": "stdout",
     "output_type": "stream",
     "text": [
      "0\n",
      "3\n",
      "3\n",
      "4\n"
     ]
    }
   ],
   "source": [
    "a = \"Fitness\"\n",
    "print(a.index(\"F\"))\n",
    "print(a.index(\"n\"))\n",
    "print(a.index(\"ness\"))\n",
    "print(a.index(\"ess\"))\n",
    "#print(a.index(\"z\"))----ERROR NOT FOUND"
   ]
  },
  {
   "cell_type": "code",
   "execution_count": 14,
   "metadata": {},
   "outputs": [
    {
     "name": "stdout",
     "output_type": "stream",
     "text": [
      "True\n",
      "True\n",
      "False\n",
      "False\n",
      "False\n"
     ]
    }
   ],
   "source": [
    "c = \"Fitness\"\n",
    "print(c.isalnum())\n",
    "\n",
    "c = \"123\"\n",
    "print(c.isalnum())\n",
    "\n",
    "c = \"1.23\"\n",
    "print(c.isalnum())\n",
    "\n",
    "c = \"$*%!!!\"\n",
    "print(c.isalnum())\n",
    "\n",
    "c = \"0.34j\"\n",
    "print(c.isalnum())"
   ]
  },
  {
   "cell_type": "code",
   "execution_count": 16,
   "metadata": {},
   "outputs": [
    {
     "name": "stdout",
     "output_type": "stream",
     "text": [
      "True\n",
      "False\n",
      "False\n"
     ]
    }
   ],
   "source": [
    "c = \"Fitness\"\n",
    "print(c.isalpha())\n",
    "\n",
    "c = \"123\"\n",
    "print(c.isalpha())\n",
    "\n",
    "c = \"$*%!!!\"\n",
    "print(c.isalpha())"
   ]
  },
  {
   "cell_type": "code",
   "execution_count": 17,
   "metadata": {},
   "outputs": [
    {
     "name": "stdout",
     "output_type": "stream",
     "text": [
      "True\n",
      "False\n",
      "False\n",
      "False\n",
      "False\n",
      "False\n"
     ]
    }
   ],
   "source": [
    "c = \"123\"\n",
    "print(c.isdecimal())\n",
    "\n",
    "c = u\"\\u00B2\"\n",
    "print(c.isdecimal())\n",
    "\n",
    "c = \"1.23\"\n",
    "print(c.isdecimal())\n",
    "\n",
    "c = \"u123\"\n",
    "print(c.isdecimal())\n",
    "\n",
    "c = \"Fitness\"\n",
    "print(c.isdecimal())\n",
    "\n",
    "c = \"$*%!!!\"\n",
    "print(c.isdecimal())"
   ]
  },
  {
   "cell_type": "code",
   "execution_count": 18,
   "metadata": {},
   "outputs": [
    {
     "name": "stdout",
     "output_type": "stream",
     "text": [
      "True\n",
      "True\n",
      "False\n",
      "False\n",
      "False\n",
      "False\n"
     ]
    }
   ],
   "source": [
    "c = \"123\"\n",
    "print(c.isdigit())\n",
    "\n",
    "c = u\"\\u00B2\"\n",
    "print(c.isdigit())\n",
    "\n",
    "c = \"1.23\"\n",
    "print(c.isdigit())\n",
    "\n",
    "c = \"u123\"\n",
    "print(c.isdigit())\n",
    "\n",
    "c = \"Fitness\"\n",
    "print(c.isdigit())\n",
    "\n",
    "c = \"$*%!!!\"\n",
    "print(c.isdigit())"
   ]
  },
  {
   "cell_type": "code",
   "execution_count": 19,
   "metadata": {},
   "outputs": [
    {
     "name": "stdout",
     "output_type": "stream",
     "text": [
      "False\n",
      "True\n",
      "False\n",
      "True\n",
      "True\n"
     ]
    }
   ],
   "source": [
    "a = \"123\"\n",
    "print(a.isidentifier())\n",
    "\n",
    "a = \"_user_123\"\n",
    "print(a.isidentifier())\n",
    "\n",
    "a = \"_user-123\"\n",
    "print(a.isidentifier())\n",
    "\n",
    "a = \"Homer\"\n",
    "print(a.isidentifier())\n",
    "\n",
    "a = \"for\"\n",
    "print(a.isidentifier())"
   ]
  },
  {
   "cell_type": "code",
   "execution_count": 21,
   "metadata": {},
   "outputs": [
    {
     "name": "stdout",
     "output_type": "stream",
     "text": [
      "False\n",
      "False\n",
      "True\n",
      "False\n",
      "False\n",
      "True\n",
      "True\n"
     ]
    }
   ],
   "source": [
    "a = \" \"\n",
    "print(a.islower())\n",
    "\n",
    "a = \"123\"\n",
    "print(a.islower())\n",
    "\n",
    "a = \"_user_123\"\n",
    "print(a.islower())\n",
    "\n",
    "a = \"Homer\"\n",
    "print(a.islower())\n",
    "\n",
    "a = \"HOMER\"\n",
    "print(a.islower())\n",
    "\n",
    "a = \"homer\"\n",
    "print(a.islower())\n",
    "\n",
    "a = \"HOMER\"\n",
    "a = a.casefold() #Force lowercase\n",
    "print(a.islower())"
   ]
  },
  {
   "cell_type": "code",
   "execution_count": 23,
   "metadata": {},
   "outputs": [
    {
     "name": "stdout",
     "output_type": "stream",
     "text": [
      "True\n",
      "True\n",
      "False\n",
      "False\n",
      "False\n",
      "False\n"
     ]
    }
   ],
   "source": [
    "c = \"123\"\n",
    "print(c.isnumeric())\n",
    "\n",
    "c = u\"\\u00B2\"\n",
    "print(c.isnumeric())\n",
    "\n",
    "c = \"1.23\"\n",
    "print(c.isnumeric())\n",
    "\n",
    "c = \"u123\"\n",
    "print(c.isnumeric())\n",
    "\n",
    "c = \"Fitness\"\n",
    "print(c.isnumeric())\n",
    "\n",
    "c = \"$*%!!!\"\n",
    "print(c.isnumeric())"
   ]
  },
  {
   "cell_type": "code",
   "execution_count": 24,
   "metadata": {},
   "outputs": [
    {
     "name": "stdout",
     "output_type": "stream",
     "text": [
      "True\n",
      "True\n",
      "True\n",
      "True\n",
      "False\n",
      "False\n",
      "False\n"
     ]
    }
   ],
   "source": [
    "a = \"\"\n",
    "print(a.isprintable())\n",
    "\n",
    "a = \" \"\n",
    "print(a.isprintable())\n",
    "\n",
    "a = u\"\\u00B2\"\n",
    "print(a.isprintable())\n",
    "\n",
    "a = \"Bart\"\n",
    "print(a.isprintable())\n",
    "\n",
    "a = \"\\t\"\n",
    "print(a.isprintable())\n",
    "\n",
    "a = \"\\r\\n\"\n",
    "print(a.isprintable())\n",
    "\n",
    "a = \"Bart \\r\"\n",
    "print(a.isprintable())"
   ]
  },
  {
   "cell_type": "code",
   "execution_count": 25,
   "metadata": {},
   "outputs": [
    {
     "name": "stdout",
     "output_type": "stream",
     "text": [
      "False\n",
      "True\n",
      "False\n",
      "True\n",
      "True\n",
      "False\n"
     ]
    }
   ],
   "source": [
    "a = \"\"\n",
    "print(a.isspace())\n",
    "\n",
    "a = \" \"\n",
    "print(a.isspace())\n",
    "\n",
    "a = \"Bart\"\n",
    "print(a.isspace())\n",
    "\n",
    "a = \"\\t\"\n",
    "print(a.isspace())\n",
    "\n",
    "a = \"\\r\\n\"\n",
    "print(a.isspace())\n",
    "\n",
    "a = \"Bart \\r\"\n",
    "print(a.isspace())"
   ]
  },
  {
   "cell_type": "code",
   "execution_count": 26,
   "metadata": {},
   "outputs": [
    {
     "name": "stdout",
     "output_type": "stream",
     "text": [
      "False\n",
      "False\n",
      "False\n",
      "True\n",
      "True\n",
      "False\n",
      "True\n",
      "True\n"
     ]
    }
   ],
   "source": [
    "a = \"\"\n",
    "print(a.istitle())\n",
    "\n",
    "a = \" \"\n",
    "print(a.istitle())\n",
    "\n",
    "a = \" t\"\n",
    "print(a.istitle())\n",
    "\n",
    "a = \" T\"\n",
    "print(a.istitle())\n",
    "\n",
    "a = \"Tea\"\n",
    "print(a.istitle())\n",
    "\n",
    "a = \"Tea and Coffee\"\n",
    "print(a.istitle())\n",
    "\n",
    "a = \"Tea And Coffee\"\n",
    "print(a.istitle())\n",
    "\n",
    "a = \"1. Tea & Coffee \\r\"\n",
    "print(a.istitle())"
   ]
  },
  {
   "cell_type": "code",
   "execution_count": 27,
   "metadata": {},
   "outputs": [
    {
     "name": "stdout",
     "output_type": "stream",
     "text": [
      "False\n",
      "False\n",
      "True\n",
      "False\n",
      "True\n",
      "False\n",
      "False\n"
     ]
    }
   ],
   "source": [
    "a = \" \"\n",
    "print(a.isupper())\n",
    "\n",
    "a = \"123\"\n",
    "print(a.isupper())\n",
    "\n",
    "a = \"_USER_123\"\n",
    "print(a.isupper())\n",
    "\n",
    "a = \"Homer\"\n",
    "print(a.isupper())\n",
    "\n",
    "a = \"HOMER\"\n",
    "print(a.isupper())\n",
    "\n",
    "a = \"homer\"\n",
    "print(a.isupper())\n",
    "\n",
    "a = \"HOMER\"\n",
    "a = a.casefold() #Force lowercase\n",
    "print(a.isupper())"
   ]
  },
  {
   "cell_type": "code",
   "execution_count": 28,
   "metadata": {},
   "outputs": [
    {
     "name": "stdout",
     "output_type": "stream",
     "text": [
      "1-2-3\n",
      "U.S.A\n",
      "Dr. Who\n"
     ]
    }
   ],
   "source": [
    "a = \"-\"\n",
    "print(a.join(\"123\"))\n",
    "\n",
    "a = \".\"\n",
    "print(a.join(\"USA\"))\n",
    "\n",
    "a = \". \"\n",
    "print(a.join((\"Dr\", \"Who\")))"
   ]
  },
  {
   "cell_type": "code",
   "execution_count": 29,
   "metadata": {},
   "outputs": [
    {
     "name": "stdout",
     "output_type": "stream",
     "text": [
      "bee---------\n"
     ]
    }
   ],
   "source": [
    "a = \"bee\" \n",
    "b = a.ljust(12, \"-\")\n",
    "print(b)"
   ]
  },
  {
   "cell_type": "code",
   "execution_count": 30,
   "metadata": {},
   "outputs": [
    {
     "name": "stdout",
     "output_type": "stream",
     "text": [
      "Bee       !\n",
      "Bee-----\n"
     ]
    }
   ],
   "source": [
    "a = \"      Bee      \"\n",
    "print(a.lstrip(), \"!\")\n",
    "\n",
    "a = \"-----Bee-----\"\n",
    "print(a.lstrip(\"-\"))"
   ]
  },
  {
   "cell_type": "code",
   "execution_count": 31,
   "metadata": {},
   "outputs": [
    {
     "name": "stdout",
     "output_type": "stream",
     "text": [
      "123425 6782\n"
     ]
    }
   ],
   "source": [
    "frm = \"SecrtCod\"\n",
    "to = \"12345678\"\n",
    "trans_table = str.maketrans(frm, to)\n",
    "secret_code = \"Secret Code\".translate(trans_table)\n",
    "print(secret_code)"
   ]
  },
  {
   "cell_type": "code",
   "execution_count": 32,
   "metadata": {},
   "outputs": [
    {
     "name": "stdout",
     "output_type": "stream",
     "text": [
      "('Python', '-', 'program')\n",
      "('Python-program', '', '')\n"
     ]
    }
   ],
   "source": [
    "a = \"Python-program\"\n",
    "\n",
    "print(a.partition(\"-\"))\n",
    "print(a.partition(\".\"))"
   ]
  },
  {
   "cell_type": "code",
   "execution_count": 33,
   "metadata": {},
   "outputs": [
    {
     "name": "stdout",
     "output_type": "stream",
     "text": [
      "Coffee bag. Coffee cup. Coffee leaves.\n",
      "Coffee bag. Coffee cup. Tea leaves.\n"
     ]
    }
   ],
   "source": [
    "a = \"Tea bag. Tea cup. Tea leaves.\"\n",
    "\n",
    "print(a.replace(\"Tea\", \"Coffee\"))\n",
    "print(a.replace(\"Tea\", \"Coffee\", 2))"
   ]
  },
  {
   "cell_type": "code",
   "execution_count": 34,
   "metadata": {},
   "outputs": [
    {
     "name": "stdout",
     "output_type": "stream",
     "text": [
      "0\n",
      "8\n",
      "10\n",
      "9\n",
      "-1\n",
      "-1\n",
      "-1\n"
     ]
    }
   ],
   "source": [
    "a = \"Yes Fitness\"\n",
    "\n",
    "print(a.rfind(\"Y\"))\n",
    "print(a.rfind(\"e\"))\n",
    "print(a.rfind(\"s\"))\n",
    "print(a.rfind(\"ss\"))\n",
    "print(a.rfind(\"y\"))\n",
    "print(a.rfind(\"z\"))\n",
    "print(a.rfind(\"Homer\"))"
   ]
  },
  {
   "cell_type": "code",
   "execution_count": 36,
   "metadata": {},
   "outputs": [
    {
     "name": "stdout",
     "output_type": "stream",
     "text": [
      "0\n",
      "8\n",
      "10\n",
      "9\n"
     ]
    }
   ],
   "source": [
    "a = \"Yes Fitness\"\n",
    "\n",
    "print(a.rindex(\"Y\"))\n",
    "print(a.rindex(\"e\"))\n",
    "print(a.rindex(\"s\"))\n",
    "print(a.rindex(\"ss\"))\n",
    "#print(a.rindex(\"y\"))-----\n",
    "#print(a.rindex(\"z\"))-----#ERROR NOT FOUND--VALUE ERROR\n",
    "#print(a.rindex(\"Homer\"))---"
   ]
  },
  {
   "cell_type": "code",
   "execution_count": 37,
   "metadata": {},
   "outputs": [
    {
     "name": "stdout",
     "output_type": "stream",
     "text": [
      "---------bee\n"
     ]
    }
   ],
   "source": [
    "a = \"bee\" \n",
    "b = a.rjust(12, \"-\")\n",
    "print(b)"
   ]
  },
  {
   "cell_type": "code",
   "execution_count": 38,
   "metadata": {},
   "outputs": [
    {
     "name": "stdout",
     "output_type": "stream",
     "text": [
      "('Homer-Jay', '-', 'Simpson')\n",
      "('', '', 'Homer-Jay-Simpson')\n"
     ]
    }
   ],
   "source": [
    "a = \"Homer-Jay-Simpson\"\n",
    "\n",
    "print(a.rpartition(\"-\"))\n",
    "print(a.rpartition(\".\"))"
   ]
  },
  {
   "cell_type": "code",
   "execution_count": 39,
   "metadata": {},
   "outputs": [
    {
     "name": "stdout",
     "output_type": "stream",
     "text": [
      "      Bee !\n",
      "-----Bee\n"
     ]
    }
   ],
   "source": [
    "a = \"      Bee      \"\n",
    "print(a.rstrip(), \"!\")\n",
    "\n",
    "a = \"-----Bee-----\"\n",
    "print(a.rstrip(\"-\"))"
   ]
  },
  {
   "cell_type": "code",
   "execution_count": 40,
   "metadata": {},
   "outputs": [
    {
     "name": "stdout",
     "output_type": "stream",
     "text": [
      "['Homer', 'Jay', 'Simpson']\n",
      "['Homer', 'Jay-Simpson']\n",
      "['Homer', '', 'Bart', '']\n",
      "['Homer', ',Bart']\n",
      "['Homer', 'Bart', 'Marge']\n"
     ]
    }
   ],
   "source": [
    "a = \"Homer Jay Simpson\"\n",
    "print(a.split())\n",
    "\n",
    "a = \"Homer-Jay-Simpson\"\n",
    "print(a.split(sep=\"-\",maxsplit=1))\n",
    "\n",
    "a = \"Homer,,Bart,\"\n",
    "print(a.split(\",\"))\n",
    "\n",
    "a = \"Homer,,Bart\"\n",
    "print(a.split(\",\", maxsplit=1))\n",
    "\n",
    "a = \"Homer<>Bart<>Marge\"\n",
    "print(a.split(\"<>\"))"
   ]
  },
  {
   "cell_type": "code",
   "execution_count": 41,
   "metadata": {},
   "outputs": [
    {
     "name": "stdout",
     "output_type": "stream",
     "text": [
      "['Tea', '', 'and coffee', 'cups']\n",
      "['Tea\\n', '\\n', 'and coffee\\r', 'cups\\r\\n']\n"
     ]
    }
   ],
   "source": [
    "a = \"Tea\\n\\nand coffee\\rcups\\r\\n\"\n",
    "\n",
    "print(a.splitlines())\n",
    "print(a.splitlines(keepends=True))"
   ]
  },
  {
   "cell_type": "code",
   "execution_count": 42,
   "metadata": {},
   "outputs": [
    {
     "name": "stdout",
     "output_type": "stream",
     "text": [
      "True\n",
      "False\n",
      "True\n",
      "False\n",
      "True\n"
     ]
    }
   ],
   "source": [
    "a = \"Homer\"\n",
    "print(a.startswith(\"H\"))\n",
    "print(a.startswith(\"h\"))\n",
    "print(a.startswith(\"Homer\"))\n",
    "print(a.startswith(\"z\"))\n",
    "print(a.startswith(\"om\", 1, 3))"
   ]
  },
  {
   "cell_type": "code",
   "execution_count": 43,
   "metadata": {},
   "outputs": [
    {
     "name": "stdout",
     "output_type": "stream",
     "text": [
      "Bee !\n",
      "Bee\n"
     ]
    }
   ],
   "source": [
    "a = \"      Bee      \"\n",
    "print(a.strip(), \"!\")\n",
    "\n",
    "a = \"-----Bee-----\"\n",
    "print(a.strip(\"-\"))"
   ]
  },
  {
   "cell_type": "code",
   "execution_count": 44,
   "metadata": {},
   "outputs": [
    {
     "name": "stdout",
     "output_type": "stream",
     "text": [
      "hOMER sIMPSON\n"
     ]
    }
   ],
   "source": [
    "a = \"Homer Simpson\"\n",
    "print(a.swapcase())"
   ]
  },
  {
   "cell_type": "code",
   "execution_count": 45,
   "metadata": {},
   "outputs": [
    {
     "name": "stdout",
     "output_type": "stream",
     "text": [
      "Tea And Coffee\n",
      "Tea And Coffee\n"
     ]
    }
   ],
   "source": [
    "a = \"tea and coffee\"\n",
    "print(a.title())\n",
    "\n",
    "a = \"TEA AND COFFEE\"\n",
    "print(a.title())"
   ]
  },
  {
   "cell_type": "code",
   "execution_count": 46,
   "metadata": {},
   "outputs": [
    {
     "name": "stdout",
     "output_type": "stream",
     "text": [
      "123425 6782\n"
     ]
    }
   ],
   "source": [
    "frm = \"SecrtCod\"\n",
    "to = \"12345678\"\n",
    "trans_table = str.maketrans(frm, to)\n",
    "secret_code = \"Secret Code\".translate(trans_table)\n",
    "print(secret_code)"
   ]
  },
  {
   "cell_type": "code",
   "execution_count": 47,
   "metadata": {},
   "outputs": [
    {
     "name": "stdout",
     "output_type": "stream",
     "text": [
      "BEE\n"
     ]
    }
   ],
   "source": [
    "a = \"bee\"\n",
    "print(a.upper())"
   ]
  },
  {
   "cell_type": "code",
   "execution_count": 48,
   "metadata": {},
   "outputs": [
    {
     "name": "stdout",
     "output_type": "stream",
     "text": [
      "00036\n",
      "-0036\n",
      "+0036\n"
     ]
    }
   ],
   "source": [
    "a = \"36\"\n",
    "print(a.zfill(5))\n",
    "\n",
    "a = \"-36\"\n",
    "print(a.zfill(5))\n",
    "\n",
    "a = \"+36\"\n",
    "print(a.zfill(5))"
   ]
  },
  {
   "cell_type": "code",
   "execution_count": 49,
   "metadata": {},
   "outputs": [
    {
     "name": "stdout",
     "output_type": "stream",
     "text": [
      "Tea Leaf\n"
     ]
    }
   ],
   "source": [
    "#Python string operators\n",
    "a = \"Tea \" + \"Leaf\"\n",
    "print(a)"
   ]
  },
  {
   "cell_type": "code",
   "execution_count": 50,
   "metadata": {},
   "outputs": [
    {
     "name": "stdout",
     "output_type": "stream",
     "text": [
      "Bee Bee Bee \n"
     ]
    }
   ],
   "source": [
    "a = \"Bee \" * 3\n",
    "print(a)"
   ]
  },
  {
   "cell_type": "code",
   "execution_count": 51,
   "metadata": {},
   "outputs": [
    {
     "name": "stdout",
     "output_type": "stream",
     "text": [
      "e\n"
     ]
    }
   ],
   "source": [
    "a = \"Sea\"\n",
    "print(a[1])"
   ]
  },
  {
   "cell_type": "code",
   "execution_count": 52,
   "metadata": {},
   "outputs": [
    {
     "name": "stdout",
     "output_type": "stream",
     "text": [
      "room\n"
     ]
    }
   ],
   "source": [
    "a = \"Mushroom\"\n",
    "print(a[4:8])"
   ]
  },
  {
   "cell_type": "code",
   "execution_count": 53,
   "metadata": {},
   "outputs": [
    {
     "name": "stdout",
     "output_type": "stream",
     "text": [
      "True\n",
      "False\n",
      "True\n"
     ]
    }
   ],
   "source": [
    "a = \"Mushroom\"\n",
    "print(\"m\" in a)\n",
    "print(\"b\" in a)\n",
    "print(\"shroo\" in a)"
   ]
  },
  {
   "cell_type": "code",
   "execution_count": 54,
   "metadata": {},
   "outputs": [
    {
     "name": "stdout",
     "output_type": "stream",
     "text": [
      "False\n",
      "True\n",
      "False\n"
     ]
    }
   ],
   "source": [
    "a = \"Mushroom\"\n",
    "print(\"m\" not in a)\n",
    "print(\"b\" not in a)\n",
    "print(\"shroo\" not in a)"
   ]
  },
  {
   "cell_type": "code",
   "execution_count": 55,
   "metadata": {},
   "outputs": [
    {
     "name": "stdout",
     "output_type": "stream",
     "text": [
      "1\tBee\n",
      "2\\tTea\n"
     ]
    }
   ],
   "source": [
    "a = \"1\" + \"\\t\" + \"Bee\"\n",
    "b = \"2\" + r\"\\t\" + \"Tea\"\n",
    "print(a)\n",
    "print(b)"
   ]
  },
  {
   "cell_type": "code",
   "execution_count": 56,
   "metadata": {},
   "outputs": [
    {
     "name": "stdout",
     "output_type": "stream",
     "text": [
      "Hi Homer\n"
     ]
    }
   ],
   "source": [
    "a = \"Hi %s\" % (\"Homer\")\n",
    "print(a)"
   ]
  }
 ],
 "metadata": {
  "kernelspec": {
   "display_name": "Python 3",
   "language": "python",
   "name": "python3"
  },
  "language_info": {
   "codemirror_mode": {
    "name": "ipython",
    "version": 3
   },
   "file_extension": ".py",
   "mimetype": "text/x-python",
   "name": "python",
   "nbconvert_exporter": "python",
   "pygments_lexer": "ipython3",
   "version": "3.8.3"
  }
 },
 "nbformat": 4,
 "nbformat_minor": 4
}
