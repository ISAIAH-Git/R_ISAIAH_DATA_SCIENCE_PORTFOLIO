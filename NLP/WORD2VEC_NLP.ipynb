{
 "cells": [
  {
   "cell_type": "code",
   "execution_count": 42,
   "metadata": {},
   "outputs": [],
   "source": [
    "import nltk\n",
    "import gensim\n",
    "from gensim.models import Word2Vec\n",
    "from nltk.corpus import stopwords\n",
    "from nltk.stem import WordNetLemmatizer\n",
    "import re"
   ]
  },
  {
   "cell_type": "code",
   "execution_count": 43,
   "metadata": {},
   "outputs": [
    {
     "data": {
      "text/plain": [
       "'I have wrestled with an alligator. That’s right; I have wrestled with an alligator. I have tussled with a whale. I have handcuffed lightning, thrown thunder in jail. That’s bad. Only last week I murdered a rock; injured a stone; hospitalised a brick. I’m so mean I make medicine sick…. Fast, fast, fast, last night I cut the light off in the bedroom, hit the switch and hit the bed before the room was dark. Fast. All of you chumps are going to bow when I whoop him. I know you got him picked. But when the man is in trouble – “I’m a show you how great I am!”\\n'"
      ]
     },
     "execution_count": 43,
     "metadata": {},
     "output_type": "execute_result"
    }
   ],
   "source": [
    "paragraph=\"\"\"I have wrestled with an alligator. That’s right; I have wrestled with an alligator. I have tussled with a whale. I have handcuffed lightning, thrown thunder in jail. That’s bad. Only last week I murdered a rock; injured a stone; hospitalised a brick. I’m so mean I make medicine sick…. Fast, fast, fast, last night I cut the light off in the bedroom, hit the switch and hit the bed before the room was dark. Fast. All of you chumps are going to bow when I whoop him. I know you got him picked. But when the man is in trouble – “I’m a show you how great I am!”\n",
    "\"\"\"\n",
    "paragraph"
   ]
  },
  {
   "cell_type": "code",
   "execution_count": 44,
   "metadata": {},
   "outputs": [
    {
     "data": {
      "text/plain": [
       "'i have wrestled with an alligator. that’s right; i have wrestled with an alligator. i have tussled with a whale. i have handcuffed lightning, thrown thunder in jail. that’s bad. only last week i murdered a rock; injured a stone; hospitalised a brick. i’m so mean i make medicine sick…. fast, fast, fast, last night i cut the light off in the bedroom, hit the switch and hit the bed before the room was dark. fast. all of you chumps are going to bow when i whoop him. i know you got him picked. but when the man is in trouble – “i’m a show you how great i am!” '"
      ]
     },
     "execution_count": 44,
     "metadata": {},
     "output_type": "execute_result"
    }
   ],
   "source": [
    "#Preprocessing\n",
    "text=re.sub(r'\\[[0-9]*\\]',' ',paragraph)\n",
    "text=re.sub(r'\\s+',' ',text)\n",
    "text=text.lower()\n",
    "text=re.sub(r'\\d',' ',text)\n",
    "text=re.sub(r'\\s+',' ',text)\n",
    "text"
   ]
  },
  {
   "cell_type": "code",
   "execution_count": 45,
   "metadata": {},
   "outputs": [
    {
     "data": {
      "text/plain": [
       "['i have wrestled with an alligator.',\n",
       " 'that’s right; i have wrestled with an alligator.',\n",
       " 'i have tussled with a whale.',\n",
       " 'i have handcuffed lightning, thrown thunder in jail.',\n",
       " 'that’s bad.',\n",
       " 'only last week i murdered a rock; injured a stone; hospitalised a brick.',\n",
       " 'i’m so mean i make medicine sick….',\n",
       " 'fast, fast, fast, last night i cut the light off in the bedroom, hit the switch and hit the bed before the room was dark.',\n",
       " 'fast.',\n",
       " 'all of you chumps are going to bow when i whoop him.',\n",
       " 'i know you got him picked.',\n",
       " 'but when the man is in trouble – “i’m a show you how great i am!”']"
      ]
     },
     "execution_count": 45,
     "metadata": {},
     "output_type": "execute_result"
    }
   ],
   "source": [
    "#Preparing the dataset by tokenization and lemmatization\n",
    "sentences = nltk.sent_tokenize(text)\n",
    "sentences"
   ]
  },
  {
   "cell_type": "code",
   "execution_count": 46,
   "metadata": {},
   "outputs": [
    {
     "data": {
      "text/plain": [
       "[['i', 'have', 'wrestled', 'with', 'an', 'alligator', '.'],\n",
       " ['that',\n",
       "  '’',\n",
       "  's',\n",
       "  'right',\n",
       "  ';',\n",
       "  'i',\n",
       "  'have',\n",
       "  'wrestled',\n",
       "  'with',\n",
       "  'an',\n",
       "  'alligator',\n",
       "  '.'],\n",
       " ['i', 'have', 'tussled', 'with', 'a', 'whale', '.'],\n",
       " ['i',\n",
       "  'have',\n",
       "  'handcuffed',\n",
       "  'lightning',\n",
       "  ',',\n",
       "  'thrown',\n",
       "  'thunder',\n",
       "  'in',\n",
       "  'jail',\n",
       "  '.'],\n",
       " ['that', '’', 's', 'bad', '.'],\n",
       " ['only',\n",
       "  'last',\n",
       "  'week',\n",
       "  'i',\n",
       "  'murdered',\n",
       "  'a',\n",
       "  'rock',\n",
       "  ';',\n",
       "  'injured',\n",
       "  'a',\n",
       "  'stone',\n",
       "  ';',\n",
       "  'hospitalised',\n",
       "  'a',\n",
       "  'brick',\n",
       "  '.'],\n",
       " ['i', '’', 'm', 'so', 'mean', 'i', 'make', 'medicine', 'sick…', '.'],\n",
       " ['fast',\n",
       "  ',',\n",
       "  'fast',\n",
       "  ',',\n",
       "  'fast',\n",
       "  ',',\n",
       "  'last',\n",
       "  'night',\n",
       "  'i',\n",
       "  'cut',\n",
       "  'the',\n",
       "  'light',\n",
       "  'off',\n",
       "  'in',\n",
       "  'the',\n",
       "  'bedroom',\n",
       "  ',',\n",
       "  'hit',\n",
       "  'the',\n",
       "  'switch',\n",
       "  'and',\n",
       "  'hit',\n",
       "  'the',\n",
       "  'bed',\n",
       "  'before',\n",
       "  'the',\n",
       "  'room',\n",
       "  'was',\n",
       "  'dark',\n",
       "  '.'],\n",
       " ['fast', '.'],\n",
       " ['all',\n",
       "  'of',\n",
       "  'you',\n",
       "  'chumps',\n",
       "  'are',\n",
       "  'going',\n",
       "  'to',\n",
       "  'bow',\n",
       "  'when',\n",
       "  'i',\n",
       "  'whoop',\n",
       "  'him',\n",
       "  '.'],\n",
       " ['i', 'know', 'you', 'got', 'him', 'picked', '.'],\n",
       " ['but',\n",
       "  'when',\n",
       "  'the',\n",
       "  'man',\n",
       "  'is',\n",
       "  'in',\n",
       "  'trouble',\n",
       "  '–',\n",
       "  '“',\n",
       "  'i',\n",
       "  '’',\n",
       "  'm',\n",
       "  'a',\n",
       "  'show',\n",
       "  'you',\n",
       "  'how',\n",
       "  'great',\n",
       "  'i',\n",
       "  'am',\n",
       "  '!',\n",
       "  '”']]"
      ]
     },
     "execution_count": 46,
     "metadata": {},
     "output_type": "execute_result"
    }
   ],
   "source": [
    "sentences = [nltk.word_tokenize(sentence) for sentence in sentences]\n",
    "sentences"
   ]
  },
  {
   "cell_type": "code",
   "execution_count": 47,
   "metadata": {},
   "outputs": [],
   "source": [
    "for i in range(len(sentences)):\n",
    "    sentences[i] = [word for word in sentences[i] if word not in stopwords.words('english')]"
   ]
  },
  {
   "cell_type": "code",
   "execution_count": 48,
   "metadata": {},
   "outputs": [
    {
     "data": {
      "text/plain": [
       "<gensim.models.word2vec.Word2Vec at 0x14b9166c220>"
      ]
     },
     "execution_count": 48,
     "metadata": {},
     "output_type": "execute_result"
    }
   ],
   "source": [
    "# Training the Word2Vec model\n",
    "model = Word2Vec(sentences, min_count=1)#if the word is present less than 1 we skip that word but if it presentit will atleast 1 count\n",
    "model"
   ]
  },
  {
   "cell_type": "code",
   "execution_count": 49,
   "metadata": {},
   "outputs": [
    {
     "data": {
      "text/plain": [
       "{'wrestled': <gensim.models.keyedvectors.Vocab at 0x14b9166c640>,\n",
       " 'alligator': <gensim.models.keyedvectors.Vocab at 0x14b9166c190>,\n",
       " '.': <gensim.models.keyedvectors.Vocab at 0x14b9166c250>,\n",
       " '’': <gensim.models.keyedvectors.Vocab at 0x14b9166c100>,\n",
       " 'right': <gensim.models.keyedvectors.Vocab at 0x14b9166c7f0>,\n",
       " ';': <gensim.models.keyedvectors.Vocab at 0x14b9166c5b0>,\n",
       " 'tussled': <gensim.models.keyedvectors.Vocab at 0x14b9166ca60>,\n",
       " 'whale': <gensim.models.keyedvectors.Vocab at 0x14b9166c0d0>,\n",
       " 'handcuffed': <gensim.models.keyedvectors.Vocab at 0x14b9166cca0>,\n",
       " 'lightning': <gensim.models.keyedvectors.Vocab at 0x14b9166c1c0>,\n",
       " ',': <gensim.models.keyedvectors.Vocab at 0x14b9166ceb0>,\n",
       " 'thrown': <gensim.models.keyedvectors.Vocab at 0x14b9166c130>,\n",
       " 'thunder': <gensim.models.keyedvectors.Vocab at 0x14b9166c070>,\n",
       " 'jail': <gensim.models.keyedvectors.Vocab at 0x14b9166cdf0>,\n",
       " 'bad': <gensim.models.keyedvectors.Vocab at 0x14b9166cb80>,\n",
       " 'last': <gensim.models.keyedvectors.Vocab at 0x14b8ff65400>,\n",
       " 'week': <gensim.models.keyedvectors.Vocab at 0x14b8ff65820>,\n",
       " 'murdered': <gensim.models.keyedvectors.Vocab at 0x14b8ff650a0>,\n",
       " 'rock': <gensim.models.keyedvectors.Vocab at 0x14b8ff65460>,\n",
       " 'injured': <gensim.models.keyedvectors.Vocab at 0x14b904acfd0>,\n",
       " 'stone': <gensim.models.keyedvectors.Vocab at 0x14b904acd30>,\n",
       " 'hospitalised': <gensim.models.keyedvectors.Vocab at 0x14b904acbe0>,\n",
       " 'brick': <gensim.models.keyedvectors.Vocab at 0x14b904acc70>,\n",
       " 'mean': <gensim.models.keyedvectors.Vocab at 0x14b964ea460>,\n",
       " 'make': <gensim.models.keyedvectors.Vocab at 0x14b964ea130>,\n",
       " 'medicine': <gensim.models.keyedvectors.Vocab at 0x14b964ea520>,\n",
       " 'sick…': <gensim.models.keyedvectors.Vocab at 0x14b964ea100>,\n",
       " 'fast': <gensim.models.keyedvectors.Vocab at 0x14b964eab20>,\n",
       " 'night': <gensim.models.keyedvectors.Vocab at 0x14b964eaa30>,\n",
       " 'cut': <gensim.models.keyedvectors.Vocab at 0x14b964ea250>,\n",
       " 'light': <gensim.models.keyedvectors.Vocab at 0x14b964eac40>,\n",
       " 'bedroom': <gensim.models.keyedvectors.Vocab at 0x14b964eac70>,\n",
       " 'hit': <gensim.models.keyedvectors.Vocab at 0x14b964ea8e0>,\n",
       " 'switch': <gensim.models.keyedvectors.Vocab at 0x14b964eacd0>,\n",
       " 'bed': <gensim.models.keyedvectors.Vocab at 0x14b964ead90>,\n",
       " 'room': <gensim.models.keyedvectors.Vocab at 0x14b964ea550>,\n",
       " 'dark': <gensim.models.keyedvectors.Vocab at 0x14b964eac10>,\n",
       " 'chumps': <gensim.models.keyedvectors.Vocab at 0x14b964eadf0>,\n",
       " 'going': <gensim.models.keyedvectors.Vocab at 0x14b964eae80>,\n",
       " 'bow': <gensim.models.keyedvectors.Vocab at 0x14b964ea3a0>,\n",
       " 'whoop': <gensim.models.keyedvectors.Vocab at 0x14b964eaac0>,\n",
       " 'know': <gensim.models.keyedvectors.Vocab at 0x14b964ea940>,\n",
       " 'got': <gensim.models.keyedvectors.Vocab at 0x14b964ea910>,\n",
       " 'picked': <gensim.models.keyedvectors.Vocab at 0x14b964ead00>,\n",
       " 'man': <gensim.models.keyedvectors.Vocab at 0x14b964eab50>,\n",
       " 'trouble': <gensim.models.keyedvectors.Vocab at 0x14b964eaf70>,\n",
       " '–': <gensim.models.keyedvectors.Vocab at 0x14b964ea790>,\n",
       " '“': <gensim.models.keyedvectors.Vocab at 0x14b964eae50>,\n",
       " 'show': <gensim.models.keyedvectors.Vocab at 0x14b964ea610>,\n",
       " 'great': <gensim.models.keyedvectors.Vocab at 0x14b964eab80>,\n",
       " '!': <gensim.models.keyedvectors.Vocab at 0x14b96500040>,\n",
       " '”': <gensim.models.keyedvectors.Vocab at 0x14b965000a0>}"
      ]
     },
     "execution_count": 49,
     "metadata": {},
     "output_type": "execute_result"
    }
   ],
   "source": [
    "#FINDING THE WORD I FOUND IN THIS WORD2vec model in ascending order\n",
    "words = model.wv.vocab\n",
    "words"
   ]
  },
  {
   "cell_type": "code",
   "execution_count": 50,
   "metadata": {},
   "outputs": [
    {
     "name": "stdout",
     "output_type": "stream",
     "text": [
      "[-4.6161255e-03 -3.4799553e-03 -1.4011110e-03  3.2819449e-03\n",
      " -3.2171693e-03  1.7404975e-03 -4.0155221e-03 -1.7032304e-03\n",
      "  4.2277076e-03 -1.1269699e-03 -3.8095978e-03  2.2346065e-03\n",
      " -7.2688604e-04  4.0368508e-03  1.4033060e-03 -2.4791777e-03\n",
      " -3.1657564e-03  1.0191756e-03 -1.9108799e-03  1.9080386e-03\n",
      "  4.7065558e-05  4.1246088e-03  4.6617147e-03  1.2011006e-03\n",
      "  8.6904893e-04 -3.6076342e-03 -4.5956685e-03 -4.2734350e-04\n",
      " -4.0708836e-03 -1.6623919e-03  3.6644279e-03 -3.1386530e-03\n",
      " -2.2373754e-03  4.6506235e-03  1.1574736e-04  4.1531655e-03\n",
      "  4.4001085e-03  1.9428662e-03 -2.3258126e-03  2.6232696e-03\n",
      "  1.3901739e-03 -3.8260575e-03  7.6107879e-04  1.2191213e-03\n",
      "  3.2543309e-03  6.3469686e-04  4.3769777e-03 -8.7679632e-04\n",
      "  3.4818267e-03  3.1418006e-03 -7.1254157e-04  2.6163510e-03\n",
      "  3.9355201e-03  2.5586344e-03  3.9965222e-03 -4.9018865e-03\n",
      "  8.1222906e-04  1.6055852e-03  1.9263992e-03 -1.2674254e-03\n",
      "  3.6273308e-03  8.2531007e-04  3.8654809e-03  4.7381413e-03\n",
      " -2.7573882e-03  3.6440697e-03  3.5421092e-03  3.4104884e-03\n",
      "  3.3929944e-03 -6.3888979e-04  3.7250845e-03 -2.7283764e-04\n",
      "  2.9996433e-03 -3.7409549e-03 -1.3044449e-03  3.2553813e-04\n",
      " -3.9335461e-03  1.6978304e-03 -4.6418207e-03  8.2616514e-04\n",
      " -3.9790934e-03  4.0563438e-03  7.7636313e-04  9.5544310e-05\n",
      " -1.5963200e-03  7.4657152e-04 -2.2229580e-03 -4.0214625e-03\n",
      " -7.7099126e-04  7.4672507e-04 -4.1856901e-03 -1.2854734e-03\n",
      "  3.4136639e-03  2.3462896e-03 -4.0835780e-03 -2.9272174e-03\n",
      " -4.1198088e-03  4.8802481e-03  1.5941920e-03  3.1304781e-03]\n",
      "100\n"
     ]
    }
   ],
   "source": [
    "# Finding Word Vectors\n",
    "vector = model.wv['thunder'] #vectors of the word \"thunder\" it always has 100 dimensions\n",
    "print(vector)\n",
    "print(len(vector))\n",
    "#Here word vector are simply vectors of numbers that represent the meaning of the word where \n",
    "#each point captures a dimension of the word meaning and where semantically similar words have similar vectors."
   ]
  },
  {
   "cell_type": "code",
   "execution_count": 51,
   "metadata": {},
   "outputs": [
    {
     "data": {
      "text/plain": [
       "[('room', 0.19971030950546265),\n",
       " ('murdered', 0.18680672347545624),\n",
       " ('chumps', 0.1845269352197647),\n",
       " ('–', 0.1695607304573059),\n",
       " ('switch', 0.1661432981491089),\n",
       " (';', 0.15059612691402435),\n",
       " ('mean', 0.14551088213920593),\n",
       " ('stone', 0.1269800215959549),\n",
       " ('last', 0.11987335979938507),\n",
       " ('jail', 0.11570041626691818)]"
      ]
     },
     "execution_count": 51,
     "metadata": {},
     "output_type": "execute_result"
    }
   ],
   "source": [
    "# Most similar words to whoop\n",
    "similar = model.wv.most_similar('whoop')\n",
    "similar"
   ]
  },
  {
   "cell_type": "code",
   "execution_count": 52,
   "metadata": {},
   "outputs": [
    {
     "data": {
      "text/plain": [
       "[('”', 0.20131991803646088),\n",
       " ('show', 0.16112308204174042),\n",
       " ('injured', 0.15845978260040283),\n",
       " ('medicine', 0.12313421070575714),\n",
       " ('–', 0.11804328113794327),\n",
       " ('stone', 0.11163480579853058),\n",
       " ('going', 0.10183849930763245),\n",
       " ('know', 0.09014752507209778),\n",
       " ('room', 0.08653473109006882),\n",
       " ('“', 0.08389422297477722)]"
      ]
     },
     "execution_count": 52,
     "metadata": {},
     "output_type": "execute_result"
    }
   ],
   "source": [
    "# Most similar words to fast\n",
    "similar = model.wv.most_similar('fast')\n",
    "similar"
   ]
  }
 ],
 "metadata": {
  "kernelspec": {
   "display_name": "Python 3",
   "language": "python",
   "name": "python3"
  },
  "language_info": {
   "codemirror_mode": {
    "name": "ipython",
    "version": 3
   },
   "file_extension": ".py",
   "mimetype": "text/x-python",
   "name": "python",
   "nbconvert_exporter": "python",
   "pygments_lexer": "ipython3",
   "version": "3.8.3"
  }
 },
 "nbformat": 4,
 "nbformat_minor": 4
}
