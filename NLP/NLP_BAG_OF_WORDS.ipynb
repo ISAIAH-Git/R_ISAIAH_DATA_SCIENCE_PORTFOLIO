{
 "cells": [
  {
   "cell_type": "code",
   "execution_count": 1,
   "metadata": {},
   "outputs": [],
   "source": [
    "import nltk"
   ]
  },
  {
   "cell_type": "code",
   "execution_count": 2,
   "metadata": {},
   "outputs": [
    {
     "name": "stdout",
     "output_type": "stream",
     "text": [
      "I have wrestled with an alligator. That’s right; I have wrestled with an alligator. I have tussled with a whale. I have handcuffed lightning, thrown thunder in jail. That’s bad. Only last week I murdered a rock; injured a stone; hospitalised a brick. I’m so mean I make medicine sick…. Fast, fast, fast, last night I cut the light off in the bedroom, hit the switch and hit the bed before the room was dark. Fast. All of you chumps are going to bow when I whoop him. I know you got him picked. But when the man is in trouble – “I’m a show you how great I am!”\n"
     ]
    }
   ],
   "source": [
    "paragraph=\"\"\"I have wrestled with an alligator. That’s right; I have wrestled with an alligator. I have tussled with a whale. I have handcuffed lightning, thrown thunder in jail. That’s bad. Only last week I murdered a rock; injured a stone; hospitalised a brick. I’m so mean I make medicine sick…. Fast, fast, fast, last night I cut the light off in the bedroom, hit the switch and hit the bed before the room was dark. Fast. All of you chumps are going to bow when I whoop him. I know you got him picked. But when the man is in trouble – “I’m a show you how great I am!”\"\"\"\n",
    "print(paragraph)"
   ]
  },
  {
   "cell_type": "code",
   "execution_count": 5,
   "metadata": {},
   "outputs": [],
   "source": [
    "\n",
    "import re #importing regular expression\n",
    "from nltk.corpus import stopwords #importing stopwords\n",
    "from nltk.stem.porter import PorterStemmer#For stemming\n",
    "from nltk.stem import WordNetLemmatizer #For lemmatization"
   ]
  },
  {
   "cell_type": "code",
   "execution_count": 14,
   "metadata": {},
   "outputs": [
    {
     "name": "stdout",
     "output_type": "stream",
     "text": [
      "STEMMING : \n",
      "__________________________________________________________________\n",
      "['wrestl alligator.', 'hat’ right; wrestl alligator.', 'tussl whale.', 'handcuf lightning, thrown thunder jail.', 'hat’ bad.', 'nli last week murder rock; injur stone; hospitalis brick.', '’m mean make medicin sick….', 'ast, fast, fast, last night cut light bedroom, hit switch hit bed room dark.', 'ast.', 'chump go bow whoop him.', 'know got picked.', 'ut man troubl – “i’m show great am!”']\n",
      "__________________________________________________________________\n",
      "['I have wrestled with an alligator.', 'That’s right; I have wrestled with an alligator.', 'I have tussled with a whale.', 'I have handcuffed lightning, thrown thunder in jail.', 'That’s bad.', 'Only last week I murdered a rock; injured a stone; hospitalised a brick.', 'I’m so mean I make medicine sick….', 'Fast, fast, fast, last night I cut the light off in the bedroom, hit the switch and hit the bed before the room was dark.', 'Fast.', 'All of you chumps are going to bow when I whoop him.', 'I know you got him picked.', 'But when the man is in trouble – “I’m a show you how great I am!”']\n"
     ]
    }
   ],
   "source": [
    "#Cleaning the text\n",
    "ps=PorterStemmer()\n",
    "wordnet=WordNetLemmatizer()\n",
    "sentences=nltk.sent_tokenize(paragraph)\n",
    "corpus=[]\n",
    "for i in range(len(sentences)):\n",
    "    review=re.sub('^[a-zA-Z]',' ',sentences[i])\n",
    "    review=review.lower()\n",
    "    review=review.split()\n",
    "    review=[ps.stem(word) for word in review if not word in set(stopwords.words('english'))]\n",
    "    review=\" \".join(review)\n",
    "    corpus.append(review)\n",
    "print('STEMMING : ')\n",
    "print('__________________________________________________________________')\n",
    "print(corpus)\n",
    "print('__________________________________________________________________')\n",
    "print(sentences)"
   ]
  },
  {
   "cell_type": "code",
   "execution_count": 13,
   "metadata": {},
   "outputs": [
    {
     "name": "stdout",
     "output_type": "stream",
     "text": [
      "LEMMATIZATION : \n",
      "__________________________________________________________________\n",
      "['wrestled alligator.', 'hat’s right; wrestled alligator.', 'tussled whale.', 'handcuffed lightning, thrown thunder jail.', 'hat’s bad.', 'nly last week murdered rock; injured stone; hospitalised brick.', '’m mean make medicine sick….', 'ast, fast, fast, last night cut light bedroom, hit switch hit bed room dark.', 'ast.', 'chump going bow whoop him.', 'know got picked.', 'ut man trouble – “i’m show great am!”']\n",
      "__________________________________________________________________\n",
      "['I have wrestled with an alligator.', 'That’s right; I have wrestled with an alligator.', 'I have tussled with a whale.', 'I have handcuffed lightning, thrown thunder in jail.', 'That’s bad.', 'Only last week I murdered a rock; injured a stone; hospitalised a brick.', 'I’m so mean I make medicine sick….', 'Fast, fast, fast, last night I cut the light off in the bedroom, hit the switch and hit the bed before the room was dark.', 'Fast.', 'All of you chumps are going to bow when I whoop him.', 'I know you got him picked.', 'But when the man is in trouble – “I’m a show you how great I am!”']\n"
     ]
    }
   ],
   "source": [
    "ps=PorterStemmer()\n",
    "wordnet=WordNetLemmatizer()\n",
    "sentences=nltk.sent_tokenize(paragraph)\n",
    "corpus=[]\n",
    "for i in range(len(sentences)):\n",
    "    review=re.sub('^[a-zA-Z]',' ',sentences[i])\n",
    "    review=review.lower()\n",
    "    review=review.split()\n",
    "    review=[wordnet.lemmatize(word) for word in review if not word in set(stopwords.words('english'))]\n",
    "    review=\" \".join(review)\n",
    "    corpus.append(review)\n",
    "print('LEMMATIZATION : ')\n",
    "print('__________________________________________________________________')\n",
    "print(corpus)\n",
    "print('__________________________________________________________________')\n",
    "print(sentences)"
   ]
  },
  {
   "cell_type": "code",
   "execution_count": 17,
   "metadata": {},
   "outputs": [
    {
     "name": "stdout",
     "output_type": "stream",
     "text": [
      "BAG OF WORDS OF THE PARAGRAPH : \n",
      "[[1 0 0 0 0 0 0 0 0 0 0 0 0 0 0 0 0 0 0 0 0 0 0 0 0 0 0 0 0 0 0 0 0 0 0 0\n",
      "  0 0 0 0 0 0 0 0 0 0 0 0 0 1]\n",
      " [1 0 0 0 0 0 0 0 0 0 0 0 0 0 0 0 1 0 0 0 0 0 0 0 0 0 0 0 0 0 0 0 0 0 1 0\n",
      "  0 0 0 0 0 0 0 0 0 0 0 0 0 1]\n",
      " [0 0 0 0 0 0 0 0 0 0 0 0 0 0 0 0 0 0 0 0 0 0 0 0 0 0 0 0 0 0 0 0 0 0 0 0\n",
      "  0 0 0 0 0 0 0 0 1 0 0 1 0 0]\n",
      " [0 0 0 0 0 0 0 0 0 0 0 0 0 0 0 1 0 0 0 0 0 1 0 0 0 1 0 0 0 0 0 0 0 0 0 0\n",
      "  0 0 0 0 0 1 1 0 0 0 0 0 0 0]\n",
      " [0 0 0 1 0 0 0 0 0 0 0 0 0 0 0 0 1 0 0 0 0 0 0 0 0 0 0 0 0 0 0 0 0 0 0 0\n",
      "  0 0 0 0 0 0 0 0 0 0 0 0 0 0]\n",
      " [0 0 0 0 0 0 0 1 0 0 0 0 0 0 0 0 0 0 0 1 1 0 0 1 0 0 0 0 0 0 1 0 1 0 0 1\n",
      "  0 0 0 1 0 0 0 0 0 0 1 0 0 0]\n",
      " [0 0 0 0 0 0 0 0 0 0 0 0 0 0 0 0 0 0 0 0 0 0 0 0 0 0 1 0 1 1 0 0 0 0 0 0\n",
      "  0 0 1 0 0 0 0 0 0 0 0 0 0 0]\n",
      " [0 0 1 0 1 1 0 0 0 1 1 2 0 0 0 0 0 0 2 0 0 0 0 1 1 0 0 0 0 0 0 1 0 0 0 0\n",
      "  1 0 0 0 1 0 0 0 0 0 0 0 0 0]\n",
      " [0 0 1 0 0 0 0 0 0 0 0 0 0 0 0 0 0 0 0 0 0 0 0 0 0 0 0 0 0 0 0 0 0 0 0 0\n",
      "  0 0 0 0 0 0 0 0 0 0 0 0 0 0]\n",
      " [0 0 0 0 0 0 1 0 1 0 0 0 1 0 0 0 0 1 0 0 0 0 0 0 0 0 0 0 0 0 0 0 0 0 0 0\n",
      "  0 0 0 0 0 0 0 0 0 0 0 0 1 0]\n",
      " [0 0 0 0 0 0 0 0 0 0 0 0 0 1 0 0 0 0 0 0 0 0 1 0 0 0 0 0 0 0 0 0 0 1 0 0\n",
      "  0 0 0 0 0 0 0 0 0 0 0 0 0 0]\n",
      " [0 1 0 0 0 0 0 0 0 0 0 0 0 0 1 0 0 0 0 0 0 0 0 0 0 0 0 1 0 0 0 0 0 0 0 0\n",
      "  0 1 0 0 0 0 0 1 0 1 0 0 0 0]]\n",
      "(12, 50)\n"
     ]
    }
   ],
   "source": [
    "#Creating the bag of words\n",
    "from sklearn.feature_extraction.text import CountVectorizer\n",
    "cv=CountVectorizer(max_features=1500)\n",
    "X=cv.fit_transform(corpus).toarray()\n",
    "print('BAG OF WORDS OF THE PARAGRAPH : ')\n",
    "print(X)\n",
    "print(X.shape)"
   ]
  },
  {
   "cell_type": "code",
   "execution_count": null,
   "metadata": {},
   "outputs": [],
   "source": []
  }
 ],
 "metadata": {
  "kernelspec": {
   "display_name": "Python 3",
   "language": "python",
   "name": "python3"
  },
  "language_info": {
   "codemirror_mode": {
    "name": "ipython",
    "version": 3
   },
   "file_extension": ".py",
   "mimetype": "text/x-python",
   "name": "python",
   "nbconvert_exporter": "python",
   "pygments_lexer": "ipython3",
   "version": "3.8.3"
  }
 },
 "nbformat": 4,
 "nbformat_minor": 4
}
