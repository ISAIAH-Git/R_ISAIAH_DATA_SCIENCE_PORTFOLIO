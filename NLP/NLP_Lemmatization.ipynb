{
 "cells": [
  {
   "cell_type": "code",
   "execution_count": 2,
   "metadata": {},
   "outputs": [],
   "source": [
    "import nltk\n",
    "from nltk.stem import WordNetLemmatizer\n",
    "from nltk.corpus import stopwords"
   ]
  },
  {
   "cell_type": "code",
   "execution_count": 3,
   "metadata": {},
   "outputs": [
    {
     "name": "stdout",
     "output_type": "stream",
     "text": [
      "I have wrestled with an alligator. That’s right; I have wrestled with an alligator. I have tussled with a whale. I have handcuffed lightning, thrown thunder in jail. That’s bad. Only last week I murdered a rock; injured a stone; hospitalised a brick. I’m so mean I make medicine sick…. Fast, fast, fast, last night I cut the light off in the bedroom, hit the switch and hit the bed before the room was dark. Fast. All of you chumps are going to bow when I whoop him. I know you got him picked. But when the man is in trouble – “I’m a show you how great I am!”\n"
     ]
    }
   ],
   "source": [
    "paragraph=\"\"\"I have wrestled with an alligator. That’s right; I have wrestled with an alligator. I have tussled with a whale. I have handcuffed lightning, thrown thunder in jail. That’s bad. Only last week I murdered a rock; injured a stone; hospitalised a brick. I’m so mean I make medicine sick…. Fast, fast, fast, last night I cut the light off in the bedroom, hit the switch and hit the bed before the room was dark. Fast. All of you chumps are going to bow when I whoop him. I know you got him picked. But when the man is in trouble – “I’m a show you how great I am!”\"\"\"\n",
    "print(paragraph)"
   ]
  },
  {
   "cell_type": "code",
   "execution_count": 4,
   "metadata": {},
   "outputs": [
    {
     "data": {
      "text/plain": [
       "['I have wrestled with an alligator.',\n",
       " 'That’s right; I have wrestled with an alligator.',\n",
       " 'I have tussled with a whale.',\n",
       " 'I have handcuffed lightning, thrown thunder in jail.',\n",
       " 'That’s bad.',\n",
       " 'Only last week I murdered a rock; injured a stone; hospitalised a brick.',\n",
       " 'I’m so mean I make medicine sick….',\n",
       " 'Fast, fast, fast, last night I cut the light off in the bedroom, hit the switch and hit the bed before the room was dark.',\n",
       " 'Fast.',\n",
       " 'All of you chumps are going to bow when I whoop him.',\n",
       " 'I know you got him picked.',\n",
       " 'But when the man is in trouble – “I’m a show you how great I am!”']"
      ]
     },
     "execution_count": 4,
     "metadata": {},
     "output_type": "execute_result"
    }
   ],
   "source": [
    "sentences=nltk.sent_tokenize(paragraph)\n",
    "sentences"
   ]
  },
  {
   "cell_type": "code",
   "execution_count": 10,
   "metadata": {},
   "outputs": [
    {
     "name": "stderr",
     "output_type": "stream",
     "text": [
      "[nltk_data] Downloading package wordnet to\n",
      "[nltk_data]     C:\\Users\\91733\\AppData\\Roaming\\nltk_data...\n",
      "[nltk_data]   Unzipping corpora\\wordnet.zip.\n"
     ]
    },
    {
     "data": {
      "text/plain": [
       "True"
      ]
     },
     "execution_count": 10,
     "metadata": {},
     "output_type": "execute_result"
    }
   ],
   "source": [
    "lemmatizer=WordNetLemmatizer()\n",
    "nltk.download('wordnet')"
   ]
  },
  {
   "cell_type": "code",
   "execution_count": 11,
   "metadata": {},
   "outputs": [
    {
     "data": {
      "text/plain": [
       "'But man trouble – “ I ’ show great I ! ”'"
      ]
     },
     "execution_count": 11,
     "metadata": {},
     "output_type": "execute_result"
    }
   ],
   "source": [
    "#LEMMATIZATION\n",
    "for i in range(len(sentences)):\n",
    "    words=nltk.word_tokenize(sentences[i])\n",
    "    words=[lemmatizer.lemmatize(word) for word in words if word not in set(stopwords.words('english'))]\n",
    "    sentences[i]=\" \".join(words)\n",
    "sentences[i]"
   ]
  },
  {
   "cell_type": "code",
   "execution_count": 12,
   "metadata": {},
   "outputs": [
    {
     "name": "stdout",
     "output_type": "stream",
     "text": [
      "['I wrestled alligator .', 'That ’ right ; I wrestled alligator .', 'I tussled whale .', 'I handcuffed lightning , thrown thunder jail .', 'That ’ bad .', 'Only last week I murdered rock ; injured stone ; hospitalised brick .', 'I ’ mean I make medicine sick… .', 'Fast , fast , fast , last night I cut light bedroom , hit switch hit bed room dark .', 'Fast .', 'All chump going bow I whoop .', 'I know got picked .', 'But man trouble – “ I ’ show great I ! ”']\n"
     ]
    }
   ],
   "source": [
    "print(sentences)"
   ]
  }
 ],
 "metadata": {
  "kernelspec": {
   "display_name": "Python 3",
   "language": "python",
   "name": "python3"
  },
  "language_info": {
   "codemirror_mode": {
    "name": "ipython",
    "version": 3
   },
   "file_extension": ".py",
   "mimetype": "text/x-python",
   "name": "python",
   "nbconvert_exporter": "python",
   "pygments_lexer": "ipython3",
   "version": "3.8.3"
  }
 },
 "nbformat": 4,
 "nbformat_minor": 4
}
