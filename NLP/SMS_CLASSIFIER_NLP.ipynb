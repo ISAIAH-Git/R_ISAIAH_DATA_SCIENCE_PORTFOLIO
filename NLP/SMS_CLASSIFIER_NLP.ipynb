{
 "cells": [
  {
   "cell_type": "markdown",
   "metadata": {},
   "source": [
    "# ABOUT THE DATASET"
   ]
  },
  {
   "cell_type": "markdown",
   "metadata": {},
   "source": [
    "SMS Spam Collection v.1\n",
    "-------------------------\n",
    "\n",
    "**1. DESCRIPTION**\n",
    "--------------\n",
    "\n",
    "The SMS Spam Collection v.1 (hereafter the corpus) is a set of SMS tagged messages that have been collected for SMS Spam research. It contains one set of SMS messages in English of 5,574 messages, tagged acording being ham (legitimate) or spam. \n",
    "\n",
    "1.1. Compilation\n",
    "----------------\n",
    "\n",
    "This corpus has been collected from free or free for research sources at the Web:\n",
    "\n",
    "- A collection of between 425 SMS spam messages extracted manually from the Grumbletext Web site. This is a UK forum in which cell phone users make public claims about SMS spam messages, most of them without reporting the very spam message received. The identification of the text of spam messages in the claims is a very hard and time-consuming task, and it involved carefully scanning hundreds of web pages. The Grumbletext Web site is: http://www.grumbletext.co.uk/\n",
    "- A list of 450 SMS ham messages collected from Caroline Tag's PhD Theses available at http://etheses.bham.ac.uk/253/1/Tagg09PhD.pdf\n",
    "- A subset of 3,375 SMS ham messages of the NUS SMS Corpus (NSC), which is a corpus of about 10,000 legitimate messages collected for research at the Department of Computer Science at the National University of Singapore. The messages largely originate from Singaporeans and mostly from students attending the University. These messages were collected from volunteers who were made aware that their contributions were going to be made publicly available. The NUS SMS Corpus is avalaible at: http://www.comp.nus.edu.sg/~rpnlpir/downloads/corpora/smsCorpus/\n",
    "- The amount of 1,002 SMS ham messages and 322 spam messages extracted from the SMS Spam Corpus v.0.1 Big created by José María Gómez Hidalgo and public available at: http://www.esp.uem.es/jmgomez/smsspamcorpus/\n",
    "\n",
    "\n",
    "1.2. Statistics\n",
    "---------------\n",
    "\n",
    "There is one collection:\n",
    "\n",
    "- The SMS Spam Collection v.1 (text file: smsspamcollection) has a total of 4,827 SMS legitimate messages (86.6%) and a total of 747 (13.4%) spam messages.\n",
    "\n",
    "\n",
    "1.3. Format\n",
    "-----------\n",
    "\n",
    "The files contain one message per line. Each line is composed by two columns: one with label (ham or spam) and other with the raw text. Here are some examples:\n",
    "\n",
    "ham   What you doing?how are you?\n",
    "ham   Ok lar... Joking wif u oni...\n",
    "ham   dun say so early hor... U c already then say...\n",
    "ham   MY NO. IN LUTON 0125698789 RING ME IF UR AROUND! H*\n",
    "ham   Siva is in hostel aha:-.\n",
    "ham   Cos i was out shopping wif darren jus now n i called him 2 ask wat present he wan lor. Then he started guessing who i was wif n he finally guessed darren lor.\n",
    "spam   FreeMsg: Txt: CALL to No: 86888 & claim your reward of 3 hours talk time to use from your phone now! ubscribe6GBP/ mnth inc 3hrs 16 stop?txtStop\n",
    "spam   Sunshine Quiz! Win a super Sony DVD recorder if you canname the capital of Australia? Text MQUIZ to 82277. B\n",
    "spam   URGENT! Your Mobile No 07808726822 was awarded a L2,000 Bonus Caller Prize on 02/09/03! This is our 2nd attempt to contact YOU! Call 0871-872-9758 BOX95QU\n",
    "\n",
    "Note: messages are not chronologically sorted."
   ]
  },
  {
   "cell_type": "markdown",
   "metadata": {},
   "source": [
    "# IMPORTING THE LIBRARIES"
   ]
  },
  {
   "cell_type": "code",
   "execution_count": 101,
   "metadata": {},
   "outputs": [],
   "source": [
    "import pandas as pd\n",
    "import numpy as np\n",
    "import matplotlib.pyplot as plt\n",
    "import seaborn as sns\n",
    "import re\n",
    "import nltk\n",
    "from nltk.corpus import stopwords\n",
    "from nltk.stem import WordNetLemmatizer"
   ]
  },
  {
   "cell_type": "code",
   "execution_count": 102,
   "metadata": {},
   "outputs": [
    {
     "data": {
      "text/html": [
       "<div>\n",
       "<style scoped>\n",
       "    .dataframe tbody tr th:only-of-type {\n",
       "        vertical-align: middle;\n",
       "    }\n",
       "\n",
       "    .dataframe tbody tr th {\n",
       "        vertical-align: top;\n",
       "    }\n",
       "\n",
       "    .dataframe thead th {\n",
       "        text-align: right;\n",
       "    }\n",
       "</style>\n",
       "<table border=\"1\" class=\"dataframe\">\n",
       "  <thead>\n",
       "    <tr style=\"text-align: right;\">\n",
       "      <th></th>\n",
       "      <th>label</th>\n",
       "      <th>message</th>\n",
       "    </tr>\n",
       "  </thead>\n",
       "  <tbody>\n",
       "    <tr>\n",
       "      <th>0</th>\n",
       "      <td>ham</td>\n",
       "      <td>Go until jurong point, crazy.. Available only ...</td>\n",
       "    </tr>\n",
       "    <tr>\n",
       "      <th>1</th>\n",
       "      <td>ham</td>\n",
       "      <td>Ok lar... Joking wif u oni...</td>\n",
       "    </tr>\n",
       "    <tr>\n",
       "      <th>2</th>\n",
       "      <td>spam</td>\n",
       "      <td>Free entry in 2 a wkly comp to win FA Cup fina...</td>\n",
       "    </tr>\n",
       "    <tr>\n",
       "      <th>3</th>\n",
       "      <td>ham</td>\n",
       "      <td>U dun say so early hor... U c already then say...</td>\n",
       "    </tr>\n",
       "    <tr>\n",
       "      <th>4</th>\n",
       "      <td>ham</td>\n",
       "      <td>Nah I don't think he goes to usf, he lives aro...</td>\n",
       "    </tr>\n",
       "  </tbody>\n",
       "</table>\n",
       "</div>"
      ],
      "text/plain": [
       "  label                                            message\n",
       "0   ham  Go until jurong point, crazy.. Available only ...\n",
       "1   ham                      Ok lar... Joking wif u oni...\n",
       "2  spam  Free entry in 2 a wkly comp to win FA Cup fina...\n",
       "3   ham  U dun say so early hor... U c already then say...\n",
       "4   ham  Nah I don't think he goes to usf, he lives aro..."
      ]
     },
     "execution_count": 102,
     "metadata": {},
     "output_type": "execute_result"
    }
   ],
   "source": [
    "SMS=pd.read_csv('SMSSpamCollection',sep='\\t',names=['label','message'])\n",
    "SMS.head()"
   ]
  },
  {
   "cell_type": "code",
   "execution_count": 103,
   "metadata": {},
   "outputs": [
    {
     "data": {
      "text/plain": [
       "Index(['label', 'message'], dtype='object')"
      ]
     },
     "execution_count": 103,
     "metadata": {},
     "output_type": "execute_result"
    }
   ],
   "source": [
    "SMS.columns"
   ]
  },
  {
   "cell_type": "code",
   "execution_count": 104,
   "metadata": {},
   "outputs": [],
   "source": [
    "#CLEANING THE DATA\n",
    "wordnet=WordNetLemmatizer()\n",
    "corpus=[]\n",
    "for i in range(0,len(SMS)):\n",
    "    review=re.sub('^[a-zA-Z]',' ',SMS['message'][i])\n",
    "    review=review.lower()\n",
    "    review=review.split()\n",
    "    review=[wordnet.lemmatize(word) for word in review if not word in set(stopwords.words('english'))]\n",
    "    review=\" \".join(review)\n",
    "    corpus.append(review)\n",
    "\n"
   ]
  },
  {
   "cell_type": "code",
   "execution_count": 123,
   "metadata": {},
   "outputs": [
    {
     "name": "stdout",
     "output_type": "stream",
     "text": [
      "5000\n",
      "(5572, 5000)\n"
     ]
    }
   ],
   "source": [
    "#Creating the TFIDF VECTOR\n",
    "from sklearn.feature_extraction.text import TfidfVectorizer\n",
    "cv=TfidfVectorizer(encoding='utf-8',max_features=5000,decode_error='strict',norm='l2',analyzer='word',use_idf=True,smooth_idf=True,sublinear_tf=True)\n",
    "X=cv.fit_transform(corpus).toarray()\n",
    "print(len(cv.get_feature_names()))\n",
    "print(X.shape)"
   ]
  },
  {
   "cell_type": "code",
   "execution_count": 107,
   "metadata": {},
   "outputs": [
    {
     "data": {
      "text/plain": [
       "array([0, 0, 1, ..., 0, 0, 0], dtype=uint8)"
      ]
     },
     "execution_count": 107,
     "metadata": {},
     "output_type": "execute_result"
    }
   ],
   "source": [
    "y=pd.get_dummies(SMS['label'])\n",
    "y=y.iloc[:,1].values\n",
    "y"
   ]
  },
  {
   "cell_type": "markdown",
   "metadata": {},
   "source": [
    "# INTRODUCTION TO THE ALGORITHUM :\n",
    "\n",
    "**Table of Contents:**\n",
    "\n",
    "**What is Naive Bayes algorithm?**\n",
    "\n",
    "**How Naive Bayes Algorithms works?**\n",
    "\n",
    "**What are the Pros and Cons of using Naive Bayes?**\n",
    "\n",
    "**4 Applications of Naive Bayes Algorithm**\n",
    "\n",
    "**Steps to build a basic Naive Bayes Model in Python**\n",
    "\n",
    "**Tips to improve the power of Naive Bayes Model**\n",
    "\n",
    "**What is Naive Bayes algorithm?**\n",
    "\n",
    "It is a classification technique based on Bayes’ Theorem with an assumption of independence among predictors. In simple terms, a Naive Bayes classifier assumes that the presence of a particular feature in a class is unrelated to the presence of any other feature.\n",
    "\n",
    "**For example:** \n",
    "\n",
    "A fruit may be considered to be an apple if it is red, round, and about 3 inches in diameter. Even if these features depend on each other or upon the existence of the other features, all of these properties independently contribute to the probability that this fruit is an apple and that is why it is known as ‘Naive’.\n",
    "\n",
    "Naive Bayes model is easy to build and particularly useful for very large data sets. Along with simplicity, Naive Bayes is known to outperform even highly sophisticated classification methods.\n",
    "\n",
    "Bayes theorem provides a way of calculating posterior probability P(c|x) from P(c), P(x) and P(x|c). Look at the equation below:\n",
    "\n",
    "**P(C/X)=P(X/C).P(C)\n",
    "         ___________\n",
    "            P(X)**\n",
    "P(c|x) is the posterior probability of class (c, target) given predictor (x, attributes).\n",
    "\n",
    "P(c) is the prior probability of class.\n",
    "\n",
    "P(x|c) is the likelihood which is the probability of predictor given class.\n",
    "\n",
    "P(x) is the prior probability of predictor.\n",
    "\n",
    "How Naive Bayes algorithm works? Now, we need to classify whether players will play or not based on weather condition.\n",
    "\n",
    "**Let’s follow the below steps to perform it.**\n",
    "\n",
    "Step 1: Convert the data set into a frequency table\n",
    "\n",
    "Step 2: Create Likelihood table by finding the probabilities like Overcast probability = 0.29\n",
    "\n",
    "and probability of playing is 0.64\n",
    "\n",
    "Step 3: Now, use Naive Bayesian equation to calculate the posterior probability for each class.\n",
    "\n",
    "The class with the highest posterior probability is the outcome of prediction\n",
    "\n",
    "Problem: Players will play if weather is sunny. Is this statement is correct?\n",
    "\n",
    "We can solve it using above discussed method of posterior probability.\n",
    "\n",
    "P(Yes | Sunny) = P( Sunny | Yes) * P(Yes) / P (Sunny)\n",
    "\n",
    "Here we have P (Sunny |Yes) = 3/9 = 0.33, P(Sunny) = 5/14 = 0.36, P( Yes)= 9/14 = 0.64\n",
    "\n",
    "Now, P (Yes | Sunny) = 0.33 * 0.64 / 0.36 = 0.60, which has higher probability.\n",
    "\n",
    "Naive Bayes uses a similar method to predict the probability of different class based on various attributes.\n",
    "\n",
    "This algorithm is mostly used in text classification and with problems having multiple classes.\n",
    "\n",
    "**What are the Pros and Cons of Naive Bayes?**\n",
    "\n",
    "**Pros:**\n",
    "\n",
    "It is easy and fast to predict class of test data set. It also perform well in multi class prediction\n",
    "\n",
    "When assumption of independence holds, a Naive Bayes classifier performs better compare to other models\n",
    "\n",
    "like logistic regression and you need less training data.\n",
    "\n",
    "It perform well in case of categorical input variables compared to numerical variable(s).\n",
    "\n",
    "For numerical variable, normal distribution is assumed (bell curve, which is a strong assumption). Cons:\n",
    "\n",
    "If categorical variable has a category (in test data set), which was not observed in training data set,\n",
    "\n",
    "then model will assign a 0 (zero) probability and will be unable to make a prediction. This is often known as\n",
    "\n",
    "“Zero Frequency”. To solve this, we can use the smoothing technique. One of the simplest smoothing techniques is\n",
    "\n",
    "called Laplace estimation.\n",
    "\n",
    "On the other side naive Bayes is also known as a bad estimator, so the probability outputs from predict_proba are not to\n",
    "\n",
    "be taken too seriously.\n",
    "\n",
    "Another limitation of Naive Bayes is the assumption of independent predictors. In real life, it is almost impossible\n",
    "\n",
    "that we get a set of predictors which are completely independent.\n",
    "\n",
    "Applications of Naive Bayes Algorithms\n",
    "\n",
    "**Real time Prediction**: Naive Bayes is an eager learning classifier and it is sure fast. Thus, it could be used for\n",
    "\n",
    "making predictions in real time.\n",
    "\n",
    "**Multi class Prediction**: This algorithm is also well known for multi class prediction feature.\n",
    "\n",
    "Here we can predict the probability of multiple classes of target variable.\n",
    "\n",
    "Text classification/ Spam Filtering/ Sentiment Analysis: Naive Bayes classifiers mostly used in text classification\n",
    "\n",
    "(due to better result in multi class problems and independence rule) have higher success rate as compared to other\n",
    "\n",
    "algorithms. As a result, it is widely used in Spam filtering (identify spam e-mail) and Sentiment Analysis\n",
    "\n",
    "(in social media analysis, to identify positive and negative customer sentiments)\n",
    "\n",
    "**Recommendation System**: Naive Bayes Classifier and Collaborative Filtering together builds a Recommendation System that\n",
    "\n",
    "uses machine learning and data mining techniques to filter unseen information and predict whether a user would like a\n",
    "\n",
    "given resource or not\n",
    "\n",
    "How to build a basic model using Naive Bayes in Python ?\n",
    "\n",
    "Again, scikit learn (python library) will help here to build a Naive Bayes model in Python. There are three types of\n",
    "\n",
    "Naive Bayes model under the scikit-learn library:\n",
    "\n",
    "**Gaussian: It is used in classification and it assumes that features follow a normal distribution.**\n",
    "\n",
    "**Multinomial: It is used for discrete counts. For example, let’s say, we have a text classification problem. Here we can**\n",
    "\n",
    "**consider Bernoulli trials which is one step further and instead of “word occurring in the document”, we have “count how**\n",
    "\n",
    "**often word occurs in the document”, you can think of it as “number of times outcome number x_i is observed over the n**\n",
    "\n",
    "**trials”**\n",
    "\n",
    "**Bernoulli: The binomial model is useful if your feature vectors are binary (i.e. zeros and ones). One application would**\n",
    "\n",
    "**be text classification with ‘bag of words’ model where the 1s & 0s are “word occurs in the document” and “word does not**\n",
    "\n",
    "**occur in the document” respectively.**"
   ]
  },
  {
   "cell_type": "markdown",
   "metadata": {},
   "source": [
    "# Model Building"
   ]
  },
  {
   "cell_type": "code",
   "execution_count": 108,
   "metadata": {},
   "outputs": [],
   "source": [
    "#TRAIN TEST SPLIT\n",
    "from sklearn.model_selection import train_test_split\n",
    "X_train,X_test,y_train,y_test=train_test_split(X,y,test_size=0.20,random_state=0)"
   ]
  },
  {
   "cell_type": "markdown",
   "metadata": {},
   "source": [
    "# Name based classifier - GaussianNB"
   ]
  },
  {
   "cell_type": "code",
   "execution_count": 109,
   "metadata": {},
   "outputs": [
    {
     "name": "stdout",
     "output_type": "stream",
     "text": [
      "Start training...\n",
      "Training time:  0.552 s\n",
      "Train Dataset Accuracy:  92.3939869867624\n",
      "Test Dataset Accuracy:  97.9372197309417\n"
     ]
    }
   ],
   "source": [
    "#Training the model \n",
    "from time import time\n",
    "import sklearn.metrics as metrics\n",
    "from sklearn.naive_bayes import GaussianNB\n",
    "gnb = GaussianNB() \n",
    "\n",
    "print(\"Start training...\")\n",
    "tStart = time()\n",
    "gnb.fit(X_train, y_train)\n",
    "tEnd = time()\n",
    "print(\"Training time: \", round(tEnd-tStart, 3), \"s\")\n",
    "\n",
    "#### making predictions on the training set \n",
    "y_pred_train = gnb.predict(X_train) \n",
    "print(\"Train Dataset Accuracy: \", metrics.accuracy_score(y_train, y_pred_train)*100)\n",
    "\n",
    "#### making predictions on the testing set \n",
    "y_pred_GNB = gnb.predict(X_test) \n",
    "print(\"Test Dataset Accuracy: \", metrics.accuracy_score(y_test, y_pred)*100)"
   ]
  },
  {
   "cell_type": "code",
   "execution_count": 110,
   "metadata": {},
   "outputs": [
    {
     "name": "stdout",
     "output_type": "stream",
     "text": [
      "Confusion Matrix is:\n",
      "[[860  95]\n",
      " [ 13 147]]\n"
     ]
    },
    {
     "data": {
      "text/plain": [
       "<matplotlib.axes._subplots.AxesSubplot at 0x275aac67a30>"
      ]
     },
     "execution_count": 110,
     "metadata": {},
     "output_type": "execute_result"
    },
    {
     "data": {
      "image/png": "[encoded data removed]",
      "text/plain": [
       "<Figure size 432x288 with 2 Axes>"
      ]
     },
     "metadata": {
      "needs_background": "light"
     },
     "output_type": "display_data"
    }
   ],
   "source": [
    "#### Confusion matrix for name base classifier\n",
    "from sklearn.metrics import confusion_matrix\n",
    "cm=confusion_matrix(y_test,y_pred_GNB)\n",
    "print(\"Confusion Matrix is:\", cm, sep='\\n') \n",
    "sns.heatmap(cm,center=True,annot=True)"
   ]
  },
  {
   "cell_type": "code",
   "execution_count": 111,
   "metadata": {},
   "outputs": [
    {
     "name": "stdout",
     "output_type": "stream",
     "text": [
      "              precision    recall  f1-score   support\n",
      "\n",
      "           0       0.99      0.90      0.94       955\n",
      "           1       0.61      0.92      0.73       160\n",
      "\n",
      "    accuracy                           0.90      1115\n",
      "   macro avg       0.80      0.91      0.84      1115\n",
      "weighted avg       0.93      0.90      0.91      1115\n",
      "\n"
     ]
    }
   ],
   "source": [
    "from sklearn.metrics import classification_report\n",
    "CR=classification_report(y_test,y_pred_GNB)\n",
    "print(CR)"
   ]
  },
  {
   "cell_type": "code",
   "execution_count": 112,
   "metadata": {},
   "outputs": [
    {
     "name": "stdout",
     "output_type": "stream",
     "text": [
      "Area under the curve: 0.909636780104712\n"
     ]
    },
    {
     "data": {
      "image/png": "[encoded data removed]",
      "text/plain": [
       "<Figure size 432x288 with 1 Axes>"
      ]
     },
     "metadata": {
      "needs_background": "light"
     },
     "output_type": "display_data"
    }
   ],
   "source": [
    "#### Return probability estimates for the test vector \n",
    "probs = gnb.predict_proba(X_test)\n",
    "\n",
    "#### Keep Probabilities of the positive class only.\n",
    "prob_positive = probs[:,1]\n",
    "\n",
    "fpr, tpr, threshold = metrics.roc_curve(y_test, prob_positive)\n",
    "roc_auc_GNB = metrics.auc(fpr, tpr)\n",
    "\n",
    "print('Area under the curve:',roc_auc_GNB)\n",
    "\n",
    "#### plot ROC Curve\n",
    "plt.title('Receiver Operating Characteristic')\n",
    "plt.plot(fpr, tpr, 'orange', label = 'AUC = %0.2f' % roc_auc_GNB)\n",
    "plt.legend(loc = 'lower right')\n",
    "\n",
    "plt.plot([0, 1], [0, 1], color='darkblue', linestyle='--')\n",
    "plt.ylabel('True Positive Rate')\n",
    "plt.xlabel('False Positive Rate')\n",
    "plt.show()"
   ]
  },
  {
   "cell_type": "markdown",
   "metadata": {},
   "source": [
    "# Name based classifier - BernoulliNB"
   ]
  },
  {
   "cell_type": "code",
   "execution_count": 113,
   "metadata": {},
   "outputs": [
    {
     "name": "stdout",
     "output_type": "stream",
     "text": [
      "Start training...\n",
      "Training time:  0.245 s\n",
      "Train Dataset Accuracy:  98.5416199237155\n",
      "Test Dataset Accuracy:  97.9372197309417\n"
     ]
    }
   ],
   "source": [
    "#Training the model \n",
    "from time import time\n",
    "import sklearn.metrics as metrics\n",
    "from sklearn.naive_bayes import BernoulliNB\n",
    "bnb = BernoulliNB() \n",
    "\n",
    "print(\"Start training...\")\n",
    "tStart = time()\n",
    "bnb.fit(X_train, y_train)\n",
    "tEnd = time()\n",
    "print(\"Training time: \", round(tEnd-tStart, 3), \"s\")\n",
    "\n",
    "#### making predictions on the training set \n",
    "y_pred_train = bnb.predict(X_train) \n",
    "print(\"Train Dataset Accuracy: \", metrics.accuracy_score(y_train, y_pred_train)*100)\n",
    "\n",
    "#### making predictions on the testing set \n",
    "y_pred_BNB = bnb.predict(X_test) \n",
    "print(\"Test Dataset Accuracy: \", metrics.accuracy_score(y_test, y_pred)*100)"
   ]
  },
  {
   "cell_type": "code",
   "execution_count": 114,
   "metadata": {},
   "outputs": [
    {
     "name": "stdout",
     "output_type": "stream",
     "text": [
      "Confusion Matrix is:\n",
      "[[951   4]\n",
      " [ 17 143]]\n"
     ]
    },
    {
     "data": {
      "text/plain": [
       "<matplotlib.axes._subplots.AxesSubplot at 0x275aab9bac0>"
      ]
     },
     "execution_count": 114,
     "metadata": {},
     "output_type": "execute_result"
    },
    {
     "data": {
      "image/png": "[encoded data removed]",
      "text/plain": [
       "<Figure size 432x288 with 2 Axes>"
      ]
     },
     "metadata": {
      "needs_background": "light"
     },
     "output_type": "display_data"
    }
   ],
   "source": [
    "#### Confusion matrix for name base classifier\n",
    "cm=confusion_matrix(y_test,y_pred_BNB)\n",
    "print(\"Confusion Matrix is:\", cm, sep='\\n') \n",
    "sns.heatmap(cm,center=True,annot=True)"
   ]
  },
  {
   "cell_type": "code",
   "execution_count": 115,
   "metadata": {},
   "outputs": [
    {
     "name": "stdout",
     "output_type": "stream",
     "text": [
      "              precision    recall  f1-score   support\n",
      "\n",
      "           0       0.98      1.00      0.99       955\n",
      "           1       0.97      0.89      0.93       160\n",
      "\n",
      "    accuracy                           0.98      1115\n",
      "   macro avg       0.98      0.94      0.96      1115\n",
      "weighted avg       0.98      0.98      0.98      1115\n",
      "\n"
     ]
    }
   ],
   "source": [
    "from sklearn.metrics import classification_report\n",
    "CR=classification_report(y_test,y_pred_BNB)\n",
    "print(CR)"
   ]
  },
  {
   "cell_type": "code",
   "execution_count": 116,
   "metadata": {},
   "outputs": [
    {
     "name": "stdout",
     "output_type": "stream",
     "text": [
      "Area under the curve: 0.9958049738219896\n"
     ]
    },
    {
     "data": {
      "image/png": "[encoded data removed]",
      "text/plain": [
       "<Figure size 432x288 with 1 Axes>"
      ]
     },
     "metadata": {
      "needs_background": "light"
     },
     "output_type": "display_data"
    }
   ],
   "source": [
    "#### Return probability estimates for the test vector \n",
    "probs = bnb.predict_proba(X_test)\n",
    "\n",
    "#### Keep Probabilities of the positive class only.\n",
    "prob_positive = probs[:,1]\n",
    "\n",
    "fpr, tpr, threshold = metrics.roc_curve(y_test, prob_positive)\n",
    "roc_auc_BNB = metrics.auc(fpr, tpr)\n",
    "\n",
    "print('Area under the curve:',roc_auc_BNB)\n",
    "\n",
    "#### plot ROC Curve\n",
    "plt.title('Receiver Operating Characteristic')\n",
    "plt.plot(fpr, tpr, 'orange', label = 'AUC = %0.2f' % roc_auc_BNB)\n",
    "plt.legend(loc = 'lower right')\n",
    "\n",
    "plt.plot([0, 1], [0, 1], color='darkblue', linestyle='--')\n",
    "plt.ylabel('True Positive Rate')\n",
    "plt.xlabel('False Positive Rate')\n",
    "plt.show()"
   ]
  },
  {
   "cell_type": "markdown",
   "metadata": {},
   "source": [
    "# Name based classifier - MultinomialNB"
   ]
  },
  {
   "cell_type": "code",
   "execution_count": 117,
   "metadata": {},
   "outputs": [
    {
     "name": "stdout",
     "output_type": "stream",
     "text": [
      "Start training...\n",
      "Training time:  0.077 s\n",
      "Train Dataset Accuracy:  98.11532420910926\n",
      "Test Dataset Accuracy:  97.9372197309417\n"
     ]
    }
   ],
   "source": [
    "from time import time\n",
    "import sklearn.metrics as metrics\n",
    "from sklearn.naive_bayes import MultinomialNB\n",
    "mnb = MultinomialNB() \n",
    "\n",
    "print(\"Start training...\")\n",
    "tStart = time()\n",
    "mnb.fit(X_train, y_train)\n",
    "tEnd = time()\n",
    "print(\"Training time: \", round(tEnd-tStart, 3), \"s\")\n",
    "\n",
    "#### making predictions on the training set \n",
    "y_pred_train = mnb.predict(X_train) \n",
    "print(\"Train Dataset Accuracy: \", metrics.accuracy_score(y_train, y_pred_train)*100)\n",
    "\n",
    "#### making predictions on the testing set \n",
    "y_pred_MNB = mnb.predict(X_test) \n",
    "print(\"Test Dataset Accuracy: \", metrics.accuracy_score(y_test, y_pred_MNB)*100)"
   ]
  },
  {
   "cell_type": "code",
   "execution_count": 118,
   "metadata": {},
   "outputs": [
    {
     "name": "stdout",
     "output_type": "stream",
     "text": [
      "Confusion Matrix is:\n",
      "[[955   0]\n",
      " [ 23 137]]\n"
     ]
    },
    {
     "data": {
      "text/plain": [
       "<matplotlib.axes._subplots.AxesSubplot at 0x275aae8aaf0>"
      ]
     },
     "execution_count": 118,
     "metadata": {},
     "output_type": "execute_result"
    },
    {
     "data": {
      "image/png": "[encoded data removed]",
      "text/plain": [
       "<Figure size 432x288 with 2 Axes>"
      ]
     },
     "metadata": {
      "needs_background": "light"
     },
     "output_type": "display_data"
    }
   ],
   "source": [
    "#### Confusion matrix for name base classifier\n",
    "cm=confusion_matrix(y_test,y_pred_MNB)\n",
    "print(\"Confusion Matrix is:\", cm, sep='\\n') \n",
    "sns.heatmap(cm,center=True,annot=True)"
   ]
  },
  {
   "cell_type": "code",
   "execution_count": 119,
   "metadata": {},
   "outputs": [
    {
     "name": "stdout",
     "output_type": "stream",
     "text": [
      "              precision    recall  f1-score   support\n",
      "\n",
      "           0       0.98      1.00      0.99       955\n",
      "           1       1.00      0.86      0.92       160\n",
      "\n",
      "    accuracy                           0.98      1115\n",
      "   macro avg       0.99      0.93      0.96      1115\n",
      "weighted avg       0.98      0.98      0.98      1115\n",
      "\n"
     ]
    }
   ],
   "source": [
    "from sklearn.metrics import classification_report\n",
    "CR=classification_report(y_test,y_pred_MNB)\n",
    "print(CR)"
   ]
  },
  {
   "cell_type": "code",
   "execution_count": 120,
   "metadata": {},
   "outputs": [
    {
     "name": "stdout",
     "output_type": "stream",
     "text": [
      "Area under the curve: 0.9920287958115184\n"
     ]
    },
    {
     "data": {
      "image/png": "[encoded data removed]",
      "text/plain": [
       "<Figure size 432x288 with 1 Axes>"
      ]
     },
     "metadata": {
      "needs_background": "light"
     },
     "output_type": "display_data"
    }
   ],
   "source": [
    "#### Return probability estimates for the test vector \n",
    "probs = mnb.predict_proba(X_test)\n",
    "\n",
    "#### Keep Probabilities of the positive class only.\n",
    "prob_positive = probs[:,1]\n",
    "\n",
    "fpr, tpr, threshold = metrics.roc_curve(y_test, prob_positive)\n",
    "roc_auc_MNB = metrics.auc(fpr, tpr)\n",
    "\n",
    "print('Area under the curve:',roc_auc_MNB)\n",
    "\n",
    "#### plot ROC Curve\n",
    "plt.title('Receiver Operating Characteristic')\n",
    "plt.plot(fpr, tpr, 'orange', label = 'AUC = %0.2f' % roc_auc_MNB)\n",
    "plt.legend(loc = 'lower right')\n",
    "\n",
    "plt.plot([0, 1], [0, 1], color='darkblue', linestyle='--')\n",
    "plt.ylabel('True Positive Rate')\n",
    "plt.xlabel('False Positive Rate')\n",
    "plt.show()"
   ]
  },
  {
   "cell_type": "code",
   "execution_count": 121,
   "metadata": {},
   "outputs": [
    {
     "data": {
      "text/plain": [
       "<matplotlib.legend.Legend at 0x275aafccee0>"
      ]
     },
     "execution_count": 121,
     "metadata": {},
     "output_type": "execute_result"
    },
    {
     "data": {
      "image/png": "[encoded data removed]",
      "text/plain": [
       "<Figure size 648x360 with 1 Axes>"
      ]
     },
     "metadata": {
      "needs_background": "light"
     },
     "output_type": "display_data"
    }
   ],
   "source": [
    "from sklearn.metrics import roc_curve, auc\n",
    "\n",
    "GNB_tpr,GNB_fpr,threshold=roc_curve(y_test,y_pred_GNB)\n",
    "auc_GNB = auc(GNB_tpr, GNB_fpr)\n",
    "\n",
    "BNB_tpr, BNB_fpr, threshold = roc_curve(y_test, y_pred_BNB)\n",
    "auc_BNB = auc(BNB_tpr, BNB_fpr)\n",
    "\n",
    "MNB_tpr, MNB_fpr, threshold = roc_curve(y_test, y_pred_MNB)\n",
    "auc_MNB = auc(MNB_tpr, MNB_fpr)\n",
    "\n",
    "plt.figure(figsize=(9, 5))\n",
    "plt.plot(GNB_tpr, GNB_fpr, marker='o', label='GNB (auc = %0.3f)' % auc_GNB)\n",
    "plt.plot(BNB_tpr, BNB_fpr, linestyle='--', label='BNB (auc = %0.3f)' % auc_BNB)\n",
    "plt.plot(MNB_tpr, MNB_fpr, linestyle=':', label='MNB(auc = %0.3f)' % auc_MNB)\n",
    "\n",
    "\n",
    "plt.xlabel('False Positive Rate -->')\n",
    "plt.ylabel('True Positive Rate -->')\n",
    "\n",
    "plt.legend()"
   ]
  },
  {
   "cell_type": "markdown",
   "metadata": {},
   "source": [
    "**CONCLUSION:**\n",
    "**SO A GENERALISED MODEL WOULD BE GNB**."
   ]
  }
 ],
 "metadata": {
  "kernelspec": {
   "display_name": "Python 3",
   "language": "python",
   "name": "python3"
  },
  "language_info": {
   "codemirror_mode": {
    "name": "ipython",
    "version": 3
   },
   "file_extension": ".py",
   "mimetype": "text/x-python",
   "name": "python",
   "nbconvert_exporter": "python",
   "pygments_lexer": "ipython3",
   "version": "3.8.3"
  }
 },
 "nbformat": 4,
 "nbformat_minor": 4
}
