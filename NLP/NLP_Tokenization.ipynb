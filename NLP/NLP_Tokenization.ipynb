{
 "cells": [
  {
   "cell_type": "markdown",
   "metadata": {},
   "source": [
    "# IMPORTING NLTK"
   ]
  },
  {
   "cell_type": "code",
   "execution_count": 5,
   "metadata": {},
   "outputs": [
    {
     "name": "stderr",
     "output_type": "stream",
     "text": [
      "[nltk_data] Downloading package punkt to\n",
      "[nltk_data]     C:\\Users\\91733\\AppData\\Roaming\\nltk_data...\n",
      "[nltk_data]   Unzipping tokenizers\\punkt.zip.\n"
     ]
    },
    {
     "data": {
      "text/plain": [
       "True"
      ]
     },
     "execution_count": 5,
     "metadata": {},
     "output_type": "execute_result"
    }
   ],
   "source": [
    "#TOKENIZING PARAGRAPHS OR CORPUSES....OR SENTENCES..\n",
    "import nltk\n",
    "nltk.download('punkt')"
   ]
  },
  {
   "cell_type": "markdown",
   "metadata": {},
   "source": [
    "# FAMOUS MOHAMMED ALI SPEECH DURING AN INTERVIEW..."
   ]
  },
  {
   "cell_type": "code",
   "execution_count": 6,
   "metadata": {},
   "outputs": [],
   "source": [
    "\n",
    "paragraph=\"\"\"I have wrestled with an alligator. That’s right; I have wrestled with an alligator. I have tussled with a whale. I have handcuffed lightning, thrown thunder in jail. That’s bad. Only last week I murdered a rock; injured a stone; hospitalised a brick. I’m so mean I make medicine sick…. Fast, fast, fast, last night I cut the light off in the bedroom, hit the switch and hit the bed before the room was dark. Fast. All of you chumps are going to bow when I whoop him. I know you got him picked. But when the man is in trouble – “I’m a show you how great I am!”\n",
    "\"\"\""
   ]
  },
  {
   "cell_type": "code",
   "execution_count": 8,
   "metadata": {},
   "outputs": [
    {
     "data": {
      "text/plain": [
       "['I have wrestled with an alligator.',\n",
       " 'That’s right; I have wrestled with an alligator.',\n",
       " 'I have tussled with a whale.',\n",
       " 'I have handcuffed lightning, thrown thunder in jail.',\n",
       " 'That’s bad.',\n",
       " 'Only last week I murdered a rock; injured a stone; hospitalised a brick.',\n",
       " 'I’m so mean I make medicine sick….',\n",
       " 'Fast, fast, fast, last night I cut the light off in the bedroom, hit the switch and hit the bed before the room was dark.',\n",
       " 'Fast.',\n",
       " 'All of you chumps are going to bow when I whoop him.',\n",
       " 'I know you got him picked.',\n",
       " 'But when the man is in trouble – “I’m a show you how great I am!”']"
      ]
     },
     "execution_count": 8,
     "metadata": {},
     "output_type": "execute_result"
    }
   ],
   "source": [
    "#Tokenizing Sentences -------CONVERTS SENTENCES TO LIST\n",
    "sentences=nltk.sent_tokenize(paragraph)\n",
    "sentences"
   ]
  },
  {
   "cell_type": "code",
   "execution_count": 10,
   "metadata": {},
   "outputs": [
    {
     "data": {
      "text/plain": [
       "['I',\n",
       " 'have',\n",
       " 'wrestled',\n",
       " 'with',\n",
       " 'an',\n",
       " 'alligator',\n",
       " '.',\n",
       " 'That',\n",
       " '’',\n",
       " 's',\n",
       " 'right',\n",
       " ';',\n",
       " 'I',\n",
       " 'have',\n",
       " 'wrestled',\n",
       " 'with',\n",
       " 'an',\n",
       " 'alligator',\n",
       " '.',\n",
       " 'I',\n",
       " 'have',\n",
       " 'tussled',\n",
       " 'with',\n",
       " 'a',\n",
       " 'whale',\n",
       " '.',\n",
       " 'I',\n",
       " 'have',\n",
       " 'handcuffed',\n",
       " 'lightning',\n",
       " ',',\n",
       " 'thrown',\n",
       " 'thunder',\n",
       " 'in',\n",
       " 'jail',\n",
       " '.',\n",
       " 'That',\n",
       " '’',\n",
       " 's',\n",
       " 'bad',\n",
       " '.',\n",
       " 'Only',\n",
       " 'last',\n",
       " 'week',\n",
       " 'I',\n",
       " 'murdered',\n",
       " 'a',\n",
       " 'rock',\n",
       " ';',\n",
       " 'injured',\n",
       " 'a',\n",
       " 'stone',\n",
       " ';',\n",
       " 'hospitalised',\n",
       " 'a',\n",
       " 'brick',\n",
       " '.',\n",
       " 'I',\n",
       " '’',\n",
       " 'm',\n",
       " 'so',\n",
       " 'mean',\n",
       " 'I',\n",
       " 'make',\n",
       " 'medicine',\n",
       " 'sick…',\n",
       " '.',\n",
       " 'Fast',\n",
       " ',',\n",
       " 'fast',\n",
       " ',',\n",
       " 'fast',\n",
       " ',',\n",
       " 'last',\n",
       " 'night',\n",
       " 'I',\n",
       " 'cut',\n",
       " 'the',\n",
       " 'light',\n",
       " 'off',\n",
       " 'in',\n",
       " 'the',\n",
       " 'bedroom',\n",
       " ',',\n",
       " 'hit',\n",
       " 'the',\n",
       " 'switch',\n",
       " 'and',\n",
       " 'hit',\n",
       " 'the',\n",
       " 'bed',\n",
       " 'before',\n",
       " 'the',\n",
       " 'room',\n",
       " 'was',\n",
       " 'dark',\n",
       " '.',\n",
       " 'Fast',\n",
       " '.',\n",
       " 'All',\n",
       " 'of',\n",
       " 'you',\n",
       " 'chumps',\n",
       " 'are',\n",
       " 'going',\n",
       " 'to',\n",
       " 'bow',\n",
       " 'when',\n",
       " 'I',\n",
       " 'whoop',\n",
       " 'him',\n",
       " '.',\n",
       " 'I',\n",
       " 'know',\n",
       " 'you',\n",
       " 'got',\n",
       " 'him',\n",
       " 'picked',\n",
       " '.',\n",
       " 'But',\n",
       " 'when',\n",
       " 'the',\n",
       " 'man',\n",
       " 'is',\n",
       " 'in',\n",
       " 'trouble',\n",
       " '–',\n",
       " '“',\n",
       " 'I',\n",
       " '’',\n",
       " 'm',\n",
       " 'a',\n",
       " 'show',\n",
       " 'you',\n",
       " 'how',\n",
       " 'great',\n",
       " 'I',\n",
       " 'am',\n",
       " '!',\n",
       " '”']"
      ]
     },
     "execution_count": 10,
     "metadata": {},
     "output_type": "execute_result"
    }
   ],
   "source": [
    "#Tokenizing words--------CONVERTS WORDS TO THE LIST.\n",
    "words=nltk.word_tokenize(paragraph)\n",
    "words"
   ]
  }
 ],
 "metadata": {
  "kernelspec": {
   "display_name": "Python 3",
   "language": "python",
   "name": "python3"
  },
  "language_info": {
   "codemirror_mode": {
    "name": "ipython",
    "version": 3
   },
   "file_extension": ".py",
   "mimetype": "text/x-python",
   "name": "python",
   "nbconvert_exporter": "python",
   "pygments_lexer": "ipython3",
   "version": "3.8.3"
  }
 },
 "nbformat": 4,
 "nbformat_minor": 4
}
