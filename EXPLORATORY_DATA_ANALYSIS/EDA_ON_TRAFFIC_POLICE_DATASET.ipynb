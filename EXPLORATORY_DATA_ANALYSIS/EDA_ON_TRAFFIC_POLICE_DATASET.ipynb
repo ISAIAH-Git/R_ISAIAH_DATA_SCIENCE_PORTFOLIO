{
 "cells": [
  {
   "cell_type": "markdown",
   "metadata": {},
   "source": [
    "# LOADING THE DATASET AND OBSERVING THE FIRST 5 ROWS."
   ]
  },
  {
   "cell_type": "code",
   "execution_count": 91,
   "metadata": {},
   "outputs": [
    {
     "data": {
      "text/html": [
       "<div>\n",
       "<style scoped>\n",
       "    .dataframe tbody tr th:only-of-type {\n",
       "        vertical-align: middle;\n",
       "    }\n",
       "\n",
       "    .dataframe tbody tr th {\n",
       "        vertical-align: top;\n",
       "    }\n",
       "\n",
       "    .dataframe thead th {\n",
       "        text-align: right;\n",
       "    }\n",
       "</style>\n",
       "<table border=\"1\" class=\"dataframe\">\n",
       "  <thead>\n",
       "    <tr style=\"text-align: right;\">\n",
       "      <th></th>\n",
       "      <th>stop_date</th>\n",
       "      <th>stop_time</th>\n",
       "      <th>county_name</th>\n",
       "      <th>driver_gender</th>\n",
       "      <th>driver_age_raw</th>\n",
       "      <th>driver_age</th>\n",
       "      <th>driver_race</th>\n",
       "      <th>violation_raw</th>\n",
       "      <th>violation</th>\n",
       "      <th>search_conducted</th>\n",
       "      <th>search_type</th>\n",
       "      <th>stop_outcome</th>\n",
       "      <th>is_arrested</th>\n",
       "      <th>stop_duration</th>\n",
       "      <th>drugs_related_stop</th>\n",
       "    </tr>\n",
       "  </thead>\n",
       "  <tbody>\n",
       "    <tr>\n",
       "      <th>0</th>\n",
       "      <td>2005-01-02</td>\n",
       "      <td>01:55</td>\n",
       "      <td>NaN</td>\n",
       "      <td>M</td>\n",
       "      <td>1985.0</td>\n",
       "      <td>20.0</td>\n",
       "      <td>White</td>\n",
       "      <td>Speeding</td>\n",
       "      <td>Speeding</td>\n",
       "      <td>False</td>\n",
       "      <td>NaN</td>\n",
       "      <td>Citation</td>\n",
       "      <td>False</td>\n",
       "      <td>0-15 Min</td>\n",
       "      <td>False</td>\n",
       "    </tr>\n",
       "    <tr>\n",
       "      <th>1</th>\n",
       "      <td>2005-01-18</td>\n",
       "      <td>08:15</td>\n",
       "      <td>NaN</td>\n",
       "      <td>M</td>\n",
       "      <td>1965.0</td>\n",
       "      <td>40.0</td>\n",
       "      <td>White</td>\n",
       "      <td>Speeding</td>\n",
       "      <td>Speeding</td>\n",
       "      <td>False</td>\n",
       "      <td>NaN</td>\n",
       "      <td>Citation</td>\n",
       "      <td>False</td>\n",
       "      <td>0-15 Min</td>\n",
       "      <td>False</td>\n",
       "    </tr>\n",
       "    <tr>\n",
       "      <th>2</th>\n",
       "      <td>2005-01-23</td>\n",
       "      <td>23:15</td>\n",
       "      <td>NaN</td>\n",
       "      <td>M</td>\n",
       "      <td>1972.0</td>\n",
       "      <td>33.0</td>\n",
       "      <td>White</td>\n",
       "      <td>Speeding</td>\n",
       "      <td>Speeding</td>\n",
       "      <td>False</td>\n",
       "      <td>NaN</td>\n",
       "      <td>Citation</td>\n",
       "      <td>False</td>\n",
       "      <td>0-15 Min</td>\n",
       "      <td>False</td>\n",
       "    </tr>\n",
       "    <tr>\n",
       "      <th>3</th>\n",
       "      <td>2005-02-20</td>\n",
       "      <td>17:15</td>\n",
       "      <td>NaN</td>\n",
       "      <td>M</td>\n",
       "      <td>1986.0</td>\n",
       "      <td>19.0</td>\n",
       "      <td>White</td>\n",
       "      <td>Call for Service</td>\n",
       "      <td>Other</td>\n",
       "      <td>False</td>\n",
       "      <td>NaN</td>\n",
       "      <td>Arrest Driver</td>\n",
       "      <td>True</td>\n",
       "      <td>16-30 Min</td>\n",
       "      <td>False</td>\n",
       "    </tr>\n",
       "    <tr>\n",
       "      <th>4</th>\n",
       "      <td>2005-03-14</td>\n",
       "      <td>10:00</td>\n",
       "      <td>NaN</td>\n",
       "      <td>F</td>\n",
       "      <td>1984.0</td>\n",
       "      <td>21.0</td>\n",
       "      <td>White</td>\n",
       "      <td>Speeding</td>\n",
       "      <td>Speeding</td>\n",
       "      <td>False</td>\n",
       "      <td>NaN</td>\n",
       "      <td>Citation</td>\n",
       "      <td>False</td>\n",
       "      <td>0-15 Min</td>\n",
       "      <td>False</td>\n",
       "    </tr>\n",
       "  </tbody>\n",
       "</table>\n",
       "</div>"
      ],
      "text/plain": [
       "    stop_date stop_time  county_name driver_gender  driver_age_raw  \\\n",
       "0  2005-01-02     01:55          NaN             M          1985.0   \n",
       "1  2005-01-18     08:15          NaN             M          1965.0   \n",
       "2  2005-01-23     23:15          NaN             M          1972.0   \n",
       "3  2005-02-20     17:15          NaN             M          1986.0   \n",
       "4  2005-03-14     10:00          NaN             F          1984.0   \n",
       "\n",
       "   driver_age driver_race     violation_raw violation  search_conducted  \\\n",
       "0        20.0       White          Speeding  Speeding             False   \n",
       "1        40.0       White          Speeding  Speeding             False   \n",
       "2        33.0       White          Speeding  Speeding             False   \n",
       "3        19.0       White  Call for Service     Other             False   \n",
       "4        21.0       White          Speeding  Speeding             False   \n",
       "\n",
       "  search_type   stop_outcome is_arrested stop_duration  drugs_related_stop  \n",
       "0         NaN       Citation       False      0-15 Min               False  \n",
       "1         NaN       Citation       False      0-15 Min               False  \n",
       "2         NaN       Citation       False      0-15 Min               False  \n",
       "3         NaN  Arrest Driver        True     16-30 Min               False  \n",
       "4         NaN       Citation       False      0-15 Min               False  "
      ]
     },
     "execution_count": 91,
     "metadata": {},
     "output_type": "execute_result"
    }
   ],
   "source": [
    "import pandas as pd\n",
    "ri=pd.read_csv('police.csv')\n",
    "ri.head()"
   ]
  },
  {
   "cell_type": "markdown",
   "metadata": {},
   "source": [
    "# OBSERVING THE LAST 5 ROWS OF THE DATASET"
   ]
  },
  {
   "cell_type": "code",
   "execution_count": 92,
   "metadata": {},
   "outputs": [
    {
     "data": {
      "text/html": [
       "<div>\n",
       "<style scoped>\n",
       "    .dataframe tbody tr th:only-of-type {\n",
       "        vertical-align: middle;\n",
       "    }\n",
       "\n",
       "    .dataframe tbody tr th {\n",
       "        vertical-align: top;\n",
       "    }\n",
       "\n",
       "    .dataframe thead th {\n",
       "        text-align: right;\n",
       "    }\n",
       "</style>\n",
       "<table border=\"1\" class=\"dataframe\">\n",
       "  <thead>\n",
       "    <tr style=\"text-align: right;\">\n",
       "      <th></th>\n",
       "      <th>stop_date</th>\n",
       "      <th>stop_time</th>\n",
       "      <th>county_name</th>\n",
       "      <th>driver_gender</th>\n",
       "      <th>driver_age_raw</th>\n",
       "      <th>driver_age</th>\n",
       "      <th>driver_race</th>\n",
       "      <th>violation_raw</th>\n",
       "      <th>violation</th>\n",
       "      <th>search_conducted</th>\n",
       "      <th>search_type</th>\n",
       "      <th>stop_outcome</th>\n",
       "      <th>is_arrested</th>\n",
       "      <th>stop_duration</th>\n",
       "      <th>drugs_related_stop</th>\n",
       "    </tr>\n",
       "  </thead>\n",
       "  <tbody>\n",
       "    <tr>\n",
       "      <th>91736</th>\n",
       "      <td>2015-12-31</td>\n",
       "      <td>20:27</td>\n",
       "      <td>NaN</td>\n",
       "      <td>M</td>\n",
       "      <td>1986.0</td>\n",
       "      <td>29.0</td>\n",
       "      <td>White</td>\n",
       "      <td>Speeding</td>\n",
       "      <td>Speeding</td>\n",
       "      <td>False</td>\n",
       "      <td>NaN</td>\n",
       "      <td>Warning</td>\n",
       "      <td>False</td>\n",
       "      <td>0-15 Min</td>\n",
       "      <td>False</td>\n",
       "    </tr>\n",
       "    <tr>\n",
       "      <th>91737</th>\n",
       "      <td>2015-12-31</td>\n",
       "      <td>20:35</td>\n",
       "      <td>NaN</td>\n",
       "      <td>F</td>\n",
       "      <td>1982.0</td>\n",
       "      <td>33.0</td>\n",
       "      <td>White</td>\n",
       "      <td>Equipment/Inspection Violation</td>\n",
       "      <td>Equipment</td>\n",
       "      <td>False</td>\n",
       "      <td>NaN</td>\n",
       "      <td>Warning</td>\n",
       "      <td>False</td>\n",
       "      <td>0-15 Min</td>\n",
       "      <td>False</td>\n",
       "    </tr>\n",
       "    <tr>\n",
       "      <th>91738</th>\n",
       "      <td>2015-12-31</td>\n",
       "      <td>20:45</td>\n",
       "      <td>NaN</td>\n",
       "      <td>M</td>\n",
       "      <td>1992.0</td>\n",
       "      <td>23.0</td>\n",
       "      <td>White</td>\n",
       "      <td>Other Traffic Violation</td>\n",
       "      <td>Moving violation</td>\n",
       "      <td>False</td>\n",
       "      <td>NaN</td>\n",
       "      <td>Warning</td>\n",
       "      <td>False</td>\n",
       "      <td>0-15 Min</td>\n",
       "      <td>False</td>\n",
       "    </tr>\n",
       "    <tr>\n",
       "      <th>91739</th>\n",
       "      <td>2015-12-31</td>\n",
       "      <td>21:42</td>\n",
       "      <td>NaN</td>\n",
       "      <td>M</td>\n",
       "      <td>1993.0</td>\n",
       "      <td>22.0</td>\n",
       "      <td>White</td>\n",
       "      <td>Speeding</td>\n",
       "      <td>Speeding</td>\n",
       "      <td>False</td>\n",
       "      <td>NaN</td>\n",
       "      <td>Citation</td>\n",
       "      <td>False</td>\n",
       "      <td>0-15 Min</td>\n",
       "      <td>False</td>\n",
       "    </tr>\n",
       "    <tr>\n",
       "      <th>91740</th>\n",
       "      <td>2015-12-31</td>\n",
       "      <td>22:46</td>\n",
       "      <td>NaN</td>\n",
       "      <td>M</td>\n",
       "      <td>1959.0</td>\n",
       "      <td>56.0</td>\n",
       "      <td>Hispanic</td>\n",
       "      <td>Speeding</td>\n",
       "      <td>Speeding</td>\n",
       "      <td>False</td>\n",
       "      <td>NaN</td>\n",
       "      <td>Citation</td>\n",
       "      <td>False</td>\n",
       "      <td>0-15 Min</td>\n",
       "      <td>False</td>\n",
       "    </tr>\n",
       "  </tbody>\n",
       "</table>\n",
       "</div>"
      ],
      "text/plain": [
       "        stop_date stop_time  county_name driver_gender  driver_age_raw  \\\n",
       "91736  2015-12-31     20:27          NaN             M          1986.0   \n",
       "91737  2015-12-31     20:35          NaN             F          1982.0   \n",
       "91738  2015-12-31     20:45          NaN             M          1992.0   \n",
       "91739  2015-12-31     21:42          NaN             M          1993.0   \n",
       "91740  2015-12-31     22:46          NaN             M          1959.0   \n",
       "\n",
       "       driver_age driver_race                   violation_raw  \\\n",
       "91736        29.0       White                        Speeding   \n",
       "91737        33.0       White  Equipment/Inspection Violation   \n",
       "91738        23.0       White         Other Traffic Violation   \n",
       "91739        22.0       White                        Speeding   \n",
       "91740        56.0    Hispanic                        Speeding   \n",
       "\n",
       "              violation  search_conducted search_type stop_outcome  \\\n",
       "91736          Speeding             False         NaN      Warning   \n",
       "91737         Equipment             False         NaN      Warning   \n",
       "91738  Moving violation             False         NaN      Warning   \n",
       "91739          Speeding             False         NaN     Citation   \n",
       "91740          Speeding             False         NaN     Citation   \n",
       "\n",
       "      is_arrested stop_duration  drugs_related_stop  \n",
       "91736       False      0-15 Min               False  \n",
       "91737       False      0-15 Min               False  \n",
       "91738       False      0-15 Min               False  \n",
       "91739       False      0-15 Min               False  \n",
       "91740       False      0-15 Min               False  "
      ]
     },
     "execution_count": 92,
     "metadata": {},
     "output_type": "execute_result"
    }
   ],
   "source": [
    "ri.tail()"
   ]
  },
  {
   "cell_type": "markdown",
   "metadata": {},
   "source": [
    "# FINDING THE NUMBER OF ROWS AND COLUMNS IN THE DATASET"
   ]
  },
  {
   "cell_type": "code",
   "execution_count": 93,
   "metadata": {},
   "outputs": [
    {
     "name": "stdout",
     "output_type": "stream",
     "text": [
      "THE NUMBER OF ROWS IN THE DATASET : 91741\n",
      "-------------------------------------\n",
      "THE NUMBER OF COLUMNS IN THE DATASET :  15\n"
     ]
    }
   ],
   "source": [
    "print('THE NUMBER OF ROWS IN THE DATASET :',ri.shape[0])\n",
    "print('-------------------------------------')\n",
    "print('THE NUMBER OF COLUMNS IN THE DATASET : ',ri.shape[1])"
   ]
  },
  {
   "cell_type": "markdown",
   "metadata": {},
   "source": [
    "# DIFFERENT DATA TYPES IN THE DATASET"
   ]
  },
  {
   "cell_type": "code",
   "execution_count": 94,
   "metadata": {},
   "outputs": [
    {
     "data": {
      "text/plain": [
       "stop_date              object\n",
       "stop_time              object\n",
       "county_name           float64\n",
       "driver_gender          object\n",
       "driver_age_raw        float64\n",
       "driver_age            float64\n",
       "driver_race            object\n",
       "violation_raw          object\n",
       "violation              object\n",
       "search_conducted         bool\n",
       "search_type            object\n",
       "stop_outcome           object\n",
       "is_arrested            object\n",
       "stop_duration          object\n",
       "drugs_related_stop       bool\n",
       "dtype: object"
      ]
     },
     "execution_count": 94,
     "metadata": {},
     "output_type": "execute_result"
    }
   ],
   "source": [
    "ri.dtypes"
   ]
  },
  {
   "cell_type": "code",
   "execution_count": 95,
   "metadata": {},
   "outputs": [
    {
     "data": {
      "text/plain": [
       "RangeIndex(start=0, stop=91741, step=1)"
      ]
     },
     "execution_count": 95,
     "metadata": {},
     "output_type": "execute_result"
    }
   ],
   "source": [
    "ri.index"
   ]
  },
  {
   "cell_type": "markdown",
   "metadata": {},
   "source": [
    "# PERFORMING BASIC STATISTICS ON THE FLOAT DATA"
   ]
  },
  {
   "cell_type": "code",
   "execution_count": 96,
   "metadata": {},
   "outputs": [
    {
     "data": {
      "text/html": [
       "<div>\n",
       "<style scoped>\n",
       "    .dataframe tbody tr th:only-of-type {\n",
       "        vertical-align: middle;\n",
       "    }\n",
       "\n",
       "    .dataframe tbody tr th {\n",
       "        vertical-align: top;\n",
       "    }\n",
       "\n",
       "    .dataframe thead th {\n",
       "        text-align: right;\n",
       "    }\n",
       "</style>\n",
       "<table border=\"1\" class=\"dataframe\">\n",
       "  <thead>\n",
       "    <tr style=\"text-align: right;\">\n",
       "      <th></th>\n",
       "      <th>count</th>\n",
       "      <th>mean</th>\n",
       "      <th>std</th>\n",
       "      <th>min</th>\n",
       "      <th>25%</th>\n",
       "      <th>50%</th>\n",
       "      <th>75%</th>\n",
       "      <th>max</th>\n",
       "    </tr>\n",
       "  </thead>\n",
       "  <tbody>\n",
       "    <tr>\n",
       "      <th>county_name</th>\n",
       "      <td>0.0</td>\n",
       "      <td>NaN</td>\n",
       "      <td>NaN</td>\n",
       "      <td>NaN</td>\n",
       "      <td>NaN</td>\n",
       "      <td>NaN</td>\n",
       "      <td>NaN</td>\n",
       "      <td>NaN</td>\n",
       "    </tr>\n",
       "    <tr>\n",
       "      <th>driver_age_raw</th>\n",
       "      <td>86414.0</td>\n",
       "      <td>1970.491228</td>\n",
       "      <td>110.914909</td>\n",
       "      <td>0.0</td>\n",
       "      <td>1967.0</td>\n",
       "      <td>1980.0</td>\n",
       "      <td>1987.0</td>\n",
       "      <td>8801.0</td>\n",
       "    </tr>\n",
       "    <tr>\n",
       "      <th>driver_age</th>\n",
       "      <td>86120.0</td>\n",
       "      <td>34.011333</td>\n",
       "      <td>12.738564</td>\n",
       "      <td>15.0</td>\n",
       "      <td>23.0</td>\n",
       "      <td>31.0</td>\n",
       "      <td>43.0</td>\n",
       "      <td>99.0</td>\n",
       "    </tr>\n",
       "  </tbody>\n",
       "</table>\n",
       "</div>"
      ],
      "text/plain": [
       "                  count         mean         std   min     25%     50%  \\\n",
       "county_name         0.0          NaN         NaN   NaN     NaN     NaN   \n",
       "driver_age_raw  86414.0  1970.491228  110.914909   0.0  1967.0  1980.0   \n",
       "driver_age      86120.0    34.011333   12.738564  15.0    23.0    31.0   \n",
       "\n",
       "                   75%     max  \n",
       "county_name        NaN     NaN  \n",
       "driver_age_raw  1987.0  8801.0  \n",
       "driver_age        43.0    99.0  "
      ]
     },
     "execution_count": 96,
     "metadata": {},
     "output_type": "execute_result"
    }
   ],
   "source": [
    "ri.describe(include='float64').T"
   ]
  },
  {
   "cell_type": "markdown",
   "metadata": {},
   "source": [
    "# PERFORMING BASIC STATISTICS ON THE OBJECT DATA"
   ]
  },
  {
   "cell_type": "code",
   "execution_count": 97,
   "metadata": {},
   "outputs": [
    {
     "data": {
      "text/html": [
       "<div>\n",
       "<style scoped>\n",
       "    .dataframe tbody tr th:only-of-type {\n",
       "        vertical-align: middle;\n",
       "    }\n",
       "\n",
       "    .dataframe tbody tr th {\n",
       "        vertical-align: top;\n",
       "    }\n",
       "\n",
       "    .dataframe thead th {\n",
       "        text-align: right;\n",
       "    }\n",
       "</style>\n",
       "<table border=\"1\" class=\"dataframe\">\n",
       "  <thead>\n",
       "    <tr style=\"text-align: right;\">\n",
       "      <th></th>\n",
       "      <th>count</th>\n",
       "      <th>unique</th>\n",
       "      <th>top</th>\n",
       "      <th>freq</th>\n",
       "    </tr>\n",
       "  </thead>\n",
       "  <tbody>\n",
       "    <tr>\n",
       "      <th>stop_date</th>\n",
       "      <td>91741</td>\n",
       "      <td>3768</td>\n",
       "      <td>2012-01-11</td>\n",
       "      <td>69</td>\n",
       "    </tr>\n",
       "    <tr>\n",
       "      <th>stop_time</th>\n",
       "      <td>91741</td>\n",
       "      <td>1436</td>\n",
       "      <td>11:00</td>\n",
       "      <td>323</td>\n",
       "    </tr>\n",
       "    <tr>\n",
       "      <th>driver_gender</th>\n",
       "      <td>86406</td>\n",
       "      <td>2</td>\n",
       "      <td>M</td>\n",
       "      <td>62895</td>\n",
       "    </tr>\n",
       "    <tr>\n",
       "      <th>driver_race</th>\n",
       "      <td>86408</td>\n",
       "      <td>5</td>\n",
       "      <td>White</td>\n",
       "      <td>62158</td>\n",
       "    </tr>\n",
       "    <tr>\n",
       "      <th>violation_raw</th>\n",
       "      <td>86408</td>\n",
       "      <td>12</td>\n",
       "      <td>Speeding</td>\n",
       "      <td>48463</td>\n",
       "    </tr>\n",
       "    <tr>\n",
       "      <th>violation</th>\n",
       "      <td>86408</td>\n",
       "      <td>6</td>\n",
       "      <td>Speeding</td>\n",
       "      <td>48463</td>\n",
       "    </tr>\n",
       "    <tr>\n",
       "      <th>search_type</th>\n",
       "      <td>3196</td>\n",
       "      <td>24</td>\n",
       "      <td>Incident to Arrest</td>\n",
       "      <td>1219</td>\n",
       "    </tr>\n",
       "    <tr>\n",
       "      <th>stop_outcome</th>\n",
       "      <td>86408</td>\n",
       "      <td>6</td>\n",
       "      <td>Citation</td>\n",
       "      <td>77006</td>\n",
       "    </tr>\n",
       "    <tr>\n",
       "      <th>is_arrested</th>\n",
       "      <td>86408</td>\n",
       "      <td>2</td>\n",
       "      <td>False</td>\n",
       "      <td>83479</td>\n",
       "    </tr>\n",
       "    <tr>\n",
       "      <th>stop_duration</th>\n",
       "      <td>86408</td>\n",
       "      <td>5</td>\n",
       "      <td>0-15 Min</td>\n",
       "      <td>69543</td>\n",
       "    </tr>\n",
       "  </tbody>\n",
       "</table>\n",
       "</div>"
      ],
      "text/plain": [
       "               count unique                 top   freq\n",
       "stop_date      91741   3768          2012-01-11     69\n",
       "stop_time      91741   1436               11:00    323\n",
       "driver_gender  86406      2                   M  62895\n",
       "driver_race    86408      5               White  62158\n",
       "violation_raw  86408     12            Speeding  48463\n",
       "violation      86408      6            Speeding  48463\n",
       "search_type     3196     24  Incident to Arrest   1219\n",
       "stop_outcome   86408      6            Citation  77006\n",
       "is_arrested    86408      2               False  83479\n",
       "stop_duration  86408      5            0-15 Min  69543"
      ]
     },
     "execution_count": 97,
     "metadata": {},
     "output_type": "execute_result"
    }
   ],
   "source": [
    "ri.describe(include='object').T"
   ]
  },
  {
   "cell_type": "markdown",
   "metadata": {},
   "source": [
    "# PERFORMING BASIC STATISTICS ON THE BOOLEAN DATATYPE"
   ]
  },
  {
   "cell_type": "code",
   "execution_count": 98,
   "metadata": {},
   "outputs": [
    {
     "data": {
      "text/html": [
       "<div>\n",
       "<style scoped>\n",
       "    .dataframe tbody tr th:only-of-type {\n",
       "        vertical-align: middle;\n",
       "    }\n",
       "\n",
       "    .dataframe tbody tr th {\n",
       "        vertical-align: top;\n",
       "    }\n",
       "\n",
       "    .dataframe thead th {\n",
       "        text-align: right;\n",
       "    }\n",
       "</style>\n",
       "<table border=\"1\" class=\"dataframe\">\n",
       "  <thead>\n",
       "    <tr style=\"text-align: right;\">\n",
       "      <th></th>\n",
       "      <th>count</th>\n",
       "      <th>unique</th>\n",
       "      <th>top</th>\n",
       "      <th>freq</th>\n",
       "    </tr>\n",
       "  </thead>\n",
       "  <tbody>\n",
       "    <tr>\n",
       "      <th>search_conducted</th>\n",
       "      <td>91741</td>\n",
       "      <td>2</td>\n",
       "      <td>False</td>\n",
       "      <td>88545</td>\n",
       "    </tr>\n",
       "    <tr>\n",
       "      <th>drugs_related_stop</th>\n",
       "      <td>91741</td>\n",
       "      <td>2</td>\n",
       "      <td>False</td>\n",
       "      <td>90926</td>\n",
       "    </tr>\n",
       "  </tbody>\n",
       "</table>\n",
       "</div>"
      ],
      "text/plain": [
       "                    count unique    top   freq\n",
       "search_conducted    91741      2  False  88545\n",
       "drugs_related_stop  91741      2  False  90926"
      ]
     },
     "execution_count": 98,
     "metadata": {},
     "output_type": "execute_result"
    }
   ],
   "source": [
    "ri.describe(include='bool').T"
   ]
  },
  {
   "cell_type": "markdown",
   "metadata": {},
   "source": [
    "# LETS SEE THE SPACE THE DATASET OCCUPIES"
   ]
  },
  {
   "cell_type": "code",
   "execution_count": 99,
   "metadata": {},
   "outputs": [
    {
     "name": "stdout",
     "output_type": "stream",
     "text": [
      "<class 'pandas.core.frame.DataFrame'>\n",
      "RangeIndex: 91741 entries, 0 to 91740\n",
      "Data columns (total 15 columns):\n",
      " #   Column              Non-Null Count  Dtype  \n",
      "---  ------              --------------  -----  \n",
      " 0   stop_date           91741 non-null  object \n",
      " 1   stop_time           91741 non-null  object \n",
      " 2   county_name         0 non-null      float64\n",
      " 3   driver_gender       86406 non-null  object \n",
      " 4   driver_age_raw      86414 non-null  float64\n",
      " 5   driver_age          86120 non-null  float64\n",
      " 6   driver_race         86408 non-null  object \n",
      " 7   violation_raw       86408 non-null  object \n",
      " 8   violation           86408 non-null  object \n",
      " 9   search_conducted    91741 non-null  bool   \n",
      " 10  search_type         3196 non-null   object \n",
      " 11  stop_outcome        86408 non-null  object \n",
      " 12  is_arrested         86408 non-null  object \n",
      " 13  stop_duration       86408 non-null  object \n",
      " 14  drugs_related_stop  91741 non-null  bool   \n",
      "dtypes: bool(2), float64(3), object(10)\n",
      "memory usage: 52.7 MB\n"
     ]
    }
   ],
   "source": [
    "ri.info(memory_usage='deep')"
   ]
  },
  {
   "cell_type": "code",
   "execution_count": 100,
   "metadata": {},
   "outputs": [
    {
     "data": {
      "text/plain": [
       "Index(['stop_date', 'stop_time', 'county_name', 'driver_gender',\n",
       "       'driver_age_raw', 'driver_age', 'driver_race', 'violation_raw',\n",
       "       'violation', 'search_conducted', 'search_type', 'stop_outcome',\n",
       "       'is_arrested', 'stop_duration', 'drugs_related_stop'],\n",
       "      dtype='object')"
      ]
     },
     "execution_count": 100,
     "metadata": {},
     "output_type": "execute_result"
    }
   ],
   "source": [
    "ri.columns"
   ]
  },
  {
   "cell_type": "code",
   "execution_count": 101,
   "metadata": {},
   "outputs": [],
   "source": [
    "columns=ri.columns"
   ]
  },
  {
   "cell_type": "code",
   "execution_count": 102,
   "metadata": {},
   "outputs": [
    {
     "name": "stdout",
     "output_type": "stream",
     "text": [
      "15\n"
     ]
    }
   ],
   "source": [
    "print(len(ri.columns))"
   ]
  },
  {
   "cell_type": "code",
   "execution_count": 103,
   "metadata": {},
   "outputs": [
    {
     "name": "stdout",
     "output_type": "stream",
     "text": [
      "stop_date : 3768\n",
      "--------------\n",
      "['2005-01-02' '2005-01-18' '2005-01-23' ... '2015-12-29' '2015-12-30'\n",
      " '2015-12-31']\n",
      "----------------------\n",
      "stop_time : 1436\n",
      "--------------\n",
      "['01:55' '08:15' '23:15' ... '04:42' '04:59' '05:35']\n",
      "----------------------\n",
      "county_name : 0\n",
      "--------------\n",
      "[nan]\n",
      "----------------------\n",
      "driver_gender : 2\n",
      "--------------\n",
      "['M' 'F' nan]\n",
      "----------------------\n",
      "driver_age_raw : 97\n",
      "--------------\n",
      "[1985. 1965. 1972. 1986. 1984. 1982. 1969. 1970. 1979. 1966. 1955. 1958.\n",
      " 1953. 1967.   nan 1964. 1977. 1959. 1973. 1947. 1978. 1962. 1981. 1988.\n",
      " 1983. 1961. 1957. 1971. 1950. 1954. 1960. 1976. 1974. 1968. 1938. 1980.\n",
      " 1963. 1975. 1987. 1948. 1956. 1944. 1935.    0. 1952. 1945. 1946. 1941.\n",
      " 1942. 1951. 1949. 2005. 1939. 1943. 1936. 1924. 1937. 1929. 1930. 1931.\n",
      " 1923. 1940. 1933. 1989. 1928. 1932. 1990. 1926. 2006. 1927. 1997. 1934.\n",
      " 1887. 1925. 1918. 2004. 1991. 2002. 2007. 1992. 8801. 2001. 2003. 1998.\n",
      " 1922. 1993. 2008. 2009. 2919. 2000. 1994. 1995. 2011. 1996. 2013. 1914.\n",
      " 1920. 1999.]\n",
      "----------------------\n",
      "driver_age : 78\n",
      "--------------\n",
      "[20. 40. 33. 19. 21. 23. 36. 35. 26. 39. 50. 47. 52. 38. nan 41. 28. 46.\n",
      " 32. 58. 27. 43. 24. 17. 22. 44. 48. 34. 55. 51. 45. 29. 31. 37. 67. 25.\n",
      " 42. 30. 18. 57. 49. 61. 70. 53. 60. 59. 64. 63. 54. 56. 66. 62. 69. 81.\n",
      " 68. 76. 75. 74. 82. 65. 72. 16. 77. 73. 71. 80. 79. 78. 88. 15. 83. 86.\n",
      " 84. 85. 87. 99. 89. 94. 90.]\n",
      "----------------------\n",
      "driver_race : 5\n",
      "--------------\n",
      "['White' 'Black' 'Asian' nan 'Hispanic' 'Other']\n",
      "----------------------\n",
      "violation_raw : 12\n",
      "--------------\n",
      "['Speeding' 'Call for Service' 'Equipment/Inspection Violation'\n",
      " 'Other Traffic Violation' nan 'Registration Violation'\n",
      " 'Special Detail/Directed Patrol' 'APB' 'Violation of City/Town Ordinance'\n",
      " 'Suspicious Person' 'Motorist Assist/Courtesy' 'Warrant'\n",
      " 'Seatbelt Violation']\n",
      "----------------------\n",
      "violation : 6\n",
      "--------------\n",
      "['Speeding' 'Other' 'Equipment' 'Moving violation' nan\n",
      " 'Registration/plates' 'Seat belt']\n",
      "----------------------\n",
      "search_conducted : 2\n",
      "--------------\n",
      "[False  True]\n",
      "----------------------\n",
      "search_type : 24\n",
      "--------------\n",
      "[nan 'Incident to Arrest,Protective Frisk' 'Probable Cause'\n",
      " 'Incident to Arrest' 'Probable Cause,Reasonable Suspicion'\n",
      " 'Incident to Arrest,Inventory,Probable Cause'\n",
      " 'Incident to Arrest,Inventory' 'Incident to Arrest,Probable Cause'\n",
      " 'Protective Frisk' 'Reasonable Suspicion' 'Inventory'\n",
      " 'Inventory,Protective Frisk' 'Incident to Arrest,Reasonable Suspicion'\n",
      " 'Incident to Arrest,Probable Cause,Protective Frisk'\n",
      " 'Probable Cause,Protective Frisk'\n",
      " 'Incident to Arrest,Inventory,Protective Frisk'\n",
      " 'Protective Frisk,Reasonable Suspicion'\n",
      " 'Incident to Arrest,Inventory,Reasonable Suspicion'\n",
      " 'Inventory,Probable Cause'\n",
      " 'Incident to Arrest,Protective Frisk,Reasonable Suspicion'\n",
      " 'Inventory,Probable Cause,Protective Frisk'\n",
      " 'Inventory,Reasonable Suspicion'\n",
      " 'Incident to Arrest,Probable Cause,Reasonable Suspicion'\n",
      " 'Inventory,Probable Cause,Reasonable Suspicion'\n",
      " 'Probable Cause,Protective Frisk,Reasonable Suspicion']\n",
      "----------------------\n",
      "stop_outcome : 6\n",
      "--------------\n",
      "['Citation' 'Arrest Driver' nan 'N/D' 'Warning' 'Arrest Passenger'\n",
      " 'No Action']\n",
      "----------------------\n",
      "is_arrested : 2\n",
      "--------------\n",
      "[False True nan]\n",
      "----------------------\n",
      "stop_duration : 5\n",
      "--------------\n",
      "['0-15 Min' '16-30 Min' '30+ Min' nan '2' '1']\n",
      "----------------------\n",
      "drugs_related_stop : 2\n",
      "--------------\n",
      "[False  True]\n",
      "----------------------\n"
     ]
    }
   ],
   "source": [
    "#UNIQUE CATEGORIES IN THE SERIES:\n",
    "for i in range(0,15):\n",
    "    print(columns[i],':',ri[columns[i]].nunique())\n",
    "    print('--------------')\n",
    "    print(ri[columns[i]].unique())\n",
    "    print('----------------------')"
   ]
  },
  {
   "cell_type": "code",
   "execution_count": 104,
   "metadata": {},
   "outputs": [],
   "source": [
    "#NOW LETS CHECK THE FREQUENCY OF THE OCCURENCES OF THE SERIES IN THE DATA AND THEIR PERCENTAGE OF WHOLE"
   ]
  },
  {
   "cell_type": "code",
   "execution_count": 105,
   "metadata": {},
   "outputs": [
    {
     "name": "stdout",
     "output_type": "stream",
     "text": [
      "stop_date :\n",
      "      \n",
      "2012-01-11    0.075212\n",
      "2012-02-28    0.070852\n",
      "2007-05-16    0.067582\n",
      "2012-01-02    0.066492\n",
      "2007-01-10    0.065402\n",
      "                ...   \n",
      "2005-04-01    0.001090\n",
      "2005-01-23    0.001090\n",
      "2012-12-25    0.001090\n",
      "2005-09-21    0.001090\n",
      "2005-07-20    0.001090\n",
      "Name: stop_date, Length: 3768, dtype: float64\n",
      "-----------------------------------\n",
      "-----------------------------------\n",
      "stop_time :\n",
      "      \n",
      "11:00    0.352078\n",
      "10:00    0.345538\n",
      "09:00    0.318287\n",
      "09:30    0.316107\n",
      "10:30    0.312837\n",
      "           ...   \n",
      "05:10    0.001090\n",
      "05:42    0.001090\n",
      "04:50    0.001090\n",
      "05:38    0.001090\n",
      "05:32    0.001090\n",
      "Name: stop_time, Length: 1436, dtype: float64\n",
      "-----------------------------------\n",
      "-----------------------------------\n",
      "county_name :\n",
      "      \n",
      "Series([], Name: county_name, dtype: float64)\n",
      "-----------------------------------\n",
      "-----------------------------------\n",
      "driver_gender :\n",
      "      \n",
      "M    72.790084\n",
      "F    27.209916\n",
      "Name: driver_gender, dtype: float64\n",
      "-----------------------------------\n",
      "-----------------------------------\n",
      "driver_age_raw :\n",
      "      \n",
      "1987.0    4.227324\n",
      "1988.0    4.201865\n",
      "1986.0    4.161363\n",
      "1985.0    3.971579\n",
      "1989.0    3.848913\n",
      "            ...   \n",
      "1914.0    0.001157\n",
      "1887.0    0.001157\n",
      "8801.0    0.001157\n",
      "1920.0    0.001157\n",
      "2013.0    0.001157\n",
      "Name: driver_age_raw, Length: 97, dtype: float64\n",
      "-----------------------------------\n",
      "-----------------------------------\n",
      "driver_age :\n",
      "      \n",
      "22.0    4.789828\n",
      "21.0    4.717836\n",
      "23.0    4.628425\n",
      "20.0    4.405481\n",
      "24.0    4.391547\n",
      "          ...   \n",
      "88.0    0.002322\n",
      "90.0    0.001161\n",
      "89.0    0.001161\n",
      "99.0    0.001161\n",
      "94.0    0.001161\n",
      "Name: driver_age, Length: 78, dtype: float64\n",
      "-----------------------------------\n",
      "-----------------------------------\n",
      "driver_race :\n",
      "      \n",
      "White       71.935469\n",
      "Black       14.169984\n",
      "Hispanic    11.002453\n",
      "Asian        2.614341\n",
      "Other        0.277752\n",
      "Name: driver_race, dtype: float64\n",
      "-----------------------------------\n",
      "-----------------------------------\n",
      "violation_raw :\n",
      "      \n",
      "Speeding                            56.086242\n",
      "Other Traffic Violation             18.776039\n",
      "Equipment/Inspection Violation      12.753449\n",
      "Registration Violation               3.971854\n",
      "Seatbelt Violation                   3.416350\n",
      "Special Detail/Directed Patrol       2.841172\n",
      "Call for Service                     1.502176\n",
      "Violation of City/Town Ordinance     0.244190\n",
      "Motorist Assist/Courtesy             0.234932\n",
      "APB                                  0.091427\n",
      "Suspicious Person                    0.064809\n",
      "Warrant                              0.017360\n",
      "Name: violation_raw, dtype: float64\n",
      "-----------------------------------\n",
      "-----------------------------------\n",
      "violation :\n",
      "      \n",
      "Speeding               56.086242\n",
      "Moving violation       18.776039\n",
      "Equipment              12.753449\n",
      "Other                   4.996065\n",
      "Registration/plates     3.971854\n",
      "Seat belt               3.416350\n",
      "Name: violation, dtype: float64\n",
      "-----------------------------------\n",
      "-----------------------------------\n",
      "search_conducted :\n",
      "      \n",
      "False    96.51628\n",
      "True      3.48372\n",
      "Name: search_conducted, dtype: float64\n",
      "-----------------------------------\n",
      "-----------------------------------\n",
      "search_type :\n",
      "      \n",
      "Incident to Arrest                                          38.141427\n",
      "Probable Cause                                              27.878598\n",
      "Inventory                                                    6.883605\n",
      "Reasonable Suspicion                                         6.163955\n",
      "Protective Frisk                                             5.037547\n",
      "Incident to Arrest,Inventory                                 4.036295\n",
      "Incident to Arrest,Probable Cause                            3.316646\n",
      "Probable Cause,Reasonable Suspicion                          2.346683\n",
      "Incident to Arrest,Inventory,Probable Cause                  1.063830\n",
      "Probable Cause,Protective Frisk                              1.032541\n",
      "Incident to Arrest,Protective Frisk                          1.032541\n",
      "Inventory,Probable Cause                                     0.688360\n",
      "Incident to Arrest,Reasonable Suspicion                      0.406758\n",
      "Protective Frisk,Reasonable Suspicion                        0.344180\n",
      "Inventory,Protective Frisk                                   0.344180\n",
      "Incident to Arrest,Inventory,Protective Frisk                0.344180\n",
      "Incident to Arrest,Probable Cause,Protective Frisk           0.312891\n",
      "Incident to Arrest,Probable Cause,Reasonable Suspicion       0.187735\n",
      "Incident to Arrest,Inventory,Reasonable Suspicion            0.125156\n",
      "Inventory,Reasonable Suspicion                               0.125156\n",
      "Inventory,Probable Cause,Protective Frisk                    0.062578\n",
      "Inventory,Probable Cause,Reasonable Suspicion                0.062578\n",
      "Probable Cause,Protective Frisk,Reasonable Suspicion         0.031289\n",
      "Incident to Arrest,Protective Frisk,Reasonable Suspicion     0.031289\n",
      "Name: search_type, dtype: float64\n",
      "-----------------------------------\n",
      "-----------------------------------\n",
      "stop_outcome :\n",
      "      \n",
      "Citation            89.119063\n",
      "Warning              6.126748\n",
      "Arrest Driver        2.975419\n",
      "N/D                  0.682807\n",
      "No Action            0.681650\n",
      "Arrest Passenger     0.414313\n",
      "Name: stop_outcome, dtype: float64\n",
      "-----------------------------------\n",
      "-----------------------------------\n",
      "is_arrested :\n",
      "      \n",
      "False    96.610268\n",
      "True      3.389732\n",
      "Name: is_arrested, dtype: float64\n",
      "-----------------------------------\n",
      "-----------------------------------\n",
      "stop_duration :\n",
      "      \n",
      "0-15 Min     80.482131\n",
      "16-30 Min    15.779789\n",
      "30+ Min       3.735765\n",
      "1             0.001157\n",
      "2             0.001157\n",
      "Name: stop_duration, dtype: float64\n",
      "-----------------------------------\n",
      "-----------------------------------\n",
      "drugs_related_stop :\n",
      "      \n",
      "False    99.111629\n",
      "True      0.888371\n",
      "Name: drugs_related_stop, dtype: float64\n",
      "-----------------------------------\n",
      "-----------------------------------\n"
     ]
    }
   ],
   "source": [
    "for i in columns:\n",
    "    print(i,':')\n",
    "    print('      ')\n",
    "    print((ri[i].value_counts(normalize=True)*100).sort_values(ascending=False))\n",
    "    print('-----------------------------------')\n",
    "    print('-----------------------------------')"
   ]
  },
  {
   "cell_type": "code",
   "execution_count": 106,
   "metadata": {},
   "outputs": [
    {
     "data": {
      "text/plain": [
       "county_name           91741\n",
       "search_type           88545\n",
       "driver_age             5621\n",
       "driver_gender          5335\n",
       "stop_duration          5333\n",
       "is_arrested            5333\n",
       "stop_outcome           5333\n",
       "violation              5333\n",
       "violation_raw          5333\n",
       "driver_race            5333\n",
       "driver_age_raw         5327\n",
       "drugs_related_stop        0\n",
       "search_conducted          0\n",
       "stop_time                 0\n",
       "stop_date                 0\n",
       "dtype: int64"
      ]
     },
     "execution_count": 106,
     "metadata": {},
     "output_type": "execute_result"
    }
   ],
   "source": [
    "#NOW LETS CHECK THE NULL VALUES IN THE DATASET\n",
    "ri.isnull().sum().sort_values(ascending=False)"
   ]
  },
  {
   "cell_type": "code",
   "execution_count": 107,
   "metadata": {},
   "outputs": [],
   "source": [
    "#HIGHEST NUMBER OF NULL VALUES EXIST IN THE COUNTRY COLUMN LETS DROP THE COLUMN and drop it permanently AND DROP NULL VALUES\n",
    "ri.drop('county_name',axis=1,inplace=True)"
   ]
  },
  {
   "cell_type": "code",
   "execution_count": 114,
   "metadata": {},
   "outputs": [
    {
     "data": {
      "text/html": [
       "<div>\n",
       "<style scoped>\n",
       "    .dataframe tbody tr th:only-of-type {\n",
       "        vertical-align: middle;\n",
       "    }\n",
       "\n",
       "    .dataframe tbody tr th {\n",
       "        vertical-align: top;\n",
       "    }\n",
       "\n",
       "    .dataframe thead th {\n",
       "        text-align: right;\n",
       "    }\n",
       "</style>\n",
       "<table border=\"1\" class=\"dataframe\">\n",
       "  <thead>\n",
       "    <tr style=\"text-align: right;\">\n",
       "      <th>violation</th>\n",
       "      <th>Equipment</th>\n",
       "      <th>Moving violation</th>\n",
       "      <th>Other</th>\n",
       "      <th>Registration/plates</th>\n",
       "      <th>Seat belt</th>\n",
       "      <th>Speeding</th>\n",
       "    </tr>\n",
       "    <tr>\n",
       "      <th>driver_gender</th>\n",
       "      <th></th>\n",
       "      <th></th>\n",
       "      <th></th>\n",
       "      <th></th>\n",
       "      <th></th>\n",
       "      <th></th>\n",
       "    </tr>\n",
       "  </thead>\n",
       "  <tbody>\n",
       "    <tr>\n",
       "      <th>F</th>\n",
       "      <td>0.105780</td>\n",
       "      <td>0.136277</td>\n",
       "      <td>0.029348</td>\n",
       "      <td>0.043086</td>\n",
       "      <td>0.027009</td>\n",
       "      <td>0.65850</td>\n",
       "    </tr>\n",
       "    <tr>\n",
       "      <th>M</th>\n",
       "      <td>0.135671</td>\n",
       "      <td>0.207012</td>\n",
       "      <td>0.057668</td>\n",
       "      <td>0.038461</td>\n",
       "      <td>0.036839</td>\n",
       "      <td>0.52435</td>\n",
       "    </tr>\n",
       "  </tbody>\n",
       "</table>\n",
       "</div>"
      ],
      "text/plain": [
       "violation      Equipment  Moving violation     Other  Registration/plates  \\\n",
       "driver_gender                                                               \n",
       "F               0.105780          0.136277  0.029348             0.043086   \n",
       "M               0.135671          0.207012  0.057668             0.038461   \n",
       "\n",
       "violation      Seat belt  Speeding  \n",
       "driver_gender                       \n",
       "F               0.027009   0.65850  \n",
       "M               0.036839   0.52435  "
      ]
     },
     "execution_count": 114,
     "metadata": {},
     "output_type": "execute_result"
    }
   ],
   "source": [
    "#NOW LETS SEE WHICH GENDER percentage COMMITED THE MOST VIOLATIONS\n",
    "ri.groupby('driver_gender')['violation'].value_counts(normalize=True).unstack()"
   ]
  },
  {
   "cell_type": "code",
   "execution_count": 140,
   "metadata": {},
   "outputs": [],
   "source": [
    "#WHEN SEARCH WAS CONDUCTED HOW OFTEN THEY WERE A MAN OR A FEMALE"
   ]
  },
  {
   "cell_type": "code",
   "execution_count": 121,
   "metadata": {},
   "outputs": [
    {
     "data": {
      "text/plain": [
       "False    96.51628\n",
       "True      3.48372\n",
       "Name: search_conducted, dtype: float64"
      ]
     },
     "execution_count": 121,
     "metadata": {},
     "output_type": "execute_result"
    }
   ],
   "source": [
    "ri['search_conducted'].value_counts(normalize=True)*100"
   ]
  },
  {
   "cell_type": "code",
   "execution_count": 119,
   "metadata": {},
   "outputs": [
    {
     "data": {
      "text/plain": [
       "0.03483720473942948"
      ]
     },
     "execution_count": 119,
     "metadata": {},
     "output_type": "execute_result"
    }
   ],
   "source": [
    "ri['search_conducted'].mean()"
   ]
  },
  {
   "cell_type": "code",
   "execution_count": 118,
   "metadata": {},
   "outputs": [
    {
     "data": {
      "text/plain": [
       "driver_gender\n",
       "F    0.020033\n",
       "M    0.043326\n",
       "Name: search_conducted, dtype: float64"
      ]
     },
     "execution_count": 118,
     "metadata": {},
     "output_type": "execute_result"
    }
   ],
   "source": [
    "ri.groupby('driver_gender')['search_conducted'].mean()"
   ]
  },
  {
   "cell_type": "code",
   "execution_count": 123,
   "metadata": {},
   "outputs": [
    {
     "data": {
      "text/html": [
       "<div>\n",
       "<style scoped>\n",
       "    .dataframe tbody tr th:only-of-type {\n",
       "        vertical-align: middle;\n",
       "    }\n",
       "\n",
       "    .dataframe tbody tr th {\n",
       "        vertical-align: top;\n",
       "    }\n",
       "\n",
       "    .dataframe thead th {\n",
       "        text-align: right;\n",
       "    }\n",
       "</style>\n",
       "<table border=\"1\" class=\"dataframe\">\n",
       "  <thead>\n",
       "    <tr style=\"text-align: right;\">\n",
       "      <th>driver_gender</th>\n",
       "      <th>F</th>\n",
       "      <th>M</th>\n",
       "    </tr>\n",
       "    <tr>\n",
       "      <th>violation</th>\n",
       "      <th></th>\n",
       "      <th></th>\n",
       "    </tr>\n",
       "  </thead>\n",
       "  <tbody>\n",
       "    <tr>\n",
       "      <th>Equipment</th>\n",
       "      <td>0.042622</td>\n",
       "      <td>0.070081</td>\n",
       "    </tr>\n",
       "    <tr>\n",
       "      <th>Moving violation</th>\n",
       "      <td>0.036205</td>\n",
       "      <td>0.059831</td>\n",
       "    </tr>\n",
       "    <tr>\n",
       "      <th>Other</th>\n",
       "      <td>0.056522</td>\n",
       "      <td>0.047146</td>\n",
       "    </tr>\n",
       "    <tr>\n",
       "      <th>Registration/plates</th>\n",
       "      <td>0.066140</td>\n",
       "      <td>0.110376</td>\n",
       "    </tr>\n",
       "    <tr>\n",
       "      <th>Seat belt</th>\n",
       "      <td>0.012598</td>\n",
       "      <td>0.037980</td>\n",
       "    </tr>\n",
       "    <tr>\n",
       "      <th>Speeding</th>\n",
       "      <td>0.008720</td>\n",
       "      <td>0.024925</td>\n",
       "    </tr>\n",
       "  </tbody>\n",
       "</table>\n",
       "</div>"
      ],
      "text/plain": [
       "driver_gender               F         M\n",
       "violation                              \n",
       "Equipment            0.042622  0.070081\n",
       "Moving violation     0.036205  0.059831\n",
       "Other                0.056522  0.047146\n",
       "Registration/plates  0.066140  0.110376\n",
       "Seat belt            0.012598  0.037980\n",
       "Speeding             0.008720  0.024925"
      ]
     },
     "execution_count": 123,
     "metadata": {},
     "output_type": "execute_result"
    }
   ],
   "source": [
    "ri.groupby(['violation','driver_gender'])['search_conducted'].mean().unstack()"
   ]
  },
  {
   "cell_type": "code",
   "execution_count": 138,
   "metadata": {},
   "outputs": [],
   "source": [
    "#NULL VALUES IN SEARCH CONDUCTED"
   ]
  },
  {
   "cell_type": "code",
   "execution_count": 139,
   "metadata": {},
   "outputs": [
    {
     "data": {
      "text/plain": [
       "NaN    88545\n",
       "Name: search_type, dtype: int64"
      ]
     },
     "execution_count": 139,
     "metadata": {},
     "output_type": "execute_result"
    }
   ],
   "source": [
    "ri[ri.search_conducted==False].search_type.value_counts(dropna=False)"
   ]
  },
  {
   "cell_type": "code",
   "execution_count": 141,
   "metadata": {},
   "outputs": [
    {
     "data": {
      "text/plain": [
       "False    88545\n",
       "True      3196\n",
       "Name: search_conducted, dtype: int64"
      ]
     },
     "execution_count": 141,
     "metadata": {},
     "output_type": "execute_result"
    }
   ],
   "source": [
    "ri['search_conducted'].value_counts(dropna=False)"
   ]
  },
  {
   "cell_type": "code",
   "execution_count": 142,
   "metadata": {},
   "outputs": [],
   "source": [
    "#SO ALL FALSE SEARCHES WERE CONSIDERED AS A NULL"
   ]
  },
  {
   "cell_type": "code",
   "execution_count": 144,
   "metadata": {},
   "outputs": [],
   "source": [
    "#DURING A FRISK HOW OFTEN THE DRIVER FRISKED"
   ]
  },
  {
   "cell_type": "code",
   "execution_count": 147,
   "metadata": {},
   "outputs": [
    {
     "data": {
      "text/plain": [
       "Incident to Arrest                                          38.141427\n",
       "Probable Cause                                              27.878598\n",
       "Inventory                                                    6.883605\n",
       "Reasonable Suspicion                                         6.163955\n",
       "Protective Frisk                                             5.037547\n",
       "Incident to Arrest,Inventory                                 4.036295\n",
       "Incident to Arrest,Probable Cause                            3.316646\n",
       "Probable Cause,Reasonable Suspicion                          2.346683\n",
       "Incident to Arrest,Inventory,Probable Cause                  1.063830\n",
       "Incident to Arrest,Protective Frisk                          1.032541\n",
       "Probable Cause,Protective Frisk                              1.032541\n",
       "Inventory,Probable Cause                                     0.688360\n",
       "Incident to Arrest,Reasonable Suspicion                      0.406758\n",
       "Protective Frisk,Reasonable Suspicion                        0.344180\n",
       "Inventory,Protective Frisk                                   0.344180\n",
       "Incident to Arrest,Inventory,Protective Frisk                0.344180\n",
       "Incident to Arrest,Probable Cause,Protective Frisk           0.312891\n",
       "Incident to Arrest,Probable Cause,Reasonable Suspicion       0.187735\n",
       "Incident to Arrest,Inventory,Reasonable Suspicion            0.125156\n",
       "Inventory,Reasonable Suspicion                               0.125156\n",
       "Inventory,Probable Cause,Protective Frisk                    0.062578\n",
       "Inventory,Probable Cause,Reasonable Suspicion                0.062578\n",
       "Probable Cause,Protective Frisk,Reasonable Suspicion         0.031289\n",
       "Incident to Arrest,Protective Frisk,Reasonable Suspicion     0.031289\n",
       "Name: search_type, dtype: float64"
      ]
     },
     "execution_count": 147,
     "metadata": {},
     "output_type": "execute_result"
    }
   ],
   "source": [
    "ri['search_type'].value_counts(normalize=True)*100"
   ]
  },
  {
   "cell_type": "code",
   "execution_count": 159,
   "metadata": {},
   "outputs": [
    {
     "data": {
      "text/plain": [
       "NaN      88545\n",
       "False     3196\n",
       "Name: search_type, dtype: int64"
      ]
     },
     "execution_count": 159,
     "metadata": {},
     "output_type": "execute_result"
    }
   ],
   "source": [
    "ri['search_type'].str.contains('ProtectiveFrisk').value_counts(dropna=False)"
   ]
  },
  {
   "cell_type": "code",
   "execution_count": 162,
   "metadata": {},
   "outputs": [
    {
     "data": {
      "text/plain": [
       "0"
      ]
     },
     "execution_count": 162,
     "metadata": {},
     "output_type": "execute_result"
    }
   ],
   "source": [
    "ri['search_type'].str.contains('ProtectiveFrisk').sum()"
   ]
  },
  {
   "cell_type": "code",
   "execution_count": 160,
   "metadata": {},
   "outputs": [],
   "source": [
    "#so the driver was never frisked"
   ]
  },
  {
   "cell_type": "code",
   "execution_count": 163,
   "metadata": {},
   "outputs": [],
   "source": [
    "#WHICH YEAR HAD THE LEAST NUMBER OF STOPS"
   ]
  },
  {
   "cell_type": "code",
   "execution_count": 167,
   "metadata": {},
   "outputs": [
    {
     "data": {
      "text/plain": [
       "2012    10970\n",
       "2006    10639\n",
       "2007     9476\n",
       "2014     9228\n",
       "2008     8752\n",
       "2015     8599\n",
       "2011     8126\n",
       "2013     7924\n",
       "2009     7908\n",
       "2010     7561\n",
       "2005     2558\n",
       "Name: stop_date, dtype: int64"
      ]
     },
     "execution_count": 167,
     "metadata": {},
     "output_type": "execute_result"
    }
   ],
   "source": [
    "ri['stop_date'].str.slice(0,4).value_counts()"
   ]
  },
  {
   "cell_type": "code",
   "execution_count": 170,
   "metadata": {},
   "outputs": [],
   "source": [
    "combined=ri['stop_date'].str.cat(ri['stop_time'],sep=' ')"
   ]
  },
  {
   "cell_type": "code",
   "execution_count": 171,
   "metadata": {},
   "outputs": [
    {
     "data": {
      "text/plain": [
       "0        2005-01-02 01:55\n",
       "1        2005-01-18 08:15\n",
       "2        2005-01-23 23:15\n",
       "3        2005-02-20 17:15\n",
       "4        2005-03-14 10:00\n",
       "               ...       \n",
       "91736    2015-12-31 20:27\n",
       "91737    2015-12-31 20:35\n",
       "91738    2015-12-31 20:45\n",
       "91739    2015-12-31 21:42\n",
       "91740    2015-12-31 22:46\n",
       "Name: stop_date, Length: 91741, dtype: object"
      ]
     },
     "execution_count": 171,
     "metadata": {},
     "output_type": "execute_result"
    }
   ],
   "source": [
    "combined"
   ]
  },
  {
   "cell_type": "code",
   "execution_count": 173,
   "metadata": {},
   "outputs": [],
   "source": [
    "ri['stop_date_time']=pd.to_datetime(combined)"
   ]
  },
  {
   "cell_type": "code",
   "execution_count": 174,
   "metadata": {},
   "outputs": [
    {
     "data": {
      "text/plain": [
       "stop_date                     object\n",
       "stop_time                     object\n",
       "driver_gender                 object\n",
       "driver_age_raw               float64\n",
       "driver_age                   float64\n",
       "driver_race                   object\n",
       "violation_raw                 object\n",
       "violation                     object\n",
       "search_conducted                bool\n",
       "search_type                   object\n",
       "stop_outcome                  object\n",
       "is_arrested                   object\n",
       "stop_duration                 object\n",
       "drugs_related_stop              bool\n",
       "stop_date_time        datetime64[ns]\n",
       "dtype: object"
      ]
     },
     "execution_count": 174,
     "metadata": {},
     "output_type": "execute_result"
    }
   ],
   "source": [
    "ri.dtypes"
   ]
  },
  {
   "cell_type": "code",
   "execution_count": 177,
   "metadata": {},
   "outputs": [
    {
     "data": {
      "text/plain": [
       "2005     2558\n",
       "2010     7561\n",
       "2009     7908\n",
       "2013     7924\n",
       "2011     8126\n",
       "2015     8599\n",
       "2008     8752\n",
       "2014     9228\n",
       "2007     9476\n",
       "2006    10639\n",
       "2012    10970\n",
       "Name: stop_date_time, dtype: int64"
      ]
     },
     "execution_count": 177,
     "metadata": {},
     "output_type": "execute_result"
    }
   ],
   "source": [
    "ri['stop_date_time'].dt.year.value_counts().sort_values() #ONLY FOR DATETIME ATTRIBUTES"
   ]
  },
  {
   "cell_type": "code",
   "execution_count": 178,
   "metadata": {},
   "outputs": [],
   "source": [
    "#HOW DOES DRUG ACTIVITY CHANGE BY TIME OF THE DAY"
   ]
  },
  {
   "cell_type": "code",
   "execution_count": 181,
   "metadata": {},
   "outputs": [
    {
     "data": {
      "text/plain": [
       "<matplotlib.axes._subplots.AxesSubplot at 0x196410d4d90>"
      ]
     },
     "execution_count": 181,
     "metadata": {},
     "output_type": "execute_result"
    },
    {
     "data": {
      "image/png": "[encoded data removed]",
      "text/plain": [
       "<Figure size 432x288 with 1 Axes>"
      ]
     },
     "metadata": {
      "needs_background": "light"
     },
     "output_type": "display_data"
    }
   ],
   "source": [
    "ri.groupby(ri['stop_date_time'].dt.time).drugs_related_stop.mean().plot()"
   ]
  },
  {
   "cell_type": "code",
   "execution_count": 182,
   "metadata": {},
   "outputs": [
    {
     "data": {
      "text/plain": [
       "<matplotlib.axes._subplots.AxesSubplot at 0x196418c3c10>"
      ]
     },
     "execution_count": 182,
     "metadata": {},
     "output_type": "execute_result"
    },
    {
     "data": {
      "image/png": "[encoded data removed]",
      "text/plain": [
       "<Figure size 432x288 with 1 Axes>"
      ]
     },
     "metadata": {
      "needs_background": "light"
     },
     "output_type": "display_data"
    }
   ],
   "source": [
    "#DO MOST STOPS OCCUR DURING THE NIGHTS?\n",
    "ri['stop_date_time'].dt.hour.value_counts().sort_index().plot()"
   ]
  },
  {
   "cell_type": "code",
   "execution_count": 187,
   "metadata": {},
   "outputs": [
    {
     "data": {
      "text/html": [
       "<div>\n",
       "<style scoped>\n",
       "    .dataframe tbody tr th:only-of-type {\n",
       "        vertical-align: middle;\n",
       "    }\n",
       "\n",
       "    .dataframe tbody tr th {\n",
       "        vertical-align: top;\n",
       "    }\n",
       "\n",
       "    .dataframe thead th {\n",
       "        text-align: right;\n",
       "    }\n",
       "</style>\n",
       "<table border=\"1\" class=\"dataframe\">\n",
       "  <thead>\n",
       "    <tr style=\"text-align: right;\">\n",
       "      <th></th>\n",
       "      <th>stop_date</th>\n",
       "      <th>stop_time</th>\n",
       "      <th>driver_gender</th>\n",
       "      <th>driver_age_raw</th>\n",
       "      <th>driver_age</th>\n",
       "      <th>driver_race</th>\n",
       "      <th>violation_raw</th>\n",
       "      <th>violation</th>\n",
       "      <th>search_conducted</th>\n",
       "      <th>search_type</th>\n",
       "      <th>stop_outcome</th>\n",
       "      <th>is_arrested</th>\n",
       "      <th>stop_duration</th>\n",
       "      <th>drugs_related_stop</th>\n",
       "      <th>stop_date_time</th>\n",
       "    </tr>\n",
       "  </thead>\n",
       "  <tbody>\n",
       "    <tr>\n",
       "      <th>0</th>\n",
       "      <td>2005-01-02</td>\n",
       "      <td>01:55</td>\n",
       "      <td>M</td>\n",
       "      <td>1985.0</td>\n",
       "      <td>20.0</td>\n",
       "      <td>White</td>\n",
       "      <td>Speeding</td>\n",
       "      <td>Speeding</td>\n",
       "      <td>False</td>\n",
       "      <td>NaN</td>\n",
       "      <td>Citation</td>\n",
       "      <td>False</td>\n",
       "      <td>0-15 Min</td>\n",
       "      <td>False</td>\n",
       "      <td>2005-01-02 01:55:00</td>\n",
       "    </tr>\n",
       "    <tr>\n",
       "      <th>1</th>\n",
       "      <td>2005-01-18</td>\n",
       "      <td>08:15</td>\n",
       "      <td>M</td>\n",
       "      <td>1965.0</td>\n",
       "      <td>40.0</td>\n",
       "      <td>White</td>\n",
       "      <td>Speeding</td>\n",
       "      <td>Speeding</td>\n",
       "      <td>False</td>\n",
       "      <td>NaN</td>\n",
       "      <td>Citation</td>\n",
       "      <td>False</td>\n",
       "      <td>0-15 Min</td>\n",
       "      <td>False</td>\n",
       "      <td>2005-01-18 08:15:00</td>\n",
       "    </tr>\n",
       "    <tr>\n",
       "      <th>2</th>\n",
       "      <td>2005-01-23</td>\n",
       "      <td>23:15</td>\n",
       "      <td>M</td>\n",
       "      <td>1972.0</td>\n",
       "      <td>33.0</td>\n",
       "      <td>White</td>\n",
       "      <td>Speeding</td>\n",
       "      <td>Speeding</td>\n",
       "      <td>False</td>\n",
       "      <td>NaN</td>\n",
       "      <td>Citation</td>\n",
       "      <td>False</td>\n",
       "      <td>0-15 Min</td>\n",
       "      <td>False</td>\n",
       "      <td>2005-01-23 23:15:00</td>\n",
       "    </tr>\n",
       "    <tr>\n",
       "      <th>3</th>\n",
       "      <td>2005-02-20</td>\n",
       "      <td>17:15</td>\n",
       "      <td>M</td>\n",
       "      <td>1986.0</td>\n",
       "      <td>19.0</td>\n",
       "      <td>White</td>\n",
       "      <td>Call for Service</td>\n",
       "      <td>Other</td>\n",
       "      <td>False</td>\n",
       "      <td>NaN</td>\n",
       "      <td>Arrest Driver</td>\n",
       "      <td>True</td>\n",
       "      <td>16-30 Min</td>\n",
       "      <td>False</td>\n",
       "      <td>2005-02-20 17:15:00</td>\n",
       "    </tr>\n",
       "    <tr>\n",
       "      <th>4</th>\n",
       "      <td>2005-03-14</td>\n",
       "      <td>10:00</td>\n",
       "      <td>F</td>\n",
       "      <td>1984.0</td>\n",
       "      <td>21.0</td>\n",
       "      <td>White</td>\n",
       "      <td>Speeding</td>\n",
       "      <td>Speeding</td>\n",
       "      <td>False</td>\n",
       "      <td>NaN</td>\n",
       "      <td>Citation</td>\n",
       "      <td>False</td>\n",
       "      <td>0-15 Min</td>\n",
       "      <td>False</td>\n",
       "      <td>2005-03-14 10:00:00</td>\n",
       "    </tr>\n",
       "    <tr>\n",
       "      <th>...</th>\n",
       "      <td>...</td>\n",
       "      <td>...</td>\n",
       "      <td>...</td>\n",
       "      <td>...</td>\n",
       "      <td>...</td>\n",
       "      <td>...</td>\n",
       "      <td>...</td>\n",
       "      <td>...</td>\n",
       "      <td>...</td>\n",
       "      <td>...</td>\n",
       "      <td>...</td>\n",
       "      <td>...</td>\n",
       "      <td>...</td>\n",
       "      <td>...</td>\n",
       "      <td>...</td>\n",
       "    </tr>\n",
       "    <tr>\n",
       "      <th>91736</th>\n",
       "      <td>2015-12-31</td>\n",
       "      <td>20:27</td>\n",
       "      <td>M</td>\n",
       "      <td>1986.0</td>\n",
       "      <td>29.0</td>\n",
       "      <td>White</td>\n",
       "      <td>Speeding</td>\n",
       "      <td>Speeding</td>\n",
       "      <td>False</td>\n",
       "      <td>NaN</td>\n",
       "      <td>Warning</td>\n",
       "      <td>False</td>\n",
       "      <td>0-15 Min</td>\n",
       "      <td>False</td>\n",
       "      <td>2015-12-31 20:27:00</td>\n",
       "    </tr>\n",
       "    <tr>\n",
       "      <th>91737</th>\n",
       "      <td>2015-12-31</td>\n",
       "      <td>20:35</td>\n",
       "      <td>F</td>\n",
       "      <td>1982.0</td>\n",
       "      <td>33.0</td>\n",
       "      <td>White</td>\n",
       "      <td>Equipment/Inspection Violation</td>\n",
       "      <td>Equipment</td>\n",
       "      <td>False</td>\n",
       "      <td>NaN</td>\n",
       "      <td>Warning</td>\n",
       "      <td>False</td>\n",
       "      <td>0-15 Min</td>\n",
       "      <td>False</td>\n",
       "      <td>2015-12-31 20:35:00</td>\n",
       "    </tr>\n",
       "    <tr>\n",
       "      <th>91738</th>\n",
       "      <td>2015-12-31</td>\n",
       "      <td>20:45</td>\n",
       "      <td>M</td>\n",
       "      <td>1992.0</td>\n",
       "      <td>23.0</td>\n",
       "      <td>White</td>\n",
       "      <td>Other Traffic Violation</td>\n",
       "      <td>Moving violation</td>\n",
       "      <td>False</td>\n",
       "      <td>NaN</td>\n",
       "      <td>Warning</td>\n",
       "      <td>False</td>\n",
       "      <td>0-15 Min</td>\n",
       "      <td>False</td>\n",
       "      <td>2015-12-31 20:45:00</td>\n",
       "    </tr>\n",
       "    <tr>\n",
       "      <th>91739</th>\n",
       "      <td>2015-12-31</td>\n",
       "      <td>21:42</td>\n",
       "      <td>M</td>\n",
       "      <td>1993.0</td>\n",
       "      <td>22.0</td>\n",
       "      <td>White</td>\n",
       "      <td>Speeding</td>\n",
       "      <td>Speeding</td>\n",
       "      <td>False</td>\n",
       "      <td>NaN</td>\n",
       "      <td>Citation</td>\n",
       "      <td>False</td>\n",
       "      <td>0-15 Min</td>\n",
       "      <td>False</td>\n",
       "      <td>2015-12-31 21:42:00</td>\n",
       "    </tr>\n",
       "    <tr>\n",
       "      <th>91740</th>\n",
       "      <td>2015-12-31</td>\n",
       "      <td>22:46</td>\n",
       "      <td>M</td>\n",
       "      <td>1959.0</td>\n",
       "      <td>56.0</td>\n",
       "      <td>Hispanic</td>\n",
       "      <td>Speeding</td>\n",
       "      <td>Speeding</td>\n",
       "      <td>False</td>\n",
       "      <td>NaN</td>\n",
       "      <td>Citation</td>\n",
       "      <td>False</td>\n",
       "      <td>0-15 Min</td>\n",
       "      <td>False</td>\n",
       "      <td>2015-12-31 22:46:00</td>\n",
       "    </tr>\n",
       "  </tbody>\n",
       "</table>\n",
       "<p>91741 rows × 15 columns</p>\n",
       "</div>"
      ],
      "text/plain": [
       "        stop_date stop_time driver_gender  driver_age_raw  driver_age  \\\n",
       "0      2005-01-02     01:55             M          1985.0        20.0   \n",
       "1      2005-01-18     08:15             M          1965.0        40.0   \n",
       "2      2005-01-23     23:15             M          1972.0        33.0   \n",
       "3      2005-02-20     17:15             M          1986.0        19.0   \n",
       "4      2005-03-14     10:00             F          1984.0        21.0   \n",
       "...           ...       ...           ...             ...         ...   \n",
       "91736  2015-12-31     20:27             M          1986.0        29.0   \n",
       "91737  2015-12-31     20:35             F          1982.0        33.0   \n",
       "91738  2015-12-31     20:45             M          1992.0        23.0   \n",
       "91739  2015-12-31     21:42             M          1993.0        22.0   \n",
       "91740  2015-12-31     22:46             M          1959.0        56.0   \n",
       "\n",
       "      driver_race                   violation_raw         violation  \\\n",
       "0           White                        Speeding          Speeding   \n",
       "1           White                        Speeding          Speeding   \n",
       "2           White                        Speeding          Speeding   \n",
       "3           White                Call for Service             Other   \n",
       "4           White                        Speeding          Speeding   \n",
       "...           ...                             ...               ...   \n",
       "91736       White                        Speeding          Speeding   \n",
       "91737       White  Equipment/Inspection Violation         Equipment   \n",
       "91738       White         Other Traffic Violation  Moving violation   \n",
       "91739       White                        Speeding          Speeding   \n",
       "91740    Hispanic                        Speeding          Speeding   \n",
       "\n",
       "       search_conducted search_type   stop_outcome is_arrested stop_duration  \\\n",
       "0                 False         NaN       Citation       False      0-15 Min   \n",
       "1                 False         NaN       Citation       False      0-15 Min   \n",
       "2                 False         NaN       Citation       False      0-15 Min   \n",
       "3                 False         NaN  Arrest Driver        True     16-30 Min   \n",
       "4                 False         NaN       Citation       False      0-15 Min   \n",
       "...                 ...         ...            ...         ...           ...   \n",
       "91736             False         NaN        Warning       False      0-15 Min   \n",
       "91737             False         NaN        Warning       False      0-15 Min   \n",
       "91738             False         NaN        Warning       False      0-15 Min   \n",
       "91739             False         NaN       Citation       False      0-15 Min   \n",
       "91740             False         NaN       Citation       False      0-15 Min   \n",
       "\n",
       "       drugs_related_stop      stop_date_time  \n",
       "0                   False 2005-01-02 01:55:00  \n",
       "1                   False 2005-01-18 08:15:00  \n",
       "2                   False 2005-01-23 23:15:00  \n",
       "3                   False 2005-02-20 17:15:00  \n",
       "4                   False 2005-03-14 10:00:00  \n",
       "...                   ...                 ...  \n",
       "91736               False 2015-12-31 20:27:00  \n",
       "91737               False 2015-12-31 20:35:00  \n",
       "91738               False 2015-12-31 20:45:00  \n",
       "91739               False 2015-12-31 21:42:00  \n",
       "91740               False 2015-12-31 22:46:00  \n",
       "\n",
       "[91741 rows x 15 columns]"
      ]
     },
     "execution_count": 187,
     "metadata": {},
     "output_type": "execute_result"
    }
   ],
   "source": [
    "#IF WE CONSIDER BETWEEN 10PM AND 4PM is night\n",
    "ri[(ri['stop_date_time'].dt.hour>4)&(ri['stop_date_time'].dt.hour)<22]"
   ]
  },
  {
   "cell_type": "code",
   "execution_count": 188,
   "metadata": {},
   "outputs": [
    {
     "data": {
      "text/plain": [
       "0-15 Min     69543\n",
       "16-30 Min    13635\n",
       "NaN           5333\n",
       "30+ Min       3228\n",
       "2                1\n",
       "1                1\n",
       "Name: stop_duration, dtype: int64"
      ]
     },
     "execution_count": 188,
     "metadata": {},
     "output_type": "execute_result"
    }
   ],
   "source": [
    "#FIND & FIXING BAD DATA IN STOP_DURATION COLUMN\n",
    "ri['stop_duration'].value_counts(dropna=False)"
   ]
  },
  {
   "cell_type": "code",
   "execution_count": 190,
   "metadata": {},
   "outputs": [],
   "source": [
    "import numpy as np\n",
    "ri.loc[(ri['stop_duration']=='1')|(ri['stop_duration']=='2'),'stop_duration']='Nan'"
   ]
  },
  {
   "cell_type": "code",
   "execution_count": 191,
   "metadata": {},
   "outputs": [],
   "source": [
    "ri.loc[ri['stop_duration']=='Nan','stop_duration']=np.nan"
   ]
  },
  {
   "cell_type": "code",
   "execution_count": 192,
   "metadata": {},
   "outputs": [
    {
     "data": {
      "text/plain": [
       "0-15 Min     69543\n",
       "16-30 Min    13635\n",
       "NaN           5335\n",
       "30+ Min       3228\n",
       "Name: stop_duration, dtype: int64"
      ]
     },
     "execution_count": 192,
     "metadata": {},
     "output_type": "execute_result"
    }
   ],
   "source": [
    "ri['stop_duration'].value_counts(dropna=False)"
   ]
  },
  {
   "cell_type": "code",
   "execution_count": null,
   "metadata": {},
   "outputs": [],
   "source": []
  }
 ],
 "metadata": {
  "kernelspec": {
   "display_name": "Python 3",
   "language": "python",
   "name": "python3"
  },
  "language_info": {
   "codemirror_mode": {
    "name": "ipython",
    "version": 3
   },
   "file_extension": ".py",
   "mimetype": "text/x-python",
   "name": "python",
   "nbconvert_exporter": "python",
   "pygments_lexer": "ipython3",
   "version": "3.8.3"
  }
 },
 "nbformat": 4,
 "nbformat_minor": 4
}
