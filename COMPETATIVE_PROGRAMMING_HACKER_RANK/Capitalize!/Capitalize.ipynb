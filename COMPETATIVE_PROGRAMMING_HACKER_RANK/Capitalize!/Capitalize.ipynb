{
 "cells": [
  {
   "cell_type": "code",
   "execution_count": 19,
   "metadata": {},
   "outputs": [],
   "source": [
    "k='1 w 2 r 3g'\n",
    "z='hello world'\n",
    "o='hello   world  lol'\n",
    "i='132 456 Wq  m e'\n",
    "l='q w e r t y u i o p a s d f g h j  k l z x c v b n m Q W E R T Y U I O P A S D F G H J  K L Z X C V B N M'\n",
    "t='1 2 2 3 4 5 6 7 8  9'\n"
   ]
  },
  {
   "cell_type": "code",
   "execution_count": 20,
   "metadata": {},
   "outputs": [],
   "source": [
    "# Complete the solve function below.\n",
    "def solve(s):\n",
    "    o=s\n",
    "    index=[]\n",
    "    for i in range(len(o)):\n",
    "        if(o[i].find(' ')==0):\n",
    "            index.append(i)\n",
    "    o=o.split()\n",
    "    k=[]\n",
    "    for i in range(len(o)):\n",
    "        k.append(o[i].capitalize())\n",
    "    k=''.join(k)\n",
    "    for i in index:\n",
    "        k = k[:i]+' '+k[i:]\n",
    "    return k"
   ]
  },
  {
   "cell_type": "code",
   "execution_count": 22,
   "metadata": {},
   "outputs": [
    {
     "data": {
      "text/plain": [
       "'Q W E R T Y U I O P A S D F G H J  K L Z X C V B N M Q W E R T Y U I O P A S D F G H J  K L Z X C V B N M'"
      ]
     },
     "execution_count": 22,
     "metadata": {},
     "output_type": "execute_result"
    }
   ],
   "source": [
    "solve(l)"
   ]
  }
 ],
 "metadata": {
  "kernelspec": {
   "display_name": "Python 3",
   "language": "python",
   "name": "python3"
  }
 },
 "nbformat": 4,
 "nbformat_minor": 4
}
