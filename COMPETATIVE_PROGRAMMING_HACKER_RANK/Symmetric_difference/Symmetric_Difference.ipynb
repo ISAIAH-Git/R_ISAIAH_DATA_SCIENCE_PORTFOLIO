{
 "cells": [
  {
   "cell_type": "code",
   "execution_count": 8,
   "metadata": {},
   "outputs": [
    {
     "name": "stdout",
     "output_type": "stream",
     "text": [
      "4\n",
      "2 4 5 9\n",
      "4 \n",
      "2 4 11 12\n",
      "5\n",
      "9\n",
      "11\n",
      "12\n"
     ]
    }
   ],
   "source": [
    "k=int(input())\n",
    "h=input().split()\n",
    "for i in range(len(h)):\n",
    "    h[i]=int(h[i])\n",
    "Set_A=set(h)\n",
    "o=int(input())\n",
    "u=input().split()\n",
    "for j in range(len(u)):\n",
    "    u[j]=int(u[j])\n",
    "Set_B=set(u)\n",
    "r=Set_A.symmetric_difference(Set_B)\n",
    "t=sorted(list(r))\n",
    "for i in range(len(r)):\n",
    "    print(t[i])\n"
   ]
  }
 ],
 "metadata": {
  "kernelspec": {
   "display_name": "Python 3",
   "language": "python",
   "name": "python3"
  },
  "language_info": {
   "codemirror_mode": {
    "name": "ipython",
    "version": 3
   },
   "file_extension": ".py",
   "mimetype": "text/x-python",
   "name": "python",
   "nbconvert_exporter": "python",
   "pygments_lexer": "ipython3",
   "version": "3.8.3"
  }
 },
 "nbformat": 4,
 "nbformat_minor": 4
}
