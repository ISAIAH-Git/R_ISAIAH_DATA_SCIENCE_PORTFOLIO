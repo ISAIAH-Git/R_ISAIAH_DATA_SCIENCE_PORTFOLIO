{
 "cells": [
  {
   "cell_type": "code",
   "execution_count": 7,
   "metadata": {},
   "outputs": [
    {
     "name": "stdout",
     "output_type": "stream",
     "text": [
      "8\n",
      "UDDDUDUU\n"
     ]
    }
   ],
   "source": [
    "steps=int(input())\n",
    "String=input()\n",
    "count=0\n",
    "valleys=0\n",
    "for i in range(steps):\n",
    "    if(String[i]=='U'):\n",
    "        count=count+1\n",
    "    elif(String[i]=='D'):\n",
    "        count=count-1\n",
    "    if(count==0 and String[i]=='U'):\n",
    "        valleys=valleys+1      "
   ]
  },
  {
   "cell_type": "code",
   "execution_count": 8,
   "metadata": {},
   "outputs": [
    {
     "data": {
      "text/plain": [
       "1"
      ]
     },
     "execution_count": 8,
     "metadata": {},
     "output_type": "execute_result"
    }
   ],
   "source": [
    "valleys"
   ]
  }
 ],
 "metadata": {
  "kernelspec": {
   "display_name": "Python 3",
   "language": "python",
   "name": "python3"
  },
  "language_info": {
   "codemirror_mode": {
    "name": "ipython",
    "version": 3
   },
   "file_extension": ".py",
   "mimetype": "text/x-python",
   "name": "python",
   "nbconvert_exporter": "python",
   "pygments_lexer": "ipython3",
   "version": "3.8.3"
  }
 },
 "nbformat": 4,
 "nbformat_minor": 4
}
