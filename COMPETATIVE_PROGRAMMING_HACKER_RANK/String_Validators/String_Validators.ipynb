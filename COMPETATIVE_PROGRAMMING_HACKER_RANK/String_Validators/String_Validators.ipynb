{
 "cells": [
  {
   "cell_type": "code",
   "execution_count": 7,
   "metadata": {},
   "outputs": [
    {
     "name": "stdout",
     "output_type": "stream",
     "text": [
      "qA2\n",
      "True\n",
      "True\n",
      "True\n",
      "True\n",
      "True\n"
     ]
    }
   ],
   "source": [
    "x=str(input())\n",
    "k= any([i.isalnum() for i in x ])\n",
    "print(k)\n",
    "l= any([i.isalpha()  for i in x])\n",
    "print(l)\n",
    "m= any([i.isdigit() for i in x])\n",
    "print(m)\n",
    "n=any([i.islower() for i in x])\n",
    "print(n)\n",
    "o=any([i.isupper() for i in x])\n",
    "print(o)\n"
   ]
  }
 ],
 "metadata": {
  "kernelspec": {
   "display_name": "Python 3",
   "language": "python",
   "name": "python3"
  },
  "language_info": {
   "codemirror_mode": {
    "name": "ipython",
    "version": 3
   },
   "file_extension": ".py",
   "mimetype": "text/x-python",
   "name": "python",
   "nbconvert_exporter": "python",
   "pygments_lexer": "ipython3",
   "version": "3.8.3"
  }
 },
 "nbformat": 4,
 "nbformat_minor": 4
}
