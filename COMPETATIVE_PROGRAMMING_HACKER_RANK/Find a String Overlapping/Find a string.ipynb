{
 "cells": [
  {
   "cell_type": "code",
   "execution_count": 86,
   "metadata": {},
   "outputs": [
    {
     "name": "stdout",
     "output_type": "stream",
     "text": [
      "ABCDCDC\n",
      "CDC\n",
      "0\n",
      "ABC\n",
      "1\n",
      "BCD\n",
      "2\n",
      "CDC\n",
      "3\n",
      "DCD\n",
      "4\n",
      "CDC\n",
      "5\n",
      "DC\n",
      "6\n",
      "C\n"
     ]
    },
    {
     "data": {
      "text/plain": [
       "2"
      ]
     },
     "execution_count": 86,
     "metadata": {},
     "output_type": "execute_result"
    }
   ],
   "source": [
    "def count(string,sub_string):\n",
    "    k=len(sub_string)\n",
    "    count=0\n",
    "    for i in range(len(string)):\n",
    "        print(i)\n",
    "        print(string[i:k+i])\n",
    "        if(sub_string in string[i:k+i]):\n",
    "            count=count+1\n",
    "    return count\n",
    "string=input()\n",
    "sub_string=input()\n",
    "count(string,sub_string)            "
   ]
  },
  {
   "cell_type": "code",
   "execution_count": null,
   "metadata": {},
   "outputs": [],
   "source": []
  }
 ],
 "metadata": {
  "kernelspec": {
   "display_name": "Python 3",
   "language": "python",
   "name": "python3"
  },
  "language_info": {
   "codemirror_mode": {
    "name": "ipython",
    "version": 3
   },
   "file_extension": ".py",
   "mimetype": "text/x-python",
   "name": "python",
   "nbconvert_exporter": "python",
   "pygments_lexer": "ipython3",
   "version": "3.8.3"
  }
 },
 "nbformat": 4,
 "nbformat_minor": 4
}
