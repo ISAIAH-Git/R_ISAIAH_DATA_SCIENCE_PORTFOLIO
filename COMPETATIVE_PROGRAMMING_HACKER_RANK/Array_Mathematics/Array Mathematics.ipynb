{
 "cells": [
  {
   "cell_type": "code",
   "execution_count": 2,
   "metadata": {},
   "outputs": [
    {
     "name": "stdout",
     "output_type": "stream",
     "text": [
      "2 4\n",
      "1 2 3 4\n",
      "1 2 3 4\n",
      "5 6 7 7\n",
      "5 6 7 7\n",
      "[[ 6  8 10 11]\n",
      " [ 6  8 10 11]]\n",
      "[[-4 -4 -4 -3]\n",
      " [-4 -4 -4 -3]]\n",
      "[[ 5 12 21 28]\n",
      " [ 5 12 21 28]]\n",
      "[[0 0 0 0]\n",
      " [0 0 0 0]]\n",
      "[[1 2 3 4]\n",
      " [1 2 3 4]]\n",
      "[[    1    64  2187 16384]\n",
      " [    1    64  2187 16384]]\n"
     ]
    }
   ],
   "source": [
    "import numpy as np\n",
    "Input=list(map(int,input().split()))\n",
    "M_A=[]\n",
    "M_B=[]\n",
    "for i in range(Input[0]):\n",
    "    A=np.array(list(map(int,input().split())))\n",
    "    M_A.append(A)\n",
    "for i in range(Input[0]):\n",
    "    B=np.array(list(map(int,input().split())))\n",
    "    M_B.append(B)\n",
    "print(np.add(M_A,M_B))\n",
    "print(np.subtract(M_A,M_B))\n",
    "print(np.multiply(M_A,M_B))\n",
    "print(np.divide(M_A,M_B).astype(int))\n",
    "print(np.mod(M_A,M_B))\n",
    "print(np.power(M_A,M_B))"
   ]
  },
  {
   "cell_type": "code",
   "execution_count": null,
   "metadata": {},
   "outputs": [],
   "source": [
    "#INPUT\n",
    "#2 4\n",
    "#1 2 3 4\n",
    "#1 2 3 4\n",
    "#5 6 7 7\n",
    "#5 6 7 7\n",
    "\n",
    "#Output:\n",
    "\n",
    "#[[ 6  8 10 11]\n",
    "#[ 6  8 10 11]]\n",
    "#[[-4 -4 -4 -3]\n",
    "# [-4 -4 -4 -3]]\n",
    "#[[ 5 12 21 28]\n",
    "# [ 5 12 21 28]]\n",
    "#[[0 0 0 0]\n",
    "# [0 0 0 0]]\n",
    "#[[1 2 3 4]\n",
    "# [1 2 3 4]]\n",
    "#[[    1    64  2187 16384]\n",
    "# [    1    64  2187 16384]]"
   ]
  }
 ],
 "metadata": {
  "kernelspec": {
   "display_name": "Python 3",
   "language": "python",
   "name": "python3"
  },
  "language_info": {
   "codemirror_mode": {
    "name": "ipython",
    "version": 3
   },
   "file_extension": ".py",
   "mimetype": "text/x-python",
   "name": "python",
   "nbconvert_exporter": "python",
   "pygments_lexer": "ipython3",
   "version": "3.8.3"
  }
 },
 "nbformat": 4,
 "nbformat_minor": 4
}
