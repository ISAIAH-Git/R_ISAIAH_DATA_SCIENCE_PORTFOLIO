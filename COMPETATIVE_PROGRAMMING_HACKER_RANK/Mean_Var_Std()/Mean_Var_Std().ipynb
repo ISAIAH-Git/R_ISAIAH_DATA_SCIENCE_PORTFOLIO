{
 "cells": [
  {
   "cell_type": "code",
   "execution_count": 12,
   "metadata": {},
   "outputs": [
    {
     "name": "stdout",
     "output_type": "stream",
     "text": [
      "2 2\n",
      "1 2\n",
      "3 4\n",
      "[ 1.5  3.5]\n",
      "[ 1.  1.]\n",
      "1.11803398875\n"
     ]
    }
   ],
   "source": [
    "import numpy as np\n",
    "List=[]\n",
    "shape=list(map(int,input().split()))\n",
    "for i in range(shape[0]):\n",
    "    List.append(list(map(int,input().split())))\n",
    "array=np.array(List)\n",
    "np.set_printoptions(legacy='1.13')\n",
    "print(np.mean(array,axis=1))\n",
    "print(np.var(array,axis=0))\n",
    "print(np.std(array,axis=None))"
   ]
  }
 ],
 "metadata": {
  "kernelspec": {
   "display_name": "Python 3",
   "language": "python",
   "name": "python3"
  },
  "language_info": {
   "codemirror_mode": {
    "name": "ipython",
    "version": 3
   },
   "file_extension": ".py",
   "mimetype": "text/x-python",
   "name": "python",
   "nbconvert_exporter": "python",
   "pygments_lexer": "ipython3",
   "version": "3.8.3"
  }
 },
 "nbformat": 4,
 "nbformat_minor": 4
}
