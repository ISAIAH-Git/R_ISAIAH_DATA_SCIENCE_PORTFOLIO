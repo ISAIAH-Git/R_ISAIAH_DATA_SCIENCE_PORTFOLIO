{
 "cells": [
  {
   "cell_type": "code",
   "execution_count": 1,
   "metadata": {},
   "outputs": [
    {
     "name": "stdout",
     "output_type": "stream",
     "text": [
      "rabcdeefgyYhFjkIoomnpOeorteeeeet\n",
      "['', 'a', '', '', 'ee', '', '', '', '', '', '', '', 'Ioo', '', '', 'Oeo', '', 'eeeee', '']\n",
      "ee\n",
      "Ioo\n",
      "Oeo\n",
      "eeeee\n"
     ]
    }
   ],
   "source": [
    "import re\n",
    "h=input()\n",
    "g='[^aeiouAEIOU]'\n",
    "List=list(re.split(g,h))\n",
    "print(List)\n",
    "k = 0\n",
    "for i in range(len(List)-1):\n",
    "    if(len(List[i])>=2):\n",
    "        print(List[i])\n",
    "        k = 1\n",
    "if(k == 0):\n",
    "    print(-1)"
   ]
  },
  {
   "cell_type": "code",
   "execution_count": null,
   "metadata": {},
   "outputs": [],
   "source": []
  }
 ],
 "metadata": {
  "kernelspec": {
   "display_name": "Python 3",
   "language": "python",
   "name": "python3"
  },
  "language_info": {
   "codemirror_mode": {
    "name": "ipython",
    "version": 3
   },
   "file_extension": ".py",
   "mimetype": "text/x-python",
   "name": "python",
   "nbconvert_exporter": "python",
   "pygments_lexer": "ipython3",
   "version": "3.8.3"
  }
 },
 "nbformat": 4,
 "nbformat_minor": 4
}
