{
 "cells": [
  {
   "cell_type": "code",
   "execution_count": 4,
   "metadata": {},
   "outputs": [
    {
     "name": "stdout",
     "output_type": "stream",
     "text": [
      "9\n",
      "BANANA FRIES 12\n",
      "POTATO CHIPS 30\n",
      "APPLE JUICE 10\n",
      "CANDY 5\n",
      "APPLE JUICE 10\n",
      "CANDY 5\n",
      "CANDY 5\n",
      "CANDY 5\n",
      "POTATO CHIPS 30\n",
      "BANANA FRIES 12\n",
      "POTATO CHIPS 60\n",
      "APPLE JUICE 20\n",
      "CANDY 20\n"
     ]
    }
   ],
   "source": [
    "import collections\n",
    "number_of_items=int(input())\n",
    "orderedDict=collections.OrderedDict()\n",
    "for i in range(number_of_items):\n",
    "    Input=input().split()\n",
    "    if(len(Input)==3):\n",
    "        Input[2]=int(Input[2])\n",
    "        if(Input[0]+' '+Input[1] not in orderedDict.keys()):\n",
    "            orderedDict[Input[0]+' '+Input[1]]=Input[2]\n",
    "        else:\n",
    "            orderedDict[Input[0]+' '+Input[1]]=orderedDict[Input[0]+' '+Input[1]]+Input[2]\n",
    "    elif(len(Input)==2):\n",
    "        Input[1]=int(Input[1])\n",
    "        if(Input[0] not in orderedDict.keys()):\n",
    "            orderedDict[Input[0]]=Input[1]\n",
    "        else:\n",
    "            orderedDict[Input[0]]=orderedDict[Input[0]]+Input[1]\n",
    "for i in orderedDict.keys():\n",
    "    print(i+' '+str(orderedDict[i]))"
   ]
  }
 ],
 "metadata": {
  "kernelspec": {
   "display_name": "Python 3",
   "language": "python",
   "name": "python3"
  },
  "language_info": {
   "codemirror_mode": {
    "name": "ipython",
    "version": 3
   },
   "file_extension": ".py",
   "mimetype": "text/x-python",
   "name": "python",
   "nbconvert_exporter": "python",
   "pygments_lexer": "ipython3",
   "version": "3.8.3"
  }
 },
 "nbformat": 4,
 "nbformat_minor": 4
}
