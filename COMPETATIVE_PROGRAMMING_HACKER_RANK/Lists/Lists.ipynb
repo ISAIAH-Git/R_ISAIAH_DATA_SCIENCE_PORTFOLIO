{
 "cells": [
  {
   "cell_type": "code",
   "execution_count": 2,
   "metadata": {},
   "outputs": [
    {
     "name": "stdout",
     "output_type": "stream",
     "text": [
      "12\n",
      "insert 0 5\n",
      "insert 1 10\n",
      "insert 0 6\n",
      "print\n",
      "[6, 5, 10]\n",
      "remove 6\n",
      "append 9\n",
      "append 1\n",
      "sort\n",
      "print\n",
      "[1, 5, 9, 10]\n",
      "pop\n",
      "reverse\n",
      "print\n",
      "[9, 5, 1]\n"
     ]
    }
   ],
   "source": [
    "x=int(input())\n",
    "List=[]\n",
    "for i in range(x):\n",
    "    y=input().split()\n",
    "    if((len(y)==3) and y[0]=='insert'):\n",
    "        List.insert(int(y[1]),int(y[2]))\n",
    "    elif(len(y)==1 and y[0]=='print'):\n",
    "        print(List)\n",
    "    elif(len(y)==2 and y[0]=='remove'):\n",
    "        List.remove(int(y[1]))\n",
    "    elif(len(y)==2 and y[0]=='append'):\n",
    "        List.append(int(y[1]))\n",
    "    elif(len(y)==1 and y[0]=='sort'):\n",
    "        List.sort()\n",
    "    elif(len(y)==1 and y[0]=='pop'):\n",
    "        List.pop()\n",
    "    elif(len(y)==1 and y[0]=='reverse'):\n",
    "        List.reverse()\n"
   ]
  },
  {
   "cell_type": "code",
   "execution_count": null,
   "metadata": {},
   "outputs": [],
   "source": []
  }
 ],
 "metadata": {
  "kernelspec": {
   "display_name": "Python 3",
   "language": "python",
   "name": "python3"
  },
  "language_info": {
   "codemirror_mode": {
    "name": "ipython",
    "version": 3
   },
   "file_extension": ".py",
   "mimetype": "text/x-python",
   "name": "python",
   "nbconvert_exporter": "python",
   "pygments_lexer": "ipython3",
   "version": "3.8.3"
  }
 },
 "nbformat": 4,
 "nbformat_minor": 4
}
