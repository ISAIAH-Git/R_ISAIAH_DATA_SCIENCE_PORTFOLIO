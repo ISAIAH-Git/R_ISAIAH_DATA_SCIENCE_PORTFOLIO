{
 "cells": [
  {
   "cell_type": "code",
   "execution_count": 3,
   "metadata": {},
   "outputs": [
    {
     "name": "stdout",
     "output_type": "stream",
     "text": [
      "16\n",
      "1 2 3 4 5 6 7 8 9 10 11 12 13 14 24 52\n",
      "4\n",
      "intersection_update 10\n",
      "2 3 5 6 8 9 1 4 7 11\n",
      "update 2\n",
      "55 66\n",
      "symmetric_difference_update 5\n",
      "22 7 35 62 58\n",
      "difference_update 7\n",
      "11 22 35 55 58 62 66\n",
      "38\n"
     ]
    }
   ],
   "source": [
    "x=int(input())\n",
    "y=input().split()\n",
    "for i in range(len(y)):\n",
    "    y[i]=int(y[i])\n",
    "Set_A=set(y)\n",
    "no_of_other_sets=int(input())\n",
    "for i in range(no_of_other_sets):\n",
    "    command=input().split()\n",
    "    Set=input().split()\n",
    "    for i in range(len(Set)):\n",
    "        Set[i]=int(Set[i])\n",
    "    k=set(Set)\n",
    "    if(command[0]=='intersection_update' and len(command)==2):\n",
    "        Set_A.intersection_update(k)\n",
    "    elif(command[0]=='update' and len(command)==2):\n",
    "        Set_A.update(k)\n",
    "    elif(command[0]=='symmetric_difference_update' and len(command)==2):\n",
    "        Set_A.symmetric_difference_update(k)\n",
    "    else:\n",
    "        Set_A.difference_update(k)\n",
    "count=0\n",
    "Sum_n4=list(Set_A)\n",
    "for i in range(len(Sum_n4)):\n",
    "    count=count+Sum_n4[i]\n",
    "print(count)"
   ]
  }
 ],
 "metadata": {
  "kernelspec": {
   "display_name": "Python 3",
   "language": "python",
   "name": "python3"
  },
  "language_info": {
   "codemirror_mode": {
    "name": "ipython",
    "version": 3
   },
   "file_extension": ".py",
   "mimetype": "text/x-python",
   "name": "python",
   "nbconvert_exporter": "python",
   "pygments_lexer": "ipython3",
   "version": "3.8.3"
  }
 },
 "nbformat": 4,
 "nbformat_minor": 4
}
