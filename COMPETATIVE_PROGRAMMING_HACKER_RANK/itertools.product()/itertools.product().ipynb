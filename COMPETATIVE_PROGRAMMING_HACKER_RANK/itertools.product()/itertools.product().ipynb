{
 "cells": [
  {
   "cell_type": "code",
   "execution_count": 2,
   "metadata": {},
   "outputs": [
    {
     "name": "stdout",
     "output_type": "stream",
     "text": [
      "1 2\n",
      "3 4\n",
      "(1, 3) (1, 4) (2, 3) (2, 4) "
     ]
    }
   ],
   "source": [
    "x=input().split()\n",
    "y=input().split()\n",
    "for i in range(len(x)):\n",
    "    x[i]=int(x[i])\n",
    "\n",
    "for j in range(len(y)):\n",
    "    y[j]=int(y[j])\n",
    "\n",
    "combinations=[(i,j) for i in x for j in y]\n",
    "\n",
    "for i in range(len(combinations)):\n",
    "    print(combinations[i],end=\" \")"
   ]
  }
 ],
 "metadata": {
  "kernelspec": {
   "display_name": "Python 3",
   "language": "python",
   "name": "python3"
  },
  "language_info": {
   "codemirror_mode": {
    "name": "ipython",
    "version": 3
   },
   "file_extension": ".py",
   "mimetype": "text/x-python",
   "name": "python",
   "nbconvert_exporter": "python",
   "pygments_lexer": "ipython3",
   "version": "3.8.3"
  }
 },
 "nbformat": 4,
 "nbformat_minor": 4
}
