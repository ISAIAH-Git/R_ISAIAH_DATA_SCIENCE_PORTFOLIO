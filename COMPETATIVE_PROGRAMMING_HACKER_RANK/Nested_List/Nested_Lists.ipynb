{
 "cells": [
  {
   "cell_type": "code",
   "execution_count": 4,
   "metadata": {},
   "outputs": [
    {
     "name": "stdout",
     "output_type": "stream",
     "text": [
      "5\n",
      "Harry\n",
      "37.21\n",
      "Berry\n",
      "37.21\n",
      "Tina\n",
      "37.2\n",
      "Akriti\n",
      "41\n",
      "Harsh\n",
      "39\n",
      "Berry\n",
      "Harry\n"
     ]
    }
   ],
   "source": [
    "x=int(input())\n",
    "List=[]\n",
    "j=[]\n",
    "for i in range(x):\n",
    "    y=input()\n",
    "    z=input()\n",
    "    j.append(float(z))\n",
    "    List.append([y,float(z)])\n",
    "j=list(sorted(set(j)))\n",
    "k=[]\n",
    "for i in range(x):\n",
    "    if(List[i][1]==j[1]):\n",
    "        k.append(List[i][0])\n",
    "k=sorted(k)\n",
    "for i in range(len(k)):\n",
    "    print(k[i])"
   ]
  }
 ],
 "metadata": {
  "kernelspec": {
   "display_name": "Python 3",
   "language": "python",
   "name": "python3"
  },
  "language_info": {
   "codemirror_mode": {
    "name": "ipython",
    "version": 3
   },
   "file_extension": ".py",
   "mimetype": "text/x-python",
   "name": "python",
   "nbconvert_exporter": "python",
   "pygments_lexer": "ipython3",
   "version": "3.8.3"
  }
 },
 "nbformat": 4,
 "nbformat_minor": 4
}
