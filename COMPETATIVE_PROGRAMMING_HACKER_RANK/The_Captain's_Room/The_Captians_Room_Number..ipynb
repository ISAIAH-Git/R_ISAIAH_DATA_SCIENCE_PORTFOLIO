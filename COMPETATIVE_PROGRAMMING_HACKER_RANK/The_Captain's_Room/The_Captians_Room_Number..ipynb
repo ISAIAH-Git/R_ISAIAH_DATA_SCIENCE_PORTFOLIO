{
 "cells": [
  {
   "cell_type": "code",
   "execution_count": 26,
   "metadata": {},
   "outputs": [
    {
     "name": "stdout",
     "output_type": "stream",
     "text": [
      "5\n",
      "1 2 3 6 5 4 4 2 5 3 6 1 6 5 3 2 4 1 2 5 1 4 3 6 8 4 3 1 5 6 2\n",
      "8\n",
      "--- 4.954743385314941 seconds ---\n"
     ]
    }
   ],
   "source": [
    "import time \n",
    "start_time = time.time()\n",
    "k=int(input())\n",
    "List=input().split()\n",
    "for i in range(len(List)):\n",
    "    List[i]=int(List[i])\n",
    "total_number_of_guests=len(List)-1\n",
    "List_string=str(List)\n",
    "number_of_room=List_string[1:-1]\n",
    "for i in range(len(number_of_room)):\n",
    "    if((number_of_room.count(number_of_room[i]))==1):\n",
    "        room_of_Captain=number_of_room[i]\n",
    "print(room_of_Captain)\n",
    "print(\"--- %s seconds ---\" % (time.time() - start_time)) "
   ]
  }
 ],
 "metadata": {
  "kernelspec": {
   "display_name": "Python 3",
   "language": "python",
   "name": "python3"
  },
  "language_info": {
   "codemirror_mode": {
    "name": "ipython",
    "version": 3
   },
   "file_extension": ".py",
   "mimetype": "text/x-python",
   "name": "python",
   "nbconvert_exporter": "python",
   "pygments_lexer": "ipython3",
   "version": "3.8.3"
  }
 },
 "nbformat": 4,
 "nbformat_minor": 4
}
