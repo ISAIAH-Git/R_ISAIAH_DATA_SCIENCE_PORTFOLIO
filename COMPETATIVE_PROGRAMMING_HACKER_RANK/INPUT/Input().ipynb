{
 "cells": [
  {
   "cell_type": "code",
   "execution_count": null,
   "metadata": {},
   "outputs": [],
   "source": [
    "x=input().split()\n",
    "y=input().replace('x',x[0])\n",
    "for i in range(len(x)):\n",
    "    x[i]=int(x[i])\n",
    "if(eval(y)==x[1]):\n",
    "    print(True)\n",
    "else:\n",
    "    print(False)"
   ]
  }
 ],
 "metadata": {
  "kernelspec": {
   "display_name": "Python 3",
   "language": "python",
   "name": "python3"
  },
  "language_info": {
   "codemirror_mode": {
    "name": "ipython",
    "version": 3
   },
   "file_extension": ".py",
   "mimetype": "text/x-python",
   "name": "python",
   "nbconvert_exporter": "python",
   "pygments_lexer": "ipython3",
   "version": "3.8.3"
  }
 },
 "nbformat": 4,
 "nbformat_minor": 4
}
