{
 "cells": [
  {
   "cell_type": "code",
   "execution_count": 1,
   "metadata": {},
   "outputs": [
    {
     "name": "stdout",
     "output_type": "stream",
     "text": [
      "9\n",
      "1 2 3 4 5 6 7 8 9\n",
      "10\n",
      "pop\n",
      "remove 9\n",
      "discard 9\n",
      "discard 8\n",
      "remove 7\n",
      "pop\n",
      "discard 6\n",
      "remove 5\n",
      "pop\n",
      "discard 5\n",
      "4\n"
     ]
    }
   ],
   "source": [
    "n = int(input())\n",
    "s = set(map(int, input().split()))\n",
    "operations=int(input())\n",
    "for i in range(operations):\n",
    "    command=input().split(' ')\n",
    "    if(command[0]=='pop' and len(command)==1):\n",
    "        s.pop()\n",
    "    elif(command[0]=='remove' and len(command)==2):\n",
    "        s.remove(int(command[1]))\n",
    "    elif(command[0]=='discard' and len(command)==2):\n",
    "        s.discard(int(command[1]))\n",
    "    else:\n",
    "        continue\n",
    "s=list(s)\n",
    "k=0\n",
    "for i in range(len(s)):\n",
    "    k=s[i]+k\n",
    "print(k)"
   ]
  }
 ],
 "metadata": {
  "kernelspec": {
   "display_name": "Python 3",
   "language": "python",
   "name": "python3"
  },
  "language_info": {
   "codemirror_mode": {
    "name": "ipython",
    "version": 3
   },
   "file_extension": ".py",
   "mimetype": "text/x-python",
   "name": "python",
   "nbconvert_exporter": "python",
   "pygments_lexer": "ipython3",
   "version": "3.8.3"
  }
 },
 "nbformat": 4,
 "nbformat_minor": 4
}
