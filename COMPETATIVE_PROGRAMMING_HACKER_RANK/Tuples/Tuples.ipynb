{
 "cells": [
  {
   "cell_type": "code",
   "execution_count": 7,
   "metadata": {},
   "outputs": [
    {
     "name": "stdout",
     "output_type": "stream",
     "text": [
      "2\n",
      "1 2\n",
      "[1, 2]\n",
      "-3550055125485641917\n"
     ]
    }
   ],
   "source": [
    "x=int(input())\n",
    "k=input().split()\n",
    "for i in range(len(k)):\n",
    "    k[i]=int(k[i])\n",
    "t=tuple(k)\n",
    "print(hash(t))"
   ]
  }
 ],
 "metadata": {
  "kernelspec": {
   "display_name": "Python 3",
   "language": "python",
   "name": "python3"
  }
 },
 "nbformat": 4,
 "nbformat_minor": 4
}
