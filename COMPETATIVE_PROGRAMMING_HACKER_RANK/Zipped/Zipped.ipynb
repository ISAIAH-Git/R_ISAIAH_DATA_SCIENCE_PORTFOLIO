{
 "cells": [
  {
   "cell_type": "code",
   "execution_count": 1,
   "metadata": {},
   "outputs": [
    {
     "name": "stdout",
     "output_type": "stream",
     "text": [
      "5 3\n",
      "89 90 78 93 80\n",
      "[[89.0, 90.0, 78.0, 93.0, 80.0]]\n",
      "90 91 85 88 86 \n",
      "[[89.0, 90.0, 78.0, 93.0, 80.0], [90.0, 91.0, 85.0, 88.0, 86.0]]\n",
      "91 92 83 89 90.5\n",
      "[[89.0, 90.0, 78.0, 93.0, 80.0], [90.0, 91.0, 85.0, 88.0, 86.0], [91.0, 92.0, 83.0, 89.0, 90.5]]\n",
      "[(89.0, 90.0, 91.0), (90.0, 91.0, 92.0), (78.0, 85.0, 83.0), (93.0, 88.0, 89.0), (80.0, 86.0, 90.5)]\n",
      "(89.0, 90.0, 91.0)\n",
      "90.0\n",
      "(90.0, 91.0, 92.0)\n",
      "91.0\n",
      "(78.0, 85.0, 83.0)\n",
      "82.0\n",
      "(93.0, 88.0, 89.0)\n",
      "90.0\n",
      "(80.0, 86.0, 90.5)\n",
      "85.5\n"
     ]
    }
   ],
   "source": [
    "n,x = list(map(int, input().split())) \n",
    "sheet = []\n",
    "for i in range(x):\n",
    "    sheet.append(list(map(float, input().split())))\n",
    "    print(sheet)\n",
    "print(list(zip(*sheet)))\n",
    "for i in zip(*sheet):\n",
    "    print(i)\n",
    "    print(sum(i)/len(i))"
   ]
  }
 ],
 "metadata": {
  "kernelspec": {
   "display_name": "Python 3",
   "language": "python",
   "name": "python3"
  },
  "language_info": {
   "codemirror_mode": {
    "name": "ipython",
    "version": 3
   },
   "file_extension": ".py",
   "mimetype": "text/x-python",
   "name": "python",
   "nbconvert_exporter": "python",
   "pygments_lexer": "ipython3",
   "version": "3.8.3"
  }
 },
 "nbformat": 4,
 "nbformat_minor": 4
}
