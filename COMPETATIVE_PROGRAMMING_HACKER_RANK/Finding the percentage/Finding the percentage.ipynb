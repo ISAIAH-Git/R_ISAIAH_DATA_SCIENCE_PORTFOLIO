{
 "cells": [
  {
   "cell_type": "code",
   "execution_count": 10,
   "metadata": {},
   "outputs": [
    {
     "name": "stdout",
     "output_type": "stream",
     "text": [
      "3\n",
      "Krishna 67 68 69\n",
      "Arjun 70 98 63\n",
      "Malika 52 56 60\n",
      "{'Krishna': 68.0, 'Arjun': 77.0, 'Malika': 56.0}\n",
      "Malika\n",
      "56.00\n"
     ]
    }
   ],
   "source": [
    "x=int(input())\n",
    "K=dict()\n",
    "for i in range(x):\n",
    "    y=input().split()\n",
    "    y[1]=round(float(y[1]),2)\n",
    "    y[2]=round(float(y[2]),2)\n",
    "    y[3]=round(float(y[3]),2)\n",
    "    K[y[0]]=float((y[1]+y[2]+y[3])/3)\n",
    "print(K)\n",
    "name=input()\n",
    "print(\"{:.2f}\".format(K[name]))"
   ]
  }
 ],
 "metadata": {
  "kernelspec": {
   "display_name": "Python 3",
   "language": "python",
   "name": "python3"
  }
 },
 "nbformat": 4,
 "nbformat_minor": 4
}
