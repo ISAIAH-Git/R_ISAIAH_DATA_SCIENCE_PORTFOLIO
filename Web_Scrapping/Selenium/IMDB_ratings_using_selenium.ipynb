{
 "cells": [
  {
   "cell_type": "code",
   "execution_count": 184,
   "metadata": {},
   "outputs": [],
   "source": [
    "from selenium import webdriver\n",
    "browser=webdriver.Chrome()\n",
    "browser.get('https://www.imdb.com/chart/moviemeter/')"
   ]
  },
  {
   "cell_type": "code",
   "execution_count": 185,
   "metadata": {},
   "outputs": [
    {
     "data": {
      "text/plain": [
       "'7.1'"
      ]
     },
     "execution_count": 185,
     "metadata": {},
     "output_type": "execute_result"
    }
   ],
   "source": [
    "table=browser.find_elements_by_tag_name('td')\n",
    "table[7].text"
   ]
  },
  {
   "cell_type": "code",
   "execution_count": 186,
   "metadata": {},
   "outputs": [
    {
     "data": {
      "text/plain": [
       "500"
      ]
     },
     "execution_count": 186,
     "metadata": {},
     "output_type": "execute_result"
    }
   ],
   "source": [
    "len(table)"
   ]
  },
  {
   "cell_type": "code",
   "execution_count": 187,
   "metadata": {},
   "outputs": [
    {
     "name": "stdout",
     "output_type": "stream",
     "text": [
      "100\n"
     ]
    }
   ],
   "source": [
    "MOVIES=[]\n",
    "for i in range(1,500,5):\n",
    "    Index=table[i].text.find('(')\n",
    "    MOVIES.append(table[i].text[:Index].strip(' '))\n",
    "MOVIES\n",
    "print(len(MOVIES))"
   ]
  },
  {
   "cell_type": "code",
   "execution_count": 188,
   "metadata": {},
   "outputs": [
    {
     "data": {
      "text/plain": [
       "'7.1'"
      ]
     },
     "execution_count": 188,
     "metadata": {},
     "output_type": "execute_result"
    }
   ],
   "source": [
    "r=browser.find_elements_by_tag_name('td')\n",
    "r[7].text"
   ]
  },
  {
   "cell_type": "code",
   "execution_count": 189,
   "metadata": {},
   "outputs": [
    {
     "data": {
      "text/plain": [
       "500"
      ]
     },
     "execution_count": 189,
     "metadata": {},
     "output_type": "execute_result"
    }
   ],
   "source": [
    "len(r)"
   ]
  },
  {
   "cell_type": "code",
   "execution_count": 191,
   "metadata": {},
   "outputs": [
    {
     "name": "stdout",
     "output_type": "stream",
     "text": [
      "[6.7, 7.1, 7.8, 8.7, 5.5, 7.2, 7.8, 5.4, nan, 7.3, 6.7, 5.9, 2.8, 5.4, 7.1, 4.4, 6.2, 3.3, 7.1, 7.9, nan, 7.9, 5.3, 5.6, 6.6, 6.3, nan, 6.2, 6.3, 6.5, 5.5, nan, 8.5, 7.6, 8.4, 5.4, nan, 8.6, 6.2, 8.6, 7.6, 9.0, 7.1, 5.7, 8.7, 8.8, 7.3, 5.2, 9.3, 6.2, 8.1, 6.5, 4.4, 7.9, 6.6, 6.7, 6.2, nan, 7.8, 5.2, 8.2, 6.6, 8.6, 6.9, 5.3, 7.4, 7.5, 6.0, 6.8, 9.2, 7.1, 7.6, nan, 6.1, 8.5, 8.5, 8.9, 6.5, 8.3, 8.0, 8.1, 6.1, 8.0, 8.4, 5.5, 7.8, 7.6, 6.6, 7.7, 7.8, 5.2, 8.7, 8.2, 7.8, 6.6, 6.1, 8.6, 7.5, 7.6, 5.4]\n",
      "100\n"
     ]
    }
   ],
   "source": [
    "import numpy as np\n",
    "RATINGS=[]\n",
    "for i in range(2,500,5):\n",
    "    if(r[i].text==''):\n",
    "        RATINGS.append(np.nan)\n",
    "    else:\n",
    "        RATINGS.append(float(r[i].text))\n",
    "print(RATINGS)\n",
    "print(len(RATINGS))"
   ]
  },
  {
   "cell_type": "code",
   "execution_count": 192,
   "metadata": {},
   "outputs": [
    {
     "name": "stdout",
     "output_type": "stream",
     "text": [
      "(2020)\n",
      "500\n"
     ]
    }
   ],
   "source": [
    "k=browser.find_elements_by_tag_name('td')\n",
    "Index=k[6].text.find('(')\n",
    "print(k[6].text[Index:Index+6])\n",
    "print(len(k))"
   ]
  },
  {
   "cell_type": "code",
   "execution_count": 194,
   "metadata": {},
   "outputs": [
    {
     "name": "stdout",
     "output_type": "stream",
     "text": [
      "['(2020)', '(2020)', '(2020)', '(1975)', '(2020)', '(1982)', '(2020)', '(2020)', '(2020)', '(1984)', '(2020)', '(2020)', '(2020)', '(2020)', '(2020)', '(2020)', '(2020)', '(2020)', '(2018)', '(2019)', '(2020)', '(2019)', '(2020)', '(2020)', '(2020)', '(2017)', '(2020)', '(2020)', '(2016)', '(1984)', '(2020)', '(2021)', '(2019)', '(2001)', '(2019)', '(2020)', '(2021)', '(2014)', '(2019)', '(2019)', '(2019)', '(2008)', '(2017)', '(2019)', '(2020)', '(2010)', '(2018)', '(2018)', '(1994)', '(2020)', '(2019)', '(2020)', '(2020)', '(2019)', '(2020)', '(2020)', '(2020)', '(2021)', '(1985)', '(1989)', '(2013)', '(2019)', '(1995)', '(1993)', '(2019)', '(2019)', '(2019)', '(2020)', '(2019)', '(1972)', '(2019)', '(2009)', '(2020)', '(2020)', '(2020)', '(1985)', '(1994)', '(2020)', '(2019)', '(2014)', '(2015)', '(2020)', '(2017)', '(2012)', '(2020)', '(2005)', '(2019)', '(2019)', '(2007)', '(2019)', '(2008)', '(1990)', '(2020)', '(1997)', '(2020)', '(2015)', '(1991)', '(1988)', '(1998)', '(2020)']\n"
     ]
    },
    {
     "data": {
      "text/plain": [
       "100"
      ]
     },
     "execution_count": 194,
     "metadata": {},
     "output_type": "execute_result"
    }
   ],
   "source": [
    "YEAR=[]\n",
    "for i in range(1,500,5):\n",
    "    Index=k[i].text.find('(')\n",
    "    YEAR.append(k[i].text[Index:Index+6])\n",
    "print(YEAR)\n",
    "len(YEAR)"
   ]
  },
  {
   "cell_type": "code",
   "execution_count": 221,
   "metadata": {},
   "outputs": [
    {
     "data": {
      "text/plain": [
       "'8.7 based on 896,546 user ratings'"
      ]
     },
     "execution_count": 221,
     "metadata": {},
     "output_type": "execute_result"
    }
   ],
   "source": [
    "k=browser.find_element_by_class_name('lister-list')\n",
    "o=k.find_elements_by_tag_name('tr')\n",
    "o[3].find_elements_by_tag_name('strong')[0].get_attribute('title')"
   ]
  },
  {
   "cell_type": "code",
   "execution_count": null,
   "metadata": {},
   "outputs": [],
   "source": [
    "<td class=\"ratingColumn imdbRating\">\n",
    "            <strong title=\"5.4 based on 57,024 user ratings\">5.4</strong>\n",
    "    </td>"
   ]
  },
  {
   "cell_type": "code",
   "execution_count": 286,
   "metadata": {},
   "outputs": [
    {
     "data": {
      "text/plain": [
       "'6.7 based on 51,551 user ratings'"
      ]
     },
     "execution_count": 286,
     "metadata": {},
     "output_type": "execute_result"
    }
   ],
   "source": [
    "k=browser.find_elements_by_tag_name(\"tr\")\n",
    "In=k[1].find_element_by_tag_name('strong').get_attribute('title').find('n')\n",
    "I=k[1].find_element_by_tag_name('strong').get_attribute('title').find('u')\n",
    "k[1].find_element_by_tag_name('strong').get_attribute('title')[In+1:I]\n",
    "k[1].find_element_by_tag_name('strong').get_attribute('title')[:]"
   ]
  },
  {
   "cell_type": "code",
   "execution_count": 287,
   "metadata": {},
   "outputs": [
    {
     "data": {
      "text/plain": [
       "101"
      ]
     },
     "execution_count": 287,
     "metadata": {},
     "output_type": "execute_result"
    }
   ],
   "source": [
    "len(k)"
   ]
  },
  {
   "cell_type": "code",
   "execution_count": 331,
   "metadata": {},
   "outputs": [
    {
     "name": "stdout",
     "output_type": "stream",
     "text": [
      "6.7 based on 51,551 user ratings\n",
      "7.1 based on 45,410 user ratings\n",
      "7.8 based on 120,912 user ratings\n",
      "8.7 based on 896,546 user ratings\n",
      "5.5 based on 6,527 user ratings\n",
      "7.2 based on 91,971 user ratings\n",
      "7.8 based on 29,217 user ratings\n",
      "5.4 based on 57,039 user ratings\n",
      "7.3 based on 178,853 user ratings\n",
      "6.7 based on 37,834 user ratings\n",
      "5.9 based on 16,579 user ratings\n",
      "2.8 based on 22,652 user ratings\n",
      "5.4 based on 4,390 user ratings\n",
      "7.1 based on 135,316 user ratings\n",
      "4.4 based on 1,234 user ratings\n",
      "6.2 based on 18,803 user ratings\n",
      "3.3 based on 38,425 user ratings\n",
      "7.1 based on 23,693 user ratings\n",
      "7.9 based on 187,332 user ratings\n",
      "7.9 based on 393,571 user ratings\n",
      "5.3 based on 12,488 user ratings\n",
      "5.6 based on 4,820 user ratings\n",
      "6.6 based on 245 user ratings\n",
      "6.3 based on 66,730 user ratings\n",
      "6.2 based on 1,990 user ratings\n",
      "6.3 based on 36,233 user ratings\n",
      "6.5 based on 124,097 user ratings\n",
      "5.5 based on 11,633 user ratings\n",
      "8.5 based on 872,321 user ratings\n",
      "7.6 based on 629,984 user ratings\n",
      "8.4 based on 765,705 user ratings\n",
      "5.4 based on 2,052 user ratings\n",
      "8.6 based on 1,461,522 user ratings\n",
      "6.2 based on 136,097 user ratings\n",
      "8.6 based on 484,926 user ratings\n",
      "7.6 based on 515,655 user ratings\n",
      "9.0 based on 2,253,549 user ratings\n",
      "7.1 based on 265,996 user ratings\n",
      "5.7 based on 77,955 user ratings\n",
      "8.7 based on 41,948 user ratings\n",
      "8.8 based on 2,015,662 user ratings\n",
      "7.3 based on 607,649 user ratings\n",
      "5.2 based on 103 user ratings\n",
      "9.3 based on 2,288,488 user ratings\n",
      "6.2 based on 15,495 user ratings\n",
      "8.1 based on 261,100 user ratings\n",
      "6.5 based on 3,073 user ratings\n",
      "4.4 based on 1,060 user ratings\n",
      "7.9 based on 262,172 user ratings\n",
      "6.6 based on 75 user ratings\n",
      "6.7 based on 106,292 user ratings\n",
      "6.2 based on 6,839 user ratings\n",
      "7.8 based on 238,963 user ratings\n",
      "5.2 based on 49,839 user ratings\n",
      "8.2 based on 1,148,084 user ratings\n",
      "6.6 based on 678 user ratings\n",
      "8.6 based on 1,408,851 user ratings\n",
      "6.9 based on 91,506 user ratings\n",
      "5.3 based on 32,441 user ratings\n",
      "7.4 based on 126,630 user ratings\n",
      "7.5 based on 124,919 user ratings\n",
      "6.0 based on 55,401 user ratings\n",
      "6.8 based on 73,135 user ratings\n",
      "9.2 based on 1,579,625 user ratings\n",
      "7.1 based on 180,527 user ratings\n",
      "7.6 based on 493,113 user ratings\n",
      "6.1 based on 143,325 user ratings\n",
      "8.5 based on 4,882 user ratings\n",
      "8.5 based on 1,032,572 user ratings\n",
      "8.9 based on 1,787,467 user ratings\n",
      "6.5 based on 424 user ratings\n",
      "8.3 based on 372,081 user ratings\n",
      "8.0 based on 1,026,488 user ratings\n",
      "8.1 based on 360,008 user ratings\n",
      "6.1 based on 13,042 user ratings\n",
      "8.0 based on 444,520 user ratings\n",
      "8.4 based on 1,487,109 user ratings\n",
      "5.5 based on 8,564 user ratings\n",
      "7.8 based on 250,131 user ratings\n",
      "7.6 based on 55,665 user ratings\n",
      "6.6 based on 351,325 user ratings\n",
      "7.7 based on 448,683 user ratings\n",
      "7.8 based on 125,658 user ratings\n",
      "5.2 based on 419,548 user ratings\n",
      "8.7 based on 996,242 user ratings\n",
      "8.2 based on 572 user ratings\n",
      "7.8 based on 1,026,353 user ratings\n",
      "6.6 based on 114,891 user ratings\n",
      "6.1 based on 46,322 user ratings\n",
      "8.6 based on 1,240,032 user ratings\n",
      "7.5 based on 253,127 user ratings\n",
      "7.6 based on 249,731 user ratings\n",
      "5.4 based on 3,912 user ratings\n"
     ]
    }
   ],
   "source": [
    "k=browser.find_elements_by_tag_name(\"tr\")\n",
    "VOTES=[]\n",
    "for i in range(1,101):\n",
    "    try:\n",
    "        In=k[i].find_element_by_tag_name('strong').get_attribute('title').find('n')\n",
    "        I=k[i].find_element_by_tag_name('strong').get_attribute('title').find('u')\n",
    "        print(k[i].find_element_by_tag_name('strong').get_attribute('title')[:])\n",
    "        VOTES.append(k[i].find_element_by_tag_name('strong').get_attribute('title')[In+1:I])\n",
    "    except:\n",
    "            VOTES.append(np.nan)"
   ]
  },
  {
   "cell_type": "code",
   "execution_count": 332,
   "metadata": {},
   "outputs": [
    {
     "name": "stdout",
     "output_type": "stream",
     "text": [
      "100\n"
     ]
    }
   ],
   "source": [
    "print(len(VOTES))"
   ]
  },
  {
   "cell_type": "code",
   "execution_count": 333,
   "metadata": {},
   "outputs": [
    {
     "data": {
      "text/plain": [
       "[' 51,551 ',\n",
       " ' 45,410 ',\n",
       " ' 120,912 ',\n",
       " ' 896,546 ',\n",
       " ' 6,527 ',\n",
       " ' 91,971 ',\n",
       " ' 29,217 ',\n",
       " ' 57,039 ',\n",
       " nan,\n",
       " ' 178,853 ',\n",
       " ' 37,834 ',\n",
       " ' 16,579 ',\n",
       " ' 22,652 ',\n",
       " ' 4,390 ',\n",
       " ' 135,316 ',\n",
       " ' 1,234 ',\n",
       " ' 18,803 ',\n",
       " ' 38,425 ',\n",
       " ' 23,693 ',\n",
       " ' 187,332 ',\n",
       " nan,\n",
       " ' 393,571 ',\n",
       " ' 12,488 ',\n",
       " ' 4,820 ',\n",
       " ' 245 ',\n",
       " ' 66,730 ',\n",
       " nan,\n",
       " ' 1,990 ',\n",
       " ' 36,233 ',\n",
       " ' 124,097 ',\n",
       " ' 11,633 ',\n",
       " nan,\n",
       " ' 872,321 ',\n",
       " ' 629,984 ',\n",
       " ' 765,705 ',\n",
       " ' 2,052 ',\n",
       " nan,\n",
       " ' 1,461,522 ',\n",
       " ' 136,097 ',\n",
       " ' 484,926 ',\n",
       " ' 515,655 ',\n",
       " ' 2,253,549 ',\n",
       " ' 265,996 ',\n",
       " ' 77,955 ',\n",
       " ' 41,948 ',\n",
       " ' 2,015,662 ',\n",
       " ' 607,649 ',\n",
       " ' 103 ',\n",
       " ' 2,288,488 ',\n",
       " ' 15,495 ',\n",
       " ' 261,100 ',\n",
       " ' 3,073 ',\n",
       " ' 1,060 ',\n",
       " ' 262,172 ',\n",
       " ' 75 ',\n",
       " ' 106,292 ',\n",
       " ' 6,839 ',\n",
       " nan,\n",
       " ' 238,963 ',\n",
       " ' 49,839 ',\n",
       " ' 1,148,084 ',\n",
       " ' 678 ',\n",
       " ' 1,408,851 ',\n",
       " ' 91,506 ',\n",
       " ' 32,441 ',\n",
       " ' 126,630 ',\n",
       " ' 124,919 ',\n",
       " ' 55,401 ',\n",
       " ' 73,135 ',\n",
       " ' 1,579,625 ',\n",
       " ' 180,527 ',\n",
       " ' 493,113 ',\n",
       " nan,\n",
       " ' 143,325 ',\n",
       " ' 4,882 ',\n",
       " ' 1,032,572 ',\n",
       " ' 1,787,467 ',\n",
       " ' 424 ',\n",
       " ' 372,081 ',\n",
       " ' 1,026,488 ',\n",
       " ' 360,008 ',\n",
       " ' 13,042 ',\n",
       " ' 444,520 ',\n",
       " ' 1,487,109 ',\n",
       " ' 8,564 ',\n",
       " ' 250,131 ',\n",
       " ' 55,665 ',\n",
       " ' 351,325 ',\n",
       " ' 448,683 ',\n",
       " ' 125,658 ',\n",
       " ' 419,548 ',\n",
       " ' 996,242 ',\n",
       " ' 572 ',\n",
       " ' 1,026,353 ',\n",
       " ' 114,891 ',\n",
       " ' 46,322 ',\n",
       " ' 1,240,032 ',\n",
       " ' 253,127 ',\n",
       " ' 249,731 ',\n",
       " ' 3,912 ']"
      ]
     },
     "execution_count": 333,
     "metadata": {},
     "output_type": "execute_result"
    }
   ],
   "source": [
    "VOTES"
   ]
  },
  {
   "cell_type": "code",
   "execution_count": 341,
   "metadata": {},
   "outputs": [
    {
     "data": {
      "text/html": [
       "<div>\n",
       "<style scoped>\n",
       "    .dataframe tbody tr th:only-of-type {\n",
       "        vertical-align: middle;\n",
       "    }\n",
       "\n",
       "    .dataframe tbody tr th {\n",
       "        vertical-align: top;\n",
       "    }\n",
       "\n",
       "    .dataframe thead th {\n",
       "        text-align: right;\n",
       "    }\n",
       "</style>\n",
       "<table border=\"1\" class=\"dataframe\">\n",
       "  <thead>\n",
       "    <tr style=\"text-align: right;\">\n",
       "      <th></th>\n",
       "      <th>Name</th>\n",
       "      <th>Ratings</th>\n",
       "      <th>Year</th>\n",
       "      <th>VOTES</th>\n",
       "    </tr>\n",
       "  </thead>\n",
       "  <tbody>\n",
       "    <tr>\n",
       "      <th>0</th>\n",
       "      <td>Enola Holmes</td>\n",
       "      <td>6.7</td>\n",
       "      <td>(2020)</td>\n",
       "      <td>51,551</td>\n",
       "    </tr>\n",
       "    <tr>\n",
       "      <th>1</th>\n",
       "      <td>The Devil All the Time</td>\n",
       "      <td>7.1</td>\n",
       "      <td>(2020)</td>\n",
       "      <td>45,410</td>\n",
       "    </tr>\n",
       "    <tr>\n",
       "      <th>2</th>\n",
       "      <td>Tenet</td>\n",
       "      <td>7.8</td>\n",
       "      <td>(2020)</td>\n",
       "      <td>120,912</td>\n",
       "    </tr>\n",
       "    <tr>\n",
       "      <th>3</th>\n",
       "      <td>One Flew Over the Cuckoo's Nest</td>\n",
       "      <td>8.7</td>\n",
       "      <td>(1975)</td>\n",
       "      <td>896,546</td>\n",
       "    </tr>\n",
       "    <tr>\n",
       "      <th>4</th>\n",
       "      <td>Antebellum</td>\n",
       "      <td>5.5</td>\n",
       "      <td>(2020)</td>\n",
       "      <td>6,527</td>\n",
       "    </tr>\n",
       "    <tr>\n",
       "      <th>5</th>\n",
       "      <td>Fast Times at Ridgemont High</td>\n",
       "      <td>7.2</td>\n",
       "      <td>(1982)</td>\n",
       "      <td>91,971</td>\n",
       "    </tr>\n",
       "    <tr>\n",
       "      <th>6</th>\n",
       "      <td>The Social Dilemma</td>\n",
       "      <td>7.8</td>\n",
       "      <td>(2020)</td>\n",
       "      <td>29,217</td>\n",
       "    </tr>\n",
       "    <tr>\n",
       "      <th>7</th>\n",
       "      <td>Mulan</td>\n",
       "      <td>5.4</td>\n",
       "      <td>(2020)</td>\n",
       "      <td>57,039</td>\n",
       "    </tr>\n",
       "    <tr>\n",
       "      <th>8</th>\n",
       "      <td>Dune</td>\n",
       "      <td>NaN</td>\n",
       "      <td>(2020)</td>\n",
       "      <td>NaN</td>\n",
       "    </tr>\n",
       "    <tr>\n",
       "      <th>9</th>\n",
       "      <td>The Karate Kid</td>\n",
       "      <td>7.3</td>\n",
       "      <td>(1984)</td>\n",
       "      <td>178,853</td>\n",
       "    </tr>\n",
       "    <tr>\n",
       "      <th>10</th>\n",
       "      <td>I'm Thinking of Ending Things</td>\n",
       "      <td>6.7</td>\n",
       "      <td>(2020)</td>\n",
       "      <td>37,834</td>\n",
       "    </tr>\n",
       "    <tr>\n",
       "      <th>11</th>\n",
       "      <td>The Babysitter: Killer Queen</td>\n",
       "      <td>5.9</td>\n",
       "      <td>(2020)</td>\n",
       "      <td>16,579</td>\n",
       "    </tr>\n",
       "    <tr>\n",
       "      <th>12</th>\n",
       "      <td>Cuties</td>\n",
       "      <td>2.8</td>\n",
       "      <td>(2020)</td>\n",
       "      <td>22,652</td>\n",
       "    </tr>\n",
       "    <tr>\n",
       "      <th>13</th>\n",
       "      <td>After We Collided</td>\n",
       "      <td>5.4</td>\n",
       "      <td>(2020)</td>\n",
       "      <td>4,390</td>\n",
       "    </tr>\n",
       "    <tr>\n",
       "      <th>14</th>\n",
       "      <td>The Invisible Man</td>\n",
       "      <td>7.1</td>\n",
       "      <td>(2020)</td>\n",
       "      <td>135,316</td>\n",
       "    </tr>\n",
       "    <tr>\n",
       "      <th>15</th>\n",
       "      <td>Lost Girls and Love Hotels</td>\n",
       "      <td>4.4</td>\n",
       "      <td>(2020)</td>\n",
       "      <td>1,234</td>\n",
       "    </tr>\n",
       "    <tr>\n",
       "      <th>16</th>\n",
       "      <td>Bill &amp; Ted Face the Music</td>\n",
       "      <td>6.2</td>\n",
       "      <td>(2020)</td>\n",
       "      <td>18,803</td>\n",
       "    </tr>\n",
       "    <tr>\n",
       "      <th>17</th>\n",
       "      <td>365 Days</td>\n",
       "      <td>3.3</td>\n",
       "      <td>(2020)</td>\n",
       "      <td>38,425</td>\n",
       "    </tr>\n",
       "    <tr>\n",
       "      <th>18</th>\n",
       "      <td>On the Basis of Sex</td>\n",
       "      <td>7.1</td>\n",
       "      <td>(2018)</td>\n",
       "      <td>23,693</td>\n",
       "    </tr>\n",
       "    <tr>\n",
       "      <th>19</th>\n",
       "      <td>The Gentlemen</td>\n",
       "      <td>7.9</td>\n",
       "      <td>(2019)</td>\n",
       "      <td>187,332</td>\n",
       "    </tr>\n",
       "    <tr>\n",
       "      <th>20</th>\n",
       "      <td>The Croods: A New Age</td>\n",
       "      <td>NaN</td>\n",
       "      <td>(2020)</td>\n",
       "      <td>NaN</td>\n",
       "    </tr>\n",
       "    <tr>\n",
       "      <th>21</th>\n",
       "      <td>Knives Out</td>\n",
       "      <td>7.9</td>\n",
       "      <td>(2019)</td>\n",
       "      <td>393,571</td>\n",
       "    </tr>\n",
       "    <tr>\n",
       "      <th>22</th>\n",
       "      <td>Ava</td>\n",
       "      <td>5.3</td>\n",
       "      <td>(2020)</td>\n",
       "      <td>12,488</td>\n",
       "    </tr>\n",
       "    <tr>\n",
       "      <th>23</th>\n",
       "      <td>The Paramedic</td>\n",
       "      <td>5.6</td>\n",
       "      <td>(2020)</td>\n",
       "      <td>4,820</td>\n",
       "    </tr>\n",
       "    <tr>\n",
       "      <th>24</th>\n",
       "      <td>The Trial of the Chicago 7</td>\n",
       "      <td>6.6</td>\n",
       "      <td>(2020)</td>\n",
       "      <td>245</td>\n",
       "    </tr>\n",
       "    <tr>\n",
       "      <th>25</th>\n",
       "      <td>The Babysitter</td>\n",
       "      <td>6.3</td>\n",
       "      <td>(2017)</td>\n",
       "      <td>66,730</td>\n",
       "    </tr>\n",
       "    <tr>\n",
       "      <th>26</th>\n",
       "      <td>No Time to Die</td>\n",
       "      <td>NaN</td>\n",
       "      <td>(2020)</td>\n",
       "      <td>NaN</td>\n",
       "    </tr>\n",
       "    <tr>\n",
       "      <th>27</th>\n",
       "      <td>Alone</td>\n",
       "      <td>6.2</td>\n",
       "      <td>(2020)</td>\n",
       "      <td>1,990</td>\n",
       "    </tr>\n",
       "    <tr>\n",
       "      <th>28</th>\n",
       "      <td>The Take</td>\n",
       "      <td>6.3</td>\n",
       "      <td>(2016)</td>\n",
       "      <td>36,233</td>\n",
       "    </tr>\n",
       "    <tr>\n",
       "      <th>29</th>\n",
       "      <td>Dune</td>\n",
       "      <td>6.5</td>\n",
       "      <td>(1984)</td>\n",
       "      <td>124,097</td>\n",
       "    </tr>\n",
       "  </tbody>\n",
       "</table>\n",
       "</div>"
      ],
      "text/plain": [
       "                               Name  Ratings    Year      VOTES\n",
       "0                      Enola Holmes      6.7  (2020)    51,551 \n",
       "1            The Devil All the Time      7.1  (2020)    45,410 \n",
       "2                             Tenet      7.8  (2020)   120,912 \n",
       "3   One Flew Over the Cuckoo's Nest      8.7  (1975)   896,546 \n",
       "4                        Antebellum      5.5  (2020)     6,527 \n",
       "5      Fast Times at Ridgemont High      7.2  (1982)    91,971 \n",
       "6                The Social Dilemma      7.8  (2020)    29,217 \n",
       "7                             Mulan      5.4  (2020)    57,039 \n",
       "8                              Dune      NaN  (2020)        NaN\n",
       "9                    The Karate Kid      7.3  (1984)   178,853 \n",
       "10    I'm Thinking of Ending Things      6.7  (2020)    37,834 \n",
       "11     The Babysitter: Killer Queen      5.9  (2020)    16,579 \n",
       "12                           Cuties      2.8  (2020)    22,652 \n",
       "13                After We Collided      5.4  (2020)     4,390 \n",
       "14                The Invisible Man      7.1  (2020)   135,316 \n",
       "15       Lost Girls and Love Hotels      4.4  (2020)     1,234 \n",
       "16        Bill & Ted Face the Music      6.2  (2020)    18,803 \n",
       "17                         365 Days      3.3  (2020)    38,425 \n",
       "18              On the Basis of Sex      7.1  (2018)    23,693 \n",
       "19                    The Gentlemen      7.9  (2019)   187,332 \n",
       "20            The Croods: A New Age      NaN  (2020)        NaN\n",
       "21                       Knives Out      7.9  (2019)   393,571 \n",
       "22                              Ava      5.3  (2020)    12,488 \n",
       "23                    The Paramedic      5.6  (2020)     4,820 \n",
       "24       The Trial of the Chicago 7      6.6  (2020)       245 \n",
       "25                   The Babysitter      6.3  (2017)    66,730 \n",
       "26                   No Time to Die      NaN  (2020)        NaN\n",
       "27                            Alone      6.2  (2020)     1,990 \n",
       "28                         The Take      6.3  (2016)    36,233 \n",
       "29                             Dune      6.5  (1984)   124,097 "
      ]
     },
     "execution_count": 341,
     "metadata": {},
     "output_type": "execute_result"
    }
   ],
   "source": [
    "IMDB_RATINGS=pd.DataFrame({\"Name\":MOVIES,\"Ratings\":RATINGS,\"Year\":YEAR,\"VOTES\":VOTES})\n",
    "IMDB_RATINGS.head(30)"
   ]
  },
  {
   "cell_type": "code",
   "execution_count": 337,
   "metadata": {},
   "outputs": [],
   "source": [
    "IMDB_RATINGS.to_csv('IMDB')"
   ]
  },
  {
   "cell_type": "code",
   "execution_count": null,
   "metadata": {},
   "outputs": [],
   "source": []
  }
 ],
 "metadata": {
  "kernelspec": {
   "display_name": "Python 3",
   "language": "python",
   "name": "python3"
  },
  "language_info": {
   "codemirror_mode": {
    "name": "ipython",
    "version": 3
   },
   "file_extension": ".py",
   "mimetype": "text/x-python",
   "name": "python",
   "nbconvert_exporter": "python",
   "pygments_lexer": "ipython3",
   "version": "3.8.3"
  }
 },
 "nbformat": 4,
 "nbformat_minor": 4
}
