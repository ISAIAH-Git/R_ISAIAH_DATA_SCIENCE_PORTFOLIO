{
 "cells": [
  {
   "cell_type": "code",
   "execution_count": 1,
   "metadata": {},
   "outputs": [],
   "source": [
    "import requests\n",
    "from bs4 import BeautifulSoup\n",
    "url='https://ca.linkedin.com/jobs/search?keywords=Data%2BAnalysis&location=Secunder%C4%81b%C4%81d%2C%2BTelangana%2C%2BIndia&trk=homepage-jobseeker_jobs-search-bar_search-submit&currentJobId=2151213689&position=2&pageNum=0'\n",
    "page=requests.get(url)\n",
    "soup=BeautifulSoup(page.content,'html.parser')"
   ]
  },
  {
   "cell_type": "code",
   "execution_count": 2,
   "metadata": {},
   "outputs": [],
   "source": [
    "results=soup.find_all('span',class_='screen-reader-text')"
   ]
  },
  {
   "cell_type": "code",
   "execution_count": 3,
   "metadata": {},
   "outputs": [
    {
     "name": "stdout",
     "output_type": "stream",
     "text": [
      "25\n"
     ]
    }
   ],
   "source": [
    "print(len(results))"
   ]
  },
  {
   "cell_type": "code",
   "execution_count": 4,
   "metadata": {},
   "outputs": [
    {
     "data": {
      "text/plain": [
       "'Data Analyst'"
      ]
     },
     "execution_count": 4,
     "metadata": {},
     "output_type": "execute_result"
    }
   ],
   "source": [
    "results[0].text"
   ]
  },
  {
   "cell_type": "code",
   "execution_count": 5,
   "metadata": {},
   "outputs": [
    {
     "name": "stdout",
     "output_type": "stream",
     "text": [
      "23\n"
     ]
    }
   ],
   "source": [
    "ROLES=[]\n",
    "for i in range(0,23):\n",
    "    ROLES.append(results[i].text)\n",
    "ROLES\n",
    "print(len(ROLES))"
   ]
  },
  {
   "cell_type": "code",
   "execution_count": 6,
   "metadata": {},
   "outputs": [
    {
     "name": "stdout",
     "output_type": "stream",
     "text": [
      "23\n"
     ]
    }
   ],
   "source": [
    "print(len(ROLES))"
   ]
  },
  {
   "cell_type": "code",
   "execution_count": 7,
   "metadata": {},
   "outputs": [
    {
     "name": "stdout",
     "output_type": "stream",
     "text": [
      "25\n"
     ]
    }
   ],
   "source": [
    "links=soup.find_all('a',class_='result-card__full-card-link')\n",
    "print(len(links))"
   ]
  },
  {
   "cell_type": "code",
   "execution_count": 8,
   "metadata": {},
   "outputs": [],
   "source": [
    "link=[]\n",
    "for i in range(0,23):\n",
    "    link.append(links[1]['href'])"
   ]
  },
  {
   "cell_type": "code",
   "execution_count": 9,
   "metadata": {},
   "outputs": [
    {
     "name": "stdout",
     "output_type": "stream",
     "text": [
      "23\n"
     ]
    }
   ],
   "source": [
    "print(len(link))"
   ]
  },
  {
   "cell_type": "code",
   "execution_count": 10,
   "metadata": {},
   "outputs": [
    {
     "data": {
      "text/plain": [
       "'PINKERTON | Comprehensive Risk Management'"
      ]
     },
     "execution_count": 10,
     "metadata": {},
     "output_type": "execute_result"
    }
   ],
   "source": [
    "COMPANY=soup.find_all('a',class_='result-card__subtitle-link job-result-card__subtitle-link')\n",
    "COMPANY[22].text"
   ]
  },
  {
   "cell_type": "code",
   "execution_count": 11,
   "metadata": {},
   "outputs": [
    {
     "data": {
      "text/plain": [
       "24"
      ]
     },
     "execution_count": 11,
     "metadata": {},
     "output_type": "execute_result"
    }
   ],
   "source": [
    "len(COMPANY)"
   ]
  },
  {
   "cell_type": "code",
   "execution_count": 12,
   "metadata": {},
   "outputs": [
    {
     "data": {
      "text/plain": [
       "['TouchNote',\n",
       " 'Compass',\n",
       " 'Uber',\n",
       " 'Rossignol Group',\n",
       " 'Deloitte India (Offices of the US)',\n",
       " 'Mordor Intelligence',\n",
       " 'JPMorgan Chase & Co.',\n",
       " 'PloPdo',\n",
       " 'Google',\n",
       " 'Accenture in India',\n",
       " 'Microsoft',\n",
       " 'Dynata',\n",
       " 'Ivy',\n",
       " 'RB',\n",
       " 'J.P. Morgan',\n",
       " 'Creative Hands HR Consultancy',\n",
       " 'MedTourEasy',\n",
       " 'BuzzBoard',\n",
       " 'GE Appliances, a Haier company',\n",
       " 'Epiq',\n",
       " 'Amazon',\n",
       " 'Ryan',\n",
       " 'PINKERTON | Comprehensive Risk Management']"
      ]
     },
     "execution_count": 12,
     "metadata": {},
     "output_type": "execute_result"
    }
   ],
   "source": [
    "COMPANIES=[]\n",
    "for i in range(0,23):\n",
    "    COMPANIES.append(COMPANY[i].text)\n",
    "COMPANIES"
   ]
  },
  {
   "cell_type": "code",
   "execution_count": 13,
   "metadata": {},
   "outputs": [
    {
     "name": "stdout",
     "output_type": "stream",
     "text": [
      "23\n"
     ]
    }
   ],
   "source": [
    "print(len(COMPANIES))"
   ]
  },
  {
   "cell_type": "code",
   "execution_count": 14,
   "metadata": {},
   "outputs": [
    {
     "name": "stdout",
     "output_type": "stream",
     "text": [
      "25\n"
     ]
    }
   ],
   "source": [
    "L=soup.find_all('span',class_=\"job-result-card__location\")\n",
    "L\n",
    "print(len(L))"
   ]
  },
  {
   "cell_type": "code",
   "execution_count": 15,
   "metadata": {},
   "outputs": [
    {
     "data": {
      "text/plain": [
       "'Hyderabad, Telangana, India'"
      ]
     },
     "execution_count": 15,
     "metadata": {},
     "output_type": "execute_result"
    }
   ],
   "source": [
    "L[1].text"
   ]
  },
  {
   "cell_type": "code",
   "execution_count": 16,
   "metadata": {},
   "outputs": [
    {
     "data": {
      "text/plain": [
       "['Hyderabad, Telangana, India',\n",
       " 'Hyderabad, Telangana, India',\n",
       " 'Hyderabad, Telangana, India',\n",
       " 'Hyderabad, Telangana, India',\n",
       " 'Hyderabad, Telangana, India',\n",
       " 'Hyderabad, Telangana, India',\n",
       " 'Hyderabad, Telangana, India',\n",
       " 'Hyderabad, Telangana, India',\n",
       " 'Hyderabad, Telangana, India',\n",
       " 'Hyderabad, Telangana, India',\n",
       " 'Hyderabad, Telangana, India',\n",
       " 'Hyderabad, Telangana, India',\n",
       " 'Hyderabad, Telangana, India',\n",
       " 'Hyderabad, Telangana, India',\n",
       " 'Bibinagar, Telangana, India',\n",
       " 'Hyderabad, Telangana, India',\n",
       " 'Hyderabad, Telangana, India',\n",
       " 'Hyderabad, Telangana, India',\n",
       " 'Hyderabad, Telangana, India',\n",
       " 'Hyderabad, Telangana, India',\n",
       " 'Greater Hyderabad Area',\n",
       " 'Hyderabad, Telangana, India',\n",
       " 'Hyderabad, Telangana, India']"
      ]
     },
     "execution_count": 16,
     "metadata": {},
     "output_type": "execute_result"
    }
   ],
   "source": [
    "LOCATION=[]\n",
    "for i in range(0,23):\n",
    "    LOCATION.append(L[i].text)\n",
    "LOCATION"
   ]
  },
  {
   "cell_type": "code",
   "execution_count": 17,
   "metadata": {},
   "outputs": [
    {
     "name": "stdout",
     "output_type": "stream",
     "text": [
      "23\n"
     ]
    }
   ],
   "source": [
    "print(len(LOCATION))"
   ]
  },
  {
   "cell_type": "code",
   "execution_count": 18,
   "metadata": {},
   "outputs": [
    {
     "data": {
      "text/html": [
       "<div>\n",
       "<style scoped>\n",
       "    .dataframe tbody tr th:only-of-type {\n",
       "        vertical-align: middle;\n",
       "    }\n",
       "\n",
       "    .dataframe tbody tr th {\n",
       "        vertical-align: top;\n",
       "    }\n",
       "\n",
       "    .dataframe thead th {\n",
       "        text-align: right;\n",
       "    }\n",
       "</style>\n",
       "<table border=\"1\" class=\"dataframe\">\n",
       "  <thead>\n",
       "    <tr style=\"text-align: right;\">\n",
       "      <th></th>\n",
       "      <th>ROLES</th>\n",
       "      <th>COMPANIES</th>\n",
       "      <th>Links</th>\n",
       "      <th>LOCATION</th>\n",
       "    </tr>\n",
       "  </thead>\n",
       "  <tbody>\n",
       "    <tr>\n",
       "      <th>0</th>\n",
       "      <td>Data Analyst</td>\n",
       "      <td>TouchNote</td>\n",
       "      <td>https://in.linkedin.com/jobs/view/data-analyst...</td>\n",
       "      <td>Hyderabad, Telangana, India</td>\n",
       "    </tr>\n",
       "    <tr>\n",
       "      <th>1</th>\n",
       "      <td>Data Analyst</td>\n",
       "      <td>Compass</td>\n",
       "      <td>https://in.linkedin.com/jobs/view/data-analyst...</td>\n",
       "      <td>Hyderabad, Telangana, India</td>\n",
       "    </tr>\n",
       "    <tr>\n",
       "      <th>2</th>\n",
       "      <td>Associate Risk Analyst I</td>\n",
       "      <td>Uber</td>\n",
       "      <td>https://in.linkedin.com/jobs/view/data-analyst...</td>\n",
       "      <td>Hyderabad, Telangana, India</td>\n",
       "    </tr>\n",
       "    <tr>\n",
       "      <th>3</th>\n",
       "      <td>Junior Data Scientist</td>\n",
       "      <td>Rossignol Group</td>\n",
       "      <td>https://in.linkedin.com/jobs/view/data-analyst...</td>\n",
       "      <td>Hyderabad, Telangana, India</td>\n",
       "    </tr>\n",
       "    <tr>\n",
       "      <th>4</th>\n",
       "      <td>Junior Data Scientist</td>\n",
       "      <td>Deloitte India (Offices of the US)</td>\n",
       "      <td>https://in.linkedin.com/jobs/view/data-analyst...</td>\n",
       "      <td>Hyderabad, Telangana, India</td>\n",
       "    </tr>\n",
       "    <tr>\n",
       "      <th>5</th>\n",
       "      <td>Analyst/Senior Analyst-Procurement Analytics &amp;...</td>\n",
       "      <td>Mordor Intelligence</td>\n",
       "      <td>https://in.linkedin.com/jobs/view/data-analyst...</td>\n",
       "      <td>Hyderabad, Telangana, India</td>\n",
       "    </tr>\n",
       "    <tr>\n",
       "      <th>6</th>\n",
       "      <td>Research Analyst</td>\n",
       "      <td>JPMorgan Chase &amp; Co.</td>\n",
       "      <td>https://in.linkedin.com/jobs/view/data-analyst...</td>\n",
       "      <td>Hyderabad, Telangana, India</td>\n",
       "    </tr>\n",
       "    <tr>\n",
       "      <th>7</th>\n",
       "      <td>Compliance Analyst</td>\n",
       "      <td>PloPdo</td>\n",
       "      <td>https://in.linkedin.com/jobs/view/data-analyst...</td>\n",
       "      <td>Hyderabad, Telangana, India</td>\n",
       "    </tr>\n",
       "    <tr>\n",
       "      <th>8</th>\n",
       "      <td>Data Analyst</td>\n",
       "      <td>Google</td>\n",
       "      <td>https://in.linkedin.com/jobs/view/data-analyst...</td>\n",
       "      <td>Hyderabad, Telangana, India</td>\n",
       "    </tr>\n",
       "    <tr>\n",
       "      <th>9</th>\n",
       "      <td>Data Analyst, Product Trust and Safety</td>\n",
       "      <td>Accenture in India</td>\n",
       "      <td>https://in.linkedin.com/jobs/view/data-analyst...</td>\n",
       "      <td>Hyderabad, Telangana, India</td>\n",
       "    </tr>\n",
       "    <tr>\n",
       "      <th>10</th>\n",
       "      <td>11-Analyst-Data Visualization</td>\n",
       "      <td>Microsoft</td>\n",
       "      <td>https://in.linkedin.com/jobs/view/data-analyst...</td>\n",
       "      <td>Hyderabad, Telangana, India</td>\n",
       "    </tr>\n",
       "    <tr>\n",
       "      <th>11</th>\n",
       "      <td>Data Analyst Lead</td>\n",
       "      <td>Dynata</td>\n",
       "      <td>https://in.linkedin.com/jobs/view/data-analyst...</td>\n",
       "      <td>Hyderabad, Telangana, India</td>\n",
       "    </tr>\n",
       "    <tr>\n",
       "      <th>12</th>\n",
       "      <td>Junior Data Analyst-2</td>\n",
       "      <td>Ivy</td>\n",
       "      <td>https://in.linkedin.com/jobs/view/data-analyst...</td>\n",
       "      <td>Hyderabad, Telangana, India</td>\n",
       "    </tr>\n",
       "    <tr>\n",
       "      <th>13</th>\n",
       "      <td>Data Analyst</td>\n",
       "      <td>RB</td>\n",
       "      <td>https://in.linkedin.com/jobs/view/data-analyst...</td>\n",
       "      <td>Hyderabad, Telangana, India</td>\n",
       "    </tr>\n",
       "    <tr>\n",
       "      <th>14</th>\n",
       "      <td>Analyst - People Analytics</td>\n",
       "      <td>J.P. Morgan</td>\n",
       "      <td>https://in.linkedin.com/jobs/view/data-analyst...</td>\n",
       "      <td>Bibinagar, Telangana, India</td>\n",
       "    </tr>\n",
       "    <tr>\n",
       "      <th>15</th>\n",
       "      <td>Compliance Analyst</td>\n",
       "      <td>Creative Hands HR Consultancy</td>\n",
       "      <td>https://in.linkedin.com/jobs/view/data-analyst...</td>\n",
       "      <td>Hyderabad, Telangana, India</td>\n",
       "    </tr>\n",
       "    <tr>\n",
       "      <th>16</th>\n",
       "      <td>Data Analytic</td>\n",
       "      <td>MedTourEasy</td>\n",
       "      <td>https://in.linkedin.com/jobs/view/data-analyst...</td>\n",
       "      <td>Hyderabad, Telangana, India</td>\n",
       "    </tr>\n",
       "    <tr>\n",
       "      <th>17</th>\n",
       "      <td>Research Trainee</td>\n",
       "      <td>BuzzBoard</td>\n",
       "      <td>https://in.linkedin.com/jobs/view/data-analyst...</td>\n",
       "      <td>Hyderabad, Telangana, India</td>\n",
       "    </tr>\n",
       "    <tr>\n",
       "      <th>18</th>\n",
       "      <td>Business Analyst</td>\n",
       "      <td>GE Appliances, a Haier company</td>\n",
       "      <td>https://in.linkedin.com/jobs/view/data-analyst...</td>\n",
       "      <td>Hyderabad, Telangana, India</td>\n",
       "    </tr>\n",
       "    <tr>\n",
       "      <th>19</th>\n",
       "      <td>Data Analyst</td>\n",
       "      <td>Epiq</td>\n",
       "      <td>https://in.linkedin.com/jobs/view/data-analyst...</td>\n",
       "      <td>Hyderabad, Telangana, India</td>\n",
       "    </tr>\n",
       "    <tr>\n",
       "      <th>20</th>\n",
       "      <td>Quality Assurance Data Analyst</td>\n",
       "      <td>Amazon</td>\n",
       "      <td>https://in.linkedin.com/jobs/view/data-analyst...</td>\n",
       "      <td>Greater Hyderabad Area</td>\n",
       "    </tr>\n",
       "    <tr>\n",
       "      <th>21</th>\n",
       "      <td>Manager,Data Mgmt</td>\n",
       "      <td>Ryan</td>\n",
       "      <td>https://in.linkedin.com/jobs/view/data-analyst...</td>\n",
       "      <td>Hyderabad, Telangana, India</td>\n",
       "    </tr>\n",
       "    <tr>\n",
       "      <th>22</th>\n",
       "      <td>Associate Research Analyst</td>\n",
       "      <td>PINKERTON | Comprehensive Risk Management</td>\n",
       "      <td>https://in.linkedin.com/jobs/view/data-analyst...</td>\n",
       "      <td>Hyderabad, Telangana, India</td>\n",
       "    </tr>\n",
       "  </tbody>\n",
       "</table>\n",
       "</div>"
      ],
      "text/plain": [
       "                                                ROLES  \\\n",
       "0                                        Data Analyst   \n",
       "1                                        Data Analyst   \n",
       "2                            Associate Risk Analyst I   \n",
       "3                               Junior Data Scientist   \n",
       "4                               Junior Data Scientist   \n",
       "5   Analyst/Senior Analyst-Procurement Analytics &...   \n",
       "6                                    Research Analyst   \n",
       "7                                  Compliance Analyst   \n",
       "8                                        Data Analyst   \n",
       "9              Data Analyst, Product Trust and Safety   \n",
       "10                      11-Analyst-Data Visualization   \n",
       "11                                  Data Analyst Lead   \n",
       "12                              Junior Data Analyst-2   \n",
       "13                                       Data Analyst   \n",
       "14                         Analyst - People Analytics   \n",
       "15                                 Compliance Analyst   \n",
       "16                                      Data Analytic   \n",
       "17                                   Research Trainee   \n",
       "18                                   Business Analyst   \n",
       "19                                       Data Analyst   \n",
       "20                     Quality Assurance Data Analyst   \n",
       "21                                  Manager,Data Mgmt   \n",
       "22                         Associate Research Analyst   \n",
       "\n",
       "                                    COMPANIES  \\\n",
       "0                                   TouchNote   \n",
       "1                                     Compass   \n",
       "2                                        Uber   \n",
       "3                             Rossignol Group   \n",
       "4          Deloitte India (Offices of the US)   \n",
       "5                         Mordor Intelligence   \n",
       "6                        JPMorgan Chase & Co.   \n",
       "7                                      PloPdo   \n",
       "8                                      Google   \n",
       "9                          Accenture in India   \n",
       "10                                  Microsoft   \n",
       "11                                     Dynata   \n",
       "12                                        Ivy   \n",
       "13                                         RB   \n",
       "14                                J.P. Morgan   \n",
       "15              Creative Hands HR Consultancy   \n",
       "16                                MedTourEasy   \n",
       "17                                  BuzzBoard   \n",
       "18             GE Appliances, a Haier company   \n",
       "19                                       Epiq   \n",
       "20                                     Amazon   \n",
       "21                                       Ryan   \n",
       "22  PINKERTON | Comprehensive Risk Management   \n",
       "\n",
       "                                                Links  \\\n",
       "0   https://in.linkedin.com/jobs/view/data-analyst...   \n",
       "1   https://in.linkedin.com/jobs/view/data-analyst...   \n",
       "2   https://in.linkedin.com/jobs/view/data-analyst...   \n",
       "3   https://in.linkedin.com/jobs/view/data-analyst...   \n",
       "4   https://in.linkedin.com/jobs/view/data-analyst...   \n",
       "5   https://in.linkedin.com/jobs/view/data-analyst...   \n",
       "6   https://in.linkedin.com/jobs/view/data-analyst...   \n",
       "7   https://in.linkedin.com/jobs/view/data-analyst...   \n",
       "8   https://in.linkedin.com/jobs/view/data-analyst...   \n",
       "9   https://in.linkedin.com/jobs/view/data-analyst...   \n",
       "10  https://in.linkedin.com/jobs/view/data-analyst...   \n",
       "11  https://in.linkedin.com/jobs/view/data-analyst...   \n",
       "12  https://in.linkedin.com/jobs/view/data-analyst...   \n",
       "13  https://in.linkedin.com/jobs/view/data-analyst...   \n",
       "14  https://in.linkedin.com/jobs/view/data-analyst...   \n",
       "15  https://in.linkedin.com/jobs/view/data-analyst...   \n",
       "16  https://in.linkedin.com/jobs/view/data-analyst...   \n",
       "17  https://in.linkedin.com/jobs/view/data-analyst...   \n",
       "18  https://in.linkedin.com/jobs/view/data-analyst...   \n",
       "19  https://in.linkedin.com/jobs/view/data-analyst...   \n",
       "20  https://in.linkedin.com/jobs/view/data-analyst...   \n",
       "21  https://in.linkedin.com/jobs/view/data-analyst...   \n",
       "22  https://in.linkedin.com/jobs/view/data-analyst...   \n",
       "\n",
       "                       LOCATION  \n",
       "0   Hyderabad, Telangana, India  \n",
       "1   Hyderabad, Telangana, India  \n",
       "2   Hyderabad, Telangana, India  \n",
       "3   Hyderabad, Telangana, India  \n",
       "4   Hyderabad, Telangana, India  \n",
       "5   Hyderabad, Telangana, India  \n",
       "6   Hyderabad, Telangana, India  \n",
       "7   Hyderabad, Telangana, India  \n",
       "8   Hyderabad, Telangana, India  \n",
       "9   Hyderabad, Telangana, India  \n",
       "10  Hyderabad, Telangana, India  \n",
       "11  Hyderabad, Telangana, India  \n",
       "12  Hyderabad, Telangana, India  \n",
       "13  Hyderabad, Telangana, India  \n",
       "14  Bibinagar, Telangana, India  \n",
       "15  Hyderabad, Telangana, India  \n",
       "16  Hyderabad, Telangana, India  \n",
       "17  Hyderabad, Telangana, India  \n",
       "18  Hyderabad, Telangana, India  \n",
       "19  Hyderabad, Telangana, India  \n",
       "20       Greater Hyderabad Area  \n",
       "21  Hyderabad, Telangana, India  \n",
       "22  Hyderabad, Telangana, India  "
      ]
     },
     "execution_count": 18,
     "metadata": {},
     "output_type": "execute_result"
    }
   ],
   "source": [
    "import pandas as pd\n",
    "LINKED_IN=pd.DataFrame({'ROLES':ROLES,'COMPANIES':COMPANIES,'Links':link,'LOCATION':LOCATION})\n",
    "LINKED_IN"
   ]
  },
  {
   "cell_type": "code",
   "execution_count": 129,
   "metadata": {},
   "outputs": [],
   "source": [
    "LINKED_IN.to_csv('LINKED_IN')"
   ]
  },
  {
   "cell_type": "code",
   "execution_count": null,
   "metadata": {},
   "outputs": [],
   "source": []
  }
 ],
 "metadata": {
  "kernelspec": {
   "display_name": "Python 3",
   "language": "python",
   "name": "python3"
  },
  "language_info": {
   "codemirror_mode": {
    "name": "ipython",
    "version": 3
   },
   "file_extension": ".py",
   "mimetype": "text/x-python",
   "name": "python",
   "nbconvert_exporter": "python",
   "pygments_lexer": "ipython3",
   "version": "3.8.3"
  }
 },
 "nbformat": 4,
 "nbformat_minor": 4
}
