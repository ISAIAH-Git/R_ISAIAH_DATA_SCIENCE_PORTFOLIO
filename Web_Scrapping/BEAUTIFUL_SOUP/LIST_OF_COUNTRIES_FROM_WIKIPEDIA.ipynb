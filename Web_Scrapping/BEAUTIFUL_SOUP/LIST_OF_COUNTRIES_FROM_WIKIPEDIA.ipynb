{
 "cells": [
  {
   "cell_type": "code",
   "execution_count": 1,
   "metadata": {},
   "outputs": [],
   "source": [
    "import requests\n",
    "import pandas as pd\n",
    "from bs4 import BeautifulSoup\n",
    "url='https://en.wikipedia.org/wiki/List_of_countries_and_dependencies_by_population'\n",
    "page=requests.get(url)\n",
    "soup=BeautifulSoup(page.content,'html.parser')"
   ]
  },
  {
   "cell_type": "code",
   "execution_count": 2,
   "metadata": {},
   "outputs": [
    {
     "name": "stdout",
     "output_type": "stream",
     "text": [
      "List of countries and dependencies by population - Wikipedia\n"
     ]
    }
   ],
   "source": [
    "title=soup.title\n",
    "print(title.text)"
   ]
  },
  {
   "cell_type": "code",
   "execution_count": 3,
   "metadata": {},
   "outputs": [
    {
     "name": "stdout",
     "output_type": "stream",
     "text": [
      "<class 'bs4.element.Tag'>\n"
     ]
    }
   ],
   "source": [
    "print(type(title))"
   ]
  },
  {
   "cell_type": "code",
   "execution_count": 4,
   "metadata": {},
   "outputs": [],
   "source": [
    "results=soup.find_all('th')"
   ]
  },
  {
   "cell_type": "code",
   "execution_count": 6,
   "metadata": {},
   "outputs": [
    {
     "data": {
      "text/plain": [
       "'Rank'"
      ]
     },
     "execution_count": 6,
     "metadata": {},
     "output_type": "execute_result"
    }
   ],
   "source": [
    "results[0].text\n"
   ]
  },
  {
   "cell_type": "code",
   "execution_count": 7,
   "metadata": {},
   "outputs": [
    {
     "data": {
      "text/plain": [
       "'Country'"
      ]
     },
     "execution_count": 7,
     "metadata": {},
     "output_type": "execute_result"
    }
   ],
   "source": [
    "results[1].text[:7]"
   ]
  },
  {
   "cell_type": "code",
   "execution_count": 8,
   "metadata": {},
   "outputs": [
    {
     "data": {
      "text/plain": [
       "'Population'"
      ]
     },
     "execution_count": 8,
     "metadata": {},
     "output_type": "execute_result"
    }
   ],
   "source": [
    "results[2].text"
   ]
  },
  {
   "cell_type": "code",
   "execution_count": 9,
   "metadata": {},
   "outputs": [
    {
     "data": {
      "text/plain": [
       "'% of world'"
      ]
     },
     "execution_count": 9,
     "metadata": {},
     "output_type": "execute_result"
    }
   ],
   "source": [
    "results[3].text"
   ]
  },
  {
   "cell_type": "code",
   "execution_count": 10,
   "metadata": {},
   "outputs": [
    {
     "data": {
      "text/plain": [
       "'Date'"
      ]
     },
     "execution_count": 10,
     "metadata": {},
     "output_type": "execute_result"
    }
   ],
   "source": [
    "results[4].text"
   ]
  },
  {
   "cell_type": "code",
   "execution_count": 11,
   "metadata": {},
   "outputs": [
    {
     "data": {
      "text/plain": [
       "'Source'"
      ]
     },
     "execution_count": 11,
     "metadata": {},
     "output_type": "execute_result"
    }
   ],
   "source": [
    "results[5].text[:6]"
   ]
  },
  {
   "cell_type": "code",
   "execution_count": 12,
   "metadata": {},
   "outputs": [
    {
     "data": {
      "text/plain": [
       "['Rank',\n",
       " 'Country(or dependent territory)',\n",
       " 'Population',\n",
       " '% of world',\n",
       " 'Date',\n",
       " 'Source(official or UN)\\n']"
      ]
     },
     "execution_count": 12,
     "metadata": {},
     "output_type": "execute_result"
    }
   ],
   "source": [
    "columns=[]\n",
    "for i in range(6):\n",
    "    k=results[i].text\n",
    "    columns.append(k)\n",
    "columns"
   ]
  },
  {
   "cell_type": "code",
   "execution_count": 5,
   "metadata": {},
   "outputs": [],
   "source": [
    "content=soup.find_all('th')"
   ]
  },
  {
   "cell_type": "code",
   "execution_count": 6,
   "metadata": {},
   "outputs": [
    {
     "data": {
      "text/plain": [
       "'1'"
      ]
     },
     "execution_count": 6,
     "metadata": {},
     "output_type": "execute_result"
    }
   ],
   "source": [
    "content[6].text.strip('\\n')"
   ]
  },
  {
   "cell_type": "code",
   "execution_count": 7,
   "metadata": {},
   "outputs": [
    {
     "data": {
      "text/plain": [
       "'2'"
      ]
     },
     "execution_count": 7,
     "metadata": {},
     "output_type": "execute_result"
    }
   ],
   "source": [
    "content[7].text.strip('\\n')"
   ]
  },
  {
   "cell_type": "code",
   "execution_count": 8,
   "metadata": {},
   "outputs": [],
   "source": [
    "RANK=[]\n",
    "for i in range(6,247):\n",
    "    k=content[i].text.strip('\\n')\n",
    "    RANK.append(k)"
   ]
  },
  {
   "cell_type": "code",
   "execution_count": 9,
   "metadata": {},
   "outputs": [],
   "source": [
    "remaining=soup.find_all('td')"
   ]
  },
  {
   "cell_type": "code",
   "execution_count": 19,
   "metadata": {},
   "outputs": [
    {
     "data": {
      "text/plain": [
       "'China'"
      ]
     },
     "execution_count": 19,
     "metadata": {},
     "output_type": "execute_result"
    }
   ],
   "source": [
    "remaining[0].text[1:-3]"
   ]
  },
  {
   "cell_type": "code",
   "execution_count": 20,
   "metadata": {},
   "outputs": [
    {
     "data": {
      "text/plain": [
       "'1,404,658,280'"
      ]
     },
     "execution_count": 20,
     "metadata": {},
     "output_type": "execute_result"
    }
   ],
   "source": [
    "remaining[1].text"
   ]
  },
  {
   "cell_type": "code",
   "execution_count": 21,
   "metadata": {},
   "outputs": [
    {
     "data": {
      "text/plain": [
       "'18.0%'"
      ]
     },
     "execution_count": 21,
     "metadata": {},
     "output_type": "execute_result"
    }
   ],
   "source": [
    "remaining[2].text"
   ]
  },
  {
   "cell_type": "code",
   "execution_count": 22,
   "metadata": {},
   "outputs": [
    {
     "data": {
      "text/plain": [
       "'30 Sep 2020'"
      ]
     },
     "execution_count": 22,
     "metadata": {},
     "output_type": "execute_result"
    }
   ],
   "source": [
    "remaining[3].text"
   ]
  },
  {
   "cell_type": "code",
   "execution_count": 23,
   "metadata": {},
   "outputs": [
    {
     "data": {
      "text/plain": [
       "'National population clock'"
      ]
     },
     "execution_count": 23,
     "metadata": {},
     "output_type": "execute_result"
    }
   ],
   "source": [
    "remaining[4].text[0:-4].strip('\\n')"
   ]
  },
  {
   "cell_type": "code",
   "execution_count": 24,
   "metadata": {},
   "outputs": [
    {
     "data": {
      "text/plain": [
       "'India'"
      ]
     },
     "execution_count": 24,
     "metadata": {},
     "output_type": "execute_result"
    }
   ],
   "source": [
    "remaining[5].text[1:-3]"
   ]
  },
  {
   "cell_type": "code",
   "execution_count": 10,
   "metadata": {},
   "outputs": [],
   "source": [
    "COUNTRY=[]\n",
    "for i in range(0,1205,5): \n",
    "    if('[' in remaining[i].text[1:]):\n",
    "        index=remaining[i].text.find('[')\n",
    "        COUNTRY.append((remaining[i].text[1:index]))\n",
    "    else:\n",
    "        COUNTRY.append((remaining[i].text[1:]))\n"
   ]
  },
  {
   "cell_type": "code",
   "execution_count": 11,
   "metadata": {},
   "outputs": [],
   "source": [
    "POPULATION=[]\n",
    "for i in range(1,1205,5):\n",
    "    POPULATION.append(remaining[i].text)\n"
   ]
  },
  {
   "cell_type": "code",
   "execution_count": 12,
   "metadata": {},
   "outputs": [],
   "source": [
    "PERCENTAGE_OF_WORLD=[]\n",
    "for i in range(2,1205,5):\n",
    "    PERCENTAGE_OF_WORLD.append(remaining[i].text)"
   ]
  },
  {
   "cell_type": "code",
   "execution_count": 13,
   "metadata": {},
   "outputs": [],
   "source": [
    "DATE=[]\n",
    "for i in range(3,1205,5):\n",
    "    DATE.append(remaining[i].text)"
   ]
  },
  {
   "cell_type": "code",
   "execution_count": 14,
   "metadata": {},
   "outputs": [],
   "source": [
    "SOURCE=[]\n",
    "for i in range(4,1205,5):\n",
    "    index=remaining[i].text.find('[')\n",
    "    SOURCE.append(remaining[i].text[0:index])\n"
   ]
  },
  {
   "cell_type": "code",
   "execution_count": 30,
   "metadata": {},
   "outputs": [
    {
     "data": {
      "text/plain": [
       "National annual estimate          72\n",
       "National annual projection        66\n",
       "UN Projection                     23\n",
       "National population clock         22\n",
       "Monthly national estimate         20\n",
       "National quarterly estimate       14\n",
       "National semi-annual estimate      8\n",
       "2016 census result                 6\n",
       "2019 census result                 3\n",
       "2017 census result                 3\n",
       "Preliminary 2015 census result     1\n",
       "Provisional 2019 census result     1\n",
       "2018 census result                 1\n",
       "Preliminary 2017 census result     1\n",
       "dtype: int64"
      ]
     },
     "execution_count": 30,
     "metadata": {},
     "output_type": "execute_result"
    }
   ],
   "source": [
    "pd.Index(SOURCE).value_counts()"
   ]
  },
  {
   "cell_type": "code",
   "execution_count": 31,
   "metadata": {},
   "outputs": [],
   "source": [
    "LIST_OF_COUNTRIES=pd.DataFrame({'Rank':RANK,'COUNTRIES':COUNTRY,'POPULATION':POPULATION,'PERECENTAGE_OF_WORLD':PERCENTAGE_OF_WORLD,'DATE':DATE,'SOURCE':SOURCE})"
   ]
  },
  {
   "cell_type": "code",
   "execution_count": 32,
   "metadata": {},
   "outputs": [
    {
     "data": {
      "text/html": [
       "<div>\n",
       "<style scoped>\n",
       "    .dataframe tbody tr th:only-of-type {\n",
       "        vertical-align: middle;\n",
       "    }\n",
       "\n",
       "    .dataframe tbody tr th {\n",
       "        vertical-align: top;\n",
       "    }\n",
       "\n",
       "    .dataframe thead th {\n",
       "        text-align: right;\n",
       "    }\n",
       "</style>\n",
       "<table border=\"1\" class=\"dataframe\">\n",
       "  <thead>\n",
       "    <tr style=\"text-align: right;\">\n",
       "      <th></th>\n",
       "      <th>Rank</th>\n",
       "      <th>COUNTRIES</th>\n",
       "      <th>POPULATION</th>\n",
       "      <th>PERECENTAGE_OF_WORLD</th>\n",
       "      <th>DATE</th>\n",
       "      <th>SOURCE</th>\n",
       "    </tr>\n",
       "  </thead>\n",
       "  <tbody>\n",
       "    <tr>\n",
       "      <th>0</th>\n",
       "      <td>1</td>\n",
       "      <td>China</td>\n",
       "      <td>1,404,658,280</td>\n",
       "      <td>18.0%</td>\n",
       "      <td>30 Sep 2020</td>\n",
       "      <td>National population clock</td>\n",
       "    </tr>\n",
       "    <tr>\n",
       "      <th>1</th>\n",
       "      <td>2</td>\n",
       "      <td>India</td>\n",
       "      <td>1,367,823,887</td>\n",
       "      <td>17.5%</td>\n",
       "      <td>30 Sep 2020</td>\n",
       "      <td>National population clock</td>\n",
       "    </tr>\n",
       "    <tr>\n",
       "      <th>2</th>\n",
       "      <td>3</td>\n",
       "      <td>United States</td>\n",
       "      <td>330,392,065</td>\n",
       "      <td>4.23%</td>\n",
       "      <td>30 Sep 2020</td>\n",
       "      <td>National population clock</td>\n",
       "    </tr>\n",
       "    <tr>\n",
       "      <th>3</th>\n",
       "      <td>4</td>\n",
       "      <td>Indonesia</td>\n",
       "      <td>269,603,400</td>\n",
       "      <td>3.45%</td>\n",
       "      <td>1 Jul 2020</td>\n",
       "      <td>National annual projection</td>\n",
       "    </tr>\n",
       "    <tr>\n",
       "      <th>4</th>\n",
       "      <td>5</td>\n",
       "      <td>Pakistan</td>\n",
       "      <td>220,892,331</td>\n",
       "      <td>2.83%</td>\n",
       "      <td>1 Jul 2019</td>\n",
       "      <td>UN Projection</td>\n",
       "    </tr>\n",
       "    <tr>\n",
       "      <th>...</th>\n",
       "      <td>...</td>\n",
       "      <td>...</td>\n",
       "      <td>...</td>\n",
       "      <td>...</td>\n",
       "      <td>...</td>\n",
       "      <td>...</td>\n",
       "    </tr>\n",
       "    <tr>\n",
       "      <th>236</th>\n",
       "      <td>–</td>\n",
       "      <td>Norfolk Island (Australia)</td>\n",
       "      <td>1,735</td>\n",
       "      <td>0.0000222%</td>\n",
       "      <td>30 Jun 2019</td>\n",
       "      <td>National annual estimate</td>\n",
       "    </tr>\n",
       "    <tr>\n",
       "      <th>237</th>\n",
       "      <td>–</td>\n",
       "      <td>Tokelau (NZ)</td>\n",
       "      <td>1,499</td>\n",
       "      <td>0.0000192%</td>\n",
       "      <td>18 Oct 2016</td>\n",
       "      <td>2016 census result</td>\n",
       "    </tr>\n",
       "    <tr>\n",
       "      <th>238</th>\n",
       "      <td>195</td>\n",
       "      <td>Vatican City</td>\n",
       "      <td>825</td>\n",
       "      <td>0.0000106%</td>\n",
       "      <td>1 Feb 2019</td>\n",
       "      <td>Monthly national estimate</td>\n",
       "    </tr>\n",
       "    <tr>\n",
       "      <th>239</th>\n",
       "      <td>–</td>\n",
       "      <td>Cocos (Keeling) Islands (Australia)</td>\n",
       "      <td>555</td>\n",
       "      <td>0.00000710%</td>\n",
       "      <td>30 Jun 2019</td>\n",
       "      <td>National annual estimate</td>\n",
       "    </tr>\n",
       "    <tr>\n",
       "      <th>240</th>\n",
       "      <td>–</td>\n",
       "      <td>Pitcairn Islands (UK)</td>\n",
       "      <td>50</td>\n",
       "      <td>0.000000640%</td>\n",
       "      <td>1 Jan 2020</td>\n",
       "      <td>National annual estimate</td>\n",
       "    </tr>\n",
       "  </tbody>\n",
       "</table>\n",
       "<p>241 rows × 6 columns</p>\n",
       "</div>"
      ],
      "text/plain": [
       "    Rank                            COUNTRIES     POPULATION  \\\n",
       "0      1                                China  1,404,658,280   \n",
       "1      2                                India  1,367,823,887   \n",
       "2      3                        United States    330,392,065   \n",
       "3      4                            Indonesia    269,603,400   \n",
       "4      5                             Pakistan    220,892,331   \n",
       "..   ...                                  ...            ...   \n",
       "236    –           Norfolk Island (Australia)          1,735   \n",
       "237    –                         Tokelau (NZ)          1,499   \n",
       "238  195                         Vatican City            825   \n",
       "239    –  Cocos (Keeling) Islands (Australia)            555   \n",
       "240    –                Pitcairn Islands (UK)             50   \n",
       "\n",
       "    PERECENTAGE_OF_WORLD         DATE                      SOURCE  \n",
       "0                  18.0%  30 Sep 2020   National population clock  \n",
       "1                  17.5%  30 Sep 2020   National population clock  \n",
       "2                  4.23%  30 Sep 2020   National population clock  \n",
       "3                  3.45%   1 Jul 2020  National annual projection  \n",
       "4                  2.83%   1 Jul 2019               UN Projection  \n",
       "..                   ...          ...                         ...  \n",
       "236           0.0000222%  30 Jun 2019    National annual estimate  \n",
       "237           0.0000192%  18 Oct 2016          2016 census result  \n",
       "238           0.0000106%   1 Feb 2019   Monthly national estimate  \n",
       "239          0.00000710%  30 Jun 2019    National annual estimate  \n",
       "240         0.000000640%   1 Jan 2020    National annual estimate  \n",
       "\n",
       "[241 rows x 6 columns]"
      ]
     },
     "execution_count": 32,
     "metadata": {},
     "output_type": "execute_result"
    }
   ],
   "source": [
    "LIST_OF_COUNTRIES"
   ]
  },
  {
   "cell_type": "code",
   "execution_count": 33,
   "metadata": {},
   "outputs": [],
   "source": [
    "LIST_OF_COUNTRIES.to_csv('LIST_OF_COUNTRIES')"
   ]
  },
  {
   "cell_type": "code",
   "execution_count": null,
   "metadata": {},
   "outputs": [],
   "source": []
  }
 ],
 "metadata": {
  "kernelspec": {
   "display_name": "Python 3",
   "language": "python",
   "name": "python3"
  },
  "language_info": {
   "codemirror_mode": {
    "name": "ipython",
    "version": 3
   },
   "file_extension": ".py",
   "mimetype": "text/x-python",
   "name": "python",
   "nbconvert_exporter": "python",
   "pygments_lexer": "ipython3",
   "version": "3.8.3"
  }
 },
 "nbformat": 4,
 "nbformat_minor": 4
}
